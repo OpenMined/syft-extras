{
 "cells": [
  {
   "cell_type": "markdown",
   "id": "b3668cb1-6264-429f-9b37-da94a545ff0b",
   "metadata": {},
   "source": [
    "# Cross-Datasite Query Example: Bob Accessing Alice's Data\n",
    "\n",
    "This notebook demonstrates how Bob can query Alice's data using remote LLM functionality. It assumes:\n",
    "- Both Bob and Alice have already run their respective setup notebooks\n",
    "- Alice has granted Bob permission to access specific files\n",
    "- Bob now wants to analyze Alice's data without having direct access to it"
   ]
  },
  {
   "cell_type": "code",
   "execution_count": 1,
   "id": "c800dda2-94c9-4e12-bd26-d08b8c822712",
   "metadata": {},
   "outputs": [],
   "source": [
    "# from __future__ import annotations\n",
    "\n",
    "# import os\n",
    "# import time\n",
    "# from pathlib import Path\n",
    "# from loguru import logger\n",
    "# from tabulate import tabulate\n",
    "\n",
    "# Import the client module\n",
    "from llama_remote import client"
   ]
  },
  {
   "cell_type": "markdown",
   "id": "8401af9d-dd04-461e-b455-c320cf3fa1ad",
   "metadata": {},
   "source": [
    "## 1. Connect as Bob"
   ]
  },
  {
   "cell_type": "code",
   "execution_count": 2,
   "id": "3da28d25-914a-42df-b536-52b79612c585",
   "metadata": {},
   "outputs": [],
   "source": [
    "# Creating clients\n",
    "bob_client = client(\"~/.syft_bob_config.json\")\n",
    "\n",
    "# for testing purposes: in case you're changing the api\n",
    "alice_client = client(\"~/.syft_alice_config.json\")"
   ]
  },
  {
   "cell_type": "code",
   "execution_count": 4,
   "id": "73a948ee-7939-45d1-bf11-79e92aa9fa13",
   "metadata": {},
   "outputs": [
    {
     "name": "stdout",
     "output_type": "stream",
     "text": [
      "Files Bob can access on Alice's datasite:\n",
      "  - /Users/atrask/Desktop/SyftBoxAlice/datasites/alice@openmined.org/private_data/patient_data.csv\n",
      "  - /Users/atrask/Desktop/SyftBoxAlice/datasites/alice@openmined.org/public/iphone_2007.txt\n"
     ]
    }
   ],
   "source": [
    "# Re-request the permissions list\n",
    "permitted_files = bob_client.list_permitted_files(\n",
    "    to_email=\"alice@openmined.org\",\n",
    "    user_email=bob_client.client.email\n",
    ")\n",
    "\n",
    "# Print the files Bob has permission to access on Alice's datasite\n",
    "print(\"Files Bob can access on Alice's datasite:\")\n",
    "for file_path in permitted_files.allowed_files:\n",
    "    print(f\"  - {file_path}\")"
   ]
  },
  {
   "cell_type": "code",
   "execution_count": 5,
   "id": "c094964e-578d-4743-a868-6c02eafbccbc",
   "metadata": {},
   "outputs": [
    {
     "name": "stdout",
     "output_type": "stream",
     "text": [
      "Found patient data file: /Users/atrask/Desktop/SyftBoxAlice/datasites/alice@openmined.org/private_data/patient_data.csv\n",
      "Sending query to Alice's LLM...\n",
      "\n",
      "Response from Alice's LLM:\n",
      "--------------------------------------------------------------------------------\n",
      "**Summary of Medical Conditions**\n",
      "\n",
      "Based on the provided patient data, the following medical conditions are represented:\n",
      "\n",
      "* Hypertension (P001)\n",
      "* Diabetes (P002)\n",
      "* Anxiety (P003)\n",
      "* Arthritis (P004)\n",
      "* Depression (P005)\n",
      "\n",
      "These conditions cover a range of chronic and mental health issues.\n",
      "\n",
      "**Age Distribution**\n",
      "\n",
      "The age distribution of patients is as follows:\n",
      "\n",
      "* 29 years old (1 patient, P005)\n",
      "* 33 years old (1 patient, P003)\n",
      "* 45 years old (1 patient, P001)\n",
      "* 52 years old (1 patient, P004)\n",
      "* 67 years old (1 patient, P002)\n",
      "\n",
      "The median age is 46.5 years.\n",
      "\n",
      "**Gender Distribution**\n",
      "\n",
      "The gender distribution of patients is as follows:\n",
      "\n",
      "* Female: 3 patients (P001, P003, and P005)\n",
      "* Male: 2 patients (P002 and P004)\n",
      "\n",
      "The proportion of female patients is 60% (3/5), while the proportion of male patients is 40% (2/5).\n",
      "\n",
      "**Treatment Effectiveness**\n",
      "\n",
      "Based on the outcome data, we can assess the effectiveness of treatments as follows:\n",
      "\n",
      "* Medication A: 1 patient with Hypertension had an Improved outcome\n",
      "* Medication B: 1 patient with Diabetes had a Stable outcome\n",
      "* Therapy C: 1 patient with Anxiety had a Significantly Improved outcome\n",
      "* Medication D: 1 patient with Arthritis had a No Change outcome\n",
      "* Therapy E: 1 patient with Depression had an Improved outcome\n",
      "\n",
      "Overall, the treatment outcomes are:\n",
      "\n",
      "* Improved: 3 patients (P001, P003, and P005)\n",
      "* Stable: 1 patient (P002)\n",
      "* Significantly Improved: 1 patient (P003)\n",
      "* No Change: 1 patient (P004)\n",
      "\n",
      "This analysis suggests that a significant proportion of patients (60%) experienced an Improved or Significantly Improved outcome with their respective treatments.\n",
      "--------------------------------------------------------------------------------\n"
     ]
    }
   ],
   "source": [
    "# Get the patient data file path from the permitted files\n",
    "patient_data_file = next((f for f in permitted_files.allowed_files if \"patient_data.csv\" in f), None)\n"
   ]
  },
  {
   "cell_type": "code",
   "execution_count": null,
   "id": "48b0ddb8-5e16-4797-84ac-c67c92ad3e0e",
   "metadata": {},
   "outputs": [
    {
     "name": "stdout",
     "output_type": "stream",
     "text": [
      "Asking about treatment effectiveness...\n"
     ]
    }
   ],
   "source": [
    "# Ask a specific question about treatment effectiveness\n",
    "if patient_data_file:\n",
    "    prompt = \"Based on the patient data, which treatment appears to be most effective? What evidence supports this conclusion?\"\n",
    "    \n",
    "    print(\"Asking about treatment effectiveness...\")\n",
    "    response = bob_client.generate(\n",
    "        to_email=\"alice@openmined.org\",\n",
    "        model=\"llama3\",\n",
    "        prompt=prompt,\n",
    "        system=\"You are a medical researcher. Analyze the data and provide evidence-based conclusions.\",\n",
    "        temperature=0.7,\n",
    "        files=[patient_data_file]\n",
    "    )\n",
    "    \n",
    "    print(\"\\nResponse about treatment effectiveness:\")\n",
    "    print(\"-\" * 80)\n",
    "    print(response.response)\n",
    "    print(\"-\" * 80)"
   ]
  },
  {
   "cell_type": "code",
   "execution_count": null,
   "id": "a9004225-5e6d-4a3a-b4df-52b350732ae0",
   "metadata": {},
   "outputs": [],
   "source": []
  }
 ],
 "metadata": {
  "kernelspec": {
   "display_name": "Python 3 (ipykernel)",
   "language": "python",
   "name": "python3"
  },
  "language_info": {
   "codemirror_mode": {
    "name": "ipython",
    "version": 3
   },
   "file_extension": ".py",
   "mimetype": "text/x-python",
   "name": "python",
   "nbconvert_exporter": "python",
   "pygments_lexer": "ipython3",
   "version": "3.13.1"
  }
 },
 "nbformat": 4,
 "nbformat_minor": 5
}
