{
 "cells": [
  {
   "cell_type": "markdown",
   "id": "intro-cell",
   "metadata": {},
   "source": [
    "# Stateful Syft Chat Tutorial\n",
    "\n",
    "## Introduction\n",
    "\n",
    "This tutorial demonstrates how to use the Stateful Syft Chat library, which adds persistent message storage using SQLite to the basic Syft Chat functionality. The stateful version ensures your message history is preserved across application restarts and provides more powerful filtering capabilities.\n",
    "\n",
    "With Stateful Syft Chat, you can:\n",
    "- Send and receive messages between Syft users\n",
    "- Store message history in a SQLite database\n",
    "- Retrieve message history even after restarting the application\n",
    "- Filter messages by thread, time, or user with SQL-powered queries\n",
    "- Track conversations with threading and replies\n",
    "- Register custom message listeners for integration with your applications\n",
    "\n",
    "### How It Works\n",
    "\n",
    "The library combines client, server, and database components:\n",
    "- **Server**: Uses EventRouter to process message requests\n",
    "- **Database**: SQLite backend for message persistence\n",
    "- **Client**: Sends messages to other users and processes responses\n",
    "\n",
    "Messages are stored in a local SQLite database, allowing history to be preserved between sessions."
   ]
  },
  {
   "cell_type": "markdown",
   "id": "setup-header",
   "metadata": {},
   "source": [
    "## 1. Setup\n",
    "\n",
    "First, let's import the Stateful Syft Chat library and other dependencies:"
   ]
  },
  {
   "cell_type": "code",
   "execution_count": 1,
   "id": "import-cell",
   "metadata": {},
   "outputs": [],
   "source": [
    "import sys\n",
    "sys.path.append('../..')\n",
    "from examples.syft_chat_stateful import syft_chat\n",
    "from datetime import datetime, timezone, timedelta\n",
    "import os"
   ]
  },
  {
   "cell_type": "markdown",
   "id": "setup-info",
   "metadata": {},
   "source": [
    "### Environment Prerequisites\n",
    "\n",
    "This notebook assumes you have set up Syft with at least one datasite. For a complete testing environment, you'll want to have two or more SyftBox clients running with different accounts.\n",
    "\n",
    "For example:\n",
    "- Alice's SyftBox on port 8082\n",
    "- Bob's SyftBox on port 8081\n",
    "\n",
    "You'll need to specify the correct config paths for your environment in the examples below."
   ]
  },
  {
   "cell_type": "markdown",
   "id": "database-highlight",
   "metadata": {},
   "source": [
    "### Database Configuration\n",
    "\n",
    "Unlike the basic Syft Chat, the stateful version stores messages in a SQLite database. Let's specify the database paths for our clients:"
   ]
  },
  {
   "cell_type": "code",
   "execution_count": 2,
   "id": "database-setup",
   "metadata": {},
   "outputs": [
    {
     "name": "stdout",
     "output_type": "stream",
     "text": [
      "Removing existing database: bob_chat_messages.db\n",
      "Removing existing database: alice_chat_messages.db\n"
     ]
    }
   ],
   "source": [
    "# Define database paths for each client\n",
    "bob_db_path = \"bob_chat_messages.db\"\n",
    "alice_db_path = \"alice_chat_messages.db\"\n",
    "\n",
    "# Remove existing databases if you want to start fresh\n",
    "# Comment these out if you want to maintain history between notebook runs\n",
    "if os.path.exists(bob_db_path):\n",
    "    print(f\"Removing existing database: {bob_db_path}\")\n",
    "    os.remove(bob_db_path)\n",
    "    \n",
    "if os.path.exists(alice_db_path):\n",
    "    print(f\"Removing existing database: {alice_db_path}\")\n",
    "    os.remove(alice_db_path)"
   ]
  },
  {
   "cell_type": "markdown",
   "id": "client-section",
   "metadata": {},
   "source": [
    "## 2. Creating Chat Clients\n",
    "\n",
    "Let's create clients connected to our SyftBox instances. Each client will start a chat server in the background and connect to its SQLite database."
   ]
  },
  {
   "cell_type": "code",
   "execution_count": 3,
   "id": "create-bob-client",
   "metadata": {},
   "outputs": [
    {
     "name": "stderr",
     "output_type": "stream",
     "text": [
      "\u001b[32m2025-03-08 22:15:42.020\u001b[0m | \u001b[1mINFO    \u001b[0m | \u001b[36mexamples.syft_chat_stateful.syft_chat\u001b[0m:\u001b[36m__init__\u001b[0m:\u001b[36m259\u001b[0m - \u001b[1m🔑 Connected as: bob@openmined.org\u001b[0m\n",
      "\u001b[32m2025-03-08 22:15:42.022\u001b[0m | \u001b[1mINFO    \u001b[0m | \u001b[36mexamples.syft_chat_stateful.syft_chat\u001b[0m:\u001b[36m_start_server\u001b[0m:\u001b[36m272\u001b[0m - \u001b[1m🔔 Server started for bob@openmined.org\u001b[0m\n",
      "\u001b[32m2025-03-08 22:15:42.035\u001b[0m | \u001b[1mINFO    \u001b[0m | \u001b[36msyft_event.server2\u001b[0m:\u001b[36mregister_rpc\u001b[0m:\u001b[36m140\u001b[0m - \u001b[1mRegister RPC: /message\u001b[0m\n",
      "\u001b[32m2025-03-08 22:15:42.036\u001b[0m | \u001b[1mINFO    \u001b[0m | \u001b[36msyft_event.server2\u001b[0m:\u001b[36mregister_rpc\u001b[0m:\u001b[36m140\u001b[0m - \u001b[1mRegister RPC: /history\u001b[0m\n",
      "\u001b[32m2025-03-08 22:15:42.036\u001b[0m | \u001b[1mINFO    \u001b[0m | \u001b[36mexamples.syft_chat_stateful.syft_chat\u001b[0m:\u001b[36m_run_server\u001b[0m:\u001b[36m281\u001b[0m - \u001b[1m🚀 SERVER: Running syft_chat server as bob@openmined.org\u001b[0m\n",
      "\u001b[32m2025-03-08 22:15:42.036\u001b[0m | \u001b[1mINFO    \u001b[0m | \u001b[36mexamples.syft_chat_stateful.syft_chat\u001b[0m:\u001b[36m_run_server\u001b[0m:\u001b[36m282\u001b[0m - \u001b[1m📡 SERVER: Listening for requests at /Users/atrask/Desktop/SyftBoxBob/datasites/bob@openmined.org/api_data/syft_chat/rpc\u001b[0m\n",
      "\u001b[32m2025-03-08 22:15:42.041\u001b[0m | \u001b[1mINFO    \u001b[0m | \u001b[36msyft_event.server2\u001b[0m:\u001b[36mpublish_schema\u001b[0m:\u001b[36m96\u001b[0m - \u001b[1mPublished schema to /Users/atrask/Desktop/SyftBoxBob/datasites/bob@openmined.org/api_data/syft_chat/rpc/rpc.schema.json\u001b[0m\n",
      "\u001b[32m2025-03-08 22:16:00.126\u001b[0m | \u001b[34m\u001b[1mDEBUG   \u001b[0m | \u001b[36msyft_event.server2\u001b[0m:\u001b[36mprocess_pending_requests\u001b[0m:\u001b[36m105\u001b[0m - \u001b[34m\u001b[1mProcessing pending request 002cecbc-2b38-4172-9ebe-54d2a87d1410.request\u001b[0m\n",
      "\u001b[32m2025-03-08 22:16:00.127\u001b[0m | \u001b[1mINFO    \u001b[0m | \u001b[36mexamples.syft_chat_stateful.syft_chat\u001b[0m:\u001b[36mmessage_handler\u001b[0m:\u001b[36m89\u001b[0m - \u001b[1m📨 RECEIVED: Message from bob@openmined.org: Hello Alice! This message will be stored in both o...\u001b[0m\n",
      "\u001b[32m2025-03-08 22:16:21.967\u001b[0m | \u001b[34m\u001b[1mDEBUG   \u001b[0m | \u001b[36msyft_event.server2\u001b[0m:\u001b[36mprocess_pending_requests\u001b[0m:\u001b[36m105\u001b[0m - \u001b[34m\u001b[1mProcessing pending request 132a7e4a-36cf-4cac-b5b1-bcd9f08bf50e.request\u001b[0m\n",
      "\u001b[32m2025-03-08 22:17:01.069\u001b[0m | \u001b[34m\u001b[1mDEBUG   \u001b[0m | \u001b[36msyft_event.server2\u001b[0m:\u001b[36mprocess_pending_requests\u001b[0m:\u001b[36m105\u001b[0m - \u001b[34m\u001b[1mProcessing pending request 63ec6829-ee62-4f08-9d0a-bf0b2458467e.request\u001b[0m\n",
      "\u001b[32m2025-03-08 22:17:01.071\u001b[0m | \u001b[1mINFO    \u001b[0m | \u001b[36mexamples.syft_chat_stateful.syft_chat\u001b[0m:\u001b[36mmessage_handler\u001b[0m:\u001b[36m89\u001b[0m - \u001b[1m📨 RECEIVED: Message from bob@openmined.org: Let's discuss Project Alpha in this thread. These ...\u001b[0m\n",
      "\u001b[32m2025-03-08 22:17:04.011\u001b[0m | \u001b[34m\u001b[1mDEBUG   \u001b[0m | \u001b[36msyft_event.server2\u001b[0m:\u001b[36mprocess_pending_requests\u001b[0m:\u001b[36m105\u001b[0m - \u001b[34m\u001b[1mProcessing pending request 132a7e4a-36cf-4cac-b5b1-bcd9f08bf50e.request\u001b[0m\n",
      "\u001b[32m2025-03-08 22:17:07.578\u001b[0m | \u001b[34m\u001b[1mDEBUG   \u001b[0m | \u001b[36msyft_event.server2\u001b[0m:\u001b[36mprocess_pending_requests\u001b[0m:\u001b[36m105\u001b[0m - \u001b[34m\u001b[1mProcessing pending request 6c3d686f-c90b-4cf2-8ea6-8286afb3d215.request\u001b[0m\n",
      "\u001b[32m2025-03-08 22:17:07.587\u001b[0m | \u001b[1mINFO    \u001b[0m | \u001b[36mexamples.syft_chat_stateful.syft_chat\u001b[0m:\u001b[36mmessage_handler\u001b[0m:\u001b[36m89\u001b[0m - \u001b[1m📨 RECEIVED: Message from alice@openmined.org: I'm ready to discuss Project Alpha. What aspects s...\u001b[0m\n",
      "\u001b[32m2025-03-08 22:17:07.590\u001b[0m | \u001b[1mINFO    \u001b[0m | \u001b[36mexamples.syft_chat_stateful.syft_chat\u001b[0m:\u001b[36mmessage_handler\u001b[0m:\u001b[36m119\u001b[0m - \u001b[1mMessage with ID f5a1dcf3-bd0c-4484-9950-a8ca132e268e already exists, skipping database insert\u001b[0m\n"
     ]
    },
    {
     "name": "stdout",
     "output_type": "stream",
     "text": [
      "\n",
      "🔔 NEW MESSAGE from alice@openmined.org: I'm ready to discuss Project Alpha. What aspects should we focus on first? This reply is linked in the database.\n"
     ]
    },
    {
     "name": "stderr",
     "output_type": "stream",
     "text": [
      "\u001b[32m2025-03-08 22:17:15.840\u001b[0m | \u001b[34m\u001b[1mDEBUG   \u001b[0m | \u001b[36msyft_event.server2\u001b[0m:\u001b[36mprocess_pending_requests\u001b[0m:\u001b[36m105\u001b[0m - \u001b[34m\u001b[1mProcessing pending request ecb972df-a468-430d-b7e4-cb7d26616efa.request\u001b[0m\n",
      "\u001b[32m2025-03-08 22:17:21.068\u001b[0m | \u001b[34m\u001b[1mDEBUG   \u001b[0m | \u001b[36msyft_event.server2\u001b[0m:\u001b[36mstop\u001b[0m:\u001b[36m123\u001b[0m - \u001b[34m\u001b[1mStopping event loop\u001b[0m\n"
     ]
    }
   ],
   "source": [
    "# Create a client for Bob's account with its own database\n",
    "bob_client = syft_chat.client(\"~/.syft_bob_config.json\", db_path=bob_db_path)"
   ]
  },
  {
   "cell_type": "code",
   "execution_count": 4,
   "id": "create-alice-client",
   "metadata": {},
   "outputs": [
    {
     "name": "stderr",
     "output_type": "stream",
     "text": [
      "\u001b[32m2025-03-08 22:15:43.446\u001b[0m | \u001b[1mINFO    \u001b[0m | \u001b[36mexamples.syft_chat_stateful.syft_chat\u001b[0m:\u001b[36m__init__\u001b[0m:\u001b[36m259\u001b[0m - \u001b[1m🔑 Connected as: alice@openmined.org\u001b[0m\n",
      "\u001b[32m2025-03-08 22:15:43.447\u001b[0m | \u001b[1mINFO    \u001b[0m | \u001b[36mexamples.syft_chat_stateful.syft_chat\u001b[0m:\u001b[36m_start_server\u001b[0m:\u001b[36m272\u001b[0m - \u001b[1m🔔 Server started for alice@openmined.org\u001b[0m\n",
      "\u001b[32m2025-03-08 22:15:43.449\u001b[0m | \u001b[1mINFO    \u001b[0m | \u001b[36msyft_event.server2\u001b[0m:\u001b[36mregister_rpc\u001b[0m:\u001b[36m140\u001b[0m - \u001b[1mRegister RPC: /message\u001b[0m\n",
      "\u001b[32m2025-03-08 22:15:43.449\u001b[0m | \u001b[1mINFO    \u001b[0m | \u001b[36msyft_event.server2\u001b[0m:\u001b[36mregister_rpc\u001b[0m:\u001b[36m140\u001b[0m - \u001b[1mRegister RPC: /history\u001b[0m\n",
      "\u001b[32m2025-03-08 22:15:43.449\u001b[0m | \u001b[1mINFO    \u001b[0m | \u001b[36mexamples.syft_chat_stateful.syft_chat\u001b[0m:\u001b[36m_run_server\u001b[0m:\u001b[36m281\u001b[0m - \u001b[1m🚀 SERVER: Running syft_chat server as alice@openmined.org\u001b[0m\n",
      "\u001b[32m2025-03-08 22:15:43.450\u001b[0m | \u001b[1mINFO    \u001b[0m | \u001b[36mexamples.syft_chat_stateful.syft_chat\u001b[0m:\u001b[36m_run_server\u001b[0m:\u001b[36m282\u001b[0m - \u001b[1m📡 SERVER: Listening for requests at /Users/atrask/Desktop/SyftBoxAlice/datasites/alice@openmined.org/api_data/syft_chat/rpc\u001b[0m\n",
      "\u001b[32m2025-03-08 22:15:43.452\u001b[0m | \u001b[1mINFO    \u001b[0m | \u001b[36msyft_event.server2\u001b[0m:\u001b[36mpublish_schema\u001b[0m:\u001b[36m96\u001b[0m - \u001b[1mPublished schema to /Users/atrask/Desktop/SyftBoxAlice/datasites/alice@openmined.org/api_data/syft_chat/rpc/rpc.schema.json\u001b[0m\n",
      "\u001b[32m2025-03-08 22:15:43.452\u001b[0m | \u001b[34m\u001b[1mDEBUG   \u001b[0m | \u001b[36msyft_event.server2\u001b[0m:\u001b[36mprocess_pending_requests\u001b[0m:\u001b[36m105\u001b[0m - \u001b[34m\u001b[1mProcessing pending request 7c731730-48a2-43f3-b062-387a348c5b5e.request\u001b[0m\n",
      "\u001b[32m2025-03-08 22:16:29.302\u001b[0m | \u001b[34m\u001b[1mDEBUG   \u001b[0m | \u001b[36msyft_event.server2\u001b[0m:\u001b[36mprocess_pending_requests\u001b[0m:\u001b[36m105\u001b[0m - \u001b[34m\u001b[1mProcessing pending request 7c731730-48a2-43f3-b062-387a348c5b5e.request\u001b[0m\n",
      "\u001b[32m2025-03-08 22:16:42.084\u001b[0m | \u001b[34m\u001b[1mDEBUG   \u001b[0m | \u001b[36msyft_event.server2\u001b[0m:\u001b[36mprocess_pending_requests\u001b[0m:\u001b[36m105\u001b[0m - \u001b[34m\u001b[1mProcessing pending request 7c731730-48a2-43f3-b062-387a348c5b5e.request\u001b[0m\n",
      "\u001b[32m2025-03-08 22:16:56.861\u001b[0m | \u001b[34m\u001b[1mDEBUG   \u001b[0m | \u001b[36msyft_event.server2\u001b[0m:\u001b[36mprocess_pending_requests\u001b[0m:\u001b[36m105\u001b[0m - \u001b[34m\u001b[1mProcessing pending request fa36ce8c-17e8-4b3f-802c-9f26c7d2b8e7.request\u001b[0m\n",
      "\u001b[32m2025-03-08 22:16:56.862\u001b[0m | \u001b[1mINFO    \u001b[0m | \u001b[36mexamples.syft_chat_stateful.syft_chat\u001b[0m:\u001b[36mmessage_handler\u001b[0m:\u001b[36m89\u001b[0m - \u001b[1m📨 RECEIVED: Message from bob@openmined.org: Let's discuss Project Alpha in this thread. These ...\u001b[0m\n"
     ]
    },
    {
     "name": "stdout",
     "output_type": "stream",
     "text": [
      "\n",
      "🔔 NEW MESSAGE from bob@openmined.org: Let's discuss Project Alpha in this thread. These thread messages are stored in the database.\n"
     ]
    },
    {
     "name": "stderr",
     "output_type": "stream",
     "text": [
      "\u001b[32m2025-03-08 22:17:05.135\u001b[0m | \u001b[34m\u001b[1mDEBUG   \u001b[0m | \u001b[36msyft_event.server2\u001b[0m:\u001b[36mprocess_pending_requests\u001b[0m:\u001b[36m105\u001b[0m - \u001b[34m\u001b[1mProcessing pending request fa36ce8c-17e8-4b3f-802c-9f26c7d2b8e7.request\u001b[0m\n",
      "\u001b[32m2025-03-08 22:17:05.136\u001b[0m | \u001b[1mINFO    \u001b[0m | \u001b[36mexamples.syft_chat_stateful.syft_chat\u001b[0m:\u001b[36mmessage_handler\u001b[0m:\u001b[36m89\u001b[0m - \u001b[1m📨 RECEIVED: Message from bob@openmined.org: Let's discuss Project Alpha in this thread. These ...\u001b[0m\n",
      "\u001b[32m2025-03-08 22:17:05.137\u001b[0m | \u001b[1mINFO    \u001b[0m | \u001b[36mexamples.syft_chat_stateful.syft_chat\u001b[0m:\u001b[36mmessage_handler\u001b[0m:\u001b[36m119\u001b[0m - \u001b[1mMessage with ID 04763073-814a-441c-a7e1-69ad711ead89 already exists, skipping database insert\u001b[0m\n"
     ]
    },
    {
     "name": "stdout",
     "output_type": "stream",
     "text": [
      "\n",
      "🔔 NEW MESSAGE from bob@openmined.org: Let's discuss Project Alpha in this thread. These thread messages are stored in the database.\n"
     ]
    },
    {
     "name": "stderr",
     "output_type": "stream",
     "text": [
      "\u001b[32m2025-03-08 22:17:21.177\u001b[0m | \u001b[34m\u001b[1mDEBUG   \u001b[0m | \u001b[36msyft_event.server2\u001b[0m:\u001b[36mstop\u001b[0m:\u001b[36m123\u001b[0m - \u001b[34m\u001b[1mStopping event loop\u001b[0m\n"
     ]
    }
   ],
   "source": [
    "# Create a client for Alice's account with its own database\n",
    "# Comment this out if you only have one Syft instance available\n",
    "alice_client = syft_chat.client(\"~/.syft_alice_config.json\", db_path=alice_db_path)"
   ]
  },
  {
   "cell_type": "markdown",
   "id": "discover-users-section",
   "metadata": {},
   "source": [
    "## 3. Discovering Available Chat Users\n",
    "\n",
    "Let's see which users have the chat service running:"
   ]
  },
  {
   "cell_type": "code",
   "execution_count": 5,
   "id": "list-users",
   "metadata": {},
   "outputs": [
    {
     "name": "stdout",
     "output_type": "stream",
     "text": [
      "Total datasites: 140\n",
      "Available chat users: 2\n",
      "Chat-enabled users:\n",
      "  - alice@openmined.org\n",
      "  - bob@openmined.org\n"
     ]
    }
   ],
   "source": [
    "# Get all available datasites\n",
    "all_users = bob_client.list_all_users()\n",
    "print(f\"Total datasites: {len(all_users)}\")\n",
    "\n",
    "# Get only users with the chat service running\n",
    "chat_users = bob_client.list_available_users()\n",
    "print(f\"Available chat users: {len(chat_users)}\")\n",
    "print(\"Chat-enabled users:\")\n",
    "for user in chat_users:\n",
    "    print(f\"  - {user}\")"
   ]
  },
  {
   "cell_type": "markdown",
   "id": "sending-messages-section",
   "metadata": {},
   "source": [
    "## 4. Sending and Receiving Messages\n",
    "\n",
    "Now let's exchange some messages between users. Each message will be stored in the sender and recipient's databases."
   ]
  },
  {
   "cell_type": "markdown",
   "id": "sending-messages-header",
   "metadata": {},
   "source": [
    "### 4.1 Sending Messages\n",
    "\n",
    "Let's send a message from Bob to Alice:"
   ]
  },
  {
   "cell_type": "code",
   "execution_count": 6,
   "id": "send-from-bob",
   "metadata": {},
   "outputs": [
    {
     "name": "stderr",
     "output_type": "stream",
     "text": [
      "\u001b[32m2025-03-08 22:15:52.305\u001b[0m | \u001b[1mINFO    \u001b[0m | \u001b[36mexamples.syft_chat_stateful.syft_chat\u001b[0m:\u001b[36msend_message\u001b[0m:\u001b[36m342\u001b[0m - \u001b[1m📤 SENDING: Message to alice@openmined.org\u001b[0m\n",
      "\u001b[32m2025-03-08 22:15:55.854\u001b[0m | \u001b[34m\u001b[1mDEBUG   \u001b[0m | \u001b[36msyft_event.handlers\u001b[0m:\u001b[36mon_any_event\u001b[0m:\u001b[36m31\u001b[0m - \u001b[34m\u001b[1mFSEvent - created - /Users/atrask/Desktop/SyftBoxAlice/datasites/alice@openmined.org/api_data/syft_chat/rpc/message/fb7a5f90-0fbe-4770-a628-778be8ed95ce.request\u001b[0m\n",
      "\u001b[32m2025-03-08 22:15:55.855\u001b[0m | \u001b[1mINFO    \u001b[0m | \u001b[36mexamples.syft_chat_stateful.syft_chat\u001b[0m:\u001b[36mmessage_handler\u001b[0m:\u001b[36m89\u001b[0m - \u001b[1m📨 RECEIVED: Message from bob@openmined.org: Hello Alice! This message will be stored in both o...\u001b[0m\n",
      "\u001b[32m2025-03-08 22:16:00.100\u001b[0m | \u001b[1mINFO    \u001b[0m | \u001b[36mexamples.syft_chat_stateful.syft_chat\u001b[0m:\u001b[36msend_message\u001b[0m:\u001b[36m359\u001b[0m - \u001b[1m📥 RECEIVED: Delivery confirmation from alice@openmined.org. Time: 7.79s\u001b[0m\n",
      "\u001b[32m2025-03-08 22:16:00.140\u001b[0m | \u001b[34m\u001b[1mDEBUG   \u001b[0m | \u001b[36msyft_event.handlers\u001b[0m:\u001b[36mon_any_event\u001b[0m:\u001b[36m31\u001b[0m - \u001b[34m\u001b[1mFSEvent - created - /Users/atrask/Desktop/SyftBoxBob/datasites/bob@openmined.org/api_data/syft_chat/rpc/message/002cecbc-2b38-4172-9ebe-54d2a87d1410.request\u001b[0m\n",
      "\u001b[32m2025-03-08 22:16:00.141\u001b[0m | \u001b[1mINFO    \u001b[0m | \u001b[36mexamples.syft_chat_stateful.syft_chat\u001b[0m:\u001b[36mmessage_handler\u001b[0m:\u001b[36m89\u001b[0m - \u001b[1m📨 RECEIVED: Message from bob@openmined.org: Hello Alice! This message will be stored in both o...\u001b[0m\n",
      "\u001b[32m2025-03-08 22:16:00.142\u001b[0m | \u001b[1mINFO    \u001b[0m | \u001b[36mexamples.syft_chat_stateful.syft_chat\u001b[0m:\u001b[36mmessage_handler\u001b[0m:\u001b[36m119\u001b[0m - \u001b[1mMessage with ID 77064e90-73a1-4076-a907-0d48d945ccbf already exists, skipping database insert\u001b[0m\n"
     ]
    },
    {
     "name": "stdout",
     "output_type": "stream",
     "text": [
      "Message sent with ID: 77064e90-73a1-4076-a907-0d48d945ccbf\n",
      "Status: delivered\n"
     ]
    }
   ],
   "source": [
    "# If Alice's client is in the available users list, send a message to her\n",
    "if 'alice@openmined.org' in chat_users:\n",
    "    response = bob_client.send_message(\n",
    "        'alice@openmined.org', \n",
    "        \"Hello Alice! This message will be stored in both our databases.\"\n",
    "    )\n",
    "    print(f\"Message sent with ID: {response.message_id}\")\n",
    "    print(f\"Status: {response.status}\")\n",
    "else:\n",
    "    # Find the first available user\n",
    "    if chat_users:\n",
    "        target = chat_users[0]\n",
    "        print(f\"Alice not found, messaging {target} instead\")\n",
    "        response = bob_client.send_message(target, \"Hello! This is a test message.\")\n",
    "        print(f\"Message sent with ID: {response.message_id}\")\n",
    "    else:\n",
    "        print(\"No chat users found to message\")"
   ]
  },
  {
   "cell_type": "markdown",
   "id": "receiving-messages-header",
   "metadata": {},
   "source": [
    "### 4.2 Receiving Messages with Listeners\n",
    "\n",
    "To actively process incoming messages, we can register message listeners. These are functions that will be called whenever a new message is received."
   ]
  },
  {
   "cell_type": "code",
   "execution_count": 7,
   "id": "message-listener",
   "metadata": {},
   "outputs": [],
   "source": [
    "# Define a custom message listener function\n",
    "def print_message(message):\n",
    "    print(f\"\\n🔔 NEW MESSAGE from {message.sender}: {message.content}\")\n",
    "\n",
    "# Register the listener with Bob's client\n",
    "bob_client.add_message_listener(print_message)\n",
    "\n",
    "# Also register with Alice's client if available\n",
    "try:\n",
    "    alice_client.add_message_listener(print_message)\n",
    "except NameError:\n",
    "    pass"
   ]
  },
  {
   "cell_type": "markdown",
   "id": "bidirectional-chat-section",
   "metadata": {},
   "source": [
    "### 4.3 Bidirectional Chat\n",
    "\n",
    "If we have both Alice and Bob's clients running, we can demonstrate bidirectional chat:"
   ]
  },
  {
   "cell_type": "code",
   "execution_count": 8,
   "id": "alice-response",
   "metadata": {},
   "outputs": [
    {
     "name": "stderr",
     "output_type": "stream",
     "text": [
      "\u001b[32m2025-03-08 22:16:09.559\u001b[0m | \u001b[1mINFO    \u001b[0m | \u001b[36mexamples.syft_chat_stateful.syft_chat\u001b[0m:\u001b[36msend_message\u001b[0m:\u001b[36m342\u001b[0m - \u001b[1m📤 SENDING: Message to bob@openmined.org\u001b[0m\n",
      "\u001b[32m2025-03-08 22:16:12.633\u001b[0m | \u001b[34m\u001b[1mDEBUG   \u001b[0m | \u001b[36msyft_event.handlers\u001b[0m:\u001b[36mon_any_event\u001b[0m:\u001b[36m31\u001b[0m - \u001b[34m\u001b[1mFSEvent - created - /Users/atrask/Desktop/SyftBoxBob/datasites/bob@openmined.org/api_data/syft_chat/rpc/message/1f0d2bcb-7bf3-4a19-85d5-acbc19b4c338.request\u001b[0m\n",
      "\u001b[32m2025-03-08 22:16:12.634\u001b[0m | \u001b[1mINFO    \u001b[0m | \u001b[36mexamples.syft_chat_stateful.syft_chat\u001b[0m:\u001b[36mmessage_handler\u001b[0m:\u001b[36m89\u001b[0m - \u001b[1m📨 RECEIVED: Message from alice@openmined.org: Hi Bob! I see your message, and it's now in our da...\u001b[0m\n"
     ]
    },
    {
     "name": "stdout",
     "output_type": "stream",
     "text": [
      "\n",
      "🔔 NEW MESSAGE from alice@openmined.org: Hi Bob! I see your message, and it's now in our databases.\n"
     ]
    },
    {
     "name": "stderr",
     "output_type": "stream",
     "text": [
      "\u001b[32m2025-03-08 22:16:16.828\u001b[0m | \u001b[1mINFO    \u001b[0m | \u001b[36mexamples.syft_chat_stateful.syft_chat\u001b[0m:\u001b[36msend_message\u001b[0m:\u001b[36m359\u001b[0m - \u001b[1m📥 RECEIVED: Delivery confirmation from bob@openmined.org. Time: 7.27s\u001b[0m\n",
      "\u001b[32m2025-03-08 22:16:16.839\u001b[0m | \u001b[34m\u001b[1mDEBUG   \u001b[0m | \u001b[36msyft_event.handlers\u001b[0m:\u001b[36mon_any_event\u001b[0m:\u001b[36m31\u001b[0m - \u001b[34m\u001b[1mFSEvent - created - /Users/atrask/Desktop/SyftBoxAlice/datasites/alice@openmined.org/api_data/syft_chat/rpc/message/e49af5f2-20bd-44c1-90e8-4e4726a64c91.request\u001b[0m\n",
      "\u001b[32m2025-03-08 22:16:16.840\u001b[0m | \u001b[1mINFO    \u001b[0m | \u001b[36mexamples.syft_chat_stateful.syft_chat\u001b[0m:\u001b[36mmessage_handler\u001b[0m:\u001b[36m89\u001b[0m - \u001b[1m📨 RECEIVED: Message from alice@openmined.org: Hi Bob! I see your message, and it's now in our da...\u001b[0m\n"
     ]
    },
    {
     "name": "stdout",
     "output_type": "stream",
     "text": [
      "Message sent from Alice to Bob.\n"
     ]
    }
   ],
   "source": [
    "# Check if we have Alice's client available\n",
    "try:\n",
    "    # Alice responds to Bob\n",
    "    alice_response = alice_client.send_message(\n",
    "        'bob@openmined.org',\n",
    "        \"Hi Bob! I see your message, and it's now in our databases.\"\n",
    "    )\n",
    "    print(\"Message sent from Alice to Bob.\")\n",
    "except NameError:\n",
    "    print(\"Alice client not available. Cannot demonstrate bidirectional chat.\")"
   ]
  },
  {
   "cell_type": "markdown",
   "id": "chat-history-section",
   "metadata": {},
   "source": [
    "## 5. Working with Chat History\n",
    "\n",
    "One of the biggest advantages of the stateful version is its ability to retrieve message history from the database. Let's explore these features."
   ]
  },
  {
   "cell_type": "markdown",
   "id": "local-history-header",
   "metadata": {},
   "source": [
    "### 5.1 Local Chat History\n",
    "\n",
    "Each client can retrieve messages from its local SQLite database:"
   ]
  },
  {
   "cell_type": "code",
   "execution_count": 9,
   "id": "get-bob-history",
   "metadata": {},
   "outputs": [
    {
     "name": "stderr",
     "output_type": "stream",
     "text": [
      "\u001b[32m2025-03-08 22:16:21.960\u001b[0m | \u001b[34m\u001b[1mDEBUG   \u001b[0m | \u001b[36msyft_event.handlers\u001b[0m:\u001b[36mon_any_event\u001b[0m:\u001b[36m31\u001b[0m - \u001b[34m\u001b[1mFSEvent - created - /Users/atrask/Desktop/SyftBoxBob/datasites/bob@openmined.org/api_data/syft_chat/rpc/history/132a7e4a-36cf-4cac-b5b1-bcd9f08bf50e.request\u001b[0m\n"
     ]
    },
    {
     "name": "stdout",
     "output_type": "stream",
     "text": [
      "Bob's message history (2 messages):\n",
      "2025-03-09 03:15:52  - bob@openmined.org: Hello Alice! This message will be stored in both our databases.\n",
      "2025-03-09 03:16:09  - alice@openmined.org: Hi Bob! I see your message, and it's now in our databases.\n"
     ]
    }
   ],
   "source": [
    "# Get Bob's chat history from the database\n",
    "bob_history = bob_client.get_chat_history()\n",
    "print(f\"Bob's message history ({len(bob_history)} messages):\")\n",
    "for msg in bob_history:\n",
    "    time_str = msg.timestamp.strftime(\"%Y-%m-%d %H:%M:%S %Z\")\n",
    "    print(f\"{time_str} - {msg.sender}: {msg.content}\")"
   ]
  },
  {
   "cell_type": "code",
   "execution_count": 10,
   "id": "filter-history",
   "metadata": {},
   "outputs": [
    {
     "name": "stderr",
     "output_type": "stream",
     "text": [
      "\u001b[32m2025-03-08 22:16:24.542\u001b[0m | \u001b[34m\u001b[1mDEBUG   \u001b[0m | \u001b[36msyft_event.handlers\u001b[0m:\u001b[36mon_any_event\u001b[0m:\u001b[36m31\u001b[0m - \u001b[34m\u001b[1mFSEvent - created - /Users/atrask/Desktop/SyftBoxBob/datasites/bob@openmined.org/api_data/syft_chat/rpc/history/b7c183c0-8d8c-4c0a-9e6b-dc5d8f861242.request\u001b[0m\n"
     ]
    },
    {
     "name": "stdout",
     "output_type": "stream",
     "text": [
      "Bob's filtered chat history (2 messages):\n",
      "2025-03-09 03:15:52  - bob@openmined.org: Hello Alice! This message will be stored in both our databases.\n",
      "2025-03-09 03:16:09  - alice@openmined.org: Hi Bob! I see your message, and it's now in our databases.\n"
     ]
    }
   ],
   "source": [
    "# We can filter history by sender (now using SQL filtering)\n",
    "bob_alice_msgs = bob_client.get_chat_history(with_user='alice@openmined.org')\n",
    "print(f\"Bob's filtered chat history ({len(bob_alice_msgs)} messages):\")\n",
    "for msg in bob_alice_msgs:\n",
    "    time_str = msg.timestamp.strftime(\"%Y-%m-%d %H:%M:%S %Z\")\n",
    "    print(f\"{time_str} - {msg.sender}: {msg.content}\")"
   ]
  },
  {
   "cell_type": "markdown",
   "id": "remote-history-header",
   "metadata": {},
   "source": [
    "### 5.2 Remote Chat History\n",
    "\n",
    "You can also request chat history from another user. The stateful version will store copies of these messages in your local database:"
   ]
  },
  {
   "cell_type": "code",
   "execution_count": 13,
   "id": "request-alice-history",
   "metadata": {},
   "outputs": [
    {
     "name": "stderr",
     "output_type": "stream",
     "text": [
      "\u001b[32m2025-03-08 22:16:38.668\u001b[0m | \u001b[1mINFO    \u001b[0m | \u001b[36mexamples.syft_chat_stateful.syft_chat\u001b[0m:\u001b[36mrequest_history_from_user\u001b[0m:\u001b[36m435\u001b[0m - \u001b[1m📤 REQUESTING: Chat history from alice@openmined.org\u001b[0m\n",
      "\u001b[32m2025-03-08 22:16:42.085\u001b[0m | \u001b[34m\u001b[1mDEBUG   \u001b[0m | \u001b[36msyft_event.handlers\u001b[0m:\u001b[36mon_any_event\u001b[0m:\u001b[36m31\u001b[0m - \u001b[34m\u001b[1mFSEvent - created - /Users/atrask/Desktop/SyftBoxAlice/datasites/alice@openmined.org/api_data/syft_chat/rpc/history/7c731730-48a2-43f3-b062-387a348c5b5e.request\u001b[0m\n",
      "\u001b[32m2025-03-08 22:16:46.355\u001b[0m | \u001b[1mINFO    \u001b[0m | \u001b[36mexamples.syft_chat_stateful.syft_chat\u001b[0m:\u001b[36mrequest_history_from_user\u001b[0m:\u001b[36m451\u001b[0m - \u001b[1m📥 RECEIVED: History from alice@openmined.org (2 messages). Time: 7.69s\u001b[0m\n",
      "\u001b[32m2025-03-08 22:16:46.366\u001b[0m | \u001b[34m\u001b[1mDEBUG   \u001b[0m | \u001b[36msyft_event.handlers\u001b[0m:\u001b[36mon_any_event\u001b[0m:\u001b[36m31\u001b[0m - \u001b[34m\u001b[1mFSEvent - created - /Users/atrask/Desktop/SyftBoxBob/datasites/bob@openmined.org/api_data/syft_chat/rpc/message/3ca63e02-8211-4d84-a056-bf732a31ea04.request\u001b[0m\n",
      "\u001b[32m2025-03-08 22:16:46.368\u001b[0m | \u001b[1mINFO    \u001b[0m | \u001b[36mexamples.syft_chat_stateful.syft_chat\u001b[0m:\u001b[36mmessage_handler\u001b[0m:\u001b[36m89\u001b[0m - \u001b[1m📨 RECEIVED: Message from bob@openmined.org: Hello Alice! This message will be stored in both o...\u001b[0m\n",
      "\u001b[32m2025-03-08 22:16:46.369\u001b[0m | \u001b[1mINFO    \u001b[0m | \u001b[36mexamples.syft_chat_stateful.syft_chat\u001b[0m:\u001b[36mmessage_handler\u001b[0m:\u001b[36m119\u001b[0m - \u001b[1mMessage with ID 77064e90-73a1-4076-a907-0d48d945ccbf already exists, skipping database insert\u001b[0m\n",
      "\u001b[32m2025-03-08 22:16:46.477\u001b[0m | \u001b[34m\u001b[1mDEBUG   \u001b[0m | \u001b[36msyft_event.handlers\u001b[0m:\u001b[36mon_any_event\u001b[0m:\u001b[36m31\u001b[0m - \u001b[34m\u001b[1mFSEvent - created - /Users/atrask/Desktop/SyftBoxBob/datasites/bob@openmined.org/api_data/syft_chat/rpc/message/dcb4c6aa-bfb6-41db-b22b-df4d9f047baf.request\u001b[0m\n",
      "\u001b[32m2025-03-08 22:16:46.479\u001b[0m | \u001b[1mINFO    \u001b[0m | \u001b[36mexamples.syft_chat_stateful.syft_chat\u001b[0m:\u001b[36mmessage_handler\u001b[0m:\u001b[36m89\u001b[0m - \u001b[1m📨 RECEIVED: Message from alice@openmined.org: Hi Bob! I see your message, and it's now in our da...\u001b[0m\n",
      "\u001b[32m2025-03-08 22:16:46.482\u001b[0m | \u001b[1mINFO    \u001b[0m | \u001b[36mexamples.syft_chat_stateful.syft_chat\u001b[0m:\u001b[36mmessage_handler\u001b[0m:\u001b[36m119\u001b[0m - \u001b[1mMessage with ID 8e853e62-94e8-475b-997d-2f79418ddcb7 already exists, skipping database insert\u001b[0m\n"
     ]
    },
    {
     "name": "stdout",
     "output_type": "stream",
     "text": [
      "\n",
      "🔔 NEW MESSAGE from alice@openmined.org: Hi Bob! I see your message, and it's now in our databases.\n",
      "Retrieved 2 messages from Alice's history:\n",
      "2025-03-09 03:15:52  - bob@openmined.org: Hello Alice! This message will be stored in both our databases.\n",
      "2025-03-09 03:16:09  - alice@openmined.org: Hi Bob! I see your message, and it's now in our databases.\n"
     ]
    }
   ],
   "source": [
    "# Request history from Alice's client\n",
    "if 'alice@openmined.org' in chat_users:\n",
    "    alice_history = bob_client.request_history_from_user('alice@openmined.org')\n",
    "    print(f\"Retrieved {len(alice_history)} messages from Alice's history:\")\n",
    "    for msg in alice_history:\n",
    "        time_str = msg.timestamp.strftime(\"%Y-%m-%d %H:%M:%S %Z\")\n",
    "        print(f\"{time_str} - {msg.sender}: {msg.content}\")\n",
    "else:\n",
    "    print(\"Alice not available to request history from.\")"
   ]
  },
  {
   "cell_type": "markdown",
   "id": "advanced-features",
   "metadata": {},
   "source": [
    "## 6. Advanced Features\n",
    "\n",
    "The stateful version supports the same advanced features as the basic version but with better persistence."
   ]
  },
  {
   "cell_type": "markdown",
   "id": "threaded-conversations",
   "metadata": {},
   "source": [
    "### 6.1 Threaded Conversations\n",
    "\n",
    "You can group messages into threads which are stored in the database:"
   ]
  },
  {
   "cell_type": "code",
   "execution_count": 14,
   "id": "thread-example",
   "metadata": {},
   "outputs": [
    {
     "name": "stderr",
     "output_type": "stream",
     "text": [
      "\u001b[32m2025-03-08 22:16:52.802\u001b[0m | \u001b[1mINFO    \u001b[0m | \u001b[36mexamples.syft_chat_stateful.syft_chat\u001b[0m:\u001b[36msend_message\u001b[0m:\u001b[36m342\u001b[0m - \u001b[1m📤 SENDING: Message to alice@openmined.org\u001b[0m\n",
      "\u001b[32m2025-03-08 22:16:56.874\u001b[0m | \u001b[34m\u001b[1mDEBUG   \u001b[0m | \u001b[36msyft_event.handlers\u001b[0m:\u001b[36mon_any_event\u001b[0m:\u001b[36m31\u001b[0m - \u001b[34m\u001b[1mFSEvent - created - /Users/atrask/Desktop/SyftBoxAlice/datasites/alice@openmined.org/api_data/syft_chat/rpc/message/fa36ce8c-17e8-4b3f-802c-9f26c7d2b8e7.request\u001b[0m\n",
      "\u001b[32m2025-03-08 22:16:56.875\u001b[0m | \u001b[1mINFO    \u001b[0m | \u001b[36mexamples.syft_chat_stateful.syft_chat\u001b[0m:\u001b[36mmessage_handler\u001b[0m:\u001b[36m89\u001b[0m - \u001b[1m📨 RECEIVED: Message from bob@openmined.org: Let's discuss Project Alpha in this thread. These ...\u001b[0m\n",
      "\u001b[32m2025-03-08 22:16:56.877\u001b[0m | \u001b[1mINFO    \u001b[0m | \u001b[36mexamples.syft_chat_stateful.syft_chat\u001b[0m:\u001b[36mmessage_handler\u001b[0m:\u001b[36m119\u001b[0m - \u001b[1mMessage with ID 04763073-814a-441c-a7e1-69ad711ead89 already exists, skipping database insert\u001b[0m\n"
     ]
    },
    {
     "name": "stdout",
     "output_type": "stream",
     "text": [
      "\n",
      "🔔 NEW MESSAGE from bob@openmined.org: Let's discuss Project Alpha in this thread. These thread messages are stored in the database.\n"
     ]
    },
    {
     "name": "stderr",
     "output_type": "stream",
     "text": [
      "\u001b[32m2025-03-08 22:17:01.036\u001b[0m | \u001b[1mINFO    \u001b[0m | \u001b[36mexamples.syft_chat_stateful.syft_chat\u001b[0m:\u001b[36msend_message\u001b[0m:\u001b[36m359\u001b[0m - \u001b[1m📥 RECEIVED: Delivery confirmation from alice@openmined.org. Time: 8.23s\u001b[0m\n",
      "\u001b[32m2025-03-08 22:17:01.084\u001b[0m | \u001b[34m\u001b[1mDEBUG   \u001b[0m | \u001b[36msyft_event.handlers\u001b[0m:\u001b[36mon_any_event\u001b[0m:\u001b[36m31\u001b[0m - \u001b[34m\u001b[1mFSEvent - created - /Users/atrask/Desktop/SyftBoxBob/datasites/bob@openmined.org/api_data/syft_chat/rpc/message/63ec6829-ee62-4f08-9d0a-bf0b2458467e.request\u001b[0m\n",
      "\u001b[32m2025-03-08 22:17:01.085\u001b[0m | \u001b[1mINFO    \u001b[0m | \u001b[36mexamples.syft_chat_stateful.syft_chat\u001b[0m:\u001b[36mmessage_handler\u001b[0m:\u001b[36m89\u001b[0m - \u001b[1m📨 RECEIVED: Message from bob@openmined.org: Let's discuss Project Alpha in this thread. These ...\u001b[0m\n",
      "\u001b[32m2025-03-08 22:17:01.086\u001b[0m | \u001b[1mINFO    \u001b[0m | \u001b[36mexamples.syft_chat_stateful.syft_chat\u001b[0m:\u001b[36mmessage_handler\u001b[0m:\u001b[36m119\u001b[0m - \u001b[1mMessage with ID 04763073-814a-441c-a7e1-69ad711ead89 already exists, skipping database insert\u001b[0m\n"
     ]
    },
    {
     "name": "stdout",
     "output_type": "stream",
     "text": [
      "Started a new thread with ID: project-alpha\n"
     ]
    }
   ],
   "source": [
    "# Create a new thread\n",
    "thread_id = \"project-alpha\"\n",
    "\n",
    "try:\n",
    "    # Send a message in this thread\n",
    "    response = bob_client.send_message(\n",
    "        'alice@openmined.org',\n",
    "        \"Let's discuss Project Alpha in this thread. These thread messages are stored in the database.\",\n",
    "        thread_id=thread_id\n",
    "    )\n",
    "    print(f\"Started a new thread with ID: {thread_id}\")\n",
    "except Exception as e:\n",
    "    print(f\"Error: {e}\")"
   ]
  },
  {
   "cell_type": "markdown",
   "id": "message-replies",
   "metadata": {},
   "source": [
    "### 6.2 Message Replies\n",
    "\n",
    "You can reply to specific messages using the `reply_to` parameter:"
   ]
  },
  {
   "cell_type": "code",
   "execution_count": 15,
   "id": "reply-example",
   "metadata": {},
   "outputs": [
    {
     "name": "stderr",
     "output_type": "stream",
     "text": [
      "\u001b[32m2025-03-08 22:17:04.027\u001b[0m | \u001b[34m\u001b[1mDEBUG   \u001b[0m | \u001b[36msyft_event.handlers\u001b[0m:\u001b[36mon_any_event\u001b[0m:\u001b[36m31\u001b[0m - \u001b[34m\u001b[1mFSEvent - created - /Users/atrask/Desktop/SyftBoxBob/datasites/bob@openmined.org/api_data/syft_chat/rpc/history/132a7e4a-36cf-4cac-b5b1-bcd9f08bf50e.request\u001b[0m\n",
      "\u001b[32m2025-03-08 22:17:04.103\u001b[0m | \u001b[1mINFO    \u001b[0m | \u001b[36mexamples.syft_chat_stateful.syft_chat\u001b[0m:\u001b[36msend_message\u001b[0m:\u001b[36m342\u001b[0m - \u001b[1m📤 SENDING: Message to bob@openmined.org\u001b[0m\n",
      "\u001b[32m2025-03-08 22:17:07.574\u001b[0m | \u001b[34m\u001b[1mDEBUG   \u001b[0m | \u001b[36msyft_event.handlers\u001b[0m:\u001b[36mon_any_event\u001b[0m:\u001b[36m31\u001b[0m - \u001b[34m\u001b[1mFSEvent - created - /Users/atrask/Desktop/SyftBoxBob/datasites/bob@openmined.org/api_data/syft_chat/rpc/message/6c3d686f-c90b-4cf2-8ea6-8286afb3d215.request\u001b[0m\n",
      "\u001b[32m2025-03-08 22:17:07.577\u001b[0m | \u001b[1mINFO    \u001b[0m | \u001b[36mexamples.syft_chat_stateful.syft_chat\u001b[0m:\u001b[36mmessage_handler\u001b[0m:\u001b[36m89\u001b[0m - \u001b[1m📨 RECEIVED: Message from alice@openmined.org: I'm ready to discuss Project Alpha. What aspects s...\u001b[0m\n"
     ]
    },
    {
     "name": "stdout",
     "output_type": "stream",
     "text": [
      "\n",
      "🔔 NEW MESSAGE from alice@openmined.org: I'm ready to discuss Project Alpha. What aspects should we focus on first? This reply is linked in the database.\n"
     ]
    },
    {
     "name": "stderr",
     "output_type": "stream",
     "text": [
      "\u001b[32m2025-03-08 22:17:12.165\u001b[0m | \u001b[1mINFO    \u001b[0m | \u001b[36mexamples.syft_chat_stateful.syft_chat\u001b[0m:\u001b[36msend_message\u001b[0m:\u001b[36m359\u001b[0m - \u001b[1m📥 RECEIVED: Delivery confirmation from bob@openmined.org. Time: 8.06s\u001b[0m\n",
      "\u001b[32m2025-03-08 22:17:12.176\u001b[0m | \u001b[34m\u001b[1mDEBUG   \u001b[0m | \u001b[36msyft_event.handlers\u001b[0m:\u001b[36mon_any_event\u001b[0m:\u001b[36m31\u001b[0m - \u001b[34m\u001b[1mFSEvent - created - /Users/atrask/Desktop/SyftBoxAlice/datasites/alice@openmined.org/api_data/syft_chat/rpc/message/932314c0-ff30-4a95-828f-bb292a6e9946.request\u001b[0m\n",
      "\u001b[32m2025-03-08 22:17:12.178\u001b[0m | \u001b[1mINFO    \u001b[0m | \u001b[36mexamples.syft_chat_stateful.syft_chat\u001b[0m:\u001b[36mmessage_handler\u001b[0m:\u001b[36m89\u001b[0m - \u001b[1m📨 RECEIVED: Message from alice@openmined.org: I'm ready to discuss Project Alpha. What aspects s...\u001b[0m\n"
     ]
    },
    {
     "name": "stdout",
     "output_type": "stream",
     "text": [
      "Alice replied to the thread message\n"
     ]
    }
   ],
   "source": [
    "try:\n",
    "    # Get Bob's last message ID\n",
    "    thread_messages = bob_client.get_chat_history()\n",
    "    last_msg = [m for m in thread_messages if m.thread_id == thread_id][0]\n",
    "    \n",
    "    # Alice replies to Bob's message\n",
    "    alice_response = alice_client.send_message(\n",
    "        'bob@openmined.org',\n",
    "        \"I'm ready to discuss Project Alpha. What aspects should we focus on first? This reply is linked in the database.\",\n",
    "        thread_id=thread_id,\n",
    "        reply_to=last_msg.msg_id\n",
    "    )\n",
    "    print(\"Alice replied to the thread message\")\n",
    "except Exception as e:\n",
    "    print(f\"Error: {e}\")"
   ]
  },
  {
   "cell_type": "markdown",
   "id": "time-filters",
   "metadata": {},
   "source": [
    "### 6.3 Time Filters\n",
    "\n",
    "You can filter chat history by time using SQL-powered queries:"
   ]
  },
  {
   "cell_type": "code",
   "execution_count": 16,
   "id": "time-filter-example",
   "metadata": {},
   "outputs": [
    {
     "name": "stderr",
     "output_type": "stream",
     "text": [
      "\u001b[32m2025-03-08 22:17:15.841\u001b[0m | \u001b[34m\u001b[1mDEBUG   \u001b[0m | \u001b[36msyft_event.handlers\u001b[0m:\u001b[36mon_any_event\u001b[0m:\u001b[36m31\u001b[0m - \u001b[34m\u001b[1mFSEvent - created - /Users/atrask/Desktop/SyftBoxBob/datasites/bob@openmined.org/api_data/syft_chat/rpc/history/ecb972df-a468-430d-b7e4-cb7d26616efa.request\u001b[0m\n"
     ]
    },
    {
     "name": "stdout",
     "output_type": "stream",
     "text": [
      "Messages in the last hour: 4\n",
      "2025-03-09 03:15:52  - bob@openmined.org: Hello Alice! This message will be stored in both our databases.\n",
      "2025-03-09 03:16:09  - alice@openmined.org: Hi Bob! I see your message, and it's now in our databases.\n",
      "2025-03-09 03:16:52  - bob@openmined.org: Let's discuss Project Alpha in this thread. These thread messages are stored in the database.\n",
      "2025-03-09 03:17:04  - alice@openmined.org: I'm ready to discuss Project Alpha. What aspects should we focus on first? This reply is linked in the database.\n"
     ]
    }
   ],
   "source": [
    "# Get messages from the last hour using SQL filtering\n",
    "one_hour_ago = datetime.now(timezone.utc) - timedelta(hours=1)\n",
    "recent_messages = bob_client.get_chat_history(since=one_hour_ago)\n",
    "\n",
    "print(f\"Messages in the last hour: {len(recent_messages)}\")\n",
    "for msg in recent_messages:\n",
    "    time_str = msg.timestamp.strftime(\"%Y-%m-%d %H:%M:%S %Z\")\n",
    "    print(f\"{time_str} - {msg.sender}: {msg.content}\")"
   ]
  },
  {
   "cell_type": "markdown",
   "id": "statefulness-demo",
   "metadata": {},
   "source": [
    "## 7. Demonstrating Statefulness\n",
    "\n",
    "The key advantage of the stateful version is that message history persists even when clients are restarted. Let's demonstrate this feature:"
   ]
  },
  {
   "cell_type": "markdown",
   "id": "restart-client",
   "metadata": {},
   "source": [
    "### 7.1 Shutting Down and Restarting Clients\n",
    "\n",
    "First, we'll shut down our clients and then restart them:"
   ]
  },
  {
   "cell_type": "code",
   "execution_count": 17,
   "id": "shutdown-clients",
   "metadata": {},
   "outputs": [
    {
     "name": "stderr",
     "output_type": "stream",
     "text": [
      "\u001b[32m2025-03-08 22:17:20.961\u001b[0m | \u001b[1mINFO    \u001b[0m | \u001b[36mexamples.syft_chat_stateful.syft_chat\u001b[0m:\u001b[36mclose\u001b[0m:\u001b[36m518\u001b[0m - \u001b[1m👋 Shutting down syft_chat client...\u001b[0m\n",
      "\u001b[32m2025-03-08 22:17:21.071\u001b[0m | \u001b[1mINFO    \u001b[0m | \u001b[36mexamples.syft_chat_stateful.syft_chat\u001b[0m:\u001b[36mclose\u001b[0m:\u001b[36m518\u001b[0m - \u001b[1m👋 Shutting down syft_chat client...\u001b[0m\n"
     ]
    },
    {
     "name": "stdout",
     "output_type": "stream",
     "text": [
      "Shutting down Bob's client...\n",
      "Shutting down Alice's client...\n",
      "All clients shut down\n"
     ]
    }
   ],
   "source": [
    "# Close both clients\n",
    "print(\"Shutting down Bob's client...\")\n",
    "bob_client.close()\n",
    "\n",
    "try:\n",
    "    print(\"Shutting down Alice's client...\")\n",
    "    alice_client.close()\n",
    "except NameError:\n",
    "    pass\n",
    "\n",
    "print(\"All clients shut down\")"
   ]
  },
  {
   "cell_type": "code",
   "execution_count": 18,
   "id": "restart-clients",
   "metadata": {},
   "outputs": [
    {
     "name": "stderr",
     "output_type": "stream",
     "text": [
      "\u001b[32m2025-03-08 22:17:22.372\u001b[0m | \u001b[1mINFO    \u001b[0m | \u001b[36mexamples.syft_chat_stateful.syft_chat\u001b[0m:\u001b[36m__init__\u001b[0m:\u001b[36m259\u001b[0m - \u001b[1m🔑 Connected as: bob@openmined.org\u001b[0m\n",
      "\u001b[32m2025-03-08 22:17:22.373\u001b[0m | \u001b[1mINFO    \u001b[0m | \u001b[36mexamples.syft_chat_stateful.syft_chat\u001b[0m:\u001b[36m_start_server\u001b[0m:\u001b[36m272\u001b[0m - \u001b[1m🔔 Server started for bob@openmined.org\u001b[0m\n",
      "\u001b[32m2025-03-08 22:17:22.374\u001b[0m | \u001b[1mINFO    \u001b[0m | \u001b[36mexamples.syft_chat_stateful.syft_chat\u001b[0m:\u001b[36m__init__\u001b[0m:\u001b[36m259\u001b[0m - \u001b[1m🔑 Connected as: alice@openmined.org\u001b[0m\n",
      "\u001b[32m2025-03-08 22:17:22.374\u001b[0m | \u001b[1mINFO    \u001b[0m | \u001b[36mexamples.syft_chat_stateful.syft_chat\u001b[0m:\u001b[36m_start_server\u001b[0m:\u001b[36m272\u001b[0m - \u001b[1m🔔 Server started for alice@openmined.org\u001b[0m\n"
     ]
    },
    {
     "name": "stdout",
     "output_type": "stream",
     "text": [
      "Restarting Bob's client...\n",
      "Restarting Alice's client...\n",
      "Clients restarted successfully\n"
     ]
    },
    {
     "name": "stderr",
     "output_type": "stream",
     "text": [
      "\u001b[32m2025-03-08 22:17:22.374\u001b[0m | \u001b[1mINFO    \u001b[0m | \u001b[36msyft_event.server2\u001b[0m:\u001b[36mregister_rpc\u001b[0m:\u001b[36m140\u001b[0m - \u001b[1mRegister RPC: /message\u001b[0m\n",
      "\u001b[32m2025-03-08 22:17:22.376\u001b[0m | \u001b[1mINFO    \u001b[0m | \u001b[36msyft_event.server2\u001b[0m:\u001b[36mregister_rpc\u001b[0m:\u001b[36m140\u001b[0m - \u001b[1mRegister RPC: /message\u001b[0m\n",
      "\u001b[32m2025-03-08 22:17:22.377\u001b[0m | \u001b[1mINFO    \u001b[0m | \u001b[36msyft_event.server2\u001b[0m:\u001b[36mregister_rpc\u001b[0m:\u001b[36m140\u001b[0m - \u001b[1mRegister RPC: /history\u001b[0m\n",
      "\u001b[32m2025-03-08 22:17:22.377\u001b[0m | \u001b[1mINFO    \u001b[0m | \u001b[36mexamples.syft_chat_stateful.syft_chat\u001b[0m:\u001b[36m_run_server\u001b[0m:\u001b[36m281\u001b[0m - \u001b[1m🚀 SERVER: Running syft_chat server as bob@openmined.org\u001b[0m\n",
      "\u001b[32m2025-03-08 22:17:22.378\u001b[0m | \u001b[1mINFO    \u001b[0m | \u001b[36mexamples.syft_chat_stateful.syft_chat\u001b[0m:\u001b[36m_run_server\u001b[0m:\u001b[36m282\u001b[0m - \u001b[1m📡 SERVER: Listening for requests at /Users/atrask/Desktop/SyftBoxBob/datasites/bob@openmined.org/api_data/syft_chat/rpc\u001b[0m\n",
      "\u001b[32m2025-03-08 22:17:22.378\u001b[0m | \u001b[1mINFO    \u001b[0m | \u001b[36msyft_event.server2\u001b[0m:\u001b[36mregister_rpc\u001b[0m:\u001b[36m140\u001b[0m - \u001b[1mRegister RPC: /history\u001b[0m\n",
      "\u001b[32m2025-03-08 22:17:22.379\u001b[0m | \u001b[1mINFO    \u001b[0m | \u001b[36mexamples.syft_chat_stateful.syft_chat\u001b[0m:\u001b[36m_run_server\u001b[0m:\u001b[36m281\u001b[0m - \u001b[1m🚀 SERVER: Running syft_chat server as alice@openmined.org\u001b[0m\n",
      "\u001b[32m2025-03-08 22:17:22.379\u001b[0m | \u001b[1mINFO    \u001b[0m | \u001b[36mexamples.syft_chat_stateful.syft_chat\u001b[0m:\u001b[36m_run_server\u001b[0m:\u001b[36m282\u001b[0m - \u001b[1m📡 SERVER: Listening for requests at /Users/atrask/Desktop/SyftBoxAlice/datasites/alice@openmined.org/api_data/syft_chat/rpc\u001b[0m\n",
      "\u001b[32m2025-03-08 22:17:22.381\u001b[0m | \u001b[1mINFO    \u001b[0m | \u001b[36msyft_event.server2\u001b[0m:\u001b[36mpublish_schema\u001b[0m:\u001b[36m96\u001b[0m - \u001b[1mPublished schema to /Users/atrask/Desktop/SyftBoxBob/datasites/bob@openmined.org/api_data/syft_chat/rpc/rpc.schema.json\u001b[0m\n",
      "\u001b[32m2025-03-08 22:17:22.384\u001b[0m | \u001b[1mINFO    \u001b[0m | \u001b[36msyft_event.server2\u001b[0m:\u001b[36mpublish_schema\u001b[0m:\u001b[36m96\u001b[0m - \u001b[1mPublished schema to /Users/atrask/Desktop/SyftBoxAlice/datasites/alice@openmined.org/api_data/syft_chat/rpc/rpc.schema.json\u001b[0m\n",
      "\u001b[32m2025-03-08 22:17:39.306\u001b[0m | \u001b[34m\u001b[1mDEBUG   \u001b[0m | \u001b[36msyft_event.server2\u001b[0m:\u001b[36mprocess_pending_requests\u001b[0m:\u001b[36m105\u001b[0m - \u001b[34m\u001b[1mProcessing pending request 91956ece-3ddb-402a-b2ce-53189fbc8554.request\u001b[0m\n",
      "\u001b[32m2025-03-08 22:17:39.307\u001b[0m | \u001b[1mINFO    \u001b[0m | \u001b[36mexamples.syft_chat_stateful.syft_chat\u001b[0m:\u001b[36mmessage_handler\u001b[0m:\u001b[36m89\u001b[0m - \u001b[1m📨 RECEIVED: Message from bob@openmined.org: This message was sent after restarting the clients...\u001b[0m\n",
      "\u001b[32m2025-03-08 22:17:39.307\u001b[0m | \u001b[1mINFO    \u001b[0m | \u001b[36mexamples.syft_chat_stateful.syft_chat\u001b[0m:\u001b[36mmessage_handler\u001b[0m:\u001b[36m119\u001b[0m - \u001b[1mMessage with ID fa0e1b74-f25a-4a70-a8b1-a12f3496caab already exists, skipping database insert\u001b[0m\n",
      "\u001b[32m2025-03-08 22:17:50.265\u001b[0m | \u001b[34m\u001b[1mDEBUG   \u001b[0m | \u001b[36msyft_event.server2\u001b[0m:\u001b[36mstop\u001b[0m:\u001b[36m123\u001b[0m - \u001b[34m\u001b[1mStopping event loop\u001b[0m\n",
      "\u001b[32m2025-03-08 22:17:50.316\u001b[0m | \u001b[34m\u001b[1mDEBUG   \u001b[0m | \u001b[36msyft_event.server2\u001b[0m:\u001b[36mstop\u001b[0m:\u001b[36m123\u001b[0m - \u001b[34m\u001b[1mStopping event loop\u001b[0m\n"
     ]
    }
   ],
   "source": [
    "# Restart the clients (connecting to the existing databases)\n",
    "print(\"Restarting Bob's client...\")\n",
    "bob_client = syft_chat.client(\"~/.syft_bob_config.json\", db_path=bob_db_path)\n",
    "\n",
    "try:\n",
    "    print(\"Restarting Alice's client...\")\n",
    "    alice_client = syft_chat.client(\"~/.syft_alice_config.json\", db_path=alice_db_path)\n",
    "except Exception as e:\n",
    "    print(f\"Could not restart Alice's client: {e}\")\n",
    "    \n",
    "print(\"Clients restarted successfully\")"
   ]
  },
  {
   "cell_type": "markdown",
   "id": "verify-persistence",
   "metadata": {},
   "source": [
    "### 7.2 Verifying Persistence\n",
    "\n",
    "Now, let's verify that our message history is still available after restart:"
   ]
  },
  {
   "cell_type": "code",
   "execution_count": 19,
   "id": "check-history-persistence",
   "metadata": {},
   "outputs": [
    {
     "name": "stderr",
     "output_type": "stream",
     "text": [
      "\u001b[32m2025-03-08 22:17:24.179\u001b[0m | \u001b[34m\u001b[1mDEBUG   \u001b[0m | \u001b[36msyft_event.handlers\u001b[0m:\u001b[36mon_any_event\u001b[0m:\u001b[36m31\u001b[0m - \u001b[34m\u001b[1mFSEvent - created - /Users/atrask/Desktop/SyftBoxBob/datasites/bob@openmined.org/api_data/syft_chat/rpc/history/132a7e4a-36cf-4cac-b5b1-bcd9f08bf50e.request\u001b[0m\n"
     ]
    },
    {
     "name": "stdout",
     "output_type": "stream",
     "text": [
      "Bob's message history after restart (4 messages):\n",
      "2025-03-09 03:15:52  - bob@openmined.org: Hello Alice! This message will be stored in both our databases.\n",
      "2025-03-09 03:16:09  - alice@openmined.org: Hi Bob! I see your message, and it's now in our databases.\n",
      "2025-03-09 03:16:52  - bob@openmined.org: Let's discuss Project Alpha in this thread. These thread messages are stored in the database.\n",
      "2025-03-09 03:17:04  - alice@openmined.org: I'm ready to discuss Project Alpha. What aspects should we focus on first? This reply is linked in the database.\n"
     ]
    }
   ],
   "source": [
    "# Check if our message history is still available\n",
    "bob_history_after_restart = bob_client.get_chat_history()\n",
    "print(f\"Bob's message history after restart ({len(bob_history_after_restart)} messages):\")\n",
    "for msg in bob_history_after_restart:\n",
    "    time_str = msg.timestamp.strftime(\"%Y-%m-%d %H:%M:%S %Z\")\n",
    "    print(f\"{time_str} - {msg.sender}: {msg.content}\")"
   ]
  },
  {
   "cell_type": "markdown",
   "id": "thread-persistence",
   "metadata": {},
   "source": [
    "### 7.3 Thread Persistence\n",
    "\n",
    "Let's also verify that our thread information is preserved:"
   ]
  },
  {
   "cell_type": "code",
   "execution_count": 20,
   "id": "check-thread-persistence",
   "metadata": {},
   "outputs": [
    {
     "name": "stderr",
     "output_type": "stream",
     "text": [
      "\u001b[32m2025-03-08 22:17:26.248\u001b[0m | \u001b[34m\u001b[1mDEBUG   \u001b[0m | \u001b[36msyft_event.handlers\u001b[0m:\u001b[36mon_any_event\u001b[0m:\u001b[36m31\u001b[0m - \u001b[34m\u001b[1mFSEvent - created - /Users/atrask/Desktop/SyftBoxBob/datasites/bob@openmined.org/api_data/syft_chat/rpc/history/132a7e4a-36cf-4cac-b5b1-bcd9f08bf50e.request\u001b[0m\n"
     ]
    },
    {
     "name": "stdout",
     "output_type": "stream",
     "text": [
      "Messages in the 'project-alpha' thread after restart (2 messages):\n",
      "2025-03-09 03:16:52  - bob@openmined.org: Let's discuss Project Alpha in this thread. These thread messages are stored in the database.\n",
      "2025-03-09 03:17:04  - alice@openmined.org (Reply to: 04763073-814a-441c-a7e1-69ad711ead89): I'm ready to discuss Project Alpha. What aspects should we focus on first? This reply is linked in the database.\n"
     ]
    }
   ],
   "source": [
    "# Check if thread information is preserved\n",
    "thread_messages = bob_client.get_chat_history()\n",
    "thread_messages = [m for m in thread_messages if m.thread_id == thread_id]\n",
    "\n",
    "print(f\"Messages in the '{thread_id}' thread after restart ({len(thread_messages)} messages):\")\n",
    "for msg in thread_messages:\n",
    "    time_str = msg.timestamp.strftime(\"%Y-%m-%d %H:%M:%S %Z\")\n",
    "    reply_info = f\" (Reply to: {msg.reply_to})\" if msg.reply_to else \"\"\n",
    "    print(f\"{time_str} - {msg.sender}{reply_info}: {msg.content}\")"
   ]
  },
  {
   "cell_type": "markdown",
   "id": "send-after-restart",
   "metadata": {},
   "source": [
    "### 7.4 Continuing Conversations After Restart\n",
    "\n",
    "Now, let's continue our conversation after restart to show that everything still works:"
   ]
  },
  {
   "cell_type": "code",
   "execution_count": 21,
   "id": "continue-conversation",
   "metadata": {},
   "outputs": [
    {
     "name": "stderr",
     "output_type": "stream",
     "text": [
      "\u001b[32m2025-03-08 22:17:28.050\u001b[0m | \u001b[1mINFO    \u001b[0m | \u001b[36mexamples.syft_chat_stateful.syft_chat\u001b[0m:\u001b[36msend_message\u001b[0m:\u001b[36m342\u001b[0m - \u001b[1m📤 SENDING: Message to alice@openmined.org\u001b[0m\n",
      "\u001b[32m2025-03-08 22:17:30.999\u001b[0m | \u001b[34m\u001b[1mDEBUG   \u001b[0m | \u001b[36msyft_event.handlers\u001b[0m:\u001b[36mon_any_event\u001b[0m:\u001b[36m31\u001b[0m - \u001b[34m\u001b[1mFSEvent - created - /Users/atrask/Desktop/SyftBoxAlice/datasites/alice@openmined.org/api_data/syft_chat/rpc/message/91956ece-3ddb-402a-b2ce-53189fbc8554.request\u001b[0m\n",
      "\u001b[32m2025-03-08 22:17:31.002\u001b[0m | \u001b[1mINFO    \u001b[0m | \u001b[36mexamples.syft_chat_stateful.syft_chat\u001b[0m:\u001b[36mmessage_handler\u001b[0m:\u001b[36m89\u001b[0m - \u001b[1m📨 RECEIVED: Message from bob@openmined.org: This message was sent after restarting the clients...\u001b[0m\n",
      "\u001b[32m2025-03-08 22:17:35.401\u001b[0m | \u001b[1mINFO    \u001b[0m | \u001b[36mexamples.syft_chat_stateful.syft_chat\u001b[0m:\u001b[36msend_message\u001b[0m:\u001b[36m359\u001b[0m - \u001b[1m📥 RECEIVED: Delivery confirmation from alice@openmined.org. Time: 7.35s\u001b[0m\n",
      "\u001b[32m2025-03-08 22:17:35.413\u001b[0m | \u001b[34m\u001b[1mDEBUG   \u001b[0m | \u001b[36msyft_event.handlers\u001b[0m:\u001b[36mon_any_event\u001b[0m:\u001b[36m31\u001b[0m - \u001b[34m\u001b[1mFSEvent - created - /Users/atrask/Desktop/SyftBoxBob/datasites/bob@openmined.org/api_data/syft_chat/rpc/message/5618ec9d-ff56-46e8-8889-80f7590cc4af.request\u001b[0m\n",
      "\u001b[32m2025-03-08 22:17:35.416\u001b[0m | \u001b[1mINFO    \u001b[0m | \u001b[36mexamples.syft_chat_stateful.syft_chat\u001b[0m:\u001b[36mmessage_handler\u001b[0m:\u001b[36m89\u001b[0m - \u001b[1m📨 RECEIVED: Message from bob@openmined.org: This message was sent after restarting the clients...\u001b[0m\n"
     ]
    },
    {
     "name": "stdout",
     "output_type": "stream",
     "text": [
      "Message sent after restart\n"
     ]
    }
   ],
   "source": [
    "# Send a new message after restart\n",
    "try:\n",
    "    after_restart_msg = bob_client.send_message(\n",
    "        'alice@openmined.org',\n",
    "        \"This message was sent after restarting the clients. Our conversation history is persistent!\",\n",
    "        thread_id=thread_id\n",
    "    )\n",
    "    print(\"Message sent after restart\")\n",
    "except Exception as e:\n",
    "    print(f\"Error: {e}\")"
   ]
  },
  {
   "cell_type": "markdown",
   "id": "database-examination",
   "metadata": {},
   "source": [
    "### 7.5 Examining the Database\n",
    "\n",
    "For the curious, we can directly examine the SQLite database to see the stored messages:"
   ]
  },
  {
   "cell_type": "code",
   "execution_count": 22,
   "id": "explore-database",
   "metadata": {},
   "outputs": [
    {
     "name": "stdout",
     "output_type": "stream",
     "text": [
      "Direct database query found 5 messages:\n",
      "bob@openmined.org  : Hello Alice! This message will be stored in both o...\n",
      "alice@openmined.org  : Hi Bob! I see your message, and it's now in our da...\n",
      "bob@openmined.org (Thread: project-alpha) : Let's discuss Project Alpha in this thread. These ...\n",
      "alice@openmined.org (Thread: project-alpha) (Reply to: 04763073-814a-441c-a7e1-69ad711ead89): I'm ready to discuss Project Alpha. What aspects s...\n",
      "bob@openmined.org (Thread: project-alpha) : This message was sent after restarting the clients...\n"
     ]
    }
   ],
   "source": [
    "# This is optional - requires sqlite3 module\n",
    "import sqlite3\n",
    "\n",
    "# Connect to Bob's database\n",
    "conn = sqlite3.connect(bob_db_path)\n",
    "cursor = conn.cursor()\n",
    "\n",
    "# Query all messages\n",
    "cursor.execute(\"SELECT msg_id, sender, content, thread_id, reply_to FROM messages\")\n",
    "rows = cursor.fetchall()\n",
    "\n",
    "print(f\"Direct database query found {len(rows)} messages:\")\n",
    "for row in rows:\n",
    "    msg_id, sender, content, thread_id, reply_to = row\n",
    "    thread_info = f\"(Thread: {thread_id})\" if thread_id else \"\"\n",
    "    reply_info = f\"(Reply to: {reply_to})\" if reply_to else \"\"\n",
    "    print(f\"{sender} {thread_info} {reply_info}: {content[:50]}...\")\n",
    "    \n",
    "conn.close()"
   ]
  },
  {
   "cell_type": "markdown",
   "id": "custom-message-processing",
   "metadata": {},
   "source": [
    "## 8. Custom Message Processing\n",
    "\n",
    "You can create message listeners that can access the database for advanced processing:"
   ]
  },
  {
   "cell_type": "code",
   "execution_count": 23,
   "id": "advanced-listener",
   "metadata": {},
   "outputs": [
    {
     "name": "stdout",
     "output_type": "stream",
     "text": [
      "Registered advanced message processor\n"
     ]
    }
   ],
   "source": [
    "# A more advanced message processor\n",
    "def advanced_message_processor(message):\n",
    "    # Check if this is part of a thread\n",
    "    thread_info = f\" (Thread: {message.thread_id})\" if message.thread_id else \"\"\n",
    "    reply_info = f\" (Reply to: {message.reply_to})\" if message.reply_to else \"\"\n",
    "    \n",
    "    # Format the message nicely\n",
    "    time_str = message.timestamp.strftime(\"%H:%M:%S\")\n",
    "    print(f\"[{time_str}] FROM: {message.sender}{thread_info}{reply_info}\")\n",
    "    print(f\"MESSAGE: {message.content}\")\n",
    "    print(\"-\" * 50)\n",
    "\n",
    "# Replace the existing listener with our advanced one\n",
    "try:\n",
    "    bob_client.remove_message_listener(print_message)\n",
    "    bob_client.add_message_listener(advanced_message_processor)\n",
    "    print(\"Registered advanced message processor\")\n",
    "except Exception as e:\n",
    "    print(f\"Error setting up listener: {e}\")"
   ]
  },
  {
   "cell_type": "code",
   "execution_count": 24,
   "id": "test-advanced-listener",
   "metadata": {},
   "outputs": [
    {
     "name": "stderr",
     "output_type": "stream",
     "text": [
      "\u001b[32m2025-03-08 22:17:42.044\u001b[0m | \u001b[1mINFO    \u001b[0m | \u001b[36mexamples.syft_chat_stateful.syft_chat\u001b[0m:\u001b[36msend_message\u001b[0m:\u001b[36m342\u001b[0m - \u001b[1m📤 SENDING: Message to bob@openmined.org\u001b[0m\n",
      "\u001b[32m2025-03-08 22:17:46.252\u001b[0m | \u001b[34m\u001b[1mDEBUG   \u001b[0m | \u001b[36msyft_event.handlers\u001b[0m:\u001b[36mon_any_event\u001b[0m:\u001b[36m31\u001b[0m - \u001b[34m\u001b[1mFSEvent - created - /Users/atrask/Desktop/SyftBoxBob/datasites/bob@openmined.org/api_data/syft_chat/rpc/message/103d8c95-ea7b-4d4d-a71f-6f7115f3e84a.request\u001b[0m\n",
      "\u001b[32m2025-03-08 22:17:46.253\u001b[0m | \u001b[1mINFO    \u001b[0m | \u001b[36mexamples.syft_chat_stateful.syft_chat\u001b[0m:\u001b[36mmessage_handler\u001b[0m:\u001b[36m89\u001b[0m - \u001b[1m📨 RECEIVED: Message from alice@openmined.org: Here's a message that will trigger the advanced pr...\u001b[0m\n"
     ]
    },
    {
     "name": "stdout",
     "output_type": "stream",
     "text": [
      "[03:17:42] FROM: alice@openmined.org (Thread: project-alpha)\n",
      "MESSAGE: Here's a message that will trigger the advanced processor. This is stored in the database too.\n",
      "--------------------------------------------------\n"
     ]
    },
    {
     "name": "stderr",
     "output_type": "stream",
     "text": [
      "\u001b[32m2025-03-08 22:17:50.112\u001b[0m | \u001b[1mINFO    \u001b[0m | \u001b[36mexamples.syft_chat_stateful.syft_chat\u001b[0m:\u001b[36msend_message\u001b[0m:\u001b[36m359\u001b[0m - \u001b[1m📥 RECEIVED: Delivery confirmation from bob@openmined.org. Time: 8.07s\u001b[0m\n",
      "\u001b[32m2025-03-08 22:17:50.123\u001b[0m | \u001b[34m\u001b[1mDEBUG   \u001b[0m | \u001b[36msyft_event.handlers\u001b[0m:\u001b[36mon_any_event\u001b[0m:\u001b[36m31\u001b[0m - \u001b[34m\u001b[1mFSEvent - created - /Users/atrask/Desktop/SyftBoxAlice/datasites/alice@openmined.org/api_data/syft_chat/rpc/message/d162bdb7-64d5-4288-b499-ad9b5dd041d0.request\u001b[0m\n",
      "\u001b[32m2025-03-08 22:17:50.124\u001b[0m | \u001b[1mINFO    \u001b[0m | \u001b[36mexamples.syft_chat_stateful.syft_chat\u001b[0m:\u001b[36mmessage_handler\u001b[0m:\u001b[36m89\u001b[0m - \u001b[1m📨 RECEIVED: Message from alice@openmined.org: Here's a message that will trigger the advanced pr...\u001b[0m\n"
     ]
    },
    {
     "name": "stdout",
     "output_type": "stream",
     "text": [
      "Advanced processing works!\n"
     ]
    }
   ],
   "source": [
    "# Test the advanced message processor\n",
    "try:\n",
    "    # Alice sends another message\n",
    "    alice_response = alice_client.send_message(\n",
    "        'bob@openmined.org',\n",
    "        \"Here's a message that will trigger the advanced processor. This is stored in the database too.\",\n",
    "        thread_id=thread_id\n",
    "    )\n",
    "    print(\"Advanced processing works!\")\n",
    "except Exception as e:\n",
    "    print(f\"Error: {e}\")"
   ]
  },
  {
   "cell_type": "markdown",
   "id": "cleanup-header",
   "metadata": {},
   "source": [
    "## 9. Cleanup\n",
    "\n",
    "When we're done, it's important to properly close all clients to shut down the background servers:"
   ]
  },
  {
   "cell_type": "code",
   "execution_count": 25,
   "id": "cleanup-clients",
   "metadata": {},
   "outputs": [
    {
     "name": "stderr",
     "output_type": "stream",
     "text": [
      "\u001b[32m2025-03-08 22:17:50.222\u001b[0m | \u001b[1mINFO    \u001b[0m | \u001b[36mexamples.syft_chat_stateful.syft_chat\u001b[0m:\u001b[36mclose\u001b[0m:\u001b[36m518\u001b[0m - \u001b[1m👋 Shutting down syft_chat client...\u001b[0m\n",
      "\u001b[32m2025-03-08 22:17:50.266\u001b[0m | \u001b[1mINFO    \u001b[0m | \u001b[36mexamples.syft_chat_stateful.syft_chat\u001b[0m:\u001b[36mclose\u001b[0m:\u001b[36m518\u001b[0m - \u001b[1m👋 Shutting down syft_chat client...\u001b[0m\n"
     ]
    },
    {
     "name": "stdout",
     "output_type": "stream",
     "text": [
      "All clients closed\n"
     ]
    }
   ],
   "source": [
    "# Close all clients\n",
    "bob_client.close()\n",
    "try:\n",
    "    alice_client.close()\n",
    "except NameError:\n",
    "    pass\n",
    "\n",
    "print(\"All clients closed\")"
   ]
  },
  {
   "cell_type": "markdown",
   "id": "conclusion-section",
   "metadata": {},
   "source": [
    "## 10. Conclusion\n",
    "\n",
    "In this tutorial, we've demonstrated the Stateful Syft Chat library, which adds SQLite persistence to the basic chat functionality. The key advantages include:\n",
    "\n",
    "1. **Persistent Storage** - Messages are stored in a SQLite database\n",
    "2. **Session Independence** - Message history is preserved across restarts\n",
    "3. **SQL-Powered Filtering** - More powerful query capabilities for history\n",
    "4. **Data Consistency** - Message records are maintained reliably\n",
    "5. **Scalability** - Better handling of larger message histories\n",
    "\n",
    "The stateful version maintains all the features of the basic version while adding these important capabilities.\n",
    "\n",
    "### Next Steps\n",
    "\n",
    "- Build applications on top of the stateful chat system\n",
    "- Implement additional database features like message archiving\n",
    "- Create data analysis tools for chat history\n",
    "- Extend the database schema with additional metadata fields\n",
    "- Implement encrypted storage for sensitive messages"
   ]
  },
  {
   "cell_type": "code",
   "execution_count": null,
   "id": "d153c708-0367-4299-894e-7409efc04063",
   "metadata": {},
   "outputs": [],
   "source": []
  }
 ],
 "metadata": {
  "kernelspec": {
   "display_name": "Python 3 (ipykernel)",
   "language": "python",
   "name": "python3"
  },
  "language_info": {
   "codemirror_mode": {
    "name": "ipython",
    "version": 3
   },
   "file_extension": ".py",
   "mimetype": "text/x-python",
   "name": "python",
   "nbconvert_exporter": "python",
   "pygments_lexer": "ipython3",
   "version": "3.13.1"
  }
 },
 "nbformat": 4,
 "nbformat_minor": 5
}
