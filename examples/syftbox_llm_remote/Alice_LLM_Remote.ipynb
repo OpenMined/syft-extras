{
 "cells": [
  {
   "cell_type": "markdown",
   "id": "b3668cb1-6264-429f-9b37-da94a545ff0b",
   "metadata": {},
   "source": [
    "# Alice's LLM Remote Example\n",
    "\n",
    "This notebook demonstrates how Alice can set up her data, grant permissions to Bob, and use the LLM remote functionality."
   ]
  },
  {
   "cell_type": "code",
   "execution_count": 1,
   "id": "c800dda2-94c9-4e12-bd26-d08b8c822712",
   "metadata": {},
   "outputs": [],
   "source": [
    "from __future__ import annotations\n",
    "\n",
    "import os\n",
    "import time\n",
    "from pathlib import Path\n",
    "from loguru import logger\n",
    "\n",
    "# Import the client module\n",
    "from llama_remote import client\n",
    "\n",
    "# Helper function to create sample files\n",
    "def create_sample_file(file_path, content):\n",
    "    \"\"\"Create a sample file with the given content.\"\"\"\n",
    "    os.makedirs(os.path.dirname(file_path), exist_ok=True)\n",
    "    with open(file_path, 'w') as f:\n",
    "        f.write(content)\n",
    "    print(f\"Created sample file: {file_path}\")"
   ]
  },
  {
   "cell_type": "code",
   "execution_count": 2,
   "id": "8401af9d-dd04-461e-b455-c320cf3fa1ad",
   "metadata": {},
   "outputs": [
    {
     "name": "stdout",
     "output_type": "stream",
     "text": [
      "Connected as: alice@openmined.org\n"
     ]
    }
   ],
   "source": [
    "# Creating Alice's client\n",
    "alice_client = client(\"~/.syft_alice_config.json\")\n",
    "print(f\"Connected as: {alice_client.client.email}\")"
   ]
  },
  {
   "cell_type": "markdown",
   "id": "3da28d25-914a-42df-b536-52b79612c585",
   "metadata": {},
   "source": [
    "## Create Alice's Private Medical Data"
   ]
  },
  {
   "cell_type": "code",
   "execution_count": 3,
   "id": "8ae952f8-87f6-4fef-b776-f22405d53d0b",
   "metadata": {},
   "outputs": [
    {
     "name": "stdout",
     "output_type": "stream",
     "text": [
      "Created sample file: /Users/atrask/Desktop/SyftBoxAlice/datasites/alice@openmined.org/private_data/patient_data.csv\n",
      "Created sample file: /Users/atrask/Desktop/SyftBoxAlice/datasites/alice@openmined.org/private_data/research_notes.txt\n"
     ]
    }
   ],
   "source": [
    "# Alice's private data - medical research\n",
    "alice_data_dir = str(alice_client.box.client.datasite_path) + \"/private_data\"\n",
    "alice_files = {\n",
    "    f\"{alice_data_dir}/patient_data.csv\": \"\"\"\n",
    "patient_id,age,gender,condition,treatment,outcome\n",
    "P001,45,F,Hypertension,Medication A,Improved\n",
    "P002,67,M,Diabetes,Medication B,Stable\n",
    "P003,33,F,Anxiety,Therapy C,Significantly Improved\n",
    "P004,52,M,Arthritis,Medication D,No Change\n",
    "P005,29,F,Depression,Therapy E,Improved\n",
    "\"\"\",\n",
    "    f\"{alice_data_dir}/research_notes.txt\": \"\"\"\n",
    "CONFIDENTIAL RESEARCH NOTES\n",
    "Date: 2025-03-01\n",
    "\n",
    "Our preliminary findings suggest that the new treatment protocol shows a 35% improvement \n",
    "in patient outcomes compared to the standard approach. Side effects were minimal \n",
    "and reported in only 7% of participants.\n",
    "\n",
    "Key observations:\n",
    "- Treatment efficacy increases with consistent administration\n",
    "- Age group 40-55 showed the most significant improvement\n",
    "- No correlation found between gender and treatment response\n",
    "\n",
    "Next steps: Expand trial to 200 additional patients and collect 6-month follow-up data.\n",
    "\"\"\"\n",
    "}\n",
    "\n",
    "# Create the sample files\n",
    "for file_path, content in alice_files.items():\n",
    "    create_sample_file(file_path, content)"
   ]
  },
  {
   "cell_type": "markdown",
   "id": "ea8c7bcf-7c6a-4a8b-b7d7-e8d3b5da6a95",
   "metadata": {},
   "source": [
    "## Setting File Permissions for Bob"
   ]
  },
  {
   "cell_type": "code",
   "execution_count": 4,
   "id": "d82f51f7-4d07-4e36-837d-85f107c7c5ff",
   "metadata": {},
   "outputs": [
    {
     "name": "stdout",
     "output_type": "stream",
     "text": [
      "Set Bob's permissions on Alice's server: True\n",
      "Bob can access: ['/Users/atrask/Desktop/SyftBoxAlice/datasites/alice@openmined.org/private_data/patient_data.csv']\n"
     ]
    }
   ],
   "source": [
    "# Set permissions for Bob to access Alice's patient data\n",
    "bob_permissions = alice_client.set_file_permissions(\n",
    "    to_email=alice_client.client.email,  # Alice setting permissions on her own server\n",
    "    user_email=\"bob@openmined.org\",  # For Bob\n",
    "    file_paths=[f\"{alice_data_dir}/patient_data.csv\"],  # Only allow access to this file\n",
    "    operation=\"set\"\n",
    ")\n",
    "\n",
    "print(f\"Set Bob's permissions on Alice's server: {bob_permissions.success}\")\n",
    "print(f\"Bob can access: {bob_permissions.allowed_files}\")"
   ]
  },
  {
   "cell_type": "markdown",
   "id": "243a45be-79ab-4b4d-a334-c7a88f1fb6b4",
   "metadata": {},
   "source": [
    "## Testing Alice's Client with Own Data"
   ]
  },
  {
   "cell_type": "code",
   "execution_count": 5,
   "id": "ef330d99-4eff-45ad-9c66-0b255928800b",
   "metadata": {},
   "outputs": [
    {
     "name": "stdout",
     "output_type": "stream",
     "text": [
      "\n",
      "Response from Alice's LLM on her own data:\n",
      "----------------------------------------\n",
      "Error: User alice@openmined.org does not have permission to access file: /Users/atrask/Desktop/SyftBoxAlice/datasites/alice@openmined.org/private_data/patient_data.csv\n",
      "----------------------------------------\n"
     ]
    }
   ],
   "source": [
    "prompt = \"Analyze the patient data in the file. What conditions are being treated? What's the age distribution?\"\n",
    "\n",
    "response = alice_client.generate(\n",
    "    to_email=alice_client.client.email,  # Alice querying her own data\n",
    "    model='llama3',\n",
    "    prompt=prompt,\n",
    "    system=\"You are a healthcare research assistant. Provide analytical insights based on the data.\",\n",
    "    temperature=0.7,\n",
    "    files=[f\"{alice_data_dir}/patient_data.csv\"]  # Using Alice's file\n",
    ")\n",
    "\n",
    "print(f\"\\nResponse from Alice's LLM on her own data:\\n{'-'*40}\\n{response.response}\\n{'-'*40}\")"
   ]
  },
  {
   "cell_type": "code",
   "execution_count": null,
   "id": "236793e9-2a7b-4fe9-afc3-6cc32238c300",
   "metadata": {},
   "outputs": [],
   "source": []
  }
 ],
 "metadata": {
  "kernelspec": {
   "display_name": "Python 3 (ipykernel)",
   "language": "python",
   "name": "python3"
  },
  "language_info": {
   "codemirror_mode": {
    "name": "ipython",
    "version": 3
   },
   "file_extension": ".py",
   "mimetype": "text/x-python",
   "name": "python",
   "nbconvert_exporter": "python",
   "pygments_lexer": "ipython3",
   "version": "3.13.1"
  }
 },
 "nbformat": 4,
 "nbformat_minor": 5
}
