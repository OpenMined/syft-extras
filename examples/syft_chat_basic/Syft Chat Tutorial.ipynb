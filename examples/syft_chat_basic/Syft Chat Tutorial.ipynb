{
 "cells": [
  {
   "cell_type": "markdown",
   "id": "intro-cell",
   "metadata": {},
   "source": [
    "# Syft Chat Tutorial\n",
    "\n",
    "## Introduction\n",
    "\n",
    "This tutorial demonstrates how to use the Syft Chat library to facilitate asynchronous conversations between Syft users. The library provides a Python API for programmatic messaging between Syft datasites.\n",
    "\n",
    "With Syft Chat, you can:\n",
    "- Send messages to other Syft users\n",
    "- Receive messages from other users\n",
    "- View message history\n",
    "- Track conversations with threading\n",
    "- Register custom message listeners for integration with your applications\n",
    "\n",
    "### How It Works\n",
    "\n",
    "The library combines client and server components:\n",
    "- **Server**: Runs in a background thread to listen for incoming messages\n",
    "- **Client**: Sends messages to other users and processes responses\n",
    "\n",
    "Messages are exchanged asynchronously through Syft's secure RPC mechanism."
   ]
  },
  {
   "cell_type": "markdown",
   "id": "setup-header",
   "metadata": {},
   "source": [
    "## 1. Setup\n",
    "\n",
    "First, let's import the Syft Chat library:"
   ]
  },
  {
   "cell_type": "code",
   "execution_count": 16,
   "id": "import-cell",
   "metadata": {},
   "outputs": [],
   "source": [
    "import syft_chat\n",
    "from datetime import datetime, timezone, timedelta"
   ]
  },
  {
   "cell_type": "markdown",
   "id": "setup-info",
   "metadata": {},
   "source": [
    "### Environment Prerequisites\n",
    "\n",
    "This notebook assumes you have set up Syft with at least one datasite. For a complete testing environment, you'll want to have two or more SyftBox clients running with different accounts.\n",
    "\n",
    "For example:\n",
    "- Alice's SyftBox on port 8082\n",
    "- Bob's SyftBox on port 8081\n",
    "\n",
    "You'll need to specify the correct config paths for your environment in the examples below."
   ]
  },
  {
   "cell_type": "markdown",
   "id": "client-section",
   "metadata": {},
   "source": [
    "## 2. Creating Chat Clients\n",
    "\n",
    "Let's create clients connected to our SyftBox instances. Each client will start a chat server in the background."
   ]
  },
  {
   "cell_type": "code",
   "execution_count": 17,
   "id": "create-bob-client",
   "metadata": {},
   "outputs": [
    {
     "name": "stderr",
     "output_type": "stream",
     "text": [
      "\u001b[32m2025-03-08 19:51:21.374\u001b[0m | \u001b[1mINFO    \u001b[0m | \u001b[36msyft_chat\u001b[0m:\u001b[36m__init__\u001b[0m:\u001b[36m91\u001b[0m - \u001b[1m🔑 Connected as: bob@openmined.org\u001b[0m\n",
      "\u001b[32m2025-03-08 19:51:21.374\u001b[0m | \u001b[1mINFO    \u001b[0m | \u001b[36msyft_chat\u001b[0m:\u001b[36m_run_server\u001b[0m:\u001b[36m228\u001b[0m - \u001b[1m🚀 SERVER: Running syft_chat server as bob@openmined.org\u001b[0m\n",
      "\u001b[32m2025-03-08 19:51:21.374\u001b[0m | \u001b[1mINFO    \u001b[0m | \u001b[36msyft_chat\u001b[0m:\u001b[36m_start_server\u001b[0m:\u001b[36m223\u001b[0m - \u001b[1m🔔 Server started for bob@openmined.org\u001b[0m\n",
      "\u001b[32m2025-03-08 19:51:21.375\u001b[0m | \u001b[1mINFO    \u001b[0m | \u001b[36msyft_event.server2\u001b[0m:\u001b[36mregister_rpc\u001b[0m:\u001b[36m140\u001b[0m - \u001b[1mRegister RPC: /message\u001b[0m\n",
      "\u001b[32m2025-03-08 19:51:21.376\u001b[0m | \u001b[1mINFO    \u001b[0m | \u001b[36msyft_event.server2\u001b[0m:\u001b[36mregister_rpc\u001b[0m:\u001b[36m140\u001b[0m - \u001b[1mRegister RPC: /history\u001b[0m\n",
      "\u001b[32m2025-03-08 19:51:21.376\u001b[0m | \u001b[1mINFO    \u001b[0m | \u001b[36msyft_chat\u001b[0m:\u001b[36m_run_server\u001b[0m:\u001b[36m274\u001b[0m - \u001b[1m📡 SERVER: Listening for requests at /Users/atrask/Desktop/SyftBoxBob/datasites/bob@openmined.org/api_data/syft_chat/rpc\u001b[0m\n",
      "\u001b[32m2025-03-08 19:51:21.377\u001b[0m | \u001b[1mINFO    \u001b[0m | \u001b[36msyft_event.server2\u001b[0m:\u001b[36mpublish_schema\u001b[0m:\u001b[36m96\u001b[0m - \u001b[1mPublished schema to /Users/atrask/Desktop/SyftBoxBob/datasites/bob@openmined.org/api_data/syft_chat/rpc/rpc.schema.json\u001b[0m\n",
      "\u001b[32m2025-03-08 19:51:40.388\u001b[0m | \u001b[34m\u001b[1mDEBUG   \u001b[0m | \u001b[36msyft_event.server2\u001b[0m:\u001b[36mprocess_pending_requests\u001b[0m:\u001b[36m105\u001b[0m - \u001b[34m\u001b[1mProcessing pending request cd3a5af0-d830-4273-8477-5025e07c1f4a.request\u001b[0m\n",
      "\u001b[32m2025-03-08 19:51:40.390\u001b[0m | \u001b[1mINFO    \u001b[0m | \u001b[36msyft_chat\u001b[0m:\u001b[36m_handle_message\u001b[0m:\u001b[36m303\u001b[0m - \u001b[1m📨 RECEIVED: Message from alice@openmined.org: Hi Bob! I received your message. How are you?...\u001b[0m\n"
     ]
    },
    {
     "name": "stdout",
     "output_type": "stream",
     "text": [
      "\n",
      "🔔 NEW MESSAGE from alice@openmined.org: Hi Bob! I received your message. How are you?\n"
     ]
    },
    {
     "name": "stderr",
     "output_type": "stream",
     "text": [
      "\u001b[32m2025-03-08 19:52:56.770\u001b[0m | \u001b[34m\u001b[1mDEBUG   \u001b[0m | \u001b[36msyft_event.server2\u001b[0m:\u001b[36mprocess_pending_requests\u001b[0m:\u001b[36m105\u001b[0m - \u001b[34m\u001b[1mProcessing pending request d24ea6ae-7ef5-467c-a63c-7ad8a648d483.request\u001b[0m\n",
      "\u001b[32m2025-03-08 19:52:56.771\u001b[0m | \u001b[1mINFO    \u001b[0m | \u001b[36msyft_chat\u001b[0m:\u001b[36m_handle_message\u001b[0m:\u001b[36m303\u001b[0m - \u001b[1m📨 RECEIVED: Message from alice@openmined.org: I'm ready to discuss Project Alpha. What aspects s...\u001b[0m\n"
     ]
    },
    {
     "name": "stdout",
     "output_type": "stream",
     "text": [
      "\n",
      "🔔 NEW MESSAGE from alice@openmined.org: I'm ready to discuss Project Alpha. What aspects should we focus on first?\n"
     ]
    },
    {
     "name": "stderr",
     "output_type": "stream",
     "text": [
      "\u001b[32m2025-03-08 19:53:05.323\u001b[0m | \u001b[34m\u001b[1mDEBUG   \u001b[0m | \u001b[36msyft_event.server2\u001b[0m:\u001b[36mprocess_pending_requests\u001b[0m:\u001b[36m105\u001b[0m - \u001b[34m\u001b[1mProcessing pending request d24ea6ae-7ef5-467c-a63c-7ad8a648d483.request\u001b[0m\n",
      "\u001b[32m2025-03-08 19:53:05.323\u001b[0m | \u001b[1mINFO    \u001b[0m | \u001b[36msyft_chat\u001b[0m:\u001b[36m_handle_message\u001b[0m:\u001b[36m303\u001b[0m - \u001b[1m📨 RECEIVED: Message from alice@openmined.org: I'm ready to discuss Project Alpha. What aspects s...\u001b[0m\n"
     ]
    },
    {
     "name": "stdout",
     "output_type": "stream",
     "text": [
      "[00:52:52] FROM: alice@openmined.org (Thread: project-alpha) (Reply to: cd1db196-d0ee-4531-b1fc-2b8899bc97c4)\n",
      "MESSAGE: I'm ready to discuss Project Alpha. What aspects should we focus on first?\n",
      "--------------------------------------------------\n"
     ]
    },
    {
     "name": "stderr",
     "output_type": "stream",
     "text": [
      "\u001b[32m2025-03-08 19:53:15.893\u001b[0m | \u001b[34m\u001b[1mDEBUG   \u001b[0m | \u001b[36msyft_event.server2\u001b[0m:\u001b[36mprocess_pending_requests\u001b[0m:\u001b[36m105\u001b[0m - \u001b[34m\u001b[1mProcessing pending request 29fdb0ab-4921-4923-ba69-0cd252053b2a.request\u001b[0m\n",
      "\u001b[32m2025-03-08 19:53:15.894\u001b[0m | \u001b[1mINFO    \u001b[0m | \u001b[36msyft_chat\u001b[0m:\u001b[36m_handle_message\u001b[0m:\u001b[36m303\u001b[0m - \u001b[1m📨 RECEIVED: Message from alice@openmined.org: Here's an example of a message that will trigger t...\u001b[0m\n"
     ]
    },
    {
     "name": "stdout",
     "output_type": "stream",
     "text": [
      "[00:53:04] FROM: alice@openmined.org (Thread: project-alpha)\n",
      "MESSAGE: Here's an example of a message that will trigger the advanced processor.\n",
      "--------------------------------------------------\n"
     ]
    },
    {
     "name": "stderr",
     "output_type": "stream",
     "text": [
      "\u001b[32m2025-03-08 19:53:40.014\u001b[0m | \u001b[34m\u001b[1mDEBUG   \u001b[0m | \u001b[36msyft_event.server2\u001b[0m:\u001b[36mstop\u001b[0m:\u001b[36m123\u001b[0m - \u001b[34m\u001b[1mStopping event loop\u001b[0m\n"
     ]
    }
   ],
   "source": [
    "# Create a client for Bob's account\n",
    "bob_client = syft_chat.client(\"~/.syft_bob_config.json\")"
   ]
  },
  {
   "cell_type": "code",
   "execution_count": 18,
   "id": "create-alice-client",
   "metadata": {},
   "outputs": [
    {
     "name": "stderr",
     "output_type": "stream",
     "text": [
      "\u001b[32m2025-03-08 19:51:22.265\u001b[0m | \u001b[1mINFO    \u001b[0m | \u001b[36msyft_chat\u001b[0m:\u001b[36m__init__\u001b[0m:\u001b[36m91\u001b[0m - \u001b[1m🔑 Connected as: alice@openmined.org\u001b[0m\n",
      "\u001b[32m2025-03-08 19:51:22.266\u001b[0m | \u001b[1mINFO    \u001b[0m | \u001b[36msyft_chat\u001b[0m:\u001b[36m_run_server\u001b[0m:\u001b[36m228\u001b[0m - \u001b[1m🚀 SERVER: Running syft_chat server as alice@openmined.org\u001b[0m\n",
      "\u001b[32m2025-03-08 19:51:22.266\u001b[0m | \u001b[1mINFO    \u001b[0m | \u001b[36msyft_chat\u001b[0m:\u001b[36m_start_server\u001b[0m:\u001b[36m223\u001b[0m - \u001b[1m🔔 Server started for alice@openmined.org\u001b[0m\n",
      "\u001b[32m2025-03-08 19:51:22.269\u001b[0m | \u001b[1mINFO    \u001b[0m | \u001b[36msyft_event.server2\u001b[0m:\u001b[36mregister_rpc\u001b[0m:\u001b[36m140\u001b[0m - \u001b[1mRegister RPC: /message\u001b[0m\n",
      "\u001b[32m2025-03-08 19:51:22.271\u001b[0m | \u001b[1mINFO    \u001b[0m | \u001b[36msyft_event.server2\u001b[0m:\u001b[36mregister_rpc\u001b[0m:\u001b[36m140\u001b[0m - \u001b[1mRegister RPC: /history\u001b[0m\n",
      "\u001b[32m2025-03-08 19:51:22.272\u001b[0m | \u001b[1mINFO    \u001b[0m | \u001b[36msyft_chat\u001b[0m:\u001b[36m_run_server\u001b[0m:\u001b[36m274\u001b[0m - \u001b[1m📡 SERVER: Listening for requests at /Users/atrask/Desktop/SyftBoxAlice/datasites/alice@openmined.org/api_data/syft_chat/rpc\u001b[0m\n",
      "\u001b[32m2025-03-08 19:51:22.274\u001b[0m | \u001b[1mINFO    \u001b[0m | \u001b[36msyft_event.server2\u001b[0m:\u001b[36mpublish_schema\u001b[0m:\u001b[36m96\u001b[0m - \u001b[1mPublished schema to /Users/atrask/Desktop/SyftBoxAlice/datasites/alice@openmined.org/api_data/syft_chat/rpc/rpc.schema.json\u001b[0m\n",
      "\u001b[32m2025-03-08 19:51:22.276\u001b[0m | \u001b[34m\u001b[1mDEBUG   \u001b[0m | \u001b[36msyft_event.server2\u001b[0m:\u001b[36mprocess_pending_requests\u001b[0m:\u001b[36m105\u001b[0m - \u001b[34m\u001b[1mProcessing pending request 5697294d-5177-47bb-9d4e-cf85fb306894.request\u001b[0m\n",
      "\u001b[32m2025-03-08 19:51:22.277\u001b[0m | \u001b[34m\u001b[1mDEBUG   \u001b[0m | \u001b[36msyft_event.server2\u001b[0m:\u001b[36m__handle_rpc\u001b[0m:\u001b[36m191\u001b[0m - \u001b[34m\u001b[1mRequest expired: id=UUID('5697294d-5177-47bb-9d4e-cf85fb306894') sender='bob@openmined.org' url='syft://alice@openmined.org/api_data/syft_chat/rpc/message' body=b'{\"message\":{\"msg_id\":\"104780b0-7723-466e-ab48-597002d1d776\",\"sender\":\"bob@openmined.org\",\"content\":\"Let\\'s discuss Project Alpha in this thread.\",\"timestamp\":\"2025-03-09T00:44:30.004034Z\",\"thread_id\":\"project-alpha\",\"reply_to\":null,\"metadata\":{}}}' headers={} created=datetime.datetime(2025, 3, 9, 0, 44, 30, 6530, tzinfo=TzInfo(UTC)) expires=datetime.datetime(2025, 3, 9, 0, 49, 30, 6197, tzinfo=TzInfo(UTC)) method=<SyftMethod.GET: 'GET'>\u001b[0m\n",
      "\u001b[32m2025-03-08 19:51:22.279\u001b[0m | \u001b[34m\u001b[1mDEBUG   \u001b[0m | \u001b[36msyft_event.server2\u001b[0m:\u001b[36mprocess_pending_requests\u001b[0m:\u001b[36m105\u001b[0m - \u001b[34m\u001b[1mProcessing pending request 2b6ef3e3-9e11-4b4c-9716-c038c5c45f5e.request\u001b[0m\n",
      "\u001b[32m2025-03-08 19:51:22.281\u001b[0m | \u001b[34m\u001b[1mDEBUG   \u001b[0m | \u001b[36msyft_event.server2\u001b[0m:\u001b[36m__handle_rpc\u001b[0m:\u001b[36m191\u001b[0m - \u001b[34m\u001b[1mRequest expired: id=UUID('2b6ef3e3-9e11-4b4c-9716-c038c5c45f5e') sender='bob@openmined.org' url='syft://alice@openmined.org/api_data/syft_chat/rpc/history' body=b'{\"limit\":50,\"thread_id\":null,\"since\":null}' headers={} created=datetime.datetime(2025, 3, 9, 0, 45, 0, 115399, tzinfo=TzInfo(UTC)) expires=datetime.datetime(2025, 3, 9, 0, 50, 0, 115363, tzinfo=TzInfo(UTC)) method=<SyftMethod.GET: 'GET'>\u001b[0m\n",
      "\u001b[32m2025-03-08 19:51:38.096\u001b[0m | \u001b[34m\u001b[1mDEBUG   \u001b[0m | \u001b[36msyft_event.server2\u001b[0m:\u001b[36mprocess_pending_requests\u001b[0m:\u001b[36m105\u001b[0m - \u001b[34m\u001b[1mProcessing pending request 80e96a19-35ce-45dc-93b0-009a4994be3b.request\u001b[0m\n",
      "\u001b[32m2025-03-08 19:51:38.097\u001b[0m | \u001b[1mINFO    \u001b[0m | \u001b[36msyft_chat\u001b[0m:\u001b[36m_handle_message\u001b[0m:\u001b[36m303\u001b[0m - \u001b[1m📨 RECEIVED: Message from bob@openmined.org: Hello Alice! This is a test message from Bob....\u001b[0m\n"
     ]
    },
    {
     "name": "stdout",
     "output_type": "stream",
     "text": [
      "\n",
      "🔔 NEW MESSAGE from bob@openmined.org: Hello Alice! This is a test message from Bob.\n"
     ]
    },
    {
     "name": "stderr",
     "output_type": "stream",
     "text": [
      "\u001b[32m2025-03-08 19:52:15.170\u001b[0m | \u001b[34m\u001b[1mDEBUG   \u001b[0m | \u001b[36msyft_event.server2\u001b[0m:\u001b[36mprocess_pending_requests\u001b[0m:\u001b[36m105\u001b[0m - \u001b[34m\u001b[1mProcessing pending request 2b6ef3e3-9e11-4b4c-9716-c038c5c45f5e.request\u001b[0m\n",
      "\u001b[32m2025-03-08 19:52:15.171\u001b[0m | \u001b[34m\u001b[1mDEBUG   \u001b[0m | \u001b[36msyft_event.server2\u001b[0m:\u001b[36m__handle_rpc\u001b[0m:\u001b[36m191\u001b[0m - \u001b[34m\u001b[1mRequest expired: id=UUID('2b6ef3e3-9e11-4b4c-9716-c038c5c45f5e') sender='bob@openmined.org' url='syft://alice@openmined.org/api_data/syft_chat/rpc/history' body=b'{\"limit\":50,\"thread_id\":null,\"since\":null}' headers={} created=datetime.datetime(2025, 3, 9, 0, 45, 0, 115399, tzinfo=TzInfo(UTC)) expires=datetime.datetime(2025, 3, 9, 0, 50, 0, 115363, tzinfo=TzInfo(UTC)) method=<SyftMethod.GET: 'GET'>\u001b[0m\n",
      "\u001b[32m2025-03-08 19:52:48.306\u001b[0m | \u001b[34m\u001b[1mDEBUG   \u001b[0m | \u001b[36msyft_event.server2\u001b[0m:\u001b[36mprocess_pending_requests\u001b[0m:\u001b[36m105\u001b[0m - \u001b[34m\u001b[1mProcessing pending request 2ffc1db3-0601-4082-8555-440fbc9a6bbf.request\u001b[0m\n",
      "\u001b[32m2025-03-08 19:52:48.308\u001b[0m | \u001b[1mINFO    \u001b[0m | \u001b[36msyft_chat\u001b[0m:\u001b[36m_handle_message\u001b[0m:\u001b[36m303\u001b[0m - \u001b[1m📨 RECEIVED: Message from bob@openmined.org: Let's discuss Project Alpha in this thread....\u001b[0m\n"
     ]
    },
    {
     "name": "stdout",
     "output_type": "stream",
     "text": [
      "\n",
      "🔔 NEW MESSAGE from bob@openmined.org: Let's discuss Project Alpha in this thread.\n"
     ]
    },
    {
     "name": "stderr",
     "output_type": "stream",
     "text": [
      "\u001b[32m2025-03-08 19:52:56.581\u001b[0m | \u001b[34m\u001b[1mDEBUG   \u001b[0m | \u001b[36msyft_event.server2\u001b[0m:\u001b[36mprocess_pending_requests\u001b[0m:\u001b[36m105\u001b[0m - \u001b[34m\u001b[1mProcessing pending request 2ffc1db3-0601-4082-8555-440fbc9a6bbf.request\u001b[0m\n",
      "\u001b[32m2025-03-08 19:52:56.582\u001b[0m | \u001b[1mINFO    \u001b[0m | \u001b[36msyft_chat\u001b[0m:\u001b[36m_handle_message\u001b[0m:\u001b[36m303\u001b[0m - \u001b[1m📨 RECEIVED: Message from bob@openmined.org: Let's discuss Project Alpha in this thread....\u001b[0m\n"
     ]
    },
    {
     "name": "stdout",
     "output_type": "stream",
     "text": [
      "\n",
      "🔔 NEW MESSAGE from bob@openmined.org: Let's discuss Project Alpha in this thread.\n"
     ]
    },
    {
     "name": "stderr",
     "output_type": "stream",
     "text": [
      "\u001b[32m2025-03-08 19:53:40.088\u001b[0m | \u001b[34m\u001b[1mDEBUG   \u001b[0m | \u001b[36msyft_event.server2\u001b[0m:\u001b[36mstop\u001b[0m:\u001b[36m123\u001b[0m - \u001b[34m\u001b[1mStopping event loop\u001b[0m\n"
     ]
    }
   ],
   "source": [
    "# Create a client for Alice's account \n",
    "# Comment this out if you only have one Syft instance available\n",
    "alice_client = syft_chat.client(\"~/.syft_alice_config.json\")"
   ]
  },
  {
   "cell_type": "markdown",
   "id": "discover-users-section",
   "metadata": {},
   "source": [
    "## 3. Discovering Available Chat Users\n",
    "\n",
    "Let's see which users have the chat service running:"
   ]
  },
  {
   "cell_type": "code",
   "execution_count": 19,
   "id": "list-users",
   "metadata": {},
   "outputs": [
    {
     "name": "stdout",
     "output_type": "stream",
     "text": [
      "Total datasites: 140\n",
      "Available chat users: 2\n",
      "Chat-enabled users:\n",
      "  - alice@openmined.org\n",
      "  - bob@openmined.org\n"
     ]
    }
   ],
   "source": [
    "# Get all available datasites\n",
    "all_users = bob_client.list_all_users()\n",
    "print(f\"Total datasites: {len(all_users)}\")\n",
    "\n",
    "# Get only users with the chat service running\n",
    "chat_users = bob_client.list_available_users()\n",
    "print(f\"Available chat users: {len(chat_users)}\")\n",
    "print(\"Chat-enabled users:\")\n",
    "for user in chat_users:\n",
    "    print(f\"  - {user}\")"
   ]
  },
  {
   "cell_type": "markdown",
   "id": "sending-messages-section",
   "metadata": {},
   "source": [
    "## 4. Sending and Receiving Messages\n",
    "\n",
    "The core functionality of Syft Chat is sending and receiving messages between users."
   ]
  },
  {
   "cell_type": "markdown",
   "id": "sending-messages-header",
   "metadata": {},
   "source": [
    "### 4.1 Sending Messages\n",
    "\n",
    "Let's send a message from Bob to Alice:"
   ]
  },
  {
   "cell_type": "code",
   "execution_count": 20,
   "id": "send-from-bob",
   "metadata": {},
   "outputs": [
    {
     "name": "stderr",
     "output_type": "stream",
     "text": [
      "\u001b[32m2025-03-08 19:51:25.782\u001b[0m | \u001b[1mINFO    \u001b[0m | \u001b[36msyft_chat\u001b[0m:\u001b[36msend_message\u001b[0m:\u001b[36m378\u001b[0m - \u001b[1m📤 SENDING: Message to alice@openmined.org\u001b[0m\n",
      "\u001b[32m2025-03-08 19:51:29.990\u001b[0m | \u001b[34m\u001b[1mDEBUG   \u001b[0m | \u001b[36msyft_event.handlers\u001b[0m:\u001b[36mon_any_event\u001b[0m:\u001b[36m31\u001b[0m - \u001b[34m\u001b[1mFSEvent - created - /Users/atrask/Desktop/SyftBoxAlice/datasites/alice@openmined.org/api_data/syft_chat/rpc/message/80e96a19-35ce-45dc-93b0-009a4994be3b.request\u001b[0m\n",
      "\u001b[32m2025-03-08 19:51:29.992\u001b[0m | \u001b[1mINFO    \u001b[0m | \u001b[36msyft_chat\u001b[0m:\u001b[36m_handle_message\u001b[0m:\u001b[36m303\u001b[0m - \u001b[1m📨 RECEIVED: Message from bob@openmined.org: Hello Alice! This is a test message from Bob....\u001b[0m\n",
      "\u001b[32m2025-03-08 19:51:34.008\u001b[0m | \u001b[1mINFO    \u001b[0m | \u001b[36msyft_chat\u001b[0m:\u001b[36msend_message\u001b[0m:\u001b[36m394\u001b[0m - \u001b[1m📥 RECEIVED: Delivery confirmation from alice@openmined.org. Time: 8.23s\u001b[0m\n"
     ]
    },
    {
     "name": "stdout",
     "output_type": "stream",
     "text": [
      "Message sent with ID: 774af33d-d1ba-45e0-9530-2fcdcd685885\n",
      "Status: delivered\n"
     ]
    }
   ],
   "source": [
    "# If Alice's client is in the available users list, send a message to her\n",
    "if 'alice@openmined.org' in chat_users:\n",
    "    response = bob_client.send_message(\n",
    "        'alice@openmined.org', \n",
    "        \"Hello Alice! This is a test message from Bob.\"\n",
    "    )\n",
    "    print(f\"Message sent with ID: {response.message_id}\")\n",
    "    print(f\"Status: {response.status}\")\n",
    "else:\n",
    "    # Find the first available user\n",
    "    if chat_users:\n",
    "        target = chat_users[0]\n",
    "        print(f\"Alice not found, messaging {target} instead\")\n",
    "        response = bob_client.send_message(target, \"Hello! This is a test message.\")\n",
    "        print(f\"Message sent with ID: {response.message_id}\")\n",
    "    else:\n",
    "        print(\"No chat users found to message\")"
   ]
  },
  {
   "cell_type": "markdown",
   "id": "receiving-messages-header",
   "metadata": {},
   "source": [
    "### 4.2 Receiving Messages with Listeners\n",
    "\n",
    "To actively process incoming messages, we can register message listeners. These are functions that will be called whenever a new message is received."
   ]
  },
  {
   "cell_type": "code",
   "execution_count": 21,
   "id": "message-listener",
   "metadata": {},
   "outputs": [],
   "source": [
    "# Define a custom message listener function\n",
    "def print_message(message):\n",
    "    print(f\"\\n🔔 NEW MESSAGE from {message.sender}: {message.content}\")\n",
    "\n",
    "# Register the listener with Bob's client\n",
    "bob_client.add_message_listener(print_message)\n",
    "\n",
    "# Also register with Alice's client if available\n",
    "try:\n",
    "    alice_client.add_message_listener(print_message)\n",
    "except NameError:\n",
    "    pass"
   ]
  },
  {
   "cell_type": "markdown",
   "id": "bidirectional-chat-section",
   "metadata": {},
   "source": [
    "### 4.3 Bidirectional Chat\n",
    "\n",
    "If we have both Alice and Bob's clients running, we can demonstrate bidirectional chat:"
   ]
  },
  {
   "cell_type": "code",
   "execution_count": 22,
   "id": "alice-response",
   "metadata": {},
   "outputs": [
    {
     "name": "stderr",
     "output_type": "stream",
     "text": [
      "\u001b[32m2025-03-08 19:51:36.147\u001b[0m | \u001b[1mINFO    \u001b[0m | \u001b[36msyft_chat\u001b[0m:\u001b[36msend_message\u001b[0m:\u001b[36m378\u001b[0m - \u001b[1m📤 SENDING: Message to bob@openmined.org\u001b[0m\n",
      "\u001b[32m2025-03-08 19:51:40.389\u001b[0m | \u001b[34m\u001b[1mDEBUG   \u001b[0m | \u001b[36msyft_event.handlers\u001b[0m:\u001b[36mon_any_event\u001b[0m:\u001b[36m31\u001b[0m - \u001b[34m\u001b[1mFSEvent - created - /Users/atrask/Desktop/SyftBoxBob/datasites/bob@openmined.org/api_data/syft_chat/rpc/message/cd3a5af0-d830-4273-8477-5025e07c1f4a.request\u001b[0m\n",
      "\u001b[32m2025-03-08 19:51:40.391\u001b[0m | \u001b[1mINFO    \u001b[0m | \u001b[36msyft_chat\u001b[0m:\u001b[36m_handle_message\u001b[0m:\u001b[36m303\u001b[0m - \u001b[1m📨 RECEIVED: Message from alice@openmined.org: Hi Bob! I received your message. How are you?...\u001b[0m\n"
     ]
    },
    {
     "name": "stdout",
     "output_type": "stream",
     "text": [
      "\n",
      "🔔 NEW MESSAGE from alice@openmined.org: Hi Bob! I received your message. How are you?\n"
     ]
    },
    {
     "name": "stderr",
     "output_type": "stream",
     "text": [
      "\u001b[32m2025-03-08 19:51:44.573\u001b[0m | \u001b[1mINFO    \u001b[0m | \u001b[36msyft_chat\u001b[0m:\u001b[36msend_message\u001b[0m:\u001b[36m394\u001b[0m - \u001b[1m📥 RECEIVED: Delivery confirmation from bob@openmined.org. Time: 8.43s\u001b[0m\n"
     ]
    },
    {
     "name": "stdout",
     "output_type": "stream",
     "text": [
      "\n",
      "🔔 NEW MESSAGE from alice@openmined.org: Hi Bob! I received your message. How are you?\n",
      "Message sent from Alice to Bob.\n"
     ]
    }
   ],
   "source": [
    "# Check if we have Alice's client available\n",
    "try:\n",
    "    # Alice responds to Bob\n",
    "    alice_response = alice_client.send_message(\n",
    "        'bob@openmined.org',\n",
    "        \"Hi Bob! I received your message. How are you?\"\n",
    "    )\n",
    "    print(\"Message sent from Alice to Bob.\")\n",
    "except NameError:\n",
    "    print(\"Alice client not available. Cannot demonstrate bidirectional chat.\")"
   ]
  },
  {
   "cell_type": "markdown",
   "id": "chat-history-section",
   "metadata": {},
   "source": [
    "## 5. Working with Chat History\n",
    "\n",
    "Syft Chat keeps track of message history and allows you to retrieve it in various ways."
   ]
  },
  {
   "cell_type": "markdown",
   "id": "local-history-header",
   "metadata": {},
   "source": [
    "### 5.1 Local Chat History\n",
    "\n",
    "Each client keeps a local store of messages it has sent or received:"
   ]
  },
  {
   "cell_type": "code",
   "execution_count": 27,
   "id": "get-bob-history",
   "metadata": {},
   "outputs": [
    {
     "name": "stdout",
     "output_type": "stream",
     "text": [
      "Bob's message history (2 messages):\n",
      "2025-03-09 00:51:25 UTC - bob@openmined.org: Hello Alice! This is a test message from Bob.\n",
      "2025-03-09 00:51:36 UTC - alice@openmined.org: Hi Bob! I received your message. How are you?\n"
     ]
    }
   ],
   "source": [
    "# Get Bob's chat history\n",
    "bob_history = bob_client.get_chat_history()\n",
    "print(f\"Bob's message history ({len(bob_history)} messages):\")\n",
    "for msg in bob_history:\n",
    "    time_str = msg.timestamp.strftime(\"%Y-%m-%d %H:%M:%S %Z\")\n",
    "    print(f\"{time_str} - {msg.sender}: {msg.content}\")"
   ]
  },
  {
   "cell_type": "code",
   "execution_count": 29,
   "id": "filter-history",
   "metadata": {},
   "outputs": [
    {
     "name": "stdout",
     "output_type": "stream",
     "text": [
      "Bob's filtered chat history (1 messages):\n",
      "2025-03-09 00:51:36 UTC - alice@openmined.org: Hi Bob! I received your message. How are you?\n"
     ]
    }
   ],
   "source": [
    "# We can filter history by sender\n",
    "bob_alice_msgs = bob_client.get_chat_history(with_user='alice@openmined.org')\n",
    "print(f\"Bob's filtered chat history ({len(bob_alice_msgs)} messages):\")\n",
    "for msg in bob_alice_msgs:\n",
    "    time_str = msg.timestamp.strftime(\"%Y-%m-%d %H:%M:%S %Z\")\n",
    "    print(f\"{time_str} - {msg.sender}: {msg.content}\")"
   ]
  },
  {
   "cell_type": "markdown",
   "id": "remote-history-header",
   "metadata": {},
   "source": [
    "### 5.2 Remote Chat History\n",
    "\n",
    "You can also request chat history from another user:"
   ]
  },
  {
   "cell_type": "code",
   "execution_count": 30,
   "id": "request-alice-history",
   "metadata": {},
   "outputs": [
    {
     "name": "stderr",
     "output_type": "stream",
     "text": [
      "\u001b[32m2025-03-08 19:52:34.299\u001b[0m | \u001b[1mINFO    \u001b[0m | \u001b[36msyft_chat\u001b[0m:\u001b[36mrequest_history_from_user\u001b[0m:\u001b[36m463\u001b[0m - \u001b[1m📤 REQUESTING: Chat history from alice@openmined.org\u001b[0m\n",
      "\u001b[32m2025-03-08 19:52:37.617\u001b[0m | \u001b[34m\u001b[1mDEBUG   \u001b[0m | \u001b[36msyft_event.handlers\u001b[0m:\u001b[36mon_any_event\u001b[0m:\u001b[36m31\u001b[0m - \u001b[34m\u001b[1mFSEvent - created - /Users/atrask/Desktop/SyftBoxAlice/datasites/alice@openmined.org/api_data/syft_chat/rpc/history/2b6ef3e3-9e11-4b4c-9716-c038c5c45f5e.request\u001b[0m\n",
      "\u001b[32m2025-03-08 19:52:41.664\u001b[0m | \u001b[1mINFO    \u001b[0m | \u001b[36msyft_chat\u001b[0m:\u001b[36mrequest_history_from_user\u001b[0m:\u001b[36m479\u001b[0m - \u001b[1m📥 RECEIVED: History from alice@openmined.org (2 messages). Time: 7.37s\u001b[0m\n"
     ]
    },
    {
     "name": "stdout",
     "output_type": "stream",
     "text": [
      "Retrieved 2 messages from Alice's history:\n",
      "2025-03-09 00:51:25 UTC - bob@openmined.org: Hello Alice! This is a test message from Bob.\n",
      "2025-03-09 00:51:36 UTC - alice@openmined.org: Hi Bob! I received your message. How are you?\n"
     ]
    }
   ],
   "source": [
    "# Request history from Alice's client\n",
    "if 'alice@openmined.org' in chat_users:\n",
    "    alice_history = bob_client.request_history_from_user('alice@openmined.org')\n",
    "    print(f\"Retrieved {len(alice_history)} messages from Alice's history:\")\n",
    "    for msg in alice_history:\n",
    "        time_str = msg.timestamp.strftime(\"%Y-%m-%d %H:%M:%S %Z\")\n",
    "        print(f\"{time_str} - {msg.sender}: {msg.content}\")\n",
    "else:\n",
    "    print(\"Alice not available to request history from.\")"
   ]
  },
  {
   "cell_type": "markdown",
   "id": "advanced-features",
   "metadata": {},
   "source": [
    "## 6. Advanced Features\n",
    "\n",
    "Syft Chat supports several advanced features for more sophisticated communications."
   ]
  },
  {
   "cell_type": "markdown",
   "id": "threaded-conversations",
   "metadata": {},
   "source": [
    "### 6.1 Threaded Conversations\n",
    "\n",
    "You can group messages into threads using the `thread_id` parameter:"
   ]
  },
  {
   "cell_type": "code",
   "execution_count": 31,
   "id": "thread-example",
   "metadata": {},
   "outputs": [
    {
     "name": "stderr",
     "output_type": "stream",
     "text": [
      "\u001b[32m2025-03-08 19:52:45.433\u001b[0m | \u001b[1mINFO    \u001b[0m | \u001b[36msyft_chat\u001b[0m:\u001b[36msend_message\u001b[0m:\u001b[36m378\u001b[0m - \u001b[1m📤 SENDING: Message to alice@openmined.org\u001b[0m\n",
      "\u001b[32m2025-03-08 19:52:48.321\u001b[0m | \u001b[34m\u001b[1mDEBUG   \u001b[0m | \u001b[36msyft_event.handlers\u001b[0m:\u001b[36mon_any_event\u001b[0m:\u001b[36m31\u001b[0m - \u001b[34m\u001b[1mFSEvent - created - /Users/atrask/Desktop/SyftBoxAlice/datasites/alice@openmined.org/api_data/syft_chat/rpc/message/2ffc1db3-0601-4082-8555-440fbc9a6bbf.request\u001b[0m\n",
      "\u001b[32m2025-03-08 19:52:48.322\u001b[0m | \u001b[1mINFO    \u001b[0m | \u001b[36msyft_chat\u001b[0m:\u001b[36m_handle_message\u001b[0m:\u001b[36m303\u001b[0m - \u001b[1m📨 RECEIVED: Message from bob@openmined.org: Let's discuss Project Alpha in this thread....\u001b[0m\n"
     ]
    },
    {
     "name": "stdout",
     "output_type": "stream",
     "text": [
      "\n",
      "🔔 NEW MESSAGE from bob@openmined.org: Let's discuss Project Alpha in this thread.\n"
     ]
    },
    {
     "name": "stderr",
     "output_type": "stream",
     "text": [
      "\u001b[32m2025-03-08 19:52:52.372\u001b[0m | \u001b[1mINFO    \u001b[0m | \u001b[36msyft_chat\u001b[0m:\u001b[36msend_message\u001b[0m:\u001b[36m394\u001b[0m - \u001b[1m📥 RECEIVED: Delivery confirmation from alice@openmined.org. Time: 6.94s\u001b[0m\n"
     ]
    },
    {
     "name": "stdout",
     "output_type": "stream",
     "text": [
      "\n",
      "🔔 NEW MESSAGE from bob@openmined.org: Let's discuss Project Alpha in this thread.\n",
      "Started a new thread with ID: project-alpha\n"
     ]
    }
   ],
   "source": [
    "# Create a new thread\n",
    "thread_id = \"project-alpha\"\n",
    "\n",
    "try:\n",
    "    # Send a message in this thread\n",
    "    response = bob_client.send_message(\n",
    "        'alice@openmined.org',\n",
    "        \"Let's discuss Project Alpha in this thread.\",\n",
    "        thread_id=thread_id\n",
    "    )\n",
    "    print(f\"Started a new thread with ID: {thread_id}\")\n",
    "except Exception as e:\n",
    "    print(f\"Error: {e}\")"
   ]
  },
  {
   "cell_type": "markdown",
   "id": "message-replies",
   "metadata": {},
   "source": [
    "### 6.2 Message Replies\n",
    "\n",
    "You can reply to specific messages using the `reply_to` parameter:"
   ]
  },
  {
   "cell_type": "code",
   "execution_count": 32,
   "id": "reply-example",
   "metadata": {},
   "outputs": [
    {
     "name": "stderr",
     "output_type": "stream",
     "text": [
      "\u001b[32m2025-03-08 19:52:52.378\u001b[0m | \u001b[1mINFO    \u001b[0m | \u001b[36msyft_chat\u001b[0m:\u001b[36msend_message\u001b[0m:\u001b[36m378\u001b[0m - \u001b[1m📤 SENDING: Message to bob@openmined.org\u001b[0m\n",
      "\u001b[32m2025-03-08 19:52:56.783\u001b[0m | \u001b[34m\u001b[1mDEBUG   \u001b[0m | \u001b[36msyft_event.handlers\u001b[0m:\u001b[36mon_any_event\u001b[0m:\u001b[36m31\u001b[0m - \u001b[34m\u001b[1mFSEvent - created - /Users/atrask/Desktop/SyftBoxBob/datasites/bob@openmined.org/api_data/syft_chat/rpc/message/d24ea6ae-7ef5-467c-a63c-7ad8a648d483.request\u001b[0m\n",
      "\u001b[32m2025-03-08 19:52:56.784\u001b[0m | \u001b[1mINFO    \u001b[0m | \u001b[36msyft_chat\u001b[0m:\u001b[36m_handle_message\u001b[0m:\u001b[36m303\u001b[0m - \u001b[1m📨 RECEIVED: Message from alice@openmined.org: I'm ready to discuss Project Alpha. What aspects s...\u001b[0m\n"
     ]
    },
    {
     "name": "stdout",
     "output_type": "stream",
     "text": [
      "\n",
      "🔔 NEW MESSAGE from alice@openmined.org: I'm ready to discuss Project Alpha. What aspects should we focus on first?\n"
     ]
    },
    {
     "name": "stderr",
     "output_type": "stream",
     "text": [
      "\u001b[32m2025-03-08 19:53:01.311\u001b[0m | \u001b[1mINFO    \u001b[0m | \u001b[36msyft_chat\u001b[0m:\u001b[36msend_message\u001b[0m:\u001b[36m394\u001b[0m - \u001b[1m📥 RECEIVED: Delivery confirmation from bob@openmined.org. Time: 8.93s\u001b[0m\n"
     ]
    },
    {
     "name": "stdout",
     "output_type": "stream",
     "text": [
      "\n",
      "🔔 NEW MESSAGE from alice@openmined.org: I'm ready to discuss Project Alpha. What aspects should we focus on first?\n",
      "Alice replied to the thread message\n"
     ]
    }
   ],
   "source": [
    "try:\n",
    "    # Get Bob's last message ID\n",
    "    thread_messages = bob_client.get_chat_history()\n",
    "    last_msg = [m for m in thread_messages if m.thread_id == thread_id][0]\n",
    "    \n",
    "    # Alice replies to Bob's message\n",
    "    alice_response = alice_client.send_message(\n",
    "        'bob@openmined.org',\n",
    "        \"I'm ready to discuss Project Alpha. What aspects should we focus on first?\",\n",
    "        thread_id=thread_id,\n",
    "        reply_to=last_msg.msg_id\n",
    "    )\n",
    "    print(\"Alice replied to the thread message\")\n",
    "except Exception as e:\n",
    "    print(f\"Error: {e}\")"
   ]
  },
  {
   "cell_type": "markdown",
   "id": "time-filters",
   "metadata": {},
   "source": [
    "### 6.3 Time Filters\n",
    "\n",
    "You can filter chat history by time:"
   ]
  },
  {
   "cell_type": "code",
   "execution_count": 33,
   "id": "time-filter-example",
   "metadata": {},
   "outputs": [
    {
     "name": "stdout",
     "output_type": "stream",
     "text": [
      "Messages in the last hour: 4\n",
      "2025-03-09 00:51:25 UTC - bob@openmined.org: Hello Alice! This is a test message from Bob.\n",
      "2025-03-09 00:51:36 UTC - alice@openmined.org: Hi Bob! I received your message. How are you?\n",
      "2025-03-09 00:52:45 UTC - bob@openmined.org: Let's discuss Project Alpha in this thread.\n",
      "2025-03-09 00:52:52 UTC - alice@openmined.org: I'm ready to discuss Project Alpha. What aspects should we focus on first?\n"
     ]
    }
   ],
   "source": [
    "# Get messages from the last hour\n",
    "one_hour_ago = datetime.now(timezone.utc) - timedelta(hours=1)\n",
    "recent_messages = bob_client.get_chat_history(since=one_hour_ago)\n",
    "\n",
    "print(f\"Messages in the last hour: {len(recent_messages)}\")\n",
    "for msg in recent_messages:\n",
    "    time_str = msg.timestamp.strftime(\"%Y-%m-%d %H:%M:%S %Z\")\n",
    "    print(f\"{time_str} - {msg.sender}: {msg.content}\")"
   ]
  },
  {
   "cell_type": "markdown",
   "id": "custom-message-processing",
   "metadata": {},
   "source": [
    "### 6.4 Custom Message Processing\n",
    "\n",
    "You can create more sophisticated message listeners for custom processing:"
   ]
  },
  {
   "cell_type": "code",
   "execution_count": 34,
   "id": "advanced-listener",
   "metadata": {},
   "outputs": [
    {
     "name": "stdout",
     "output_type": "stream",
     "text": [
      "Registered advanced message processor\n"
     ]
    }
   ],
   "source": [
    "# A more advanced message processor\n",
    "def advanced_message_processor(message):\n",
    "    # Check if this is part of a thread\n",
    "    thread_info = f\" (Thread: {message.thread_id})\" if message.thread_id else \"\"\n",
    "    reply_info = f\" (Reply to: {message.reply_to})\" if message.reply_to else \"\"\n",
    "    \n",
    "    # Format the message nicely\n",
    "    time_str = message.timestamp.strftime(\"%H:%M:%S\")\n",
    "    print(f\"[{time_str}] FROM: {message.sender}{thread_info}{reply_info}\")\n",
    "    print(f\"MESSAGE: {message.content}\")\n",
    "    print(\"-\" * 50)\n",
    "\n",
    "# Replace the existing listener with our advanced one\n",
    "bob_client.remove_message_listener(print_message)\n",
    "bob_client.add_message_listener(advanced_message_processor)\n",
    "\n",
    "print(\"Registered advanced message processor\")"
   ]
  },
  {
   "cell_type": "code",
   "execution_count": 35,
   "id": "test-advanced-listener",
   "metadata": {},
   "outputs": [
    {
     "name": "stderr",
     "output_type": "stream",
     "text": [
      "\u001b[32m2025-03-08 19:53:04.378\u001b[0m | \u001b[1mINFO    \u001b[0m | \u001b[36msyft_chat\u001b[0m:\u001b[36msend_message\u001b[0m:\u001b[36m378\u001b[0m - \u001b[1m📤 SENDING: Message to bob@openmined.org\u001b[0m\n",
      "\u001b[32m2025-03-08 19:53:07.665\u001b[0m | \u001b[34m\u001b[1mDEBUG   \u001b[0m | \u001b[36msyft_event.handlers\u001b[0m:\u001b[36mon_any_event\u001b[0m:\u001b[36m31\u001b[0m - \u001b[34m\u001b[1mFSEvent - created - /Users/atrask/Desktop/SyftBoxBob/datasites/bob@openmined.org/api_data/syft_chat/rpc/message/29fdb0ab-4921-4923-ba69-0cd252053b2a.request\u001b[0m\n",
      "\u001b[32m2025-03-08 19:53:07.666\u001b[0m | \u001b[1mINFO    \u001b[0m | \u001b[36msyft_chat\u001b[0m:\u001b[36m_handle_message\u001b[0m:\u001b[36m303\u001b[0m - \u001b[1m📨 RECEIVED: Message from alice@openmined.org: Here's an example of a message that will trigger t...\u001b[0m\n"
     ]
    },
    {
     "name": "stdout",
     "output_type": "stream",
     "text": [
      "[00:53:04] FROM: alice@openmined.org (Thread: project-alpha)\n",
      "MESSAGE: Here's an example of a message that will trigger the advanced processor.\n",
      "--------------------------------------------------\n"
     ]
    },
    {
     "name": "stderr",
     "output_type": "stream",
     "text": [
      "\u001b[32m2025-03-08 19:53:11.951\u001b[0m | \u001b[1mINFO    \u001b[0m | \u001b[36msyft_chat\u001b[0m:\u001b[36msend_message\u001b[0m:\u001b[36m394\u001b[0m - \u001b[1m📥 RECEIVED: Delivery confirmation from bob@openmined.org. Time: 7.57s\u001b[0m\n"
     ]
    },
    {
     "name": "stdout",
     "output_type": "stream",
     "text": [
      "\n",
      "🔔 NEW MESSAGE from alice@openmined.org: Here's an example of a message that will trigger the advanced processor.\n",
      "Advanced processing works!\n"
     ]
    }
   ],
   "source": [
    "# Test the advanced message processor\n",
    "try:\n",
    "    # Alice sends another message in the thread\n",
    "    alice_response = alice_client.send_message(\n",
    "        'bob@openmined.org',\n",
    "        \"Here's an example of a message that will trigger the advanced processor.\",\n",
    "        thread_id=thread_id\n",
    "    )\n",
    "    print(\"Advanced processing works!\")\n",
    "except Exception as e:\n",
    "    print(f\"Error: {e}\")"
   ]
  },
  {
   "cell_type": "markdown",
   "id": "cleanup-header",
   "metadata": {},
   "source": [
    "## 7. Cleanup\n",
    "\n",
    "When we're done, it's important to properly close all clients to shut down the background servers:"
   ]
  },
  {
   "cell_type": "code",
   "execution_count": 36,
   "id": "cleanup-clients",
   "metadata": {},
   "outputs": [
    {
     "name": "stderr",
     "output_type": "stream",
     "text": [
      "\u001b[32m2025-03-08 19:53:39.987\u001b[0m | \u001b[1mINFO    \u001b[0m | \u001b[36msyft_chat\u001b[0m:\u001b[36mclose\u001b[0m:\u001b[36m544\u001b[0m - \u001b[1m👋 Shutting down syft_chat client...\u001b[0m\n",
      "\u001b[32m2025-03-08 19:53:40.015\u001b[0m | \u001b[1mINFO    \u001b[0m | \u001b[36msyft_chat\u001b[0m:\u001b[36mclose\u001b[0m:\u001b[36m544\u001b[0m - \u001b[1m👋 Shutting down syft_chat client...\u001b[0m\n"
     ]
    }
   ],
   "source": [
    "# Close all clients\n",
    "bob_client.close()\n",
    "try:\n",
    "    alice_client.close()\n",
    "except NameError:\n",
    "    pass"
   ]
  },
  {
   "cell_type": "markdown",
   "id": "conclusion-section",
   "metadata": {},
   "source": [
    "## 8. Conclusion\n",
    "\n",
    "In this tutorial, we've demonstrated:\n",
    "\n",
    "1. Setting up Syft Chat clients\n",
    "2. Discovering available users\n",
    "3. Sending and receiving messages\n",
    "4. Working with local and remote chat history\n",
    "5. Advanced features like threaded conversations and message replies\n",
    "6. Custom message processing with listeners\n",
    "\n",
    "Syft Chat provides a simple yet powerful way to enable asynchronous communication between Syft users. The Python API makes it easy to integrate chat functionality into your own applications and workflows.\n",
    "\n",
    "### Next Steps\n",
    "\n",
    "- Integrate Syft Chat into your own applications\n",
    "- Add custom message processing logic using message listeners\n",
    "- Extend the library with additional features like message encryption or file attachments\n",
    "- Create multi-user chat rooms by implementing group messaging"
   ]
  },
  {
   "cell_type": "code",
   "execution_count": null,
   "id": "8d5dcc59-d5e2-47d1-81e0-258bb6014f35",
   "metadata": {},
   "outputs": [],
   "source": []
  }
 ],
 "metadata": {
  "kernelspec": {
   "display_name": "Python 3 (ipykernel)",
   "language": "python",
   "name": "python3"
  },
  "language_info": {
   "codemirror_mode": {
    "name": "ipython",
    "version": 3
   },
   "file_extension": ".py",
   "mimetype": "text/x-python",
   "name": "python",
   "nbconvert_exporter": "python",
   "pygments_lexer": "ipython3",
   "version": "3.13.1"
  }
 },
 "nbformat": 4,
 "nbformat_minor": 5
}
