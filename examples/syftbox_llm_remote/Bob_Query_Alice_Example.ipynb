{
 "cells": [
  {
   "cell_type": "markdown",
   "id": "b3668cb1-6264-429f-9b37-da94a545ff0b",
   "metadata": {},
   "source": [
    "# Cross-Datasite Query Example: Bob Accessing Alice's Data\n",
    "\n",
    "This notebook demonstrates how Bob can query Alice's data using remote LLM functionality. It assumes:\n",
    "- Both Bob and Alice have already run their respective setup notebooks\n",
    "- Alice has granted Bob permission to access specific files\n",
    "- Bob now wants to analyze Alice's data without having direct access to it"
   ]
  },
  {
   "cell_type": "code",
   "execution_count": 1,
   "id": "c800dda2-94c9-4e12-bd26-d08b8c822712",
   "metadata": {},
   "outputs": [],
   "source": [
    "from __future__ import annotations\n",
    "\n",
    "import os\n",
    "import time\n",
    "from pathlib import Path\n",
    "from loguru import logger\n",
    "from tabulate import tabulate\n",
    "\n",
    "# Import the client module\n",
    "from llama_remote import client"
   ]
  },
  {
   "cell_type": "markdown",
   "id": "8401af9d-dd04-461e-b455-c320cf3fa1ad",
   "metadata": {},
   "source": [
    "## 1. Connect as Bob"
   ]
  },
  {
   "cell_type": "code",
   "execution_count": 2,
   "id": "3da28d25-914a-42df-b536-52b79612c585",
   "metadata": {},
   "outputs": [
    {
     "name": "stderr",
     "output_type": "stream",
     "text": [
      "\u001b[32m2025-03-09 04:43:04.155\u001b[0m | \u001b[1mINFO    \u001b[0m | \u001b[36msyft_rpc_client\u001b[0m:\u001b[36m__init__\u001b[0m:\u001b[36m51\u001b[0m - \u001b[1m🔑 Connected as: bob@openmined.org\u001b[0m\n",
      "\u001b[32m2025-03-09 04:43:04.155\u001b[0m | \u001b[1mINFO    \u001b[0m | \u001b[36msyft_rpc_client\u001b[0m:\u001b[36m_run_server\u001b[0m:\u001b[36m69\u001b[0m - \u001b[1m🚀 SERVER: Running ollama_remote server as bob@openmined.org\u001b[0m\n",
      "\u001b[32m2025-03-09 04:43:04.155\u001b[0m | \u001b[1mINFO    \u001b[0m | \u001b[36msyft_rpc_client\u001b[0m:\u001b[36m_start_server\u001b[0m:\u001b[36m64\u001b[0m - \u001b[1m🔔 Server started for bob@openmined.org\u001b[0m\n",
      "\u001b[32m2025-03-09 04:43:04.156\u001b[0m | \u001b[1mINFO    \u001b[0m | \u001b[36msyft_event.server2\u001b[0m:\u001b[36mregister_rpc\u001b[0m:\u001b[36m140\u001b[0m - \u001b[1mRegister RPC: /generate\u001b[0m\n",
      "\u001b[32m2025-03-09 04:43:04.156\u001b[0m | \u001b[1mINFO    \u001b[0m | \u001b[36msyft_rpc_client\u001b[0m:\u001b[36m_run_server\u001b[0m:\u001b[36m93\u001b[0m - \u001b[1m📡 SERVER: Listening for requests at /Users/atrask/Desktop/SyftBoxBob/datasites/bob@openmined.org/api_data/ollama_remote/rpc\u001b[0m\n",
      "\u001b[32m2025-03-09 04:43:04.157\u001b[0m | \u001b[1mINFO    \u001b[0m | \u001b[36msyft_event.server2\u001b[0m:\u001b[36mregister_rpc\u001b[0m:\u001b[36m140\u001b[0m - \u001b[1mRegister RPC: /set_file_permissions\u001b[0m\n",
      "\u001b[32m2025-03-09 04:43:04.158\u001b[0m | \u001b[1mINFO    \u001b[0m | \u001b[36msyft_event.server2\u001b[0m:\u001b[36mregister_rpc\u001b[0m:\u001b[36m140\u001b[0m - \u001b[1mRegister RPC: /list_file_permissions\u001b[0m\n",
      "\u001b[32m2025-03-09 04:43:04.161\u001b[0m | \u001b[1mINFO    \u001b[0m | \u001b[36msyft_event.server2\u001b[0m:\u001b[36mpublish_schema\u001b[0m:\u001b[36m96\u001b[0m - \u001b[1mPublished schema to /Users/atrask/Desktop/SyftBoxBob/datasites/bob@openmined.org/api_data/ollama_remote/rpc/rpc.schema.json\u001b[0m\n",
      "\u001b[32m2025-03-09 04:43:04.162\u001b[0m | \u001b[1mINFO    \u001b[0m | \u001b[36msyft_rpc_client\u001b[0m:\u001b[36m__init__\u001b[0m:\u001b[36m51\u001b[0m - \u001b[1m🔑 Connected as: alice@openmined.org\u001b[0m\n",
      "\u001b[32m2025-03-09 04:43:04.162\u001b[0m | \u001b[1mINFO    \u001b[0m | \u001b[36msyft_rpc_client\u001b[0m:\u001b[36m_run_server\u001b[0m:\u001b[36m69\u001b[0m - \u001b[1m🚀 SERVER: Running ollama_remote server as alice@openmined.org\u001b[0m\n",
      "\u001b[32m2025-03-09 04:43:04.162\u001b[0m | \u001b[1mINFO    \u001b[0m | \u001b[36msyft_rpc_client\u001b[0m:\u001b[36m_start_server\u001b[0m:\u001b[36m64\u001b[0m - \u001b[1m🔔 Server started for alice@openmined.org\u001b[0m\n",
      "\u001b[32m2025-03-09 04:43:04.165\u001b[0m | \u001b[1mINFO    \u001b[0m | \u001b[36msyft_event.server2\u001b[0m:\u001b[36mregister_rpc\u001b[0m:\u001b[36m140\u001b[0m - \u001b[1mRegister RPC: /generate\u001b[0m\n",
      "\u001b[32m2025-03-09 04:43:04.165\u001b[0m | \u001b[1mINFO    \u001b[0m | \u001b[36msyft_rpc_client\u001b[0m:\u001b[36m_run_server\u001b[0m:\u001b[36m93\u001b[0m - \u001b[1m📡 SERVER: Listening for requests at /Users/atrask/Desktop/SyftBoxAlice/datasites/alice@openmined.org/api_data/ollama_remote/rpc\u001b[0m\n",
      "\u001b[32m2025-03-09 04:43:04.165\u001b[0m | \u001b[1mINFO    \u001b[0m | \u001b[36msyft_event.server2\u001b[0m:\u001b[36mregister_rpc\u001b[0m:\u001b[36m140\u001b[0m - \u001b[1mRegister RPC: /set_file_permissions\u001b[0m\n",
      "\u001b[32m2025-03-09 04:43:04.166\u001b[0m | \u001b[1mINFO    \u001b[0m | \u001b[36msyft_event.server2\u001b[0m:\u001b[36mregister_rpc\u001b[0m:\u001b[36m140\u001b[0m - \u001b[1mRegister RPC: /list_file_permissions\u001b[0m\n"
     ]
    },
    {
     "name": "stdout",
     "output_type": "stream",
     "text": [
      "Connected as: bob@openmined.org\n",
      "Connected as: alice@openmined.org\n"
     ]
    },
    {
     "name": "stderr",
     "output_type": "stream",
     "text": [
      "\u001b[32m2025-03-09 04:43:04.166\u001b[0m | \u001b[1mINFO    \u001b[0m | \u001b[36msyft_event.server2\u001b[0m:\u001b[36mpublish_schema\u001b[0m:\u001b[36m96\u001b[0m - \u001b[1mPublished schema to /Users/atrask/Desktop/SyftBoxAlice/datasites/alice@openmined.org/api_data/ollama_remote/rpc/rpc.schema.json\u001b[0m\n"
     ]
    }
   ],
   "source": [
    "# Creating Bob's client\n",
    "bob_client = client(\"~/.syft_bob_config.json\")\n",
    "print(f\"Connected as: {bob_client.client.email}\")\n",
    "\n",
    "# Creating Alice's client\n",
    "alice_client = client(\"~/.syft_alice_config.json\")\n",
    "print(f\"Connected as: {alice_client.client.email}\")"
   ]
  },
  {
   "cell_type": "code",
   "execution_count": 3,
   "id": "8a8266e2-d93c-443c-928e-fe01e802af16",
   "metadata": {},
   "outputs": [
    {
     "name": "stdout",
     "output_type": "stream",
     "text": [
      "Testing access to Alice's public directory: /Users/atrask/Desktop/SyftBoxAlice/datasites/alice@openmined.org/public\n",
      "Files in public directory: ['iphone_2007.txt', 'syftperm.yaml']\n"
     ]
    }
   ],
   "source": [
    "# Test direct access to Alice's public directory\n",
    "alice_public_dir = f\"/Users/atrask/Desktop/SyftBoxAlice/datasites/alice@openmined.org/public\"\n",
    "print(f\"Testing access to Alice's public directory: {alice_public_dir}\")\n",
    "\n",
    "\n",
    "# List files in the public directory\n",
    "public_files = os.listdir(alice_public_dir)\n",
    "print(f\"Files in public directory: {public_files[:5]}{'...' if len(public_files) > 5 else ''}\")\n"
   ]
  },
  {
   "cell_type": "code",
   "execution_count": null,
   "id": "d97e8461-8756-4030-9b5f-20b55a52682a",
   "metadata": {},
   "outputs": [],
   "source": []
  },
  {
   "cell_type": "code",
   "execution_count": null,
   "id": "73a948ee-7939-45d1-bf11-79e92aa9fa13",
   "metadata": {},
   "outputs": [
    {
     "name": "stderr",
     "output_type": "stream",
     "text": [
      "\u001b[32m2025-03-09 04:43:04.249\u001b[0m | \u001b[1mINFO    \u001b[0m | \u001b[36msyft_rpc_client\u001b[0m:\u001b[36msend_request\u001b[0m:\u001b[36m160\u001b[0m - \u001b[1m📤 SENDING: Request to alice@openmined.org/list_file_permissions\u001b[0m\n"
     ]
    }
   ],
   "source": [
    "# Re-request the permissions list\n",
    "permitted_files = bob_client.list_permitted_files(\n",
    "    to_email=\"alice@openmined.org\",\n",
    "    user_email=bob_client.client.email\n",
    ")\n",
    "print(f\"Updated permissions list: {permitted_files}\")\n"
   ]
  },
  {
   "cell_type": "code",
   "execution_count": null,
   "id": "c094964e-578d-4743-a868-6c02eafbccbc",
   "metadata": {},
   "outputs": [],
   "source": []
  },
  {
   "cell_type": "code",
   "execution_count": null,
   "id": "48b0ddb8-5e16-4797-84ac-c67c92ad3e0e",
   "metadata": {},
   "outputs": [],
   "source": []
  },
  {
   "cell_type": "code",
   "execution_count": null,
   "id": "a9004225-5e6d-4a3a-b4df-52b350732ae0",
   "metadata": {},
   "outputs": [],
   "source": []
  }
 ],
 "metadata": {
  "kernelspec": {
   "display_name": "Python 3 (ipykernel)",
   "language": "python",
   "name": "python3"
  },
  "language_info": {
   "codemirror_mode": {
    "name": "ipython",
    "version": 3
   },
   "file_extension": ".py",
   "mimetype": "text/x-python",
   "name": "python",
   "nbconvert_exporter": "python",
   "pygments_lexer": "ipython3",
   "version": "3.13.1"
  }
 },
 "nbformat": 4,
 "nbformat_minor": 5
}
