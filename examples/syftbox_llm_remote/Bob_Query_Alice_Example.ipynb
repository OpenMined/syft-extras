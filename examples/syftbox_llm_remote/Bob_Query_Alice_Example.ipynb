{
 "cells": [
  {
   "cell_type": "markdown",
   "id": "b3668cb1-6264-429f-9b37-da94a545ff0b",
   "metadata": {},
   "source": [
    "# Cross-Datasite Query Example: Bob Accessing Alice's Data\n",
    "\n",
    "This notebook demonstrates how Bob can query Alice's data using remote LLM functionality. It assumes:\n",
    "- Both Bob and Alice have already run their respective setup notebooks\n",
    "- Alice has granted Bob permission to access specific files\n",
    "- Bob now wants to analyze Alice's data without having direct access to it"
   ]
  },
  {
   "cell_type": "code",
   "execution_count": 1,
   "id": "c800dda2-94c9-4e12-bd26-d08b8c822712",
   "metadata": {},
   "outputs": [],
   "source": [
    "from __future__ import annotations\n",
    "\n",
    "import os\n",
    "import time\n",
    "from pathlib import Path\n",
    "from loguru import logger\n",
    "from tabulate import tabulate\n",
    "\n",
    "# Add this to your notebook\n",
    "from llama_remote import configure_logging\n",
    "\n",
    "# Force DEBUG logging\n",
    "configure_logging(verbose=True)\n",
    "\n",
    "# Import the client module\n",
    "from llama_remote import client"
   ]
  },
  {
   "cell_type": "code",
   "execution_count": null,
   "id": "cd074229-940e-41c3-8075-5ea023c4d947",
   "metadata": {},
   "outputs": [],
   "source": []
  },
  {
   "cell_type": "markdown",
   "id": "8401af9d-dd04-461e-b455-c320cf3fa1ad",
   "metadata": {},
   "source": [
    "## 1. Connect as Bob"
   ]
  },
  {
   "cell_type": "code",
   "execution_count": 2,
   "id": "3da28d25-914a-42df-b536-52b79612c585",
   "metadata": {},
   "outputs": [
    {
     "name": "stderr",
     "output_type": "stream",
     "text": [
      "\u001b[32m2025-03-09 04:06:34.531\u001b[0m | \u001b[1mINFO    \u001b[0m | \u001b[36msyft_rpc_client\u001b[0m:\u001b[36m__init__\u001b[0m:\u001b[36m51\u001b[0m - \u001b[1m🔑 Connected as: bob@openmined.org\u001b[0m\n",
      "\u001b[32m2025-03-09 04:06:34.532\u001b[0m | \u001b[1mINFO    \u001b[0m | \u001b[36msyft_rpc_client\u001b[0m:\u001b[36m_run_server\u001b[0m:\u001b[36m69\u001b[0m - \u001b[1m🚀 SERVER: Running ollama_remote server as bob@openmined.org\u001b[0m\n",
      "\u001b[32m2025-03-09 04:06:34.532\u001b[0m | \u001b[1mINFO    \u001b[0m | \u001b[36msyft_rpc_client\u001b[0m:\u001b[36m_start_server\u001b[0m:\u001b[36m64\u001b[0m - \u001b[1m🔔 Server started for bob@openmined.org\u001b[0m\n",
      "\u001b[32m2025-03-09 04:06:34.537\u001b[0m | \u001b[1mINFO    \u001b[0m | \u001b[36msyft_event.server2\u001b[0m:\u001b[36mregister_rpc\u001b[0m:\u001b[36m140\u001b[0m - \u001b[1mRegister RPC: /generate\u001b[0m\n",
      "\u001b[32m2025-03-09 04:06:34.540\u001b[0m | \u001b[1mINFO    \u001b[0m | \u001b[36msyft_event.server2\u001b[0m:\u001b[36mregister_rpc\u001b[0m:\u001b[36m140\u001b[0m - \u001b[1mRegister RPC: /set_file_permissions\u001b[0m\n",
      "\u001b[32m2025-03-09 04:06:34.543\u001b[0m | \u001b[1mINFO    \u001b[0m | \u001b[36msyft_rpc_client\u001b[0m:\u001b[36m_run_server\u001b[0m:\u001b[36m93\u001b[0m - \u001b[1m📡 SERVER: Listening for requests at /Users/atrask/Desktop/SyftBoxBob/datasites/bob@openmined.org/api_data/ollama_remote/rpc\u001b[0m\n",
      "\u001b[32m2025-03-09 04:06:34.547\u001b[0m | \u001b[1mINFO    \u001b[0m | \u001b[36msyft_event.server2\u001b[0m:\u001b[36mregister_rpc\u001b[0m:\u001b[36m140\u001b[0m - \u001b[1mRegister RPC: /list_file_permissions\u001b[0m\n"
     ]
    },
    {
     "name": "stdout",
     "output_type": "stream",
     "text": [
      "Connected as: bob@openmined.org\n"
     ]
    },
    {
     "name": "stderr",
     "output_type": "stream",
     "text": [
      "\u001b[32m2025-03-09 04:06:34.583\u001b[0m | \u001b[1mINFO    \u001b[0m | \u001b[36msyft_event.server2\u001b[0m:\u001b[36mpublish_schema\u001b[0m:\u001b[36m96\u001b[0m - \u001b[1mPublished schema to /Users/atrask/Desktop/SyftBoxBob/datasites/bob@openmined.org/api_data/ollama_remote/rpc/rpc.schema.json\u001b[0m\n"
     ]
    }
   ],
   "source": [
    "# Creating Bob's client\n",
    "bob_client = client(\"~/.syft_bob_config.json\")\n",
    "print(f\"Connected as: {bob_client.client.email}\")"
   ]
  },
  {
   "cell_type": "code",
   "execution_count": 3,
   "id": "8a8266e2-d93c-443c-928e-fe01e802af16",
   "metadata": {},
   "outputs": [
    {
     "name": "stdout",
     "output_type": "stream",
     "text": [
      "Testing access to Alice's public directory: /Users/atrask/Desktop/SyftBoxAlice/datasites/alice@openmined.org/public\n",
      "Files in public directory: ['iphone_2007.txt', 'syftperm.yaml']\n"
     ]
    }
   ],
   "source": [
    "# Test direct access to Alice's public directory\n",
    "alice_public_dir = f\"/Users/atrask/Desktop/SyftBoxAlice/datasites/alice@openmined.org/public\"\n",
    "print(f\"Testing access to Alice's public directory: {alice_public_dir}\")\n",
    "\n",
    "\n",
    "# List files in the public directory\n",
    "public_files = os.listdir(alice_public_dir)\n",
    "print(f\"Files in public directory: {public_files[:5]}{'...' if len(public_files) > 5 else ''}\")\n"
   ]
  },
  {
   "cell_type": "code",
   "execution_count": 4,
   "id": "d97e8461-8756-4030-9b5f-20b55a52682a",
   "metadata": {},
   "outputs": [
    {
     "name": "stderr",
     "output_type": "stream",
     "text": [
      "\u001b[32m2025-03-09 04:06:35.690\u001b[0m | \u001b[34m\u001b[1mDEBUG   \u001b[0m | \u001b[36mllama_remote\u001b[0m:\u001b[36m_check_file_permission\u001b[0m:\u001b[36m221\u001b[0m - \u001b[34m\u001b[1mChecking permissions for user bob@openmined.org on file /Users/atrask/Desktop/SyftBoxAlice/datasites/alice@openmined.org/public/some_file.txt\u001b[0m\n",
      "\u001b[32m2025-03-09 04:06:35.690\u001b[0m | \u001b[34m\u001b[1mDEBUG   \u001b[0m | \u001b[36mllama_remote\u001b[0m:\u001b[36m_check_file_permission\u001b[0m:\u001b[36m240\u001b[0m - \u001b[34m\u001b[1mNo explicit permission found, checking standard Syft permissions\u001b[0m\n",
      "\u001b[32m2025-03-09 04:06:35.691\u001b[0m | \u001b[34m\u001b[1mDEBUG   \u001b[0m | \u001b[36mllama_remote\u001b[0m:\u001b[36m_check_file_permission\u001b[0m:\u001b[36m247\u001b[0m - \u001b[34m\u001b[1mDatasite path: /Users/atrask/Desktop/SyftBoxBob/datasites/bob@openmined.org\u001b[0m\n",
      "\u001b[32m2025-03-09 04:06:35.691\u001b[0m | \u001b[33m\u001b[1mWARNING \u001b[0m | \u001b[36mllama_remote\u001b[0m:\u001b[36m_check_file_permission\u001b[0m:\u001b[36m272\u001b[0m - \u001b[33m\u001b[1mFile /Users/atrask/Desktop/SyftBoxAlice/datasites/alice@openmined.org/public/some_file.txt is not within datasite path /Users/atrask/Desktop/SyftBoxBob/datasites/bob@openmined.org\u001b[0m\n"
     ]
    },
    {
     "name": "stdout",
     "output_type": "stream",
     "text": [
      "\n",
      "Requesting permissions list with debug logging enabled:\n"
     ]
    },
    {
     "data": {
      "text/plain": [
       "False"
      ]
     },
     "execution_count": 4,
     "metadata": {},
     "output_type": "execute_result"
    }
   ],
   "source": [
    "# Request permissions list again with forced debug\n",
    "print(\"\\nRequesting permissions list with debug logging enabled:\")\n",
    "bob_client._check_file_permission(bob_client.client.email, f\"{alice_public_dir}/some_file.txt\")\n"
   ]
  },
  {
   "cell_type": "code",
   "execution_count": 5,
   "id": "73a948ee-7939-45d1-bf11-79e92aa9fa13",
   "metadata": {},
   "outputs": [
    {
     "name": "stderr",
     "output_type": "stream",
     "text": [
      "\u001b[32m2025-03-09 04:06:36.123\u001b[0m | \u001b[1mINFO    \u001b[0m | \u001b[36msyft_rpc_client\u001b[0m:\u001b[36msend_request\u001b[0m:\u001b[36m160\u001b[0m - \u001b[1m📤 SENDING: Request to alice@openmined.org/list_file_permissions\u001b[0m\n",
      "\u001b[32m2025-03-09 04:06:42.837\u001b[0m | \u001b[1mINFO    \u001b[0m | \u001b[36msyft_rpc_client\u001b[0m:\u001b[36msend_request\u001b[0m:\u001b[36m175\u001b[0m - \u001b[1m📥 RECEIVED: Response from alice@openmined.org. Time: 6.71s\u001b[0m\n"
     ]
    },
    {
     "name": "stdout",
     "output_type": "stream",
     "text": [
      "Updated permissions list: user_email='bob@openmined.org' allowed_files=['/Users/atrask/Desktop/SyftBoxAlice/datasites/alice@openmined.org/private_data/patient_data.csv'] success=True error=None ts=datetime.datetime(2025, 3, 9, 8, 6, 38, 474435, tzinfo=TzInfo(UTC))\n"
     ]
    }
   ],
   "source": [
    "# Re-request the permissions list\n",
    "permitted_files = bob_client.list_permitted_files(\n",
    "    to_email=\"alice@openmined.org\",\n",
    "    user_email=bob_client.client.email\n",
    ")\n",
    "print(f\"Updated permissions list: {permitted_files}\")\n"
   ]
  },
  {
   "cell_type": "code",
   "execution_count": null,
   "id": "927dd874-cf91-4774-8209-4b74053e0f5a",
   "metadata": {},
   "outputs": [],
   "source": []
  },
  {
   "cell_type": "code",
   "execution_count": null,
   "id": "dd251ca4-c9e7-4a38-a644-1437e03c8e72",
   "metadata": {},
   "outputs": [],
   "source": []
  }
 ],
 "metadata": {
  "kernelspec": {
   "display_name": "Python 3 (ipykernel)",
   "language": "python",
   "name": "python3"
  },
  "language_info": {
   "codemirror_mode": {
    "name": "ipython",
    "version": 3
   },
   "file_extension": ".py",
   "mimetype": "text/x-python",
   "name": "python",
   "nbconvert_exporter": "python",
   "pygments_lexer": "ipython3",
   "version": "3.13.1"
  }
 },
 "nbformat": 4,
 "nbformat_minor": 5
}
