{
 "cells": [
  {
   "cell_type": "markdown",
   "id": "b3668cb1-6264-429f-9b37-da94a545ff0b",
   "metadata": {},
   "source": [
    "# Cross-Datasite Query Example: Bob Accessing Alice's Data\n",
    "\n",
    "This notebook demonstrates how Bob can query Alice's data using remote LLM functionality. It assumes:\n",
    "- Both Bob and Alice have already run their respective setup notebooks\n",
    "- Alice has granted Bob permission to access specific files\n",
    "- Bob now wants to analyze Alice's data without having direct access to it"
   ]
  },
  {
   "cell_type": "code",
   "execution_count": 1,
   "id": "c800dda2-94c9-4e12-bd26-d08b8c822712",
   "metadata": {},
   "outputs": [],
   "source": [
    "from llama_remote import client"
   ]
  },
  {
   "cell_type": "markdown",
   "id": "8401af9d-dd04-461e-b455-c320cf3fa1ad",
   "metadata": {},
   "source": [
    "## 1. Connect as Bob"
   ]
  },
  {
   "cell_type": "code",
   "execution_count": 2,
   "id": "3da28d25-914a-42df-b536-52b79612c585",
   "metadata": {},
   "outputs": [],
   "source": [
    "# Creating clients\n",
    "bob_client = client(\"~/.syft_bob_config.json\")\n",
    "\n",
    "# for development purposes, also connect as alice in case you're changing the api. \n",
    "alice_client = client(\"~/.syft_alice_config.json\")"
   ]
  },
  {
   "cell_type": "code",
   "execution_count": 4,
   "id": "73a948ee-7939-45d1-bf11-79e92aa9fa13",
   "metadata": {},
   "outputs": [
    {
     "name": "stdout",
     "output_type": "stream",
     "text": [
      "Files Bob can access on Alice's datasite:\n",
      "  - /Users/atrask/Desktop/SyftBoxAlice/datasites/alice@openmined.org/private_data/patient_data.csv\n",
      "  - /Users/atrask/Desktop/SyftBoxAlice/datasites/alice@openmined.org/public/iphone_2007.txt\n"
     ]
    }
   ],
   "source": [
    "# Re-request the permissions list\n",
    "permitted_files = bob_client.list_permitted_files(\n",
    "    to_email=\"alice@openmined.org\",\n",
    "    user_email=bob_client.client.email\n",
    ")\n",
    "\n",
    "# Print the files Bob has permission to access on Alice's datasite\n",
    "print(\"Files Bob can access on Alice's datasite:\")\n",
    "for file_path in permitted_files.allowed_files:\n",
    "    print(f\"  - {file_path}\")"
   ]
  },
  {
   "cell_type": "code",
   "execution_count": 7,
   "id": "c094964e-578d-4743-a868-6c02eafbccbc",
   "metadata": {},
   "outputs": [],
   "source": [
    "# Get the patient data file path from the permitted files\n",
    "patient_data_file = next((f for f in permitted_files.allowed_files if \"patient_data.csv\" in f), None)"
   ]
  },
  {
   "cell_type": "code",
   "execution_count": 6,
   "id": "48b0ddb8-5e16-4797-84ac-c67c92ad3e0e",
   "metadata": {},
   "outputs": [
    {
     "name": "stdout",
     "output_type": "stream",
     "text": [
      "Asking about treatment effectiveness...\n",
      "\n",
      "Response about treatment effectiveness:\n",
      "--------------------------------------------------------------------------------\n",
      "After analyzing the patient data, I conclude that Therapy C is the most effective treatment based on the outcome \"Significantly Improved\". This conclusion is supported by the following evidence:\n",
      "\n",
      "1. **Frequency of improvement**: Two patients (P001 and P005) received Therapy C, and both had an improved outcome, which suggests a higher rate of success compared to other treatments.\n",
      "2. **Consistency of outcome**: The outcome for patients receiving Therapy C was consistent, with both patients experiencing significant improvement. This consistency implies that the treatment is effective in achieving its intended goal.\n",
      "3. **Diverse patient population**: The patients who received Therapy C (P001 and P005) had different ages (29 and 45) and genders (F), which suggests that the treatment may be effective across a broad range of patients.\n",
      "4. **Comparison to other treatments**: Compared to other treatments, such as Medication A and B, which resulted in outcomes like \"Improved\" or \"Stable\", Therapy C stands out with a more significant improvement.\n",
      "\n",
      "While this analysis is based on a small sample size (n=3), it suggests that Therapy C may be a promising treatment option. However, future studies with larger sample sizes and controlled experiments would be necessary to confirm these findings and establish causality between the treatment and outcome.\n",
      "\n",
      "In conclusion, based on the available data, Therapy C appears to be the most effective treatment, supported by the frequency of improvement, consistency of outcome, diversity of patient population, and comparison to other treatments.\n",
      "--------------------------------------------------------------------------------\n"
     ]
    }
   ],
   "source": [
    "# Ask a specific question about treatment effectiveness\n",
    "if patient_data_file:\n",
    "    prompt = \"Based on the patient data, which treatment appears to be most effective? What evidence supports this conclusion?\"\n",
    "    \n",
    "    print(\"Asking about treatment effectiveness...\")\n",
    "    response = bob_client.generate(\n",
    "        to_email=\"alice@openmined.org\",\n",
    "        model=\"llama3\",\n",
    "        prompt=prompt,\n",
    "        system=\"You are a medical researcher. Analyze the data and provide evidence-based conclusions.\",\n",
    "        temperature=0.7,\n",
    "        files=[patient_data_file]\n",
    "    )\n",
    "    \n",
    "    print(\"\\nResponse about treatment effectiveness:\")\n",
    "    print(\"-\" * 80)\n",
    "    print(response.response)\n",
    "    print(\"-\" * 80)"
   ]
  },
  {
   "cell_type": "code",
   "execution_count": 8,
   "id": "a9004225-5e6d-4a3a-b4df-52b350732ae0",
   "metadata": {},
   "outputs": [
    {
     "name": "stdout",
     "output_type": "stream",
     "text": [
      "Attempting to access unauthorized file: /Users/atrask/Desktop/SyftBoxAlice/datasites/alice@openmined.org/private_data/research_notes.txt\n",
      "\n",
      "Response when trying to access unauthorized file:\n",
      "--------------------------------------------------------------------------------\n",
      "Error: User bob@openmined.org does not have permission to access file: /Users/atrask/Desktop/SyftBoxAlice/datasites/alice@openmined.org/private_data/research_notes.txt\n",
      "--------------------------------------------------------------------------------\n"
     ]
    }
   ],
   "source": [
    "# Try to access Alice's research notes (assuming Bob doesn't have permission)\n",
    "research_notes_path = patient_data_file.replace(\"patient_data.csv\", \"research_notes.txt\")\n",
    "\n",
    "print(f\"Attempting to access unauthorized file: {research_notes_path}\")\n",
    "response = bob_client.generate(\n",
    "    to_email=\"alice@openmined.org\",\n",
    "    model=\"llama3\",\n",
    "    prompt=\"Summarize the research notes and main findings.\",\n",
    "    system=\"You are a research assistant. Provide a concise summary of the research.\",\n",
    "    temperature=0.7,\n",
    "    files=[research_notes_path]\n",
    ")\n",
    "\n",
    "print(\"\\nResponse when trying to access unauthorized file:\")\n",
    "print(\"-\" * 80)\n",
    "print(response.response)\n",
    "print(\"-\" * 80)"
   ]
  },
  {
   "cell_type": "code",
   "execution_count": null,
   "id": "4a9a688a-6888-418a-920b-7ea5bc8a104e",
   "metadata": {},
   "outputs": [],
   "source": []
  }
 ],
 "metadata": {
  "kernelspec": {
   "display_name": "Python 3 (ipykernel)",
   "language": "python",
   "name": "python3"
  },
  "language_info": {
   "codemirror_mode": {
    "name": "ipython",
    "version": 3
   },
   "file_extension": ".py",
   "mimetype": "text/x-python",
   "name": "python",
   "nbconvert_exporter": "python",
   "pygments_lexer": "ipython3",
   "version": "3.13.1"
  }
 },
 "nbformat": 4,
 "nbformat_minor": 5
}
