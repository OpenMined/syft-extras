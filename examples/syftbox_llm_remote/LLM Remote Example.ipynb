{
 "cells": [
  {
   "cell_type": "code",
   "execution_count": 1,
   "id": "b3668cb1-6264-429f-9b37-da94a545ff0b",
   "metadata": {},
   "outputs": [],
   "source": [
    "from __future__ import annotations\n",
    "\n",
    "import os\n",
    "import time\n",
    "from pathlib import Path\n",
    "from loguru import logger\n",
    "\n",
    "# Import the client module\n",
    "from llama_remote import client\n",
    "\n",
    "# Helper function to create sample files\n",
    "def create_sample_file(file_path, content):\n",
    "    \"\"\"Create a sample file with the given content.\"\"\"\n",
    "    os.makedirs(os.path.dirname(file_path), exist_ok=True)\n",
    "    with open(file_path, 'w') as f:\n",
    "        f.write(content)\n",
    "    print(f\"Created sample file: {file_path}\")\n"
   ]
  },
  {
   "cell_type": "code",
   "execution_count": 2,
   "id": "c800dda2-94c9-4e12-bd26-d08b8c822712",
   "metadata": {},
   "outputs": [
    {
     "name": "stdout",
     "output_type": "stream",
     "text": [
      "\n",
      "--- Setting up clients ---\n",
      "Connected as: bob@openmined.org\n",
      "Connected as: alice@openmined.org\n"
     ]
    }
   ],
   "source": [
    "print(\"\\n--- Setting up clients ---\")\n",
    "# Creating Bob's client\n",
    "bob_client = client(\"~/.syft_bob_config.json\")\n",
    "print(f\"Connected as: {bob_client.client.email}\")\n",
    "\n",
    "# Creating Alice's client\n",
    "alice_client = client(\"~/.syft_alice_config.json\")\n",
    "print(f\"Connected as: {alice_client.client.email}\")"
   ]
  },
  {
   "cell_type": "code",
   "execution_count": null,
   "id": "8401af9d-dd04-461e-b455-c320cf3fa1ad",
   "metadata": {},
   "outputs": [],
   "source": []
  },
  {
   "cell_type": "code",
   "execution_count": null,
   "id": "3da28d25-914a-42df-b536-52b79612c585",
   "metadata": {},
   "outputs": [],
   "source": []
  },
  {
   "cell_type": "code",
   "execution_count": 3,
   "id": "8ae952f8-87f6-4fef-b776-f22405d53d0b",
   "metadata": {},
   "outputs": [],
   "source": [
    "# 1. Create sample private data files\n",
    "# We'll create sample files in both Alice and Bob's environments\n",
    "\n",
    "# Alice's private data - medical research\n",
    "alice_data_dir = str(alice_client.box.client.datasite_path) + \"/private_data\"\n",
    "alice_files = {\n",
    "    f\"{alice_data_dir}/patient_data.csv\": \"\"\"\n",
    "patient_id,age,gender,condition,treatment,outcome\n",
    "P001,45,F,Hypertension,Medication A,Improved\n",
    "P002,67,M,Diabetes,Medication B,Stable\n",
    "P003,33,F,Anxiety,Therapy C,Significantly Improved\n",
    "P004,52,M,Arthritis,Medication D,No Change\n",
    "P005,29,F,Depression,Therapy E,Improved\n",
    "\"\"\",\n",
    "    f\"{alice_data_dir}/research_notes.txt\": \"\"\"\n",
    "CONFIDENTIAL RESEARCH NOTES\n",
    "Date: 2025-03-01\n",
    "\n",
    "Our preliminary findings suggest that the new treatment protocol shows a 35% improvement \n",
    "in patient outcomes compared to the standard approach. Side effects were minimal \n",
    "and reported in only 7% of participants.\n",
    "\n",
    "Key observations:\n",
    "- Treatment efficacy increases with consistent administration\n",
    "- Age group 40-55 showed the most significant improvement\n",
    "- No correlation found between gender and treatment response\n",
    "\n",
    "Next steps: Expand trial to 200 additional patients and collect 6-month follow-up data.\n",
    "\"\"\"\n",
    "}"
   ]
  },
  {
   "cell_type": "code",
   "execution_count": 4,
   "id": "ea8c7bcf-7c6a-4a8b-b7d7-e8d3b5da6a95",
   "metadata": {},
   "outputs": [],
   "source": [
    "\n",
    "# Bob's private data - business metrics\n",
    "bob_data_dir = str(bob_client.box.client.datasite_path) + \"/company_data\"\n",
    "bob_files = {\n",
    "    f\"{bob_data_dir}/financial_metrics.csv\": \"\"\"\n",
    "quarter,revenue,expenses,profit,growth_rate\n",
    "Q1-2024,1250000,875000,375000,0.05\n",
    "Q2-2024,1375000,950000,425000,0.08\n",
    "Q3-2024,1450000,925000,525000,0.12\n",
    "Q4-2024,1650000,1050000,600000,0.15\n",
    "Q1-2025,1825000,1150000,675000,0.11\n",
    "\"\"\",\n",
    "    f\"{bob_data_dir}/strategic_plan.txt\": \"\"\"\n",
    "CONFIDENTIAL: STRATEGIC GROWTH PLAN 2025-2027\n",
    "\n",
    "Vision: Achieve 30% market share by end of 2027\n",
    "- Q2 2025: Launch new product line targeting SMB sector\n",
    "- Q4 2025: Expand operations to Asian markets\n",
    "- Q2 2026: Acquire competitor XYZ Technologies \n",
    "- Q4 2026: Roll out enterprise solution with advanced AI capabilities\n",
    "- Q2 2027: IPO preparation and valuation assessment\n",
    "\n",
    "Budget allocation:\n",
    "- R&D: 25%\n",
    "- Marketing: 30%\n",
    "- Operations: 35%\n",
    "- Acquisitions: 10%\n",
    "\n",
    "Expected outcomes:\n",
    "- Revenue growth: 25% YoY\n",
    "- New enterprise clients: 15-20 per quarter\n",
    "- Net profit margin: Increase from 18% to 24%\n",
    "\"\"\"\n",
    "}"
   ]
  },
  {
   "cell_type": "code",
   "execution_count": 5,
   "id": "30a41f35-ebe9-4983-87db-a0bdc8811333",
   "metadata": {},
   "outputs": [
    {
     "name": "stdout",
     "output_type": "stream",
     "text": [
      "Created sample file: /Users/atrask/Desktop/SyftBoxAlice/datasites/alice@openmined.org/private_data/patient_data.csv\n",
      "Created sample file: /Users/atrask/Desktop/SyftBoxAlice/datasites/alice@openmined.org/private_data/research_notes.txt\n",
      "Created sample file: /Users/atrask/Desktop/SyftBoxBob/datasites/bob@openmined.org/company_data/financial_metrics.csv\n",
      "Created sample file: /Users/atrask/Desktop/SyftBoxBob/datasites/bob@openmined.org/company_data/strategic_plan.txt\n"
     ]
    }
   ],
   "source": [
    "# Create the sample files\n",
    "for file_path, content in alice_files.items():\n",
    "    create_sample_file(file_path, content)\n",
    "\n",
    "for file_path, content in bob_files.items():\n",
    "    create_sample_file(file_path, content)\n"
   ]
  },
  {
   "cell_type": "code",
   "execution_count": 6,
   "id": "d82f51f7-4d07-4e36-837d-85f107c7c5ff",
   "metadata": {},
   "outputs": [
    {
     "name": "stdout",
     "output_type": "stream",
     "text": [
      "\n",
      "--- Setting file permissions ---\n"
     ]
    }
   ],
   "source": [
    "print(\"\\n--- Setting file permissions ---\")\n",
    "# Set permissions for Alice to access Bob's financial metrics\n",
    "alice_permissions = bob_client.set_file_permissions(\n",
    "    to_email=bob_client.client.email,  # Bob setting permissions on his own server\n",
    "    user_email=alice_client.client.email,  # For Alice\n",
    "    file_paths=[f\"{bob_data_dir}/financial_metrics.csv\"],  # Only allow access to this file\n",
    "    operation=\"set\"\n",
    ")"
   ]
  },
  {
   "cell_type": "code",
   "execution_count": 7,
   "id": "3767d86e-8c8f-47e1-bf14-6921a695cd61",
   "metadata": {},
   "outputs": [
    {
     "name": "stdout",
     "output_type": "stream",
     "text": [
      "Set Alice's permissions on Bob's server: True\n",
      "Alice can access: ['/Users/atrask/Desktop/SyftBoxBob/datasites/bob@openmined.org/company_data/financial_metrics.csv']\n"
     ]
    }
   ],
   "source": [
    "print(f\"Set Alice's permissions on Bob's server: {alice_permissions.success}\")\n",
    "print(f\"Alice can access: {alice_permissions.allowed_files}\")"
   ]
  },
  {
   "cell_type": "code",
   "execution_count": 8,
   "id": "243a45be-79ab-4b4d-a334-c7a88f1fb6b4",
   "metadata": {},
   "outputs": [
    {
     "name": "stdout",
     "output_type": "stream",
     "text": [
      "Set Bob's permissions on Alice's server: True\n",
      "Bob can access: ['/Users/atrask/Desktop/SyftBoxAlice/datasites/alice@openmined.org/private_data/patient_data.csv']\n"
     ]
    }
   ],
   "source": [
    "# Set permissions for Bob to access Alice's patient data\n",
    "bob_permissions = alice_client.set_file_permissions(\n",
    "    to_email=alice_client.client.email,  # Alice setting permissions on her own server\n",
    "    user_email=bob_client.client.email,  # For Bob\n",
    "    file_paths=[f\"{alice_data_dir}/patient_data.csv\"],  # Only allow access to this file\n",
    "    operation=\"set\"\n",
    ")\n",
    "print(f\"Set Bob's permissions on Alice's server: {bob_permissions.success}\")\n",
    "print(f\"Bob can access: {bob_permissions.allowed_files}\")"
   ]
  },
  {
   "cell_type": "code",
   "execution_count": 9,
   "id": "ef330d99-4eff-45ad-9c66-0b255928800b",
   "metadata": {},
   "outputs": [
    {
     "name": "stdout",
     "output_type": "stream",
     "text": [
      "\n",
      "--- Example 1: Alice queries Bob's LLM with Bob's financial data ---\n"
     ]
    }
   ],
   "source": [
    "print(\"\\n--- Example 1: Alice queries Bob's LLM with Bob's financial data ---\")\n",
    "prompt1 = \"Analyze the financial metrics in the file. What's the growth trend? What quarter had the highest profit?\"\n",
    "\n",
    "response1 = alice_client.generate(\n",
    "    to_email=bob_client.client.email,\n",
    "    model='llama3',\n",
    "    prompt=prompt1,\n",
    "    system=\"You are a financial analyst assistant. Provide concise insights based on the data.\",\n",
    "    temperature=0.7,\n",
    "    files=[f\"{bob_data_dir}/financial_metrics.csv\"]  # Including Bob's file in the context\n",
    ")"
   ]
  },
  {
   "cell_type": "code",
   "execution_count": 10,
   "id": "438565e8-0e53-4293-affb-30df822ec501",
   "metadata": {},
   "outputs": [
    {
     "name": "stdout",
     "output_type": "stream",
     "text": [
      "\n",
      "Response from Bob's LLM:\n",
      "----------------------------------------\n",
      "Based on the provided data, here are my concise insights:\n",
      "\n",
      "**Growth Trend:** The company's revenue and profit have been growing steadily over the past year (2024). The growth rate has also increased over time, with a high of 0.15 in Q4-2024. This suggests a positive trend in the company's financial performance.\n",
      "\n",
      "**Highest Profit Quarter:** Based on the data, Q4-2024 had the highest profit at $600,000, which is a 33% increase from the previous quarter ($450,000). This indicates that the company performed well in the fourth quarter of 2024.\n",
      "----------------------------------------\n"
     ]
    }
   ],
   "source": [
    "print(f\"\\nResponse from Bob's LLM:\\n{'-'*40}\\n{response1.response}\\n{'-'*40}\")\n"
   ]
  },
  {
   "cell_type": "code",
   "execution_count": null,
   "id": "a30b7592-34f4-4c48-b28c-856c82f9812d",
   "metadata": {},
   "outputs": [],
   "source": []
  },
  {
   "cell_type": "code",
   "execution_count": 11,
   "id": "604465a5-c403-4d7d-b7d9-65151f6c8498",
   "metadata": {},
   "outputs": [
    {
     "name": "stdout",
     "output_type": "stream",
     "text": [
      "\n",
      "--- Example 2: Bob queries Alice's LLM with Alice's patient data ---\n",
      "\n",
      "Response from Alice's LLM:\n",
      "----------------------------------------\n",
      "Based on the provided patient data, here's a summary:\n",
      "\n",
      "**Conditions being treated:**\n",
      "\n",
      "1. Hypertension (P001)\n",
      "2. Diabetes (P002)\n",
      "3. Anxiety (P003)\n",
      "4. Arthritis (P004)\n",
      "5. Depression (P005)\n",
      "\n",
      "These conditions are all chronic and require ongoing medical attention.\n",
      "\n",
      "**Age distribution:**\n",
      "\n",
      "The age range of the patients is 29-67 years old, with a mean age of approximately 44.5 years.\n",
      "\n",
      "Notable observations:\n",
      "\n",
      "* The youngest patient is 29 years old (P005), who has depression.\n",
      "* The oldest patient is 67 years old (P002), who has diabetes.\n",
      "* There are more female patients (3) than male patients (2).\n",
      "* All patients received either medication or therapy as a treatment option, with no surgical interventions reported.\n",
      "\n",
      "This summary provides an overview of the patient data, highlighting the conditions being treated and the age distribution. Further analysis can be performed to examine relationships between demographic variables, condition types, and treatment outcomes.\n",
      "----------------------------------------\n"
     ]
    }
   ],
   "source": [
    "print(\"\\n--- Example 2: Bob queries Alice's LLM with Alice's patient data ---\")\n",
    "prompt2 = \"Summarize the patient data in the file. What conditions are being treated? What's the age distribution?\"\n",
    "\n",
    "response2 = bob_client.generate(\n",
    "    to_email=alice_client.client.email,\n",
    "    model='llama3',\n",
    "    prompt=prompt2,\n",
    "    system=\"You are a healthcare research assistant. Provide analytical insights based on the data.\",\n",
    "    temperature=0.7,\n",
    "    files=[f\"{alice_data_dir}/patient_data.csv\"]  # Including Alice's file in the context\n",
    ")\n",
    "\n",
    "print(f\"\\nResponse from Alice's LLM:\\n{'-'*40}\\n{response2.response}\\n{'-'*40}\")"
   ]
  },
  {
   "cell_type": "code",
   "execution_count": 12,
   "id": "b3d364ce-e732-47bb-a4eb-9b5ffa533560",
   "metadata": {},
   "outputs": [
    {
     "name": "stdout",
     "output_type": "stream",
     "text": [
      "\n",
      "--- Example 3: Attempting to access unauthorized file ---\n",
      "\n",
      "Response when trying to access unauthorized file:\n",
      "----------------------------------------\n",
      "I'm happy to help! However, I don't see any file provided for me to summarize. Could you please share the strategic plan document with me? Once I review it, I'll be happy to provide you with a summary of the key points and insights.\n",
      "----------------------------------------\n"
     ]
    }
   ],
   "source": [
    "print(\"\\n--- Example 3: Attempting to access unauthorized file ---\")\n",
    "# Alice tries to access Bob's strategic plan (which she doesn't have permission for)\n",
    "prompt3 = \"Summarize the strategic plan in the file.\"\n",
    "\n",
    "response3 = alice_client.generate(\n",
    "    to_email=bob_client.client.email,\n",
    "    model='llama3',\n",
    "    prompt=prompt3,\n",
    "    system=\"You are a business analyst. Provide insights on the strategic plan.\",\n",
    "    temperature=0.7,\n",
    "    files=[f\"{bob_data_dir}/strategic_plan.txt\"]  # Trying to access unauthorized file\n",
    ")\n",
    "\n",
    "print(f\"\\nResponse when trying to access unauthorized file:\\n{'-'*40}\\n{response3.response}\\n{'-'*40}\")\n"
   ]
  },
  {
   "cell_type": "code",
   "execution_count": 13,
   "id": "c26e6022-3cdd-48f3-a4c3-0cc168b2ae3b",
   "metadata": {},
   "outputs": [
    {
     "name": "stdout",
     "output_type": "stream",
     "text": [
      "\n",
      "--- Example 4: Adding more permissions ---\n"
     ]
    }
   ],
   "source": [
    "print(\"\\n--- Example 4: Adding more permissions ---\")\n",
    "# Add permission for Alice to see the strategic plan too\n",
    "alice_more_permissions = bob_client.set_file_permissions(\n",
    "    to_email=bob_client.client.email,\n",
    "    user_email=alice_client.client.email,\n",
    "    file_paths=[f\"{bob_data_dir}/strategic_plan.txt\"],  \n",
    "    operation=\"add\"  # Add to existing permissions instead of replacing\n",
    ")"
   ]
  },
  {
   "cell_type": "code",
   "execution_count": 14,
   "id": "1fcb7494-97bc-477c-81b3-ee6fb3f40569",
   "metadata": {},
   "outputs": [
    {
     "name": "stdout",
     "output_type": "stream",
     "text": [
      "Updated Alice's permissions: True\n",
      "Alice can now access: ['/Users/atrask/Desktop/SyftBoxBob/datasites/bob@openmined.org/company_data/financial_metrics.csv', '/Users/atrask/Desktop/SyftBoxBob/datasites/bob@openmined.org/company_data/strategic_plan.txt']\n"
     ]
    }
   ],
   "source": [
    "\n",
    "print(f\"Updated Alice's permissions: {alice_more_permissions.success}\")\n",
    "print(f\"Alice can now access: {alice_more_permissions.allowed_files}\")\n"
   ]
  },
  {
   "cell_type": "code",
   "execution_count": 15,
   "id": "6409beb6-4d41-458e-8781-428c9a4d9ecd",
   "metadata": {},
   "outputs": [
    {
     "name": "stdout",
     "output_type": "stream",
     "text": [
      "\n",
      "Response after permission granted:\n",
      "----------------------------------------\n",
      "Based on the provided information, I will analyze the strategic plan for the company.\n",
      "\n",
      "**Strategic Plan:**\n",
      "\n",
      "The company aims to increase its market share by 15% within the next two years through a combination of organic growth and strategic acquisitions.\n",
      "\n",
      "**Key Milestones:**\n",
      "\n",
      "1. **Year 1 (2023-2024):**\n",
      "\t* Conduct market research and analysis to identify new business opportunities and potential acquisition targets.\n",
      "\t* Develop a comprehensive marketing strategy to increase brand awareness and drive leads.\n",
      "\t* Launch a new product or service offering to expand the company's portfolio.\n",
      "2. **Year 2 (2024-2025):**\n",
      "\t* Acquire at least two companies that complement the current business, expanding market share and capabilities.\n",
      "\t* Integrate acquired businesses into the existing operations, streamlining processes and reducing costs.\n",
      "\t* Continue to invest in marketing efforts and expand the sales team to capitalize on new opportunities.\n",
      "\n",
      "**Expected Outcomes:**\n",
      "\n",
      "1. **Increased Market Share:** Reach a 15% increase in market share within two years through organic growth and strategic acquisitions.\n",
      "2. **Revenue Growth:** Achieve an average annual revenue growth rate of 10% over the next two years, driven by increased sales from existing products and services, as well as new offerings.\n",
      "3. **Expanded Capabilities:** Strengthen the company's competitive position by acquiring businesses that bring new skills, expertise, and technologies to the table.\n",
      "4. **Improved Efficiency:** Streamline processes through integration of acquired companies, reducing costs and improving overall operational efficiency.\n",
      "5. **Enhanced Brand Recognition:** Increase brand awareness and reputation through targeted marketing efforts, positioning the company as a leader in its industry.\n",
      "\n",
      "**Risks and Challenges:**\n",
      "\n",
      "1. Integration challenges when acquiring new businesses, including cultural and process adjustments.\n",
      "2. Competition from existing players or new entrants in the market.\n",
      "3. Potential disruption to existing operations due to changes brought about by acquisitions.\n",
      "4. Difficulty in maintaining quality control and consistency across acquired companies.\n",
      "\n",
      "To mitigate these risks, it is essential for the company to:\n",
      "\n",
      "1. Conduct thorough due diligence on potential acquisition targets.\n",
      "2. Develop a clear integration strategy and timeline.\n",
      "3. Foster open communication with employees and customers throughout the process.\n",
      "4. Monitor market trends and adjust strategies as needed.\n",
      "\n",
      "By executing this strategic plan effectively, the company can achieve its goals, drive growth, and solidify its position in the market.\n",
      "----------------------------------------\n"
     ]
    }
   ],
   "source": [
    "# Now Alice tries again with the newly granted permission\n",
    "prompt4 = \"Analyze the strategic plan. What are the key milestones and expected outcomes?\"\n",
    "\n",
    "response4 = alice_client.generate(\n",
    "    to_email=bob_client.client.email,\n",
    "    model='llama3',\n",
    "    prompt=prompt4,\n",
    "    system=\"You are a business strategy consultant. Provide insights on the plan.\",\n",
    "    temperature=0.7,\n",
    "    files=[f\"{bob_data_dir}/strategic_plan.txt\"]  # Now should work\n",
    ")\n",
    "\n",
    "print(f\"\\nResponse after permission granted:\\n{'-'*40}\\n{response4.response}\\n{'-'*40}\")"
   ]
  },
  {
   "cell_type": "code",
   "execution_count": 16,
   "id": "236793e9-2a7b-4fe9-afc3-6cc32238c300",
   "metadata": {},
   "outputs": [],
   "source": [
    "# # Clean up sample files\n",
    "# print(\"\\n--- Cleaning up sample files ---\")\n",
    "# for file_path in alice_files:\n",
    "#     if os.path.exists(file_path):\n",
    "#         os.remove(file_path)\n",
    "#         print(f\"Removed file: {file_path}\")\n",
    "\n",
    "# for file_path in bob_files:\n",
    "#     if os.path.exists(file_path):\n",
    "#         os.remove(file_path)\n",
    "#         print(f\"Removed file: {file_path}\")"
   ]
  },
  {
   "cell_type": "code",
   "execution_count": null,
   "id": "1c0a595d-7f97-42df-b2fc-a22e3eed9cbb",
   "metadata": {},
   "outputs": [],
   "source": []
  }
 ],
 "metadata": {
  "kernelspec": {
   "display_name": "Python 3 (ipykernel)",
   "language": "python",
   "name": "python3"
  },
  "language_info": {
   "codemirror_mode": {
    "name": "ipython",
    "version": 3
   },
   "file_extension": ".py",
   "mimetype": "text/x-python",
   "name": "python",
   "nbconvert_exporter": "python",
   "pygments_lexer": "ipython3",
   "version": "3.13.1"
  }
 },
 "nbformat": 4,
 "nbformat_minor": 5
}
