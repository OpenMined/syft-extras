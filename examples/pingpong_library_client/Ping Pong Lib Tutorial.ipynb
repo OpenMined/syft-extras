{
    "cells": [
     {
      "cell_type": "markdown",
      "id": "intro-cell",
      "metadata": {},
      "source": [
       "# PingPong Library Tutorial\n",
       "\n",
       "## Introduction\n",
       "\n",
       "The PingPong library demonstrates how to build simple communication between Syft clients. It allows users to:\n",
       "\n",
       "1. **Send pings** to other Syft clients\n",
       "2. **Receive pings** and automatically respond with pongs\n",
       "3. **List available datasites** to communicate with\n",
       "\n",
       "This tutorial will walk you through setting up clients and exchanging pings between them.\n",
       "\n",
       "### How It Works\n",
       "\n",
       "PingPong uses Syft's remote procedure call (RPC) functionality to send messages between clients. Each client runs a server component in the background that listens for ping requests and responds with pongs."
      ]
     },
     {
      "cell_type": "markdown",
      "id": "setup-header",
      "metadata": {},
      "source": [
       "## 1. Setup\n",
       "\n",
       "First, let's import the PingPong library."
      ]
     },
     {
      "cell_type": "code",
      "execution_count": 1,
      "id": "0953d040-d56a-4003-b3a2-267ae74657a6",
      "metadata": {},
      "outputs": [],
      "source": [
       "import pingpong as pp"
      ]
     },
     {
      "cell_type": "markdown",
      "id": "client-setup-header",
      "metadata": {},
      "source": [
       "## 2. Creating Clients\n",
       "\n",
       "Let's create two PingPong clients. Each client connects to a Syft instance and runs a server in the background to respond to pings.\n",
       "\n",
       "### 2.1 Bob's Client\n",
       "\n",
       "We'll create a client for Bob using his config file. The logs will show the client connecting and starting the background server."
      ]
     },
     {
      "cell_type": "code",
      "execution_count": 2,
      "id": "1a88830a-ef68-402f-b328-47f2e6ea38cb",
      "metadata": {},
      "outputs": [
       {
        "name": "stderr",
        "output_type": "stream",
        "text": [
         "\u001b[32m2025-03-08 18:52:21.348\u001b[0m | \u001b[1mINFO    \u001b[0m | \u001b[36mpingpong\u001b[0m:\u001b[36m__init__\u001b[0m:\u001b[36m46\u001b[0m - \u001b[1m🔑 Connected as: bob@openmined.org\u001b[0m\n",
         "\u001b[32m2025-03-08 18:52:21.349\u001b[0m | \u001b[1mINFO    \u001b[0m | \u001b[36mpingpong\u001b[0m:\u001b[36m_run_server\u001b[0m:\u001b[36m64\u001b[0m - \u001b[1m🚀 SERVER: Running pong server as bob@openmined.org\u001b[0m\n",
         "\u001b[32m2025-03-08 18:52:21.349\u001b[0m | \u001b[1mINFO    \u001b[0m | \u001b[36mpingpong\u001b[0m:\u001b[36m_start_server\u001b[0m:\u001b[36m59\u001b[0m - \u001b[1m🔔 PingPong server started for bob@openmined.org\u001b[0m\n",
         "\u001b[32m2025-03-08 18:52:21.350\u001b[0m | \u001b[1mINFO    \u001b[0m | \u001b[36msyft_event.server2\u001b[0m:\u001b[36mregister_rpc\u001b[0m:\u001b[36m140\u001b[0m - \u001b[1mRegister RPC: /ping\u001b[0m\n",
         "\u001b[32m2025-03-08 18:52:21.350\u001b[0m | \u001b[1mINFO    \u001b[0m | \u001b[36mpingpong\u001b[0m:\u001b[36m_run_server\u001b[0m:\u001b[36m71\u001b[0m - \u001b[1m📡 SERVER: Listening for pings at /Users/atrask/Desktop/SyftBoxBob/datasites/bob@openmined.org/api_data/pingpong/rpc\u001b[0m\n",
         "\u001b[32m2025-03-08 18:52:21.353\u001b[0m | \u001b[1mINFO    \u001b[0m | \u001b[36msyft_event.server2\u001b[0m:\u001b[36mpublish_schema\u001b[0m:\u001b[36m96\u001b[0m - \u001b[1mPublished schema to /Users/atrask/Desktop/SyftBoxBob/datasites/bob@openmined.org/api_data/pingpong/rpc/rpc.schema.json\u001b[0m\n"
        ]
       }
      ],
      "source": [
       "# Create a client for Bob using his config file\n",
       "bob_client = pp.client(\"~/.syft_bob_config.json\")"
      ]
     },
     {
      "cell_type": "markdown",
      "id": "alice-client-header",
      "metadata": {},
      "source": [
       "### 2.2 Alice's Client\n",
       "\n",
       "Now let's create a second client for Alice. This will allow us to demonstrate communication between two different Syft instances."
      ]
     },
     {
      "cell_type": "code",
      "execution_count": 3,
      "id": "23ff1b8f-7cc4-45e8-a672-5059ade116d9",
      "metadata": {},
      "outputs": [
       {
        "name": "stderr",
        "output_type": "stream",
        "text": [
         "\u001b[32m2025-03-08 18:53:38.718\u001b[0m | \u001b[1mINFO    \u001b[0m | \u001b[36mpingpong\u001b[0m:\u001b[36m__init__\u001b[0m:\u001b[36m46\u001b[0m - \u001b[1m🔑 Connected as: alice@openmined.org\u001b[0m\n",
         "\u001b[32m2025-03-08 18:53:38.719\u001b[0m | \u001b[1mINFO    \u001b[0m | \u001b[36mpingpong\u001b[0m:\u001b[36m_run_server\u001b[0m:\u001b[36m64\u001b[0m - \u001b[1m🚀 SERVER: Running pong server as alice@openmined.org\u001b[0m\n",
         "\u001b[32m2025-03-08 18:53:38.719\u001b[0m | \u001b[1mINFO    \u001b[0m | \u001b[36mpingpong\u001b[0m:\u001b[36m_start_server\u001b[0m:\u001b[36m59\u001b[0m - \u001b[1m🔔 PingPong server started for alice@openmined.org\u001b[0m\n",
         "\u001b[32m2025-03-08 18:53:38.720\u001b[0m | \u001b[1mINFO    \u001b[0m | \u001b[36msyft_event.server2\u001b[0m:\u001b[36mregister_rpc\u001b[0m:\u001b[36m140\u001b[0m - \u001b[1mRegister RPC: /ping\u001b[0m\n",
         "\u001b[32m2025-03-08 18:53:38.720\u001b[0m | \u001b[1mINFO    \u001b[0m | \u001b[36mpingpong\u001b[0m:\u001b[36m_run_server\u001b[0m:\u001b[36m71\u001b[0m - \u001b[1m📡 SERVER: Listening for pings at /Users/atrask/Desktop/SyftBoxAlice/datasites/alice@openmined.org/api_data/pingpong/rpc\u001b[0m\n",
         "\u001b[32m2025-03-08 18:53:38.722\u001b[0m | \u001b[1mINFO    \u001b[0m | \u001b[36msyft_event.server2\u001b[0m:\u001b[36mpublish_schema\u001b[0m:\u001b[36m96\u001b[0m - \u001b[1mPublished schema to /Users/atrask/Desktop/SyftBoxAlice/datasites/alice@openmined.org/api_data/pingpong/rpc/rpc.schema.json\u001b[0m\n"
        ]
       }
      ],
      "source": [
       "# Create a client for Alice using her config file\n",
       "alice_client = pp.client(\"~/.syft_alice_config.json\")"
      ]
     },
     {
      "cell_type": "markdown",
      "id": "datasites-header",
      "metadata": {},
      "source": [
       "## 3. Listing Available Datasites\n",
       "\n",
       "Before sending a ping, we need to know which datasites (other users) are available to communicate with. The `list_datasites()` method returns all datasites that our client can see."
      ]
     },
     {
      "cell_type": "code",
      "execution_count": 4,
      "id": "list-datasites-code",
      "metadata": {},
      "outputs": [
       {
        "name": "stdout",
        "output_type": "stream",
        "text": [
         "Available datasites for Alice: 143 datasites found\n",
         "\n",
         "Some notable datasites:\n",
         "  - alice@openmined.org\n",
         "  - bob@openmined.org\n",
         "  - test@openmined.org\n",
         "  - dave@openmined.org\n",
         "  - andrew@openmined.org\n"
        ]
       }
      ],
      "source": [
       "# List available datasites for Alice\n",
       "datasites = alice_client.list_datasites()\n",
       "\n",
       "# Show a summary instead of the full list\n",
       "print(f\"Available datasites for Alice: {len(datasites)} datasites found\")\n",
       "print()\n",
       "print(\"Some notable datasites:\")\n",
       "for ds in ['alice@openmined.org', 'bob@openmined.org', 'test@openmined.org', \n",
       "           'dave@openmined.org', 'andrew@openmined.org']:\n",
       "    if ds in datasites:\n",
       "        print(f\"  - {ds}\")"
      ]
     },
     {
      "cell_type": "markdown",
      "id": "ds-check-header",
      "metadata": {},
      "source": [
       "## 4. Sending a Ping\n",
       "\n",
       "Now let's have Bob send a ping to Alice. The client's `ping()` method takes the target datasite as an argument.\n",
       "\n",
       "When Bob pings Alice:\n",
       "1. Bob's client sends a ping request to Alice's server\n",
       "2. Alice's server receives the ping and automatically responds with a pong\n",
       "3. Bob's client receives the pong response\n",
       "\n",
       "Watch the logs to see the message flow:"
      ]
     },
     {
      "cell_type": "code",
      "execution_count": 5,
      "id": "df49b618-8b82-42ae-ad3c-108c7b70c09f",
      "metadata": {},
      "outputs": [
       {
        "name": "stderr",
        "output_type": "stream",
        "text": [
         "\u001b[32m2025-03-08 18:53:41.934\u001b[0m | \u001b[1mINFO    \u001b[0m | \u001b[36mpingpong\u001b[0m:\u001b[36mping\u001b[0m:\u001b[36m124\u001b[0m - \u001b[1m📤 SENDING: Ping to alice@openmined.org\u001b[0m\n",
         "\u001b[32m2025-03-08 18:53:46.863\u001b[0m | \u001b[34m\u001b[1mDEBUG   \u001b[0m | \u001b[36msyft_event.handlers\u001b[0m:\u001b[36mon_any_event\u001b[0m:\u001b[36m31\u001b[0m - \u001b[34m\u001b[1mFSEvent - created - /Users/atrask/Desktop/SyftBoxAlice/datasites/alice@openmined.org/api_data/pingpong/rpc/ping/0313874f-f261-425c-b753-5961d6bdddfb.request\u001b[0m\n",
         "\u001b[32m2025-03-08 18:53:46.864\u001b[0m | \u001b[1mINFO    \u001b[0m | \u001b[36mpingpong\u001b[0m:\u001b[36m_pong\u001b[0m:\u001b[36m102\u001b[0m - \u001b[1m🔔 RECEIVED: Ping request - msg='Hello from bob@openmined.org!' ts=datetime.datetime(2025, 3, 8, 23, 53, 41, 934953, tzinfo=TzInfo(UTC))\u001b[0m\n",
         "\u001b[32m2025-03-08 18:53:50.130\u001b[0m | \u001b[1mINFO    \u001b[0m | \u001b[36mpingpong\u001b[0m:\u001b[36mping\u001b[0m:\u001b[36m142\u001b[0m - \u001b[1m📥 RECEIVED: Pong from alice@openmined.org. Time: 8.20s\u001b[0m\n"
        ]
       }
      ],
      "source": [
       "# Bob pings Alice\n",
       "response = bob_client.ping(\"alice@openmined.org\")"
      ]
     },
     {
      "cell_type": "markdown",
      "id": "response-header",
      "metadata": {},
      "source": [
       "## 5. Examining the Response\n",
       "\n",
       "Let's look at the response Bob received from Alice. This is a `PongResponse` object that contains the message and timestamp."
      ]
     },
     {
      "cell_type": "code",
      "execution_count": 6,
      "id": "9c5a9dc6-9303-4ea3-8b81-c2c1b2ba3ad7",
      "metadata": {},
      "outputs": [
       {
        "data": {
         "text/plain": [
          "PongResponse(msg='Pong from alice@openmined.org', ts=datetime.datetime(2025, 3, 8, 23, 53, 46, 865060, tzinfo=TzInfo(UTC)))"
         ]
        },
        "execution_count": 6,
        "metadata": {},
        "output_type": "execute_result"
       }
      ],
      "source": [
       "# Examine the response\n",
       "response"
      ]
     },
     {
      "cell_type": "markdown",
      "id": "response-details",
      "metadata": {},
      "source": [
       "We can access individual fields of the response:"
      ]
     },
     {
      "cell_type": "code",
      "execution_count": 7,
      "id": "fields-extraction",
      "metadata": {},
      "outputs": [
       {
        "name": "stdout",
        "output_type": "stream",
        "text": [
         "Message received: Pong from alice@openmined.org\n",
         "Timestamp: 2025-03-08 23:53:46.865060+00:00\n"
        ]
       }
      ],
      "source": [
       "print(f\"Message received: {response.msg}\")\n",
       "print(f\"Timestamp: {response.ts}\")"
      ]
     },
     {
      "cell_type": "markdown",
      "id": "alice-ping-header",
      "metadata": {},
      "source": [
       "## 6. Reverse Direction - Alice Pings Bob\n",
       "\n",
       "Let's try the reverse direction to show bidirectional communication. Now Alice will ping Bob:"
      ]
     },
     {
      "cell_type": "code",
      "execution_count": 8,
      "id": "alice-ping-bob",
      "metadata": {},
      "outputs": [
       {
        "name": "stderr",
        "output_type": "stream",
        "text": [
         "\u001b[32m2025-03-08 18:54:10.712\u001b[0m | \u001b[1mINFO    \u001b[0m | \u001b[36mpingpong\u001b[0m:\u001b[36mping\u001b[0m:\u001b[36m124\u001b[0m - \u001b[1m📤 SENDING: Ping to bob@openmined.org\u001b[0m\n",
         "\u001b[32m2025-03-08 18:54:11.763\u001b[0m | \u001b[34m\u001b[1mDEBUG   \u001b[0m | \u001b[36msyft_event.handlers\u001b[0m:\u001b[36mon_any_event\u001b[0m:\u001b[36m31\u001b[0m - \u001b[34m\u001b[1mFSEvent - created - /Users/atrask/Desktop/SyftBoxBob/datasites/bob@openmined.org/api_data/pingpong/rpc/ping/f38d9c71-3a1c-4f6a-baa5-9e6a93e0a7b2.request\u001b[0m\n",
         "\u001b[32m2025-03-08 18:54:11.765\u001b[0m | \u001b[1mINFO    \u001b[0m | \u001b[36mpingpong\u001b[0m:\u001b[36m_pong\u001b[0m:\u001b[36m102\u001b[0m - \u001b[1m🔔 RECEIVED: Ping request - msg='Hello from alice@openmined.org!' ts=datetime.datetime(2025, 3, 8, 23, 54, 10, 712541, tzinfo=TzInfo(UTC))\u001b[0m\n",
         "\u001b[32m2025-03-08 18:54:13.942\u001b[0m | \u001b[1mINFO    \u001b[0m | \u001b[36mpingpong\u001b[0m:\u001b[36mping\u001b[0m:\u001b[36m142\u001b[0m - \u001b[1m📥 RECEIVED: Pong from bob@openmined.org. Time: 3.23s\u001b[0m\n"
        ]
       }
      ],
      "source": [
       "# Alice pings Bob\n",
       "reverse_response = alice_client.ping(\"bob@openmined.org\")"
      ]
     },
     {
      "cell_type": "code",
      "execution_count": 9,
      "id": "reverse-response-display",
      "metadata": {},
      "outputs": [
       {
        "name": "stdout",
        "output_type": "stream",
        "text": [
         "Message received: Pong from bob@openmined.org\n",
         "Timestamp: 2025-03-08 23:54:11.765352+00:00\n"
        ]
       }
      ],
      "source": [
       "print(f\"Message received: {reverse_response.msg}\")\n",
       "print(f\"Timestamp: {reverse_response.ts}\")"
      ]
     },
     {
      "cell_type": "markdown",
      "id": "error-handling-header",
      "metadata": {},
      "source": [
       "## 7. Error Handling\n",
       "\n",
       "Let's see what happens when we try to ping a non-existent datasite:"
      ]
     },
     {
      "cell_type": "code",
      "execution_count": 10,
      "id": "error-handling-code",
      "metadata": {},
      "outputs": [
       {
        "name": "stderr",
        "output_type": "stream",
        "text": [
         "\u001b[32m2025-03-08 18:54:25.315\u001b[0m | \u001b[31m\u001b[1mERROR   \u001b[0m | \u001b[36mpingpong\u001b[0m:\u001b[36mping\u001b[0m:\u001b[36m117\u001b[0m - \u001b[31m\u001b[1mInvalid datasite: nonexistent@openmined.org\u001b[0m\n",
         "\u001b[32m2025-03-08 18:54:25.315\u001b[0m | \u001b[1mINFO    \u001b[0m | \u001b[36mpingpong\u001b[0m:\u001b[36mping\u001b[0m:\u001b[36m119\u001b[0m - \u001b[1mAvailable datasites:\u001b[0m\n",
         "\u001b[32m2025-03-08 18:54:25.316\u001b[0m | \u001b[1mINFO    \u001b[0m | \u001b[36mpingpong\u001b[0m:\u001b[36mping\u001b[0m:\u001b[36m121\u001b[0m - \u001b[1m  - Morganabuell98@gmail.com\u001b[0m\n",
         "\u001b[32m2025-03-08 18:54:25.316\u001b[0m | \u001b[1mINFO    \u001b[0m | \u001b[36mpingpong\u001b[0m:\u001b[36mping\u001b[0m:\u001b[36m121\u001b[0m - \u001b[1m  - a@gmail.com\u001b[0m\n",
         "\u001b[32m2025-03-08 18:54:25.316\u001b[0m | \u001b[1mINFO    \u001b[0m | \u001b[36mpingpong\u001b[0m:\u001b[36mping\u001b[0m:\u001b[36m121\u001b[0m - \u001b[1m  - a@openmined.org\u001b[0m\n",
         "\u001b[32m2025-03-08 18:54:25.316\u001b[0m | \u001b[1mINFO    \u001b[0m | \u001b[36mpingpong\u001b[0m:\u001b[36mping\u001b[0m:\u001b[36m121\u001b[0m - \u001b[1m  - abinvarghese90@gmail.com\u001b[0m\n",
         "\u001b[32m2025-03-08 18:54:25.316\u001b[0m | \u001b[1mINFO    \u001b[0m | \u001b[36mpingpong\u001b[0m:\u001b[36mping\u001b[0m:\u001b[36m121\u001b[0m - \u001b[1m  - alice@openmined.org\u001b[0m\n"
        ]
       }
      ],
      "source": [
       "# Try to ping a non-existent datasite\n",
       "error_response = bob_client.ping(\"nonexistent@openmined.org\")"
      ]
     },
     {
      "cell_type": "code",
      "execution_count": 11,
      "id": "error-result-display",
      "metadata": {},
      "outputs": [
       {
        "name": "stdout",
        "output_type": "stream",
        "text": [
         "Response when pinging invalid datasite: None\n"
        ]
       }
      ],
      "source": [
       "print(f\"Response when pinging invalid datasite: {error_response}\")"
      ]
     },
     {
      "cell_type": "markdown",
      "id": "cleanup-header",
      "metadata": {},
      "source": [
       "## 8. Cleanup\n",
       "\n",
       "When we're done, we should properly close the clients to shut down the background servers."
      ]
     },
     {
      "cell_type": "code",
      "execution_count": 12,
      "id": "de1751c8-e6c1-4eed-b58a-8bd037a15e09",
      "metadata": {},
      "outputs": [
       {
        "name": "stderr",
        "output_type": "stream",
        "text": [
         "\u001b[32m2025-03-08 18:53:56.979\u001b[0m | \u001b[1mINFO    \u001b[0m | \u001b[36mpingpong\u001b[0m:\u001b[36mclose\u001b[0m:\u001b[36m162\u001b[0m - \u001b[1m👋 Shutting down PingPong client...\u001b[0m\n"
        ]
       }
      ],
      "source": [
       "# Close Bob's client\n",
       "bob_client.close()"
      ]
     },
     {
      "cell_type": "code",
      "execution_count": 13,
      "id": "2538fd96-0bce-4aa1-a7c6-5a02e19d84b6",
      "metadata": {},
      "outputs": [
       {
        "name": "stderr",
        "output_type": "stream",
        "text": [
         "\u001b[32m2025-03-08 18:53:59.531\u001b[0m | \u001b[1mINFO    \u001b[0m | \u001b[36mpingpong\u001b[0m:\u001b[36mclose\u001b[0m:\u001b[36m162\u001b[0m - \u001b[1m👋 Shutting down PingPong client...\u001b[0m\n"
        ]
       }
      ],
      "source": [
       "# Close Alice's client\n",
       "alice_client.close()"
      ]
     },
     {
      "cell_type": "markdown",
      "id": "summary-header",
      "metadata": {},
      "source": [
       "## 9. Summary\n",
       "\n",
       "In this tutorial, we've demonstrated:\n",
       "\n",
       "1. Creating PingPong clients for different Syft instances\n",
       "2. Listing available datasites\n",
       "3. Sending pings between clients\n",
       "4. Receiving pong responses\n",
       "5. Handling errors for invalid datasites\n",
       "6. Properly cleaning up resources\n",
       "\n",
       "The PingPong library provides a simple example of how to build communication between Syft clients. This pattern can be extended to create more complex distributed applications."
      ]
     },
     {
      "cell_type": "markdown",
      "id": "additional-info",
      "metadata": {},
      "source": [
       "## 10. Additional Information\n",
       "\n",
       "### Common Issues\n",
       "\n",
       "- **Connection timeouts**: If pings take too long to respond, the client might time out. The default timeout is 30 seconds.\n",
       "- **Missing datasites**: Make sure the target datasite exists and your client has permission to access it.\n",
       "- **Server already running**: If you see watchdog errors about directories already being watched, it means another server is already monitoring that directory.\n",
       "\n",
       "### Next Steps\n",
       "\n",
       "- Extend the PingPong library to send custom messages\n",
       "- Implement more complex RPC calls between clients\n",
       "- Use this pattern to build distributed applications on Syft"
      ]
     },
     {
      "cell_type": "code",
      "execution_count": null,
      "id": "301acb87-394f-49db-959b-74c9c7a5c81e",
      "metadata": {},
      "outputs": [],
      "source": []
     }
    ],
    "metadata": {
     "kernelspec": {
      "display_name": "Python 3 (ipykernel)",
      "language": "python",
      "name": "python3"
     },
     "language_info": {
      "codemirror_mode": {
       "name": "ipython",
       "version": 3
      },
      "file_extension": ".py",
      "mimetype": "text/x-python",
      "name": "python",
      "nbconvert_exporter": "python",
      "pygments_lexer": "ipython3",
      "version": "3.13.1"
     }
    },
    "nbformat": 4,
    "nbformat_minor": 5
   }