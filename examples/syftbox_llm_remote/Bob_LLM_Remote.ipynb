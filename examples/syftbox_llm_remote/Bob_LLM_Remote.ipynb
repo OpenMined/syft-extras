{
 "cells": [
  {
   "cell_type": "markdown",
   "id": "d82f51f7-4d07-4e36-837d-85f107c7c5ff",
   "metadata": {},
   "source": [
    "# Bob's LLM Remote Example\n",
    "\n",
    "This notebook demonstrates how Bob can set up his data, grant permissions to Alice, and use the LLM remote functionality."
   ]
  },
  {
   "cell_type": "code",
   "execution_count": 1,
   "id": "b3668cb1-6264-429f-9b37-da94a545ff0b",
   "metadata": {},
   "outputs": [],
   "source": [
    "from __future__ import annotations\n",
    "\n",
    "import os\n",
    "import time\n",
    "from pathlib import Path\n",
    "from loguru import logger\n",
    "\n",
    "# Import the client module\n",
    "from llama_remote import client\n",
    "\n",
    "# Helper function to create sample files\n",
    "def create_sample_file(file_path, content):\n",
    "    \"\"\"Create a sample file with the given content.\"\"\"\n",
    "    os.makedirs(os.path.dirname(file_path), exist_ok=True)\n",
    "    with open(file_path, 'w') as f:\n",
    "        f.write(content)\n",
    "    print(f\"Created sample file: {file_path}\")"
   ]
  },
  {
   "cell_type": "code",
   "execution_count": 2,
   "id": "c800dda2-94c9-4e12-bd26-d08b8c822712",
   "metadata": {},
   "outputs": [
    {
     "name": "stdout",
     "output_type": "stream",
     "text": [
      "Connected as: bob@openmined.org\n"
     ]
    }
   ],
   "source": [
    "# Creating Bob's client\n",
    "bob_client = client(\"~/.syft_bob_config.json\")\n",
    "print(f\"Connected as: {bob_client.client.email}\")"
   ]
  },
  {
   "cell_type": "markdown",
   "id": "8401af9d-dd04-461e-b455-c320cf3fa1ad",
   "metadata": {},
   "source": [
    "## Create Bob's Private Business Data"
   ]
  },
  {
   "cell_type": "code",
   "execution_count": 3,
   "id": "ea8c7bcf-7c6a-4a8b-b7d7-e8d3b5da6a95",
   "metadata": {},
   "outputs": [
    {
     "name": "stdout",
     "output_type": "stream",
     "text": [
      "Created sample file: /Users/atrask/Desktop/SyftBoxBob/datasites/bob@openmined.org/company_data/financial_metrics.csv\n",
      "Created sample file: /Users/atrask/Desktop/SyftBoxBob/datasites/bob@openmined.org/company_data/strategic_plan.txt\n"
     ]
    }
   ],
   "source": [
    "# Bob's private data - business metrics\n",
    "bob_data_dir = str(bob_client.box.client.datasite_path) + \"/company_data\"\n",
    "bob_files = {\n",
    "    f\"{bob_data_dir}/financial_metrics.csv\": \"\"\"\n",
    "quarter,revenue,expenses,profit,growth_rate\n",
    "Q1-2024,1250000,875000,375000,0.05\n",
    "Q2-2024,1375000,950000,425000,0.08\n",
    "Q3-2024,1450000,925000,525000,0.12\n",
    "Q4-2024,1650000,1050000,600000,0.15\n",
    "Q1-2025,1825000,1150000,675000,0.11\n",
    "\"\"\",\n",
    "    f\"{bob_data_dir}/strategic_plan.txt\": \"\"\"\n",
    "CONFIDENTIAL: STRATEGIC GROWTH PLAN 2025-2027\n",
    "\n",
    "Vision: Achieve 30% market share by end of 2027\n",
    "- Q2 2025: Launch new product line targeting SMB sector\n",
    "- Q4 2025: Expand operations to Asian markets\n",
    "- Q2 2026: Acquire competitor XYZ Technologies \n",
    "- Q4 2026: Roll out enterprise solution with advanced AI capabilities\n",
    "- Q2 2027: IPO preparation and valuation assessment\n",
    "\n",
    "Budget allocation:\n",
    "- R&D: 25%\n",
    "- Marketing: 30%\n",
    "- Operations: 35%\n",
    "- Acquisitions: 10%\n",
    "\n",
    "Expected outcomes:\n",
    "- Revenue growth: 25% YoY\n",
    "- New enterprise clients: 15-20 per quarter\n",
    "- Net profit margin: Increase from 18% to 24%\n",
    "\"\"\"\n",
    "}\n",
    "\n",
    "# Create the sample files\n",
    "for file_path, content in bob_files.items():\n",
    "    create_sample_file(file_path, content)"
   ]
  },
  {
   "cell_type": "markdown",
   "id": "3da28d25-914a-42df-b536-52b79612c585",
   "metadata": {},
   "source": [
    "## Setting File Permissions for Alice"
   ]
  },
  {
   "cell_type": "code",
   "execution_count": 4,
   "id": "68dcb3ec",
   "metadata": {},
   "outputs": [
    {
     "name": "stdout",
     "output_type": "stream",
     "text": [
      "Set Alice's permissions on Bob's server: True\n",
      "Alice can access: ['/Users/atrask/Desktop/SyftBoxBob/datasites/bob@openmined.org/company_data/financial_metrics.csv']\n"
     ]
    }
   ],
   "source": [
    "# Set permissions for Alice to access Bob's financial metrics\n",
    "alice_permissions = bob_client.set_file_permissions(\n",
    "    to_email=bob_client.client.email,  # Bob setting permissions on his own server\n",
    "    user_email=\"alice@openmined.org\",  # For Alice\n",
    "    file_paths=[f\"{bob_data_dir}/financial_metrics.csv\"],  # Only allow access to this file\n",
    "    operation=\"set\"\n",
    ")\n",
    "\n",
    "print(f\"Set Alice's permissions on Bob's server: {alice_permissions.success}\")\n",
    "print(f\"Alice can access: {alice_permissions.allowed_files}\")"
   ]
  },
  {
   "cell_type": "markdown",
   "id": "8ae952f8-87f6-4fef-b776-f22405d53d0b",
   "metadata": {},
   "source": [
    "## Testing Bob's Client with Own Data"
   ]
  },
  {
   "cell_type": "code",
   "execution_count": 5,
   "id": "b3d364ce-e732-47bb-a4eb-9b5ffa533560",
   "metadata": {},
   "outputs": [
    {
     "name": "stdout",
     "output_type": "stream",
     "text": [
      "\n",
      "Response from Bob's LLM on his own data:\n",
      "----------------------------------------\n",
      "Error: User bob@openmined.org does not have permission to access file: /Users/atrask/Desktop/SyftBoxBob/datasites/bob@openmined.org/company_data/financial_metrics.csv\n",
      "----------------------------------------\n"
     ]
    }
   ],
   "source": [
    "prompt = \"Analyze the financial metrics in the file. What's the growth trend? What quarter had the highest profit?\"\n",
    "\n",
    "response = bob_client.generate(\n",
    "    to_email=bob_client.client.email,  # Bob querying his own data\n",
    "    model='llama3',\n",
    "    prompt=prompt,\n",
    "    system=\"You are a financial analyst assistant. Provide concise insights based on the data.\",\n",
    "    temperature=0.7,\n",
    "    files=[f\"{bob_data_dir}/financial_metrics.csv\"]  # Using Bob's file\n",
    ")\n",
    "\n",
    "print(f\"\\nResponse from Bob's LLM on his own data:\\n{'-'*40}\\n{response.response}\\n{'-'*40}\")"
   ]
  },
  {
   "cell_type": "markdown",
   "id": "6409beb6-4d41-458e-8781-428c9a4d9ecd",
   "metadata": {},
   "source": [
    "## Later: Adding More Permissions for Alice"
   ]
  },
  {
   "cell_type": "code",
   "execution_count": 6,
   "id": "c26e6022-3cdd-48f3-a4c3-0cc168b2ae3b",
   "metadata": {},
   "outputs": [
    {
     "name": "stdout",
     "output_type": "stream",
     "text": [
      "Updated Alice's permissions: True\n",
      "Alice can now access: ['/Users/atrask/Desktop/SyftBoxBob/datasites/bob@openmined.org/company_data/strategic_plan.txt']\n"
     ]
    }
   ],
   "source": [
    "# Add permission for Alice to see the strategic plan too\n",
    "alice_more_permissions = bob_client.set_file_permissions(\n",
    "    to_email=bob_client.client.email,\n",
    "    user_email=\"alice@openmined.org\",\n",
    "    file_paths=[f\"{bob_data_dir}/strategic_plan.txt\"],  \n",
    "    operation=\"add\"  # Add to existing permissions instead of replacing\n",
    ")\n",
    "\n",
    "print(f\"Updated Alice's permissions: {alice_more_permissions.success}\")\n",
    "print(f\"Alice can now access: {alice_more_permissions.allowed_files}\")"
   ]
  },
  {
   "cell_type": "markdown",
   "id": "1fcb7494-97bc-477c-81b3-ee6fb3f40569",
   "metadata": {},
   "source": [
    "## Testing Connection to Alice's LLM (if available)"
   ]
  },
  {
   "cell_type": "code",
   "execution_count": 7,
   "id": "a30b7592-34f4-4c48-b28c-856c82f9812d",
   "metadata": {},
   "outputs": [
    {
     "name": "stdout",
     "output_type": "stream",
     "text": [
      "Alice's datasite is available. Bob can try to access Alice's data.\n",
      "Bob has access to these files on Alice's datasite:\n",
      "  - /Users/atrask/Desktop/SyftBoxAlice/datasites/alice@openmined.org/private_data/patient_data.csv\n",
      "\n",
      "Response from Alice's LLM:\n",
      "----------------------------------------\n",
      "The provided CSV file contains patient data from an imaginary healthcare system. The data includes:\n",
      "\n",
      "* Patient ID (P001-P005)\n",
      "* Age (range: 29-67 years old)\n",
      "* Gender (F for female, M for male)\n",
      "* Medical condition (Hypertension, Diabetes, Anxiety, Arthritis, Depression)\n",
      "* Treatment type (Medication A-D, Therapy C-E)\n",
      "* Outcome (Improved, Stable, No Change, Significantly Improved)\n",
      "\n",
      "The data appears to be a small sample of patients with different medical conditions and treatment approaches. The outcomes suggest that some treatments were effective in improving patient symptoms, while others did not lead to significant changes.\n",
      "----------------------------------------\n"
     ]
    }
   ],
   "source": [
    "# This assumes Alice has already set up her client and granted permissions to Bob\n",
    "try:\n",
    "    # Check if Alice's datasite is available\n",
    "    datasites = bob_client.list_datasites()\n",
    "    alice_email = \"alice@openmined.org\"\n",
    "    \n",
    "    if alice_email in datasites:\n",
    "        print(f\"Alice's datasite is available. Bob can try to access Alice's data.\")\n",
    "        \n",
    "        # List what files Bob has access to on Alice's datasite\n",
    "        permitted_files = bob_client.list_permitted_files(\n",
    "            to_email=alice_email,\n",
    "            user_email=bob_client.client.email\n",
    "        )\n",
    "        \n",
    "        if permitted_files and permitted_files.allowed_files:\n",
    "            print(f\"Bob has access to these files on Alice's datasite:\")\n",
    "            for file_path in permitted_files.allowed_files:\n",
    "                print(f\"  - {file_path}\")\n",
    "                \n",
    "            # Try to query one of Alice's files Bob has permission to access\n",
    "            sample_file = permitted_files.allowed_files[0]\n",
    "            prompt = \"Summarize the data in this file.\"\n",
    "            \n",
    "            response = bob_client.generate(\n",
    "                to_email=alice_email,\n",
    "                model='llama3',\n",
    "                prompt=prompt,\n",
    "                system=\"Provide a concise analysis of the data.\",\n",
    "                temperature=0.7,\n",
    "                files=[sample_file]\n",
    "            )\n",
    "            \n",
    "            print(f\"\\nResponse from Alice's LLM:\\n{'-'*40}\\n{response.response}\\n{'-'*40}\")\n",
    "        else:\n",
    "            print(\"Bob doesn't have permission to access any files on Alice's datasite yet.\")\n",
    "    else:\n",
    "        print(f\"Alice's datasite is not available.\")\n",
    "        print(f\"Available datasites: {datasites}\")\n",
    "except Exception as e:\n",
    "    print(f\"Error when trying to access Alice's datasite: {e}\")"
   ]
  },
  {
   "cell_type": "code",
   "execution_count": null,
   "id": "1c0a595d-7f97-42df-b2fc-a22e3eed9cbb",
   "metadata": {},
   "outputs": [],
   "source": []
  },
  {
   "cell_type": "code",
   "execution_count": null,
   "id": "59534fe1-7c2b-40a2-8b7d-2c815f79eaaf",
   "metadata": {},
   "outputs": [],
   "source": []
  }
 ],
 "metadata": {
  "kernelspec": {
   "display_name": "Python 3 (ipykernel)",
   "language": "python",
   "name": "python3"
  },
  "language_info": {
   "codemirror_mode": {
    "name": "ipython",
    "version": 3
   },
   "file_extension": ".py",
   "mimetype": "text/x-python",
   "name": "python",
   "nbconvert_exporter": "python",
   "pygments_lexer": "ipython3",
   "version": "3.13.1"
  }
 },
 "nbformat": 4,
 "nbformat_minor": 5
}
