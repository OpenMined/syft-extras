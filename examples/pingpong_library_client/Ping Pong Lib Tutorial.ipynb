{
 "cells": [
  {
   "cell_type": "markdown",
   "id": "intro-cell",
   "metadata": {},
   "source": [
    "# Syft RPC Application Template Tutorial\n",
    "\n",
    "## Introduction\n",
    "\n",
    "This tutorial demonstrates how to use the Syft RPC Application Template to build distributed applications with bidirectional communication between Syft datasites. The template provides a foundation for creating applications that can:\n",
    "\n",
    "1. **Send requests** to other Syft datasites\n",
    "2. **Receive and process requests** from other datasites\n",
    "3. **Discover available datasites** and identify which ones have compatible services\n",
    "\n",
    "We'll explore two use cases:\n",
    "\n",
    "1. **PingPong**: A simple example included with the template that demonstrates basic request-response functionality\n",
    "2. **Custom Application**: How to build your own application by extending the template\n",
    "\n",
    "### How It Works\n",
    "\n",
    "The template combines server and client functionality:\n",
    "\n",
    "- **Server Component**: Runs in a background thread to listen for and respond to incoming requests\n",
    "- **Client Component**: Sends requests to other datasites and processes responses\n",
    "\n",
    "This dual-mode operation allows each instance to both provide and consume services."
   ]
  },
  {
   "cell_type": "markdown",
   "id": "setup-header",
   "metadata": {},
   "source": [
    "## 1. Setup\n",
    "\n",
    "First, let's import the PingPong library which contains our RPC application template:"
   ]
  },
  {
   "cell_type": "code",
   "execution_count": 1,
   "id": "import-cell",
   "metadata": {},
   "outputs": [],
   "source": [
    "import pingpong as pp"
   ]
  },
  {
   "cell_type": "markdown",
   "id": "setup-info",
   "metadata": {},
   "source": [
    "### Environment Prerequisites\n",
    "\n",
    "This notebook assumes you have set up Syft with at least one datasite. For a complete testing environment, you'll want to have two or more SyftBox clients running with different accounts.\n",
    "\n",
    "For example:\n",
    "- Alice's SyftBox on port 8082\n",
    "- Bob's SyftBox on port 8081\n",
    "\n",
    "See the README.md for instructions on setting up these environments."
   ]
  },
  {
   "cell_type": "markdown",
   "id": "pingpong-section",
   "metadata": {},
   "source": [
    "## 2. Using the PingPong Example\n",
    "\n",
    "Let's start with the included PingPong example, which demonstrates the basic functionality of the template."
   ]
  },
  {
   "cell_type": "markdown",
   "id": "pingpong-client-header",
   "metadata": {},
   "source": [
    "### 2.1 Creating PingPong Clients\n",
    "\n",
    "We'll create clients connected to our SyftBox instances. Each client will start a server in the background."
   ]
  },
  {
   "cell_type": "code",
   "execution_count": 2,
   "id": "bob-client-cell",
   "metadata": {},
   "outputs": [
    {
     "name": "stderr",
     "output_type": "stream",
     "text": [
      "\u001b[32m2025-03-08 19:30:00.973\u001b[0m | \u001b[1mINFO    \u001b[0m | \u001b[36mpingpong\u001b[0m:\u001b[36m__init__\u001b[0m:\u001b[36m67\u001b[0m - \u001b[1m🔑 Connected as: bob@openmined.org\u001b[0m\n",
      "\u001b[32m2025-03-08 19:30:00.973\u001b[0m | \u001b[1mINFO    \u001b[0m | \u001b[36mpingpong\u001b[0m:\u001b[36m_run_server\u001b[0m:\u001b[36m85\u001b[0m - \u001b[1m🚀 SERVER: Running pingpong server as bob@openmined.org\u001b[0m\n",
      "\u001b[32m2025-03-08 19:30:00.974\u001b[0m | \u001b[1mINFO    \u001b[0m | \u001b[36mpingpong\u001b[0m:\u001b[36m_start_server\u001b[0m:\u001b[36m80\u001b[0m - \u001b[1m🔔 Server started for bob@openmined.org\u001b[0m\n",
      "\u001b[32m2025-03-08 19:30:00.976\u001b[0m | \u001b[1mINFO    \u001b[0m | \u001b[36msyft_event.server2\u001b[0m:\u001b[36mregister_rpc\u001b[0m:\u001b[36m140\u001b[0m - \u001b[1mRegister RPC: /ping\u001b[0m\n",
      "\u001b[32m2025-03-08 19:30:00.976\u001b[0m | \u001b[1mINFO    \u001b[0m | \u001b[36mpingpong\u001b[0m:\u001b[36m_run_server\u001b[0m:\u001b[36m109\u001b[0m - \u001b[1m📡 SERVER: Listening for requests at /Users/atrask/Desktop/SyftBoxBob/datasites/bob@openmined.org/api_data/pingpong/rpc\u001b[0m\n",
      "\u001b[32m2025-03-08 19:30:00.978\u001b[0m | \u001b[1mINFO    \u001b[0m | \u001b[36msyft_event.server2\u001b[0m:\u001b[36mpublish_schema\u001b[0m:\u001b[36m96\u001b[0m - \u001b[1mPublished schema to /Users/atrask/Desktop/SyftBoxBob/datasites/bob@openmined.org/api_data/pingpong/rpc/rpc.schema.json\u001b[0m\n",
      "\u001b[32m2025-03-08 19:30:18.826\u001b[0m | \u001b[34m\u001b[1mDEBUG   \u001b[0m | \u001b[36msyft_event.server2\u001b[0m:\u001b[36mprocess_pending_requests\u001b[0m:\u001b[36m105\u001b[0m - \u001b[34m\u001b[1mProcessing pending request bb2e1f93-5375-4b55-915c-b7caa7996875.request\u001b[0m\n",
      "\u001b[32m2025-03-08 19:30:18.830\u001b[0m | \u001b[1mINFO    \u001b[0m | \u001b[36mpingpong\u001b[0m:\u001b[36m_handle_request\u001b[0m:\u001b[36m244\u001b[0m - \u001b[1m🔔 RECEIVED: Ping request - msg='Hello from alice@openmined.org!' ts=datetime.datetime(2025, 3, 9, 0, 30, 15, 80859, tzinfo=TzInfo(UTC))\u001b[0m\n"
     ]
    }
   ],
   "source": [
    "# Create a client for Bob's account\n",
    "bob_client = pp.client(\"~/.syft_bob_config.json\")"
   ]
  },
  {
   "cell_type": "code",
   "execution_count": 3,
   "id": "alice-client-cell",
   "metadata": {},
   "outputs": [
    {
     "name": "stderr",
     "output_type": "stream",
     "text": [
      "\u001b[32m2025-03-08 19:30:02.058\u001b[0m | \u001b[1mINFO    \u001b[0m | \u001b[36mpingpong\u001b[0m:\u001b[36m__init__\u001b[0m:\u001b[36m67\u001b[0m - \u001b[1m🔑 Connected as: alice@openmined.org\u001b[0m\n",
      "\u001b[32m2025-03-08 19:30:02.059\u001b[0m | \u001b[1mINFO    \u001b[0m | \u001b[36mpingpong\u001b[0m:\u001b[36m_run_server\u001b[0m:\u001b[36m85\u001b[0m - \u001b[1m🚀 SERVER: Running pingpong server as alice@openmined.org\u001b[0m\n",
      "\u001b[32m2025-03-08 19:30:02.060\u001b[0m | \u001b[1mINFO    \u001b[0m | \u001b[36mpingpong\u001b[0m:\u001b[36m_start_server\u001b[0m:\u001b[36m80\u001b[0m - \u001b[1m🔔 Server started for alice@openmined.org\u001b[0m\n",
      "\u001b[32m2025-03-08 19:30:02.062\u001b[0m | \u001b[1mINFO    \u001b[0m | \u001b[36msyft_event.server2\u001b[0m:\u001b[36mregister_rpc\u001b[0m:\u001b[36m140\u001b[0m - \u001b[1mRegister RPC: /ping\u001b[0m\n",
      "\u001b[32m2025-03-08 19:30:02.065\u001b[0m | \u001b[1mINFO    \u001b[0m | \u001b[36mpingpong\u001b[0m:\u001b[36m_run_server\u001b[0m:\u001b[36m109\u001b[0m - \u001b[1m📡 SERVER: Listening for requests at /Users/atrask/Desktop/SyftBoxAlice/datasites/alice@openmined.org/api_data/pingpong/rpc\u001b[0m\n",
      "\u001b[32m2025-03-08 19:30:02.071\u001b[0m | \u001b[1mINFO    \u001b[0m | \u001b[36msyft_event.server2\u001b[0m:\u001b[36mpublish_schema\u001b[0m:\u001b[36m96\u001b[0m - \u001b[1mPublished schema to /Users/atrask/Desktop/SyftBoxAlice/datasites/alice@openmined.org/api_data/pingpong/rpc/rpc.schema.json\u001b[0m\n"
     ]
    }
   ],
   "source": [
    "# Create a client for Alice's account \n",
    "# Comment this out if you only have one Syft instance available\n",
    "alice_client = pp.client(\"~/.syft_alice_config.json\")"
   ]
  },
  {
   "cell_type": "markdown",
   "id": "datasites-section",
   "metadata": {},
   "source": [
    "### 2.2 Discovering Datasites\n",
    "\n",
    "Now let's see what datasites are available. The template provides two methods for this:\n",
    "\n",
    "1. `list_datasites()`: Lists all available datasites\n",
    "2. `list_available_servers()`: Lists only datasites with the application server running"
   ]
  },
  {
   "cell_type": "code",
   "execution_count": 4,
   "id": "list-all-datasites",
   "metadata": {},
   "outputs": [
    {
     "name": "stdout",
     "output_type": "stream",
     "text": [
      "Total datasites available: 140\n",
      "Sample datasites:\n",
      "  - Morganabuell98@gmail.com\n",
      "  - a@gmail.com\n",
      "  - a@openmined.org\n",
      "  - abinvarghese90@gmail.com\n",
      "  - alice@openmined.org\n"
     ]
    }
   ],
   "source": [
    "# Get all available datasites\n",
    "all_datasites = bob_client.list_datasites()\n",
    "\n",
    "# Print the number of datasites and first few examples\n",
    "print(f\"Total datasites available: {len(all_datasites)}\")\n",
    "print(\"Sample datasites:\")\n",
    "for ds in all_datasites[:5]:  # Show just the first 5\n",
    "    print(f\"  - {ds}\")"
   ]
  },
  {
   "cell_type": "code",
   "execution_count": 5,
   "id": "list-active-servers",
   "metadata": {},
   "outputs": [
    {
     "name": "stdout",
     "output_type": "stream",
     "text": [
      "Active PingPong servers: 5\n",
      "Available servers:\n",
      "  - alice@openmined.org\n",
      "  - bob@openmined.org\n",
      "  - khoa@openmined.org\n",
      "  - rasswanth@openmined.org\n",
      "  - yash@openmined.org\n"
     ]
    }
   ],
   "source": [
    "# Get only datasites with the PingPong server running\n",
    "active_servers = bob_client.list_available_servers()\n",
    "\n",
    "print(f\"Active PingPong servers: {len(active_servers)}\")\n",
    "print(\"Available servers:\")\n",
    "for server in active_servers:\n",
    "    print(f\"  - {server}\")"
   ]
  },
  {
   "cell_type": "markdown",
   "id": "sending-ping-section",
   "metadata": {},
   "source": [
    "### 2.3 Sending a Ping\n",
    "\n",
    "Now let's send a ping from Bob's client to Alice's client. This demonstrates the basic request-response pattern."
   ]
  },
  {
   "cell_type": "code",
   "execution_count": 6,
   "id": "send-ping-from-bob",
   "metadata": {},
   "outputs": [
    {
     "name": "stderr",
     "output_type": "stream",
     "text": [
      "\u001b[32m2025-03-08 19:30:05.185\u001b[0m | \u001b[1mINFO    \u001b[0m | \u001b[36mpingpong\u001b[0m:\u001b[36msend_request\u001b[0m:\u001b[36m168\u001b[0m - \u001b[1m📤 SENDING: Request to alice@openmined.org\u001b[0m\n",
      "\u001b[32m2025-03-08 19:30:08.186\u001b[0m | \u001b[34m\u001b[1mDEBUG   \u001b[0m | \u001b[36msyft_event.handlers\u001b[0m:\u001b[36mon_any_event\u001b[0m:\u001b[36m31\u001b[0m - \u001b[34m\u001b[1mFSEvent - created - /Users/atrask/Desktop/SyftBoxAlice/datasites/alice@openmined.org/api_data/pingpong/rpc/ping/04717fc6-99f2-4183-9bbe-61ad2a5685c4.request\u001b[0m\n",
      "\u001b[32m2025-03-08 19:30:08.187\u001b[0m | \u001b[1mINFO    \u001b[0m | \u001b[36mpingpong\u001b[0m:\u001b[36m_handle_request\u001b[0m:\u001b[36m244\u001b[0m - \u001b[1m🔔 RECEIVED: Ping request - msg='Hello from bob@openmined.org!' ts=datetime.datetime(2025, 3, 9, 0, 30, 5, 185771, tzinfo=TzInfo(UTC))\u001b[0m\n",
      "\u001b[32m2025-03-08 19:30:12.138\u001b[0m | \u001b[1mINFO    \u001b[0m | \u001b[36mpingpong\u001b[0m:\u001b[36msend_request\u001b[0m:\u001b[36m183\u001b[0m - \u001b[1m📥 RECEIVED: Response from alice@openmined.org. Time: 6.95s\u001b[0m\n"
     ]
    },
    {
     "name": "stdout",
     "output_type": "stream",
     "text": [
      "Response from Alice: Pong from alice@openmined.org\n",
      "Timestamp: 2025-03-09 00:30:08.187784+00:00\n"
     ]
    }
   ],
   "source": [
    "# If Alice's client is in the active servers list, ping it\n",
    "if 'alice@openmined.org' in active_servers:\n",
    "    response = bob_client.ping('alice@openmined.org')\n",
    "    print(f\"Response from Alice: {response.msg}\")\n",
    "    print(f\"Timestamp: {response.ts}\")\n",
    "else:\n",
    "    # Find the first available server\n",
    "    if active_servers:\n",
    "        target = active_servers[0]\n",
    "        print(f\"Alice not found, pinging {target} instead\")\n",
    "        response = bob_client.ping(target)\n",
    "        print(f\"Response: {response.msg}\")\n",
    "    else:\n",
    "        print(\"No active servers found to ping\")"
   ]
  },
  {
   "cell_type": "markdown",
   "id": "bidirectional-section",
   "metadata": {},
   "source": [
    "### 2.4 Bidirectional Communication\n",
    "\n",
    "If we have both Alice and Bob's clients running, we can demonstrate bidirectional communication:"
   ]
  },
  {
   "cell_type": "code",
   "execution_count": 7,
   "id": "bidirectional-code",
   "metadata": {},
   "outputs": [
    {
     "name": "stderr",
     "output_type": "stream",
     "text": [
      "\u001b[32m2025-03-08 19:30:15.080\u001b[0m | \u001b[1mINFO    \u001b[0m | \u001b[36mpingpong\u001b[0m:\u001b[36msend_request\u001b[0m:\u001b[36m168\u001b[0m - \u001b[1m📤 SENDING: Request to bob@openmined.org\u001b[0m\n",
      "\u001b[32m2025-03-08 19:30:18.846\u001b[0m | \u001b[34m\u001b[1mDEBUG   \u001b[0m | \u001b[36msyft_event.handlers\u001b[0m:\u001b[36mon_any_event\u001b[0m:\u001b[36m31\u001b[0m - \u001b[34m\u001b[1mFSEvent - created - /Users/atrask/Desktop/SyftBoxBob/datasites/bob@openmined.org/api_data/pingpong/rpc/ping/bb2e1f93-5375-4b55-915c-b7caa7996875.request\u001b[0m\n",
      "\u001b[32m2025-03-08 19:30:18.850\u001b[0m | \u001b[1mINFO    \u001b[0m | \u001b[36mpingpong\u001b[0m:\u001b[36m_handle_request\u001b[0m:\u001b[36m244\u001b[0m - \u001b[1m🔔 RECEIVED: Ping request - msg='Hello from alice@openmined.org!' ts=datetime.datetime(2025, 3, 9, 0, 30, 15, 80859, tzinfo=TzInfo(UTC))\u001b[0m\n",
      "\u001b[32m2025-03-08 19:30:22.674\u001b[0m | \u001b[1mINFO    \u001b[0m | \u001b[36mpingpong\u001b[0m:\u001b[36msend_request\u001b[0m:\u001b[36m183\u001b[0m - \u001b[1m📥 RECEIVED: Response from bob@openmined.org. Time: 7.59s\u001b[0m\n"
     ]
    },
    {
     "name": "stdout",
     "output_type": "stream",
     "text": [
      "Alice received: Pong from bob@openmined.org\n"
     ]
    }
   ],
   "source": [
    "# This section assumes you have both clients running\n",
    "# Alice pings Bob\n",
    "try:\n",
    "    alice_response = alice_client.ping('bob@openmined.org')\n",
    "    print(f\"Alice received: {alice_response.msg}\")\n",
    "except NameError:\n",
    "    print(\"Alice's client not defined. Skipping bidirectional test.\")"
   ]
  },
  {
   "cell_type": "markdown",
   "id": "error-handling-section",
   "metadata": {},
   "source": [
    "### 2.5 Error Handling\n",
    "\n",
    "The template includes robust error handling. Let's see what happens when we ping a non-existent datasite:"
   ]
  },
  {
   "cell_type": "code",
   "execution_count": 8,
   "id": "error-handling-code",
   "metadata": {},
   "outputs": [
    {
     "name": "stderr",
     "output_type": "stream",
     "text": [
      "\u001b[32m2025-03-08 19:30:24.091\u001b[0m | \u001b[31m\u001b[1mERROR   \u001b[0m | \u001b[36mpingpong\u001b[0m:\u001b[36msend_request\u001b[0m:\u001b[36m155\u001b[0m - \u001b[31m\u001b[1mInvalid datasite: nonexistent@example.com\u001b[0m\n",
      "\u001b[32m2025-03-08 19:30:24.091\u001b[0m | \u001b[1mINFO    \u001b[0m | \u001b[36mpingpong\u001b[0m:\u001b[36msend_request\u001b[0m:\u001b[36m156\u001b[0m - \u001b[1mAvailable datasites:\u001b[0m\n",
      "\u001b[32m2025-03-08 19:30:24.092\u001b[0m | \u001b[1mINFO    \u001b[0m | \u001b[36mpingpong\u001b[0m:\u001b[36msend_request\u001b[0m:\u001b[36m158\u001b[0m - \u001b[1m  - Morganabuell98@gmail.com\u001b[0m\n",
      "\u001b[32m2025-03-08 19:30:24.092\u001b[0m | \u001b[1mINFO    \u001b[0m | \u001b[36mpingpong\u001b[0m:\u001b[36msend_request\u001b[0m:\u001b[36m158\u001b[0m - \u001b[1m  - a@gmail.com\u001b[0m\n",
      "\u001b[32m2025-03-08 19:30:24.093\u001b[0m | \u001b[1mINFO    \u001b[0m | \u001b[36mpingpong\u001b[0m:\u001b[36msend_request\u001b[0m:\u001b[36m158\u001b[0m - \u001b[1m  - a@openmined.org\u001b[0m\n",
      "\u001b[32m2025-03-08 19:30:24.093\u001b[0m | \u001b[1mINFO    \u001b[0m | \u001b[36mpingpong\u001b[0m:\u001b[36msend_request\u001b[0m:\u001b[36m158\u001b[0m - \u001b[1m  - abinvarghese90@gmail.com\u001b[0m\n",
      "\u001b[32m2025-03-08 19:30:24.093\u001b[0m | \u001b[1mINFO    \u001b[0m | \u001b[36mpingpong\u001b[0m:\u001b[36msend_request\u001b[0m:\u001b[36m158\u001b[0m - \u001b[1m  - alice@openmined.org\u001b[0m\n",
      "\u001b[32m2025-03-08 19:30:24.093\u001b[0m | \u001b[1mINFO    \u001b[0m | \u001b[36mpingpong\u001b[0m:\u001b[36msend_request\u001b[0m:\u001b[36m158\u001b[0m - \u001b[1m  - amanpriyanshusms2001@gmail.com\u001b[0m\n",
      "\u001b[32m2025-03-08 19:30:24.093\u001b[0m | \u001b[1mINFO    \u001b[0m | \u001b[36mpingpong\u001b[0m:\u001b[36msend_request\u001b[0m:\u001b[36m158\u001b[0m - \u001b[1m  - amtulifra12@gmail.com\u001b[0m\n",
      "\u001b[32m2025-03-08 19:30:24.093\u001b[0m | \u001b[1mINFO    \u001b[0m | \u001b[36mpingpong\u001b[0m:\u001b[36msend_request\u001b[0m:\u001b[36m158\u001b[0m - \u001b[1m  - andrej@jovanovic.co.za\u001b[0m\n",
      "\u001b[32m2025-03-08 19:30:24.094\u001b[0m | \u001b[1mINFO    \u001b[0m | \u001b[36mpingpong\u001b[0m:\u001b[36msend_request\u001b[0m:\u001b[36m158\u001b[0m - \u001b[1m  - andrew@openmined.org\u001b[0m\n",
      "\u001b[32m2025-03-08 19:30:24.094\u001b[0m | \u001b[1mINFO    \u001b[0m | \u001b[36mpingpong\u001b[0m:\u001b[36msend_request\u001b[0m:\u001b[36m158\u001b[0m - \u001b[1m  - ant.ccbezerra@gmail.com\u001b[0m\n",
      "\u001b[32m2025-03-08 19:30:24.094\u001b[0m | \u001b[1mINFO    \u001b[0m | \u001b[36mpingpong\u001b[0m:\u001b[36msend_request\u001b[0m:\u001b[36m158\u001b[0m - \u001b[1m  - aravindaraman04@gmail.com\u001b[0m\n",
      "\u001b[32m2025-03-08 19:30:24.094\u001b[0m | \u001b[1mINFO    \u001b[0m | \u001b[36mpingpong\u001b[0m:\u001b[36msend_request\u001b[0m:\u001b[36m158\u001b[0m - \u001b[1m  - aziz-test@openmined.org\u001b[0m\n",
      "\u001b[32m2025-03-08 19:30:24.094\u001b[0m | \u001b[1mINFO    \u001b[0m | \u001b[36mpingpong\u001b[0m:\u001b[36msend_request\u001b[0m:\u001b[36m158\u001b[0m - \u001b[1m  - aziz2@openmined.org\u001b[0m\n",
      "\u001b[32m2025-03-08 19:30:24.094\u001b[0m | \u001b[1mINFO    \u001b[0m | \u001b[36mpingpong\u001b[0m:\u001b[36msend_request\u001b[0m:\u001b[36m158\u001b[0m - \u001b[1m  - aziz3@openmined.org\u001b[0m\n",
      "\u001b[32m2025-03-08 19:30:24.094\u001b[0m | \u001b[1mINFO    \u001b[0m | \u001b[36mpingpong\u001b[0m:\u001b[36msend_request\u001b[0m:\u001b[36m158\u001b[0m - \u001b[1m  - aziz@openmined.org\u001b[0m\n",
      "\u001b[32m2025-03-08 19:30:24.095\u001b[0m | \u001b[1mINFO    \u001b[0m | \u001b[36mpingpong\u001b[0m:\u001b[36msend_request\u001b[0m:\u001b[36m158\u001b[0m - \u001b[1m  - b.lakshmisahithi18@gmail.com\u001b[0m\n",
      "\u001b[32m2025-03-08 19:30:24.095\u001b[0m | \u001b[1mINFO    \u001b[0m | \u001b[36mpingpong\u001b[0m:\u001b[36msend_request\u001b[0m:\u001b[36m158\u001b[0m - \u001b[1m  - b@openmined.org\u001b[0m\n",
      "\u001b[32m2025-03-08 19:30:24.095\u001b[0m | \u001b[1mINFO    \u001b[0m | \u001b[36mpingpong\u001b[0m:\u001b[36msend_request\u001b[0m:\u001b[36m158\u001b[0m - \u001b[1m  - balajivd01@gmail.com\u001b[0m\n",
      "\u001b[32m2025-03-08 19:30:24.095\u001b[0m | \u001b[1mINFO    \u001b[0m | \u001b[36mpingpong\u001b[0m:\u001b[36msend_request\u001b[0m:\u001b[36m158\u001b[0m - \u001b[1m  - bennett@openmined.org\u001b[0m\n",
      "\u001b[32m2025-03-08 19:30:24.095\u001b[0m | \u001b[1mINFO    \u001b[0m | \u001b[36mpingpong\u001b[0m:\u001b[36msend_request\u001b[0m:\u001b[36m158\u001b[0m - \u001b[1m  - bob@openmined.org\u001b[0m\n",
      "\u001b[32m2025-03-08 19:30:24.095\u001b[0m | \u001b[1mINFO    \u001b[0m | \u001b[36mpingpong\u001b[0m:\u001b[36msend_request\u001b[0m:\u001b[36m158\u001b[0m - \u001b[1m  - boudissamehieddine@gmail.com\u001b[0m\n",
      "\u001b[32m2025-03-08 19:30:24.095\u001b[0m | \u001b[1mINFO    \u001b[0m | \u001b[36mpingpong\u001b[0m:\u001b[36msend_request\u001b[0m:\u001b[36m158\u001b[0m - \u001b[1m  - brendan@openmined.org\u001b[0m\n",
      "\u001b[32m2025-03-08 19:30:24.096\u001b[0m | \u001b[1mINFO    \u001b[0m | \u001b[36mpingpong\u001b[0m:\u001b[36msend_request\u001b[0m:\u001b[36m158\u001b[0m - \u001b[1m  - c@openmined.org\u001b[0m\n",
      "\u001b[32m2025-03-08 19:30:24.096\u001b[0m | \u001b[1mINFO    \u001b[0m | \u001b[36mpingpong\u001b[0m:\u001b[36msend_request\u001b[0m:\u001b[36m158\u001b[0m - \u001b[1m  - curtis@openmined.org\u001b[0m\n",
      "\u001b[32m2025-03-08 19:30:24.096\u001b[0m | \u001b[1mINFO    \u001b[0m | \u001b[36mpingpong\u001b[0m:\u001b[36msend_request\u001b[0m:\u001b[36m158\u001b[0m - \u001b[1m  - dave@openmined.org\u001b[0m\n",
      "\u001b[32m2025-03-08 19:30:24.096\u001b[0m | \u001b[1mINFO    \u001b[0m | \u001b[36mpingpong\u001b[0m:\u001b[36msend_request\u001b[0m:\u001b[36m158\u001b[0m - \u001b[1m  - dhingra.atul92@gmail.com\u001b[0m\n",
      "\u001b[32m2025-03-08 19:30:24.096\u001b[0m | \u001b[1mINFO    \u001b[0m | \u001b[36mpingpong\u001b[0m:\u001b[36msend_request\u001b[0m:\u001b[36m158\u001b[0m - \u001b[1m  - dhuffield@outlook.com\u001b[0m\n",
      "\u001b[32m2025-03-08 19:30:24.096\u001b[0m | \u001b[1mINFO    \u001b[0m | \u001b[36mpingpong\u001b[0m:\u001b[36msend_request\u001b[0m:\u001b[36m158\u001b[0m - \u001b[1m  - edwinsalguero2023@u.northwestern.edu\u001b[0m\n",
      "\u001b[32m2025-03-08 19:30:24.097\u001b[0m | \u001b[1mINFO    \u001b[0m | \u001b[36mpingpong\u001b[0m:\u001b[36msend_request\u001b[0m:\u001b[36m158\u001b[0m - \u001b[1m  - edwinsalguero@parallelllc.com\u001b[0m\n",
      "\u001b[32m2025-03-08 19:30:24.097\u001b[0m | \u001b[1mINFO    \u001b[0m | \u001b[36mpingpong\u001b[0m:\u001b[36msend_request\u001b[0m:\u001b[36m158\u001b[0m - \u001b[1m  - eelco-test-1@openmined.org\u001b[0m\n",
      "\u001b[32m2025-03-08 19:30:24.097\u001b[0m | \u001b[1mINFO    \u001b[0m | \u001b[36mpingpong\u001b[0m:\u001b[36msend_request\u001b[0m:\u001b[36m158\u001b[0m - \u001b[1m  - eelco-test-3@openmined.org\u001b[0m\n",
      "\u001b[32m2025-03-08 19:30:24.097\u001b[0m | \u001b[1mINFO    \u001b[0m | \u001b[36mpingpong\u001b[0m:\u001b[36msend_request\u001b[0m:\u001b[36m158\u001b[0m - \u001b[1m  - eelco-test-4@openmined.org\u001b[0m\n",
      "\u001b[32m2025-03-08 19:30:24.097\u001b[0m | \u001b[1mINFO    \u001b[0m | \u001b[36mpingpong\u001b[0m:\u001b[36msend_request\u001b[0m:\u001b[36m158\u001b[0m - \u001b[1m  - eelco0@openmined.org\u001b[0m\n",
      "\u001b[32m2025-03-08 19:30:24.097\u001b[0m | \u001b[1mINFO    \u001b[0m | \u001b[36mpingpong\u001b[0m:\u001b[36msend_request\u001b[0m:\u001b[36m158\u001b[0m - \u001b[1m  - eelco@openmined.org\u001b[0m\n",
      "\u001b[32m2025-03-08 19:30:24.097\u001b[0m | \u001b[1mINFO    \u001b[0m | \u001b[36mpingpong\u001b[0m:\u001b[36msend_request\u001b[0m:\u001b[36m158\u001b[0m - \u001b[1m  - eelco_test_1@openmined.org\u001b[0m\n",
      "\u001b[32m2025-03-08 19:30:24.098\u001b[0m | \u001b[1mINFO    \u001b[0m | \u001b[36mpingpong\u001b[0m:\u001b[36msend_request\u001b[0m:\u001b[36m158\u001b[0m - \u001b[1m  - eelco_test_2@openmined.org\u001b[0m\n",
      "\u001b[32m2025-03-08 19:30:24.098\u001b[0m | \u001b[1mINFO    \u001b[0m | \u001b[36mpingpong\u001b[0m:\u001b[36msend_request\u001b[0m:\u001b[36m158\u001b[0m - \u001b[1m  - eliaskousk@gmail.com\u001b[0m\n",
      "\u001b[32m2025-03-08 19:30:24.098\u001b[0m | \u001b[1mINFO    \u001b[0m | \u001b[36mpingpong\u001b[0m:\u001b[36msend_request\u001b[0m:\u001b[36m158\u001b[0m - \u001b[1m  - elie.wanko@gmail.com\u001b[0m\n",
      "\u001b[32m2025-03-08 19:30:24.098\u001b[0m | \u001b[1mINFO    \u001b[0m | \u001b[36mpingpong\u001b[0m:\u001b[36msend_request\u001b[0m:\u001b[36m158\u001b[0m - \u001b[1m  - emmak2210@gmail.com\u001b[0m\n",
      "\u001b[32m2025-03-08 19:30:24.098\u001b[0m | \u001b[1mINFO    \u001b[0m | \u001b[36mpingpong\u001b[0m:\u001b[36msend_request\u001b[0m:\u001b[36m158\u001b[0m - \u001b[1m  - eug.reminders@gmail.com\u001b[0m\n",
      "\u001b[32m2025-03-08 19:30:24.098\u001b[0m | \u001b[1mINFO    \u001b[0m | \u001b[36mpingpong\u001b[0m:\u001b[36msend_request\u001b[0m:\u001b[36m158\u001b[0m - \u001b[1m  - first-test-client@openmined.org\u001b[0m\n",
      "\u001b[32m2025-03-08 19:30:24.098\u001b[0m | \u001b[1mINFO    \u001b[0m | \u001b[36mpingpong\u001b[0m:\u001b[36msend_request\u001b[0m:\u001b[36m158\u001b[0m - \u001b[1m  - giulia.gualtieri1@gmail.com\u001b[0m\n",
      "\u001b[32m2025-03-08 19:30:24.099\u001b[0m | \u001b[1mINFO    \u001b[0m | \u001b[36mpingpong\u001b[0m:\u001b[36msend_request\u001b[0m:\u001b[36m158\u001b[0m - \u001b[1m  - htriedman@gmail.com\u001b[0m\n",
      "\u001b[32m2025-03-08 19:30:24.099\u001b[0m | \u001b[1mINFO    \u001b[0m | \u001b[36mpingpong\u001b[0m:\u001b[36msend_request\u001b[0m:\u001b[36m158\u001b[0m - \u001b[1m  - ihsan0000@protonmail.com\u001b[0m\n",
      "\u001b[32m2025-03-08 19:30:24.099\u001b[0m | \u001b[1mINFO    \u001b[0m | \u001b[36mpingpong\u001b[0m:\u001b[36msend_request\u001b[0m:\u001b[36m158\u001b[0m - \u001b[1m  - info@openmined.org\u001b[0m\n",
      "\u001b[32m2025-03-08 19:30:24.099\u001b[0m | \u001b[1mINFO    \u001b[0m | \u001b[36mpingpong\u001b[0m:\u001b[36msend_request\u001b[0m:\u001b[36m158\u001b[0m - \u001b[1m  - ionesio@openmined.org\u001b[0m\n",
      "\u001b[32m2025-03-08 19:30:24.099\u001b[0m | \u001b[1mINFO    \u001b[0m | \u001b[36mpingpong\u001b[0m:\u001b[36msend_request\u001b[0m:\u001b[36m158\u001b[0m - \u001b[1m  - ionesiojr@gmail.com\u001b[0m\n",
      "\u001b[32m2025-03-08 19:30:24.100\u001b[0m | \u001b[1mINFO    \u001b[0m | \u001b[36mpingpong\u001b[0m:\u001b[36msend_request\u001b[0m:\u001b[36m158\u001b[0m - \u001b[1m  - irina@openmined.org\u001b[0m\n",
      "\u001b[32m2025-03-08 19:30:24.100\u001b[0m | \u001b[1mINFO    \u001b[0m | \u001b[36mpingpong\u001b[0m:\u001b[36msend_request\u001b[0m:\u001b[36m158\u001b[0m - \u001b[1m  - irinam.bejan@gmail.com\u001b[0m\n",
      "\u001b[32m2025-03-08 19:30:24.100\u001b[0m | \u001b[1mINFO    \u001b[0m | \u001b[36mpingpong\u001b[0m:\u001b[36msend_request\u001b[0m:\u001b[36m158\u001b[0m - \u001b[1m  - jordanmadden285@gmail.com\u001b[0m\n",
      "\u001b[32m2025-03-08 19:30:24.100\u001b[0m | \u001b[1mINFO    \u001b[0m | \u001b[36mpingpong\u001b[0m:\u001b[36msend_request\u001b[0m:\u001b[36m158\u001b[0m - \u001b[1m  - jyothinookula@gmail.com\u001b[0m\n",
      "\u001b[32m2025-03-08 19:30:24.100\u001b[0m | \u001b[1mINFO    \u001b[0m | \u001b[36mpingpong\u001b[0m:\u001b[36msend_request\u001b[0m:\u001b[36m158\u001b[0m - \u001b[1m  - kamathhrishi@hmail.com\u001b[0m\n",
      "\u001b[32m2025-03-08 19:30:24.100\u001b[0m | \u001b[1mINFO    \u001b[0m | \u001b[36mpingpong\u001b[0m:\u001b[36msend_request\u001b[0m:\u001b[36m158\u001b[0m - \u001b[1m  - khoa2@openmined.org\u001b[0m\n",
      "\u001b[32m2025-03-08 19:30:24.100\u001b[0m | \u001b[1mINFO    \u001b[0m | \u001b[36mpingpong\u001b[0m:\u001b[36msend_request\u001b[0m:\u001b[36m158\u001b[0m - \u001b[1m  - khoa3@openmined.org\u001b[0m\n",
      "\u001b[32m2025-03-08 19:30:24.101\u001b[0m | \u001b[1mINFO    \u001b[0m | \u001b[36mpingpong\u001b[0m:\u001b[36msend_request\u001b[0m:\u001b[36m158\u001b[0m - \u001b[1m  - khoa4@openmined.org\u001b[0m\n",
      "\u001b[32m2025-03-08 19:30:24.101\u001b[0m | \u001b[1mINFO    \u001b[0m | \u001b[36mpingpong\u001b[0m:\u001b[36msend_request\u001b[0m:\u001b[36m158\u001b[0m - \u001b[1m  - khoa@openmined.org\u001b[0m\n",
      "\u001b[32m2025-03-08 19:30:24.101\u001b[0m | \u001b[1mINFO    \u001b[0m | \u001b[36mpingpong\u001b[0m:\u001b[36msend_request\u001b[0m:\u001b[36m158\u001b[0m - \u001b[1m  - khoavn2@openmined.org\u001b[0m\n",
      "\u001b[32m2025-03-08 19:30:24.101\u001b[0m | \u001b[1mINFO    \u001b[0m | \u001b[36mpingpong\u001b[0m:\u001b[36msend_request\u001b[0m:\u001b[36m158\u001b[0m - \u001b[1m  - khoavn4@openmined.org\u001b[0m\n",
      "\u001b[32m2025-03-08 19:30:24.101\u001b[0m | \u001b[1mINFO    \u001b[0m | \u001b[36mpingpong\u001b[0m:\u001b[36msend_request\u001b[0m:\u001b[36m158\u001b[0m - \u001b[1m  - khoavn@openmined.org\u001b[0m\n",
      "\u001b[32m2025-03-08 19:30:24.102\u001b[0m | \u001b[1mINFO    \u001b[0m | \u001b[36mpingpong\u001b[0m:\u001b[36msend_request\u001b[0m:\u001b[36m158\u001b[0m - \u001b[1m  - koen2@syftbox.dev\u001b[0m\n",
      "\u001b[32m2025-03-08 19:30:24.102\u001b[0m | \u001b[1mINFO    \u001b[0m | \u001b[36mpingpong\u001b[0m:\u001b[36msend_request\u001b[0m:\u001b[36m158\u001b[0m - \u001b[1m  - koen3@openmined.org\u001b[0m\n",
      "\u001b[32m2025-03-08 19:30:24.102\u001b[0m | \u001b[1mINFO    \u001b[0m | \u001b[36mpingpong\u001b[0m:\u001b[36msend_request\u001b[0m:\u001b[36m158\u001b[0m - \u001b[1m  - koen4@openmined.org\u001b[0m\n",
      "\u001b[32m2025-03-08 19:30:24.102\u001b[0m | \u001b[1mINFO    \u001b[0m | \u001b[36mpingpong\u001b[0m:\u001b[36msend_request\u001b[0m:\u001b[36m158\u001b[0m - \u001b[1m  - koen5@openmined.org\u001b[0m\n",
      "\u001b[32m2025-03-08 19:30:24.102\u001b[0m | \u001b[1mINFO    \u001b[0m | \u001b[36mpingpong\u001b[0m:\u001b[36msend_request\u001b[0m:\u001b[36m158\u001b[0m - \u001b[1m  - koen@openmined.org\u001b[0m\n",
      "\u001b[32m2025-03-08 19:30:24.103\u001b[0m | \u001b[1mINFO    \u001b[0m | \u001b[36mpingpong\u001b[0m:\u001b[36msend_request\u001b[0m:\u001b[36m158\u001b[0m - \u001b[1m  - liamtrask@gmail.com\u001b[0m\n",
      "\u001b[32m2025-03-08 19:30:24.103\u001b[0m | \u001b[1mINFO    \u001b[0m | \u001b[36mpingpong\u001b[0m:\u001b[36msend_request\u001b[0m:\u001b[36m158\u001b[0m - \u001b[1m  - lina.mntran@gmail.com\u001b[0m\n",
      "\u001b[32m2025-03-08 19:30:24.103\u001b[0m | \u001b[1mINFO    \u001b[0m | \u001b[36mpingpong\u001b[0m:\u001b[36msend_request\u001b[0m:\u001b[36m158\u001b[0m - \u001b[1m  - lovells@un.org\u001b[0m\n",
      "\u001b[32m2025-03-08 19:30:24.103\u001b[0m | \u001b[1mINFO    \u001b[0m | \u001b[36mpingpong\u001b[0m:\u001b[36msend_request\u001b[0m:\u001b[36m158\u001b[0m - \u001b[1m  - lucaslopesf2@gmail.com\u001b[0m\n",
      "\u001b[32m2025-03-08 19:30:24.103\u001b[0m | \u001b[1mINFO    \u001b[0m | \u001b[36mpingpong\u001b[0m:\u001b[36msend_request\u001b[0m:\u001b[36m158\u001b[0m - \u001b[1m  - madhava@openmined.org\u001b[0m\n",
      "\u001b[32m2025-03-08 19:30:24.104\u001b[0m | \u001b[1mINFO    \u001b[0m | \u001b[36mpingpong\u001b[0m:\u001b[36msend_request\u001b[0m:\u001b[36m158\u001b[0m - \u001b[1m  - mail@eelc.ooo\u001b[0m\n",
      "\u001b[32m2025-03-08 19:30:24.104\u001b[0m | \u001b[1mINFO    \u001b[0m | \u001b[36mpingpong\u001b[0m:\u001b[36msend_request\u001b[0m:\u001b[36m158\u001b[0m - \u001b[1m  - manojmalipeddi2001@gmail.com\u001b[0m\n",
      "\u001b[32m2025-03-08 19:30:24.104\u001b[0m | \u001b[1mINFO    \u001b[0m | \u001b[36mpingpong\u001b[0m:\u001b[36msend_request\u001b[0m:\u001b[36m158\u001b[0m - \u001b[1m  - marksua@gmail.com\u001b[0m\n",
      "\u001b[32m2025-03-08 19:30:24.104\u001b[0m | \u001b[1mINFO    \u001b[0m | \u001b[36mpingpong\u001b[0m:\u001b[36msend_request\u001b[0m:\u001b[36m158\u001b[0m - \u001b[1m  - matei@openmined.org\u001b[0m\n",
      "\u001b[32m2025-03-08 19:30:24.104\u001b[0m | \u001b[1mINFO    \u001b[0m | \u001b[36mpingpong\u001b[0m:\u001b[36msend_request\u001b[0m:\u001b[36m158\u001b[0m - \u001b[1m  - matyas@matyaskzs.com\u001b[0m\n",
      "\u001b[32m2025-03-08 19:30:24.105\u001b[0m | \u001b[1mINFO    \u001b[0m | \u001b[36mpingpong\u001b[0m:\u001b[36msend_request\u001b[0m:\u001b[36m158\u001b[0m - \u001b[1m  - nayakdebanuj4@gmail.com\u001b[0m\n",
      "\u001b[32m2025-03-08 19:30:24.105\u001b[0m | \u001b[1mINFO    \u001b[0m | \u001b[36mpingpong\u001b[0m:\u001b[36msend_request\u001b[0m:\u001b[36m158\u001b[0m - \u001b[1m  - newabc@openmined.org\u001b[0m\n",
      "\u001b[32m2025-03-08 19:30:24.105\u001b[0m | \u001b[1mINFO    \u001b[0m | \u001b[36mpingpong\u001b[0m:\u001b[36msend_request\u001b[0m:\u001b[36m158\u001b[0m - \u001b[1m  - newsindexer01@openmined.org\u001b[0m\n",
      "\u001b[32m2025-03-08 19:30:24.105\u001b[0m | \u001b[1mINFO    \u001b[0m | \u001b[36mpingpong\u001b[0m:\u001b[36msend_request\u001b[0m:\u001b[36m158\u001b[0m - \u001b[1m  - newsindexer02@openmined.org\u001b[0m\n",
      "\u001b[32m2025-03-08 19:30:24.105\u001b[0m | \u001b[1mINFO    \u001b[0m | \u001b[36mpingpong\u001b[0m:\u001b[36msend_request\u001b[0m:\u001b[36m158\u001b[0m - \u001b[1m  - osam@openmined.org\u001b[0m\n",
      "\u001b[32m2025-03-08 19:30:24.105\u001b[0m | \u001b[1mINFO    \u001b[0m | \u001b[36mpingpong\u001b[0m:\u001b[36msend_request\u001b[0m:\u001b[36m158\u001b[0m - \u001b[1m  - parthanupamnagar@gmail.com\u001b[0m\n",
      "\u001b[32m2025-03-08 19:30:24.106\u001b[0m | \u001b[1mINFO    \u001b[0m | \u001b[36mpingpong\u001b[0m:\u001b[36msend_request\u001b[0m:\u001b[36m158\u001b[0m - \u001b[1m  - perusha.moodley@gmail.com\u001b[0m\n",
      "\u001b[32m2025-03-08 19:30:24.106\u001b[0m | \u001b[1mINFO    \u001b[0m | \u001b[36mpingpong\u001b[0m:\u001b[36msend_request\u001b[0m:\u001b[36m158\u001b[0m - \u001b[1m  - peter@openmined.org\u001b[0m\n",
      "\u001b[32m2025-03-08 19:30:24.106\u001b[0m | \u001b[1mINFO    \u001b[0m | \u001b[36mpingpong\u001b[0m:\u001b[36msend_request\u001b[0m:\u001b[36m158\u001b[0m - \u001b[1m  - rasoul.am1376@gmail.com\u001b[0m\n",
      "\u001b[32m2025-03-08 19:30:24.106\u001b[0m | \u001b[1mINFO    \u001b[0m | \u001b[36mpingpong\u001b[0m:\u001b[36msend_request\u001b[0m:\u001b[36m158\u001b[0m - \u001b[1m  - rasswanth-1@openmined.org\u001b[0m\n",
      "\u001b[32m2025-03-08 19:30:24.106\u001b[0m | \u001b[1mINFO    \u001b[0m | \u001b[36mpingpong\u001b[0m:\u001b[36msend_request\u001b[0m:\u001b[36m158\u001b[0m - \u001b[1m  - rasswanth-2@openmined.org\u001b[0m\n",
      "\u001b[32m2025-03-08 19:30:24.106\u001b[0m | \u001b[1mINFO    \u001b[0m | \u001b[36mpingpong\u001b[0m:\u001b[36msend_request\u001b[0m:\u001b[36m158\u001b[0m - \u001b[1m  - rasswanth-3@openmined.org\u001b[0m\n",
      "\u001b[32m2025-03-08 19:30:24.107\u001b[0m | \u001b[1mINFO    \u001b[0m | \u001b[36mpingpong\u001b[0m:\u001b[36msend_request\u001b[0m:\u001b[36m158\u001b[0m - \u001b[1m  - rasswanth-4@openmined.org\u001b[0m\n",
      "\u001b[32m2025-03-08 19:30:24.107\u001b[0m | \u001b[1mINFO    \u001b[0m | \u001b[36mpingpong\u001b[0m:\u001b[36msend_request\u001b[0m:\u001b[36m158\u001b[0m - \u001b[1m  - rasswanth-test2@openmined.org\u001b[0m\n",
      "\u001b[32m2025-03-08 19:30:24.107\u001b[0m | \u001b[1mINFO    \u001b[0m | \u001b[36mpingpong\u001b[0m:\u001b[36msend_request\u001b[0m:\u001b[36m158\u001b[0m - \u001b[1m  - rasswanth-test@openmined.org\u001b[0m\n",
      "\u001b[32m2025-03-08 19:30:24.107\u001b[0m | \u001b[1mINFO    \u001b[0m | \u001b[36mpingpong\u001b[0m:\u001b[36msend_request\u001b[0m:\u001b[36m158\u001b[0m - \u001b[1m  - rasswanth@openmined.org\u001b[0m\n",
      "\u001b[32m2025-03-08 19:30:24.107\u001b[0m | \u001b[1mINFO    \u001b[0m | \u001b[36mpingpong\u001b[0m:\u001b[36msend_request\u001b[0m:\u001b[36m158\u001b[0m - \u001b[1m  - rasswanth_test@openmined.org\u001b[0m\n",
      "\u001b[32m2025-03-08 19:30:24.107\u001b[0m | \u001b[1mINFO    \u001b[0m | \u001b[36mpingpong\u001b[0m:\u001b[36msend_request\u001b[0m:\u001b[36m158\u001b[0m - \u001b[1m  - reubenolumese@icloud.com\u001b[0m\n",
      "\u001b[32m2025-03-08 19:30:24.107\u001b[0m | \u001b[1mINFO    \u001b[0m | \u001b[36mpingpong\u001b[0m:\u001b[36msend_request\u001b[0m:\u001b[36m158\u001b[0m - \u001b[1m  - ronnie@openmined.org\u001b[0m\n",
      "\u001b[32m2025-03-08 19:30:24.108\u001b[0m | \u001b[1mINFO    \u001b[0m | \u001b[36mpingpong\u001b[0m:\u001b[36msend_request\u001b[0m:\u001b[36m158\u001b[0m - \u001b[1m  - rsiddhant73@gmail.com\u001b[0m\n",
      "\u001b[32m2025-03-08 19:30:24.108\u001b[0m | \u001b[1mINFO    \u001b[0m | \u001b[36mpingpong\u001b[0m:\u001b[36msend_request\u001b[0m:\u001b[36m158\u001b[0m - \u001b[1m  - s.nikhilkashyap@gmail.com\u001b[0m\n",
      "\u001b[32m2025-03-08 19:30:24.108\u001b[0m | \u001b[1mINFO    \u001b[0m | \u001b[36mpingpong\u001b[0m:\u001b[36msend_request\u001b[0m:\u001b[36m158\u001b[0m - \u001b[1m  - sahanipradeep5529@gmail.com\u001b[0m\n",
      "\u001b[32m2025-03-08 19:30:24.108\u001b[0m | \u001b[1mINFO    \u001b[0m | \u001b[36mpingpong\u001b[0m:\u001b[36msend_request\u001b[0m:\u001b[36m158\u001b[0m - \u001b[1m  - sameer@openmined.org\u001b[0m\n",
      "\u001b[32m2025-03-08 19:30:24.108\u001b[0m | \u001b[1mINFO    \u001b[0m | \u001b[36mpingpong\u001b[0m:\u001b[36msend_request\u001b[0m:\u001b[36m158\u001b[0m - \u001b[1m  - sameer@test.org\u001b[0m\n",
      "\u001b[32m2025-03-08 19:30:24.108\u001b[0m | \u001b[1mINFO    \u001b[0m | \u001b[36mpingpong\u001b[0m:\u001b[36msend_request\u001b[0m:\u001b[36m158\u001b[0m - \u001b[1m  - samkamauk@outlook.com\u001b[0m\n",
      "\u001b[32m2025-03-08 19:30:24.109\u001b[0m | \u001b[1mINFO    \u001b[0m | \u001b[36mpingpong\u001b[0m:\u001b[36msend_request\u001b[0m:\u001b[36m158\u001b[0m - \u001b[1m  - santoshguntuka7@gmail.com\u001b[0m\n",
      "\u001b[32m2025-03-08 19:30:24.109\u001b[0m | \u001b[1mINFO    \u001b[0m | \u001b[36mpingpong\u001b[0m:\u001b[36msend_request\u001b[0m:\u001b[36m158\u001b[0m - \u001b[1m  - shahnewazk@gmail.com\u001b[0m\n",
      "\u001b[32m2025-03-08 19:30:24.109\u001b[0m | \u001b[1mINFO    \u001b[0m | \u001b[36mpingpong\u001b[0m:\u001b[36msend_request\u001b[0m:\u001b[36m158\u001b[0m - \u001b[1m  - shezan.huq@gmail.com\u001b[0m\n",
      "\u001b[32m2025-03-08 19:30:24.109\u001b[0m | \u001b[1mINFO    \u001b[0m | \u001b[36mpingpong\u001b[0m:\u001b[36msend_request\u001b[0m:\u001b[36m158\u001b[0m - \u001b[1m  - shubham@openmined.org\u001b[0m\n",
      "\u001b[32m2025-03-08 19:30:24.109\u001b[0m | \u001b[1mINFO    \u001b[0m | \u001b[36mpingpong\u001b[0m:\u001b[36msend_request\u001b[0m:\u001b[36m158\u001b[0m - \u001b[1m  - shubhamgupta3121@gmail.com\u001b[0m\n",
      "\u001b[32m2025-03-08 19:30:24.109\u001b[0m | \u001b[1mINFO    \u001b[0m | \u001b[36mpingpong\u001b[0m:\u001b[36msend_request\u001b[0m:\u001b[36m158\u001b[0m - \u001b[1m  - shubhamtest2@openmined.org\u001b[0m\n",
      "\u001b[32m2025-03-08 19:30:24.109\u001b[0m | \u001b[1mINFO    \u001b[0m | \u001b[36mpingpong\u001b[0m:\u001b[36msend_request\u001b[0m:\u001b[36m158\u001b[0m - \u001b[1m  - shubhamtest3@openmined.org\u001b[0m\n",
      "\u001b[32m2025-03-08 19:30:24.110\u001b[0m | \u001b[1mINFO    \u001b[0m | \u001b[36mpingpong\u001b[0m:\u001b[36msend_request\u001b[0m:\u001b[36m158\u001b[0m - \u001b[1m  - shubhamtest@openmined.org\u001b[0m\n",
      "\u001b[32m2025-03-08 19:30:24.110\u001b[0m | \u001b[1mINFO    \u001b[0m | \u001b[36mpingpong\u001b[0m:\u001b[36msend_request\u001b[0m:\u001b[36m158\u001b[0m - \u001b[1m  - stephen@openmined.org\u001b[0m\n",
      "\u001b[32m2025-03-08 19:30:24.110\u001b[0m | \u001b[1mINFO    \u001b[0m | \u001b[36mpingpong\u001b[0m:\u001b[36msend_request\u001b[0m:\u001b[36m158\u001b[0m - \u001b[1m  - subha@openmined.org\u001b[0m\n",
      "\u001b[32m2025-03-08 19:30:24.110\u001b[0m | \u001b[1mINFO    \u001b[0m | \u001b[36mpingpong\u001b[0m:\u001b[36msend_request\u001b[0m:\u001b[36m158\u001b[0m - \u001b[1m  - sumantsaxena23@gmail.com\u001b[0m\n",
      "\u001b[32m2025-03-08 19:30:24.110\u001b[0m | \u001b[1mINFO    \u001b[0m | \u001b[36mpingpong\u001b[0m:\u001b[36msend_request\u001b[0m:\u001b[36m158\u001b[0m - \u001b[1m  - supriti.vijay@gmail.com\u001b[0m\n",
      "\u001b[32m2025-03-08 19:30:24.110\u001b[0m | \u001b[1mINFO    \u001b[0m | \u001b[36mpingpong\u001b[0m:\u001b[36msend_request\u001b[0m:\u001b[36m158\u001b[0m - \u001b[1m  - swatipnv.pics@gmail.com\u001b[0m\n",
      "\u001b[32m2025-03-08 19:30:24.110\u001b[0m | \u001b[1mINFO    \u001b[0m | \u001b[36mpingpong\u001b[0m:\u001b[36msend_request\u001b[0m:\u001b[36m158\u001b[0m - \u001b[1m  - szilagyi.bence@proton.me\u001b[0m\n",
      "\u001b[32m2025-03-08 19:30:24.111\u001b[0m | \u001b[1mINFO    \u001b[0m | \u001b[36mpingpong\u001b[0m:\u001b[36msend_request\u001b[0m:\u001b[36m158\u001b[0m - \u001b[1m  - tauquir1@openmined.org\u001b[0m\n",
      "\u001b[32m2025-03-08 19:30:24.111\u001b[0m | \u001b[1mINFO    \u001b[0m | \u001b[36mpingpong\u001b[0m:\u001b[36msend_request\u001b[0m:\u001b[36m158\u001b[0m - \u001b[1m  - tauquir2@openmined.org\u001b[0m\n",
      "\u001b[32m2025-03-08 19:30:24.111\u001b[0m | \u001b[1mINFO    \u001b[0m | \u001b[36mpingpong\u001b[0m:\u001b[36msend_request\u001b[0m:\u001b[36m158\u001b[0m - \u001b[1m  - tauquir3@openmined.org\u001b[0m\n",
      "\u001b[32m2025-03-08 19:30:24.111\u001b[0m | \u001b[1mINFO    \u001b[0m | \u001b[36mpingpong\u001b[0m:\u001b[36msend_request\u001b[0m:\u001b[36m158\u001b[0m - \u001b[1m  - tauquir4@openmined.org\u001b[0m\n",
      "\u001b[32m2025-03-08 19:30:24.111\u001b[0m | \u001b[1mINFO    \u001b[0m | \u001b[36mpingpong\u001b[0m:\u001b[36msend_request\u001b[0m:\u001b[36m158\u001b[0m - \u001b[1m  - tauquir@openmined.org\u001b[0m\n",
      "\u001b[32m2025-03-08 19:30:24.112\u001b[0m | \u001b[1mINFO    \u001b[0m | \u001b[36mpingpong\u001b[0m:\u001b[36msend_request\u001b[0m:\u001b[36m158\u001b[0m - \u001b[1m  - teo_test@openmined.org\u001b[0m\n",
      "\u001b[32m2025-03-08 19:30:24.112\u001b[0m | \u001b[1mINFO    \u001b[0m | \u001b[36mpingpong\u001b[0m:\u001b[36msend_request\u001b[0m:\u001b[36m158\u001b[0m - \u001b[1m  - teodor2@openmined.org\u001b[0m\n",
      "\u001b[32m2025-03-08 19:30:24.112\u001b[0m | \u001b[1mINFO    \u001b[0m | \u001b[36mpingpong\u001b[0m:\u001b[36msend_request\u001b[0m:\u001b[36m158\u001b[0m - \u001b[1m  - teodor3@openmined.org\u001b[0m\n",
      "\u001b[32m2025-03-08 19:30:24.112\u001b[0m | \u001b[1mINFO    \u001b[0m | \u001b[36mpingpong\u001b[0m:\u001b[36msend_request\u001b[0m:\u001b[36m158\u001b[0m - \u001b[1m  - teodor@openmined.org\u001b[0m\n",
      "\u001b[32m2025-03-08 19:30:24.112\u001b[0m | \u001b[1mINFO    \u001b[0m | \u001b[36mpingpong\u001b[0m:\u001b[36msend_request\u001b[0m:\u001b[36m158\u001b[0m - \u001b[1m  - test1@openmined.org\u001b[0m\n",
      "\u001b[32m2025-03-08 19:30:24.113\u001b[0m | \u001b[1mINFO    \u001b[0m | \u001b[36mpingpong\u001b[0m:\u001b[36msend_request\u001b[0m:\u001b[36m158\u001b[0m - \u001b[1m  - test2@openmined.org\u001b[0m\n",
      "\u001b[32m2025-03-08 19:30:24.113\u001b[0m | \u001b[1mINFO    \u001b[0m | \u001b[36mpingpong\u001b[0m:\u001b[36msend_request\u001b[0m:\u001b[36m158\u001b[0m - \u001b[1m  - test3@openmined.org\u001b[0m\n",
      "\u001b[32m2025-03-08 19:30:24.113\u001b[0m | \u001b[1mINFO    \u001b[0m | \u001b[36mpingpong\u001b[0m:\u001b[36msend_request\u001b[0m:\u001b[36m158\u001b[0m - \u001b[1m  - test4@openmined.org\u001b[0m\n",
      "\u001b[32m2025-03-08 19:30:24.113\u001b[0m | \u001b[1mINFO    \u001b[0m | \u001b[36mpingpong\u001b[0m:\u001b[36msend_request\u001b[0m:\u001b[36m158\u001b[0m - \u001b[1m  - test@gmail.com\u001b[0m\n",
      "\u001b[32m2025-03-08 19:30:24.113\u001b[0m | \u001b[1mINFO    \u001b[0m | \u001b[36mpingpong\u001b[0m:\u001b[36msend_request\u001b[0m:\u001b[36m158\u001b[0m - \u001b[1m  - test@openm.org\u001b[0m\n",
      "\u001b[32m2025-03-08 19:30:24.113\u001b[0m | \u001b[1mINFO    \u001b[0m | \u001b[36mpingpong\u001b[0m:\u001b[36msend_request\u001b[0m:\u001b[36m158\u001b[0m - \u001b[1m  - test@openmined.org\u001b[0m\n",
      "\u001b[32m2025-03-08 19:30:24.114\u001b[0m | \u001b[1mINFO    \u001b[0m | \u001b[36mpingpong\u001b[0m:\u001b[36msend_request\u001b[0m:\u001b[36m158\u001b[0m - \u001b[1m  - test@test.com\u001b[0m\n",
      "\u001b[32m2025-03-08 19:30:24.114\u001b[0m | \u001b[1mINFO    \u001b[0m | \u001b[36mpingpong\u001b[0m:\u001b[36msend_request\u001b[0m:\u001b[36m158\u001b[0m - \u001b[1m  - tom@myspace.com\u001b[0m\n",
      "\u001b[32m2025-03-08 19:30:24.114\u001b[0m | \u001b[1mINFO    \u001b[0m | \u001b[36mpingpong\u001b[0m:\u001b[36msend_request\u001b[0m:\u001b[36m158\u001b[0m - \u001b[1m  - user2@openmined.org\u001b[0m\n",
      "\u001b[32m2025-03-08 19:30:24.114\u001b[0m | \u001b[1mINFO    \u001b[0m | \u001b[36mpingpong\u001b[0m:\u001b[36msend_request\u001b[0m:\u001b[36m158\u001b[0m - \u001b[1m  - valerio@openmined.org\u001b[0m\n",
      "\u001b[32m2025-03-08 19:30:24.114\u001b[0m | \u001b[1mINFO    \u001b[0m | \u001b[36mpingpong\u001b[0m:\u001b[36msend_request\u001b[0m:\u001b[36m158\u001b[0m - \u001b[1m  - viveksilimkhan@gmail.com\u001b[0m\n",
      "\u001b[32m2025-03-08 19:30:24.115\u001b[0m | \u001b[1mINFO    \u001b[0m | \u001b[36mpingpong\u001b[0m:\u001b[36msend_request\u001b[0m:\u001b[36m158\u001b[0m - \u001b[1m  - vrindakohliofficial@gmail.com\u001b[0m\n",
      "\u001b[32m2025-03-08 19:30:24.115\u001b[0m | \u001b[1mINFO    \u001b[0m | \u001b[36mpingpong\u001b[0m:\u001b[36msend_request\u001b[0m:\u001b[36m158\u001b[0m - \u001b[1m  - yash@openmined.org\u001b[0m\n",
      "\u001b[32m2025-03-08 19:30:24.115\u001b[0m | \u001b[1mINFO    \u001b[0m | \u001b[36mpingpong\u001b[0m:\u001b[36msend_request\u001b[0m:\u001b[36m158\u001b[0m - \u001b[1m  - your@email.org\u001b[0m\n",
      "\u001b[32m2025-03-08 19:30:24.115\u001b[0m | \u001b[1mINFO    \u001b[0m | \u001b[36mpingpong\u001b[0m:\u001b[36msend_request\u001b[0m:\u001b[36m158\u001b[0m - \u001b[1m  - yuvraj.s.bhadauria@gmail.com\u001b[0m\n",
      "\u001b[32m2025-03-08 19:30:24.115\u001b[0m | \u001b[1mINFO    \u001b[0m | \u001b[36mpingpong\u001b[0m:\u001b[36msend_request\u001b[0m:\u001b[36m158\u001b[0m - \u001b[1m  - zarreen@openmined.org\u001b[0m\n",
      "\u001b[32m2025-03-08 19:30:24.116\u001b[0m | \u001b[1mINFO    \u001b[0m | \u001b[36mpingpong\u001b[0m:\u001b[36msend_request\u001b[0m:\u001b[36m158\u001b[0m - \u001b[1m  - zzz@gmail.com\u001b[0m\n"
     ]
    },
    {
     "name": "stdout",
     "output_type": "stream",
     "text": [
      "Response when pinging invalid datasite: None\n"
     ]
    }
   ],
   "source": [
    "# Try to ping a datasite that doesn't exist\n",
    "error_response = bob_client.ping(\"nonexistent@example.com\")\n",
    "print(f\"Response when pinging invalid datasite: {error_response}\")"
   ]
  },
  {
   "cell_type": "markdown",
   "id": "custom-app-section",
   "metadata": {},
   "source": [
    "## 3. Creating Your Own RPC Application\n",
    "\n",
    "Now let's explore how to create your own application by extending the template. We'll create a simple Weather Service that provides weather forecasts."
   ]
  },
  {
   "cell_type": "markdown",
   "id": "models-header",
   "metadata": {},
   "source": [
    "### 3.1 Define Your Models\n",
    "\n",
    "First, we need to define the request and response models for our application:"
   ]
  },
  {
   "cell_type": "code",
   "execution_count": null,
   "id": "models-code",
   "metadata": {},
   "outputs": [],
   "source": [
    "from pingpong import SyftRPCClient\n",
    "from pydantic import BaseModel, Field\n",
    "from datetime import datetime\n",
    "import random\n",
    "\n",
    "# Define request model\n",
    "class WeatherRequest(BaseModel):\n",
    "    location: str = Field(description=\"City or coordinates\")\n",
    "    units: str = Field(default=\"metric\", description=\"Temperature units (metric/imperial)\")\n",
    "\n",
    "# Define response model\n",
    "class WeatherResponse(BaseModel):\n",
    "    location: str = Field(description=\"Location of forecast\")\n",
    "    temperature: float = Field(description=\"Current temperature\")\n",
    "    conditions: str = Field(description=\"Weather conditions\")\n",
    "    timestamp: datetime = Field(description=\"Forecast time\")"
   ]
  },
  {
   "cell_type": "markdown",
   "id": "client-class-header",
   "metadata": {},
   "source": [
    "### 3.2 Create Your Client Class\n",
    "\n",
    "Next, we'll create our Weather client by extending the SyftRPCClient base class:"
   ]
  },
  {
   "cell_type": "code",
   "execution_count": null,
   "id": "client-class-code",
   "metadata": {},
   "outputs": [],
   "source": [
    "class WeatherClient(SyftRPCClient):\n",
    "    def __init__(self, config_path=None):\n",
    "        \"\"\"Initialize the Weather client.\"\"\"\n",
    "        super().__init__(\n",
    "            config_path=config_path,\n",
    "            app_name=\"weather\",                  # Custom app name\n",
    "            endpoint=\"/forecast\",                # Custom endpoint\n",
    "            request_model=WeatherRequest,        # Our request model\n",
    "            response_model=WeatherResponse       # Our response model\n",
    "        )\n",
    "    \n",
    "    def _handle_request(self, request_data, ctx, box):\n",
    "        \"\"\"Handle incoming weather requests.\"\"\"\n",
    "        # In a real app, you'd look up actual weather data\n",
    "        # This is just a mock implementation\n",
    "        conditions = [\"Sunny\", \"Cloudy\", \"Rainy\", \"Windy\", \"Snowy\"]\n",
    "        \n",
    "        # Generate random temperature based on units\n",
    "        if request_data.units == \"metric\":\n",
    "            temp = round(random.uniform(15.0, 30.0), 1)\n",
    "        else:  # imperial\n",
    "            temp = round(random.uniform(60.0, 90.0), 1)\n",
    "        \n",
    "        return WeatherResponse(\n",
    "            location=request_data.location,\n",
    "            temperature=temp,\n",
    "            conditions=random.choice(conditions),\n",
    "            timestamp=datetime.now()\n",
    "        )\n",
    "    \n",
    "    def get_forecast(self, email, location, units=\"metric\"):\n",
    "        \"\"\"Request a weather forecast from another datasite.\"\"\"\n",
    "        request = WeatherRequest(location=location, units=units)\n",
    "        return self.send_request(email, request)"
   ]
  },
  {
   "cell_type": "markdown",
   "id": "testing-app-header",
   "metadata": {},
   "source": [
    "### 3.3 Testing Our Custom Application\n",
    "\n",
    "Now let's create instances of our Weather client and test it:"
   ]
  },
  {
   "cell_type": "code",
   "execution_count": null,
   "id": "create-weather-clients",
   "metadata": {},
   "outputs": [],
   "source": [
    "# Create weather clients\n",
    "bob_weather = WeatherClient(\"~/.syft_bob_config.json\")\n",
    "\n",
    "try:\n",
    "    alice_weather = WeatherClient(\"~/.syft_alice_config.json\")\n",
    "    have_alice = True\n",
    "except Exception:\n",
    "    have_alice = False"
   ]
  },
  {
   "cell_type": "code",
   "execution_count": null,
   "id": "list-weather-servers",
   "metadata": {},
   "outputs": [],
   "source": [
    "# Check which datasites are running our weather service\n",
    "weather_servers = bob_weather.list_available_servers()\n",
    "print(f\"Active Weather Services: {len(weather_servers)}\")\n",
    "for server in weather_servers:\n",
    "    print(f\"  - {server}\")"
   ]
  },
  {
   "cell_type": "code",
   "execution_count": null,
   "id": "get-weather-forecast",
   "metadata": {},
   "outputs": [],
   "source": [
    "# Get weather forecast if possible\n",
    "if 'alice@openmined.org' in weather_servers and have_alice:\n",
    "    # Bob requests weather from Alice\n",
    "    nyc_forecast = bob_weather.get_forecast('alice@openmined.org', \"New York\", \"metric\")\n",
    "    print(f\"Weather in {nyc_forecast.location}: {nyc_forecast.temperature}°C, {nyc_forecast.conditions}\")\n",
    "    \n",
    "    # Alice requests weather from Bob (for London in imperial units)\n",
    "    london_forecast = alice_weather.get_forecast('bob@openmined.org', \"London\", \"imperial\")\n",
    "    print(f\"Weather in {london_forecast.location}: {london_forecast.temperature}°F, {london_forecast.conditions}\")\n",
    "else:\n",
    "    print(\"No weather servers available or Alice client not running\")"
   ]
  },
  {
   "cell_type": "markdown",
   "id": "multiple-endpoints-header",
   "metadata": {},
   "source": [
    "### 3.4 Advanced: Creating Multiple Endpoints\n",
    "\n",
    "In a real application, you might want to support multiple endpoints. While beyond the scope of this tutorial, you could extend the base class to register multiple endpoints in the `_run_server` method."
   ]
  },
  {
   "cell_type": "markdown",
   "id": "cleanup-header",
   "metadata": {},
   "source": [
    "## 4. Cleanup\n",
    "\n",
    "When we're done, it's important to properly close all clients to shut down the background servers:"
   ]
  },
  {
   "cell_type": "code",
   "execution_count": null,
   "id": "cleanup-pingpong-clients",
   "metadata": {},
   "outputs": [],
   "source": [
    "# Close PingPong clients\n",
    "bob_client.close()\n",
    "try:\n",
    "    alice_client.close()\n",
    "except NameError:\n",
    "    pass  # Alice client wasn't created"
   ]
  },
  {
   "cell_type": "code",
   "execution_count": null,
   "id": "cleanup-weather-clients",
   "metadata": {},
   "outputs": [],
   "source": [
    "# Close Weather clients\n",
    "bob_weather.close()\n",
    "if have_alice:\n",
    "    alice_weather.close()"
   ]
  },
  {
   "cell_type": "markdown",
   "id": "conclusion-section",
   "metadata": {},
   "source": [
    "## 5. Conclusion\n",
    "\n",
    "In this tutorial, we've demonstrated:\n",
    "\n",
    "1. Using the included PingPong application to send and receive pings\n",
    "2. Discovering available datasites and servers\n",
    "3. Creating a custom Weather application by extending the base class\n",
    "4. Handling errors and properly cleaning up resources\n",
    "\n",
    "The Syft RPC Application Template provides a powerful foundation for building distributed applications on the Syft platform. By extending the base class and defining your own models, you can create sophisticated applications with minimal boilerplate code.\n",
    "\n",
    "### Next Steps\n",
    "\n",
    "- Add authentication to your application endpoints\n",
    "- Create more complex data models for your domain\n",
    "- Implement real-world business logic in your request handlers\n",
    "- Build applications that integrate with external APIs or databases\n",
    "- Create applications with multiple endpoints for different functions"
   ]
  },
  {
   "cell_type": "code",
   "execution_count": null,
   "id": "final-cell",
   "metadata": {},
   "outputs": [],
   "source": []
  }
 ],
 "metadata": {
  "kernelspec": {
   "display_name": "Python 3 (ipykernel)",
   "language": "python",
   "name": "python3"
  },
  "language_info": {
   "codemirror_mode": {
    "name": "ipython",
    "version": 3
   },
   "file_extension": ".py",
   "mimetype": "text/x-python",
   "name": "python",
   "nbconvert_exporter": "python",
   "pygments_lexer": "ipython3",
   "version": "3.13.1"
  }
 },
 "nbformat": 4,
 "nbformat_minor": 5
}
