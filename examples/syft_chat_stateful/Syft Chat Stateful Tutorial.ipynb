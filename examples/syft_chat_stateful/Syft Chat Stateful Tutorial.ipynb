{
 "cells": [
  {
   "cell_type": "markdown",
   "id": "intro-cell",
   "metadata": {},
   "source": [
    "# Stateful Syft Chat Tutorial\n",
    "\n",
    "## Introduction\n",
    "\n",
    "This tutorial demonstrates how to use the Stateful Syft Chat library, which adds persistent message storage using SQLite to the basic Syft Chat functionality. The stateful version ensures your message history is preserved across application restarts and provides more powerful filtering capabilities.\n",
    "\n",
    "With Stateful Syft Chat, you can:\n",
    "- Send and receive messages between Syft users\n",
    "- Store message history in a SQLite database\n",
    "- Retrieve message history even after restarting the application\n",
    "- Filter messages by thread, time, or user with SQL-powered queries\n",
    "- Track conversations with threading and replies\n",
    "- Register custom message listeners for integration with your applications\n",
    "\n",
    "### How It Works\n",
    "\n",
    "The library combines client, server, and database components:\n",
    "- **Server**: Uses EventRouter to process message requests\n",
    "- **Database**: SQLite backend for message persistence\n",
    "- **Client**: Sends messages to other users and processes responses\n",
    "\n",
    "Messages are stored in a local SQLite database, allowing history to be preserved between sessions."
   ]
  },
  {
   "cell_type": "markdown",
   "id": "setup-header",
   "metadata": {},
   "source": [
    "## 1. Setup\n",
    "\n",
    "First, let's import the Stateful Syft Chat library and other dependencies:"
   ]
  },
  {
   "cell_type": "code",
   "execution_count": 1,
   "id": "import-cell",
   "metadata": {},
   "outputs": [],
   "source": [
    "import sys\n",
    "sys.path.append('../..')\n",
    "from examples.syft_chat_stateful import syft_chat\n",
    "from datetime import datetime, timezone, timedelta\n",
    "import os"
   ]
  },
  {
   "cell_type": "markdown",
   "id": "setup-info",
   "metadata": {},
   "source": [
    "### Environment Prerequisites\n",
    "\n",
    "This notebook assumes you have set up Syft with at least one datasite. For a complete testing environment, you'll want to have two or more SyftBox clients running with different accounts.\n",
    "\n",
    "For example:\n",
    "- Alice's SyftBox on port 8082\n",
    "- Bob's SyftBox on port 8081\n",
    "\n",
    "You'll need to specify the correct config paths for your environment in the examples below."
   ]
  },
  {
   "cell_type": "markdown",
   "id": "database-highlight",
   "metadata": {},
   "source": [
    "### Database Configuration\n",
    "\n",
    "Unlike the basic Syft Chat, the stateful version stores messages in a SQLite database. Let's specify the database paths for our clients:"
   ]
  },
  {
   "cell_type": "code",
   "execution_count": 2,
   "id": "database-setup",
   "metadata": {},
   "outputs": [
    {
     "name": "stdout",
     "output_type": "stream",
     "text": [
      "Removing existing database: bob_chat_messages.db\n",
      "Removing existing database: alice_chat_messages.db\n"
     ]
    }
   ],
   "source": [
    "# Define database paths for each client\n",
    "bob_db_path = \"bob_chat_messages.db\"\n",
    "alice_db_path = \"alice_chat_messages.db\"\n",
    "\n",
    "# Remove existing databases if you want to start fresh\n",
    "# Comment these out if you want to maintain history between notebook runs\n",
    "if os.path.exists(bob_db_path):\n",
    "    print(f\"Removing existing database: {bob_db_path}\")\n",
    "    os.remove(bob_db_path)\n",
    "    \n",
    "if os.path.exists(alice_db_path):\n",
    "    print(f\"Removing existing database: {alice_db_path}\")\n",
    "    os.remove(alice_db_path)"
   ]
  },
  {
   "cell_type": "markdown",
   "id": "client-section",
   "metadata": {},
   "source": [
    "## 2. Creating Chat Clients\n",
    "\n",
    "Let's create clients connected to our SyftBox instances. Each client will start a chat server in the background and connect to its SQLite database."
   ]
  },
  {
   "cell_type": "code",
   "execution_count": 3,
   "id": "create-bob-client",
   "metadata": {},
   "outputs": [
    {
     "name": "stderr",
     "output_type": "stream",
     "text": [
      "\u001b[32m2025-03-08 20:24:27.059\u001b[0m | \u001b[1mINFO    \u001b[0m | \u001b[36mexamples.syft_chat_stateful.syft_chat\u001b[0m:\u001b[36m__init__\u001b[0m:\u001b[36m256\u001b[0m - \u001b[1m🔑 Connected as: bob@openmined.org\u001b[0m\n",
      "\u001b[32m2025-03-08 20:24:27.060\u001b[0m | \u001b[1mINFO    \u001b[0m | \u001b[36mexamples.syft_chat_stateful.syft_chat\u001b[0m:\u001b[36m_start_server\u001b[0m:\u001b[36m269\u001b[0m - \u001b[1m🔔 Server started for bob@openmined.org\u001b[0m\n",
      "\u001b[32m2025-03-08 20:24:27.067\u001b[0m | \u001b[1mINFO    \u001b[0m | \u001b[36msyft_event.server2\u001b[0m:\u001b[36mregister_rpc\u001b[0m:\u001b[36m140\u001b[0m - \u001b[1mRegister RPC: /message\u001b[0m\n",
      "\u001b[32m2025-03-08 20:24:27.067\u001b[0m | \u001b[1mINFO    \u001b[0m | \u001b[36msyft_event.server2\u001b[0m:\u001b[36mregister_rpc\u001b[0m:\u001b[36m140\u001b[0m - \u001b[1mRegister RPC: /history\u001b[0m\n",
      "\u001b[32m2025-03-08 20:24:27.068\u001b[0m | \u001b[1mINFO    \u001b[0m | \u001b[36mexamples.syft_chat_stateful.syft_chat\u001b[0m:\u001b[36m_run_server\u001b[0m:\u001b[36m278\u001b[0m - \u001b[1m🚀 SERVER: Running syft_chat server as bob@openmined.org\u001b[0m\n",
      "\u001b[32m2025-03-08 20:24:27.068\u001b[0m | \u001b[1mINFO    \u001b[0m | \u001b[36mexamples.syft_chat_stateful.syft_chat\u001b[0m:\u001b[36m_run_server\u001b[0m:\u001b[36m279\u001b[0m - \u001b[1m📡 SERVER: Listening for requests at /Users/atrask/Desktop/SyftBoxBob/datasites/bob@openmined.org/api_data/syft_chat/rpc\u001b[0m\n",
      "\u001b[32m2025-03-08 20:24:27.072\u001b[0m | \u001b[1mINFO    \u001b[0m | \u001b[36msyft_event.server2\u001b[0m:\u001b[36mpublish_schema\u001b[0m:\u001b[36m96\u001b[0m - \u001b[1mPublished schema to /Users/atrask/Desktop/SyftBoxBob/datasites/bob@openmined.org/api_data/syft_chat/rpc/rpc.schema.json\u001b[0m\n",
      "\u001b[32m2025-03-08 20:25:08.411\u001b[0m | \u001b[34m\u001b[1mDEBUG   \u001b[0m | \u001b[36msyft_event.server2\u001b[0m:\u001b[36mprocess_pending_requests\u001b[0m:\u001b[36m105\u001b[0m - \u001b[34m\u001b[1mProcessing pending request 132a7e4a-36cf-4cac-b5b1-bcd9f08bf50e.request\u001b[0m\n",
      "\u001b[32m2025-03-08 20:25:18.121\u001b[0m | \u001b[34m\u001b[1mDEBUG   \u001b[0m | \u001b[36msyft_event.server2\u001b[0m:\u001b[36mprocess_pending_requests\u001b[0m:\u001b[36m105\u001b[0m - \u001b[34m\u001b[1mProcessing pending request cd50b5ff-af96-4169-bb54-1840bdf7a220.request\u001b[0m\n",
      "\u001b[32m2025-03-08 20:25:18.122\u001b[0m | \u001b[1mINFO    \u001b[0m | \u001b[36mexamples.syft_chat_stateful.syft_chat\u001b[0m:\u001b[36mmessage_handler\u001b[0m:\u001b[36m89\u001b[0m - \u001b[1m📨 RECEIVED: Message from alice@openmined.org: Hi Bob! I see your message, and it's now in our da...\u001b[0m\n"
     ]
    },
    {
     "name": "stdout",
     "output_type": "stream",
     "text": [
      "\n",
      "🔔 NEW MESSAGE from alice@openmined.org: Hi Bob! I see your message, and it's now in our databases.\n"
     ]
    },
    {
     "name": "stderr",
     "output_type": "stream",
     "text": [
      "\u001b[32m2025-03-08 20:27:06.276\u001b[0m | \u001b[34m\u001b[1mDEBUG   \u001b[0m | \u001b[36msyft_event.server2\u001b[0m:\u001b[36mprocess_pending_requests\u001b[0m:\u001b[36m105\u001b[0m - \u001b[34m\u001b[1mProcessing pending request 89745628-6a94-41e1-ad40-676475884fd4.request\u001b[0m\n",
      "\u001b[32m2025-03-08 20:27:06.277\u001b[0m | \u001b[1mINFO    \u001b[0m | \u001b[36mexamples.syft_chat_stateful.syft_chat\u001b[0m:\u001b[36mmessage_handler\u001b[0m:\u001b[36m89\u001b[0m - \u001b[1m📨 RECEIVED: Message from bob@openmined.org: Let's discuss Project Alpha in this thread. These ...\u001b[0m\n"
     ]
    },
    {
     "name": "stdout",
     "output_type": "stream",
     "text": [
      "\n",
      "🔔 NEW MESSAGE from bob@openmined.org: Let's discuss Project Alpha in this thread. These thread messages are stored in the database.\n"
     ]
    },
    {
     "name": "stderr",
     "output_type": "stream",
     "text": [
      "\u001b[32m2025-03-08 20:27:08.379\u001b[0m | \u001b[34m\u001b[1mDEBUG   \u001b[0m | \u001b[36msyft_event.server2\u001b[0m:\u001b[36mprocess_pending_requests\u001b[0m:\u001b[36m105\u001b[0m - \u001b[34m\u001b[1mProcessing pending request 132a7e4a-36cf-4cac-b5b1-bcd9f08bf50e.request\u001b[0m\n",
      "\u001b[32m2025-03-08 20:27:21.463\u001b[0m | \u001b[34m\u001b[1mDEBUG   \u001b[0m | \u001b[36msyft_event.server2\u001b[0m:\u001b[36mstop\u001b[0m:\u001b[36m123\u001b[0m - \u001b[34m\u001b[1mStopping event loop\u001b[0m\n"
     ]
    }
   ],
   "source": [
    "# Create a client for Bob's account with its own database\n",
    "bob_client = syft_chat.client(\"~/.syft_bob_config.json\", db_path=bob_db_path)"
   ]
  },
  {
   "cell_type": "code",
   "execution_count": 4,
   "id": "create-alice-client",
   "metadata": {},
   "outputs": [
    {
     "name": "stderr",
     "output_type": "stream",
     "text": [
      "\u001b[32m2025-03-08 20:24:27.780\u001b[0m | \u001b[1mINFO    \u001b[0m | \u001b[36mexamples.syft_chat_stateful.syft_chat\u001b[0m:\u001b[36m__init__\u001b[0m:\u001b[36m256\u001b[0m - \u001b[1m🔑 Connected as: alice@openmined.org\u001b[0m\n",
      "\u001b[32m2025-03-08 20:24:27.781\u001b[0m | \u001b[1mINFO    \u001b[0m | \u001b[36mexamples.syft_chat_stateful.syft_chat\u001b[0m:\u001b[36m_start_server\u001b[0m:\u001b[36m269\u001b[0m - \u001b[1m🔔 Server started for alice@openmined.org\u001b[0m\n",
      "\u001b[32m2025-03-08 20:24:27.787\u001b[0m | \u001b[1mINFO    \u001b[0m | \u001b[36msyft_event.server2\u001b[0m:\u001b[36mregister_rpc\u001b[0m:\u001b[36m140\u001b[0m - \u001b[1mRegister RPC: /message\u001b[0m\n",
      "\u001b[32m2025-03-08 20:24:27.789\u001b[0m | \u001b[1mINFO    \u001b[0m | \u001b[36msyft_event.server2\u001b[0m:\u001b[36mregister_rpc\u001b[0m:\u001b[36m140\u001b[0m - \u001b[1mRegister RPC: /history\u001b[0m\n",
      "\u001b[32m2025-03-08 20:24:27.790\u001b[0m | \u001b[1mINFO    \u001b[0m | \u001b[36mexamples.syft_chat_stateful.syft_chat\u001b[0m:\u001b[36m_run_server\u001b[0m:\u001b[36m278\u001b[0m - \u001b[1m🚀 SERVER: Running syft_chat server as alice@openmined.org\u001b[0m\n",
      "\u001b[32m2025-03-08 20:24:27.791\u001b[0m | \u001b[1mINFO    \u001b[0m | \u001b[36mexamples.syft_chat_stateful.syft_chat\u001b[0m:\u001b[36m_run_server\u001b[0m:\u001b[36m279\u001b[0m - \u001b[1m📡 SERVER: Listening for requests at /Users/atrask/Desktop/SyftBoxAlice/datasites/alice@openmined.org/api_data/syft_chat/rpc\u001b[0m\n",
      "\u001b[32m2025-03-08 20:24:27.799\u001b[0m | \u001b[1mINFO    \u001b[0m | \u001b[36msyft_event.server2\u001b[0m:\u001b[36mpublish_schema\u001b[0m:\u001b[36m96\u001b[0m - \u001b[1mPublished schema to /Users/atrask/Desktop/SyftBoxAlice/datasites/alice@openmined.org/api_data/syft_chat/rpc/rpc.schema.json\u001b[0m\n",
      "\u001b[32m2025-03-08 20:24:27.800\u001b[0m | \u001b[34m\u001b[1mDEBUG   \u001b[0m | \u001b[36msyft_event.server2\u001b[0m:\u001b[36mprocess_pending_requests\u001b[0m:\u001b[36m105\u001b[0m - \u001b[34m\u001b[1mProcessing pending request ea79b882-2b25-48c1-9c70-15c07153c6f0.request\u001b[0m\n",
      "\u001b[32m2025-03-08 20:24:27.802\u001b[0m | \u001b[1mINFO    \u001b[0m | \u001b[36mexamples.syft_chat_stateful.syft_chat\u001b[0m:\u001b[36mmessage_handler\u001b[0m:\u001b[36m89\u001b[0m - \u001b[1m📨 RECEIVED: Message from alice@openmined.org: Hi Bob! I see your message, and it's now in our da...\u001b[0m\n",
      "\u001b[32m2025-03-08 20:25:14.064\u001b[0m | \u001b[34m\u001b[1mDEBUG   \u001b[0m | \u001b[36msyft_event.server2\u001b[0m:\u001b[36mprocess_pending_requests\u001b[0m:\u001b[36m105\u001b[0m - \u001b[34m\u001b[1mProcessing pending request 7c731730-48a2-43f3-b062-387a348c5b5e.request\u001b[0m\n",
      "\u001b[32m2025-03-08 20:27:21.573\u001b[0m | \u001b[34m\u001b[1mDEBUG   \u001b[0m | \u001b[36msyft_event.server2\u001b[0m:\u001b[36mstop\u001b[0m:\u001b[36m123\u001b[0m - \u001b[34m\u001b[1mStopping event loop\u001b[0m\n",
      "\u001b[32m2025-03-08 20:27:25.066\u001b[0m | \u001b[34m\u001b[1mDEBUG   \u001b[0m | \u001b[36msyft_event.handlers\u001b[0m:\u001b[36mon_any_event\u001b[0m:\u001b[36m31\u001b[0m - \u001b[34m\u001b[1mFSEvent - created - /Users/atrask/Desktop/SyftBoxBob/datasites/bob@openmined.org/api_data/syft_chat/rpc/history/132a7e4a-36cf-4cac-b5b1-bcd9f08bf50e.request\u001b[0m\n",
      "\u001b[32m2025-03-08 20:27:26.713\u001b[0m | \u001b[34m\u001b[1mDEBUG   \u001b[0m | \u001b[36msyft_event.handlers\u001b[0m:\u001b[36mon_any_event\u001b[0m:\u001b[36m31\u001b[0m - \u001b[34m\u001b[1mFSEvent - created - /Users/atrask/Desktop/SyftBoxBob/datasites/bob@openmined.org/api_data/syft_chat/rpc/history/132a7e4a-36cf-4cac-b5b1-bcd9f08bf50e.request\u001b[0m\n",
      "\u001b[32m2025-03-08 20:27:35.674\u001b[0m | \u001b[34m\u001b[1mDEBUG   \u001b[0m | \u001b[36msyft_event.handlers\u001b[0m:\u001b[36mon_any_event\u001b[0m:\u001b[36m31\u001b[0m - \u001b[34m\u001b[1mFSEvent - created - /Users/atrask/Desktop/SyftBoxBob/datasites/bob@openmined.org/api_data/syft_chat/rpc/message/8c572194-2a5f-4b03-a00f-36acf82ca77b.request\u001b[0m\n",
      "\u001b[32m2025-03-08 20:27:35.675\u001b[0m | \u001b[1mINFO    \u001b[0m | \u001b[36mexamples.syft_chat_stateful.syft_chat\u001b[0m:\u001b[36mmessage_handler\u001b[0m:\u001b[36m89\u001b[0m - \u001b[1m📨 RECEIVED: Message from bob@openmined.org: This message was sent after restarting the clients...\u001b[0m\n",
      "\u001b[32m2025-03-08 20:27:44.077\u001b[0m | \u001b[34m\u001b[1mDEBUG   \u001b[0m | \u001b[36msyft_event.handlers\u001b[0m:\u001b[36mon_any_event\u001b[0m:\u001b[36m31\u001b[0m - \u001b[34m\u001b[1mFSEvent - created - /Users/atrask/Desktop/SyftBoxBob/datasites/bob@openmined.org/api_data/syft_chat/rpc/message/db031377-0017-443a-b6f5-2403e20bc56a.request\u001b[0m\n",
      "\u001b[32m2025-03-08 20:27:44.079\u001b[0m | \u001b[1mINFO    \u001b[0m | \u001b[36mexamples.syft_chat_stateful.syft_chat\u001b[0m:\u001b[36mmessage_handler\u001b[0m:\u001b[36m89\u001b[0m - \u001b[1m📨 RECEIVED: Message from alice@openmined.org: Here's a message that will trigger the advanced pr...\u001b[0m\n"
     ]
    },
    {
     "name": "stdout",
     "output_type": "stream",
     "text": [
      "[01:27:40] FROM: alice@openmined.org (Thread: project-alpha)\n",
      "MESSAGE: Here's a message that will trigger the advanced processor. This is stored in the database too.\n",
      "--------------------------------------------------\n"
     ]
    }
   ],
   "source": [
    "# Create a client for Alice's account with its own database\n",
    "# Comment this out if you only have one Syft instance available\n",
    "alice_client = syft_chat.client(\"~/.syft_alice_config.json\", db_path=alice_db_path)"
   ]
  },
  {
   "cell_type": "markdown",
   "id": "discover-users-section",
   "metadata": {},
   "source": [
    "## 3. Discovering Available Chat Users\n",
    "\n",
    "Let's see which users have the chat service running:"
   ]
  },
  {
   "cell_type": "code",
   "execution_count": 5,
   "id": "list-users",
   "metadata": {},
   "outputs": [
    {
     "name": "stdout",
     "output_type": "stream",
     "text": [
      "Total datasites: 140\n",
      "Available chat users: 2\n",
      "Chat-enabled users:\n",
      "  - alice@openmined.org\n",
      "  - bob@openmined.org\n"
     ]
    }
   ],
   "source": [
    "# Get all available datasites\n",
    "all_users = bob_client.list_all_users()\n",
    "print(f\"Total datasites: {len(all_users)}\")\n",
    "\n",
    "# Get only users with the chat service running\n",
    "chat_users = bob_client.list_available_users()\n",
    "print(f\"Available chat users: {len(chat_users)}\")\n",
    "print(\"Chat-enabled users:\")\n",
    "for user in chat_users:\n",
    "    print(f\"  - {user}\")"
   ]
  },
  {
   "cell_type": "markdown",
   "id": "sending-messages-section",
   "metadata": {},
   "source": [
    "## 4. Sending and Receiving Messages\n",
    "\n",
    "Now let's exchange some messages between users. Each message will be stored in the sender and recipient's databases."
   ]
  },
  {
   "cell_type": "markdown",
   "id": "sending-messages-header",
   "metadata": {},
   "source": [
    "### 4.1 Sending Messages\n",
    "\n",
    "Let's send a message from Bob to Alice:"
   ]
  },
  {
   "cell_type": "code",
   "execution_count": 6,
   "id": "send-from-bob",
   "metadata": {},
   "outputs": [
    {
     "name": "stderr",
     "output_type": "stream",
     "text": [
      "\u001b[32m2025-03-08 20:24:31.529\u001b[0m | \u001b[1mINFO    \u001b[0m | \u001b[36mexamples.syft_chat_stateful.syft_chat\u001b[0m:\u001b[36msend_message\u001b[0m:\u001b[36m339\u001b[0m - \u001b[1m📤 SENDING: Message to alice@openmined.org\u001b[0m\n",
      "\u001b[32m2025-03-08 20:24:35.233\u001b[0m | \u001b[34m\u001b[1mDEBUG   \u001b[0m | \u001b[36msyft_event.handlers\u001b[0m:\u001b[36mon_any_event\u001b[0m:\u001b[36m31\u001b[0m - \u001b[34m\u001b[1mFSEvent - created - /Users/atrask/Desktop/SyftBoxAlice/datasites/alice@openmined.org/api_data/syft_chat/rpc/message/40709db2-e7d0-42ee-9129-08912c52c53d.request\u001b[0m\n",
      "\u001b[32m2025-03-08 20:24:35.234\u001b[0m | \u001b[1mINFO    \u001b[0m | \u001b[36mexamples.syft_chat_stateful.syft_chat\u001b[0m:\u001b[36mmessage_handler\u001b[0m:\u001b[36m89\u001b[0m - \u001b[1m📨 RECEIVED: Message from bob@openmined.org: Hello Alice! This message will be stored in both o...\u001b[0m\n",
      "\u001b[32m2025-03-08 20:24:39.343\u001b[0m | \u001b[1mINFO    \u001b[0m | \u001b[36mexamples.syft_chat_stateful.syft_chat\u001b[0m:\u001b[36msend_message\u001b[0m:\u001b[36m356\u001b[0m - \u001b[1m📥 RECEIVED: Delivery confirmation from alice@openmined.org. Time: 7.81s\u001b[0m\n",
      "\u001b[32m2025-03-08 20:24:39.354\u001b[0m | \u001b[34m\u001b[1mDEBUG   \u001b[0m | \u001b[36msyft_event.handlers\u001b[0m:\u001b[36mon_any_event\u001b[0m:\u001b[36m31\u001b[0m - \u001b[34m\u001b[1mFSEvent - created - /Users/atrask/Desktop/SyftBoxBob/datasites/bob@openmined.org/api_data/syft_chat/rpc/message/dde39722-4878-4b0a-8c5b-c29d6793d763.request\u001b[0m\n",
      "\u001b[32m2025-03-08 20:24:39.355\u001b[0m | \u001b[1mINFO    \u001b[0m | \u001b[36mexamples.syft_chat_stateful.syft_chat\u001b[0m:\u001b[36mmessage_handler\u001b[0m:\u001b[36m89\u001b[0m - \u001b[1m📨 RECEIVED: Message from bob@openmined.org: Hello Alice! This message will be stored in both o...\u001b[0m\n"
     ]
    },
    {
     "name": "stdout",
     "output_type": "stream",
     "text": [
      "Message sent with ID: 9f216081-792d-4063-8cf9-7c1a669efd71\n",
      "Status: delivered\n"
     ]
    }
   ],
   "source": [
    "# If Alice's client is in the available users list, send a message to her\n",
    "if 'alice@openmined.org' in chat_users:\n",
    "    response = bob_client.send_message(\n",
    "        'alice@openmined.org', \n",
    "        \"Hello Alice! This message will be stored in both our databases.\"\n",
    "    )\n",
    "    print(f\"Message sent with ID: {response.message_id}\")\n",
    "    print(f\"Status: {response.status}\")\n",
    "else:\n",
    "    # Find the first available user\n",
    "    if chat_users:\n",
    "        target = chat_users[0]\n",
    "        print(f\"Alice not found, messaging {target} instead\")\n",
    "        response = bob_client.send_message(target, \"Hello! This is a test message.\")\n",
    "        print(f\"Message sent with ID: {response.message_id}\")\n",
    "    else:\n",
    "        print(\"No chat users found to message\")"
   ]
  },
  {
   "cell_type": "markdown",
   "id": "receiving-messages-header",
   "metadata": {},
   "source": [
    "### 4.2 Receiving Messages with Listeners\n",
    "\n",
    "To actively process incoming messages, we can register message listeners. These are functions that will be called whenever a new message is received."
   ]
  },
  {
   "cell_type": "code",
   "execution_count": 7,
   "id": "message-listener",
   "metadata": {},
   "outputs": [],
   "source": [
    "# Define a custom message listener function\n",
    "def print_message(message):\n",
    "    print(f\"\\n🔔 NEW MESSAGE from {message.sender}: {message.content}\")\n",
    "\n",
    "# Register the listener with Bob's client\n",
    "bob_client.add_message_listener(print_message)\n",
    "\n",
    "# Also register with Alice's client if available\n",
    "try:\n",
    "    alice_client.add_message_listener(print_message)\n",
    "except NameError:\n",
    "    pass"
   ]
  },
  {
   "cell_type": "markdown",
   "id": "bidirectional-chat-section",
   "metadata": {},
   "source": [
    "### 4.3 Bidirectional Chat\n",
    "\n",
    "If we have both Alice and Bob's clients running, we can demonstrate bidirectional chat:"
   ]
  },
  {
   "cell_type": "code",
   "execution_count": 8,
   "id": "alice-response",
   "metadata": {},
   "outputs": [
    {
     "name": "stderr",
     "output_type": "stream",
     "text": [
      "\u001b[32m2025-03-08 20:24:43.645\u001b[0m | \u001b[1mINFO    \u001b[0m | \u001b[36mexamples.syft_chat_stateful.syft_chat\u001b[0m:\u001b[36msend_message\u001b[0m:\u001b[36m339\u001b[0m - \u001b[1m📤 SENDING: Message to bob@openmined.org\u001b[0m\n",
      "\u001b[32m2025-03-08 20:24:47.553\u001b[0m | \u001b[34m\u001b[1mDEBUG   \u001b[0m | \u001b[36msyft_event.handlers\u001b[0m:\u001b[36mon_any_event\u001b[0m:\u001b[36m31\u001b[0m - \u001b[34m\u001b[1mFSEvent - created - /Users/atrask/Desktop/SyftBoxBob/datasites/bob@openmined.org/api_data/syft_chat/rpc/message/b5c6d41e-3a1e-499f-9903-362dd5ade7af.request\u001b[0m\n",
      "\u001b[32m2025-03-08 20:24:47.554\u001b[0m | \u001b[1mINFO    \u001b[0m | \u001b[36mexamples.syft_chat_stateful.syft_chat\u001b[0m:\u001b[36mmessage_handler\u001b[0m:\u001b[36m89\u001b[0m - \u001b[1m📨 RECEIVED: Message from alice@openmined.org: Hi Bob! I see your message, and it's now in our da...\u001b[0m\n"
     ]
    },
    {
     "name": "stdout",
     "output_type": "stream",
     "text": [
      "\n",
      "🔔 NEW MESSAGE from alice@openmined.org: Hi Bob! I see your message, and it's now in our databases.\n"
     ]
    },
    {
     "name": "stderr",
     "output_type": "stream",
     "text": [
      "\u001b[32m2025-03-08 20:24:51.894\u001b[0m | \u001b[1mINFO    \u001b[0m | \u001b[36mexamples.syft_chat_stateful.syft_chat\u001b[0m:\u001b[36msend_message\u001b[0m:\u001b[36m356\u001b[0m - \u001b[1m📥 RECEIVED: Delivery confirmation from bob@openmined.org. Time: 8.25s\u001b[0m\n",
      "\u001b[32m2025-03-08 20:24:51.905\u001b[0m | \u001b[34m\u001b[1mDEBUG   \u001b[0m | \u001b[36msyft_event.handlers\u001b[0m:\u001b[36mon_any_event\u001b[0m:\u001b[36m31\u001b[0m - \u001b[34m\u001b[1mFSEvent - created - /Users/atrask/Desktop/SyftBoxAlice/datasites/alice@openmined.org/api_data/syft_chat/rpc/message/c9064466-a732-4428-8e64-b101099a5c9a.request\u001b[0m\n",
      "\u001b[32m2025-03-08 20:24:51.906\u001b[0m | \u001b[1mINFO    \u001b[0m | \u001b[36mexamples.syft_chat_stateful.syft_chat\u001b[0m:\u001b[36mmessage_handler\u001b[0m:\u001b[36m89\u001b[0m - \u001b[1m📨 RECEIVED: Message from alice@openmined.org: Hi Bob! I see your message, and it's now in our da...\u001b[0m\n"
     ]
    },
    {
     "name": "stdout",
     "output_type": "stream",
     "text": [
      "\n",
      "🔔 NEW MESSAGE from alice@openmined.org: Hi Bob! I see your message, and it's now in our databases.\n",
      "Message sent from Alice to Bob.\n"
     ]
    }
   ],
   "source": [
    "# Check if we have Alice's client available\n",
    "try:\n",
    "    # Alice responds to Bob\n",
    "    alice_response = alice_client.send_message(\n",
    "        'bob@openmined.org',\n",
    "        \"Hi Bob! I see your message, and it's now in our databases.\"\n",
    "    )\n",
    "    print(\"Message sent from Alice to Bob.\")\n",
    "except NameError:\n",
    "    print(\"Alice client not available. Cannot demonstrate bidirectional chat.\")"
   ]
  },
  {
   "cell_type": "markdown",
   "id": "chat-history-section",
   "metadata": {},
   "source": [
    "## 5. Working with Chat History\n",
    "\n",
    "One of the biggest advantages of the stateful version is its ability to retrieve message history from the database. Let's explore these features."
   ]
  },
  {
   "cell_type": "markdown",
   "id": "local-history-header",
   "metadata": {},
   "source": [
    "### 5.1 Local Chat History\n",
    "\n",
    "Each client can retrieve messages from its local SQLite database:"
   ]
  },
  {
   "cell_type": "code",
   "execution_count": 9,
   "id": "get-bob-history",
   "metadata": {},
   "outputs": [
    {
     "name": "stderr",
     "output_type": "stream",
     "text": [
      "\u001b[32m2025-03-08 20:25:08.429\u001b[0m | \u001b[34m\u001b[1mDEBUG   \u001b[0m | \u001b[36msyft_event.handlers\u001b[0m:\u001b[36mon_any_event\u001b[0m:\u001b[36m31\u001b[0m - \u001b[34m\u001b[1mFSEvent - created - /Users/atrask/Desktop/SyftBoxBob/datasites/bob@openmined.org/api_data/syft_chat/rpc/history/132a7e4a-36cf-4cac-b5b1-bcd9f08bf50e.request\u001b[0m\n"
     ]
    },
    {
     "name": "stdout",
     "output_type": "stream",
     "text": [
      "Bob's message history (2 messages):\n",
      "2025-03-09 01:24:31  - bob@openmined.org: Hello Alice! This message will be stored in both our databases.\n",
      "2025-03-09 01:24:43  - alice@openmined.org: Hi Bob! I see your message, and it's now in our databases.\n"
     ]
    }
   ],
   "source": [
    "# Get Bob's chat history from the database\n",
    "bob_history = bob_client.get_chat_history()\n",
    "print(f\"Bob's message history ({len(bob_history)} messages):\")\n",
    "for msg in bob_history:\n",
    "    time_str = msg.timestamp.strftime(\"%Y-%m-%d %H:%M:%S %Z\")\n",
    "    print(f\"{time_str} - {msg.sender}: {msg.content}\")"
   ]
  },
  {
   "cell_type": "code",
   "execution_count": 10,
   "id": "filter-history",
   "metadata": {},
   "outputs": [
    {
     "name": "stderr",
     "output_type": "stream",
     "text": [
      "\u001b[32m2025-03-08 20:25:09.952\u001b[0m | \u001b[34m\u001b[1mDEBUG   \u001b[0m | \u001b[36msyft_event.handlers\u001b[0m:\u001b[36mon_any_event\u001b[0m:\u001b[36m31\u001b[0m - \u001b[34m\u001b[1mFSEvent - created - /Users/atrask/Desktop/SyftBoxBob/datasites/bob@openmined.org/api_data/syft_chat/rpc/history/b7c183c0-8d8c-4c0a-9e6b-dc5d8f861242.request\u001b[0m\n"
     ]
    },
    {
     "name": "stdout",
     "output_type": "stream",
     "text": [
      "Bob's filtered chat history (2 messages):\n",
      "2025-03-09 01:24:31  - bob@openmined.org: Hello Alice! This message will be stored in both our databases.\n",
      "2025-03-09 01:24:43  - alice@openmined.org: Hi Bob! I see your message, and it's now in our databases.\n"
     ]
    }
   ],
   "source": [
    "# We can filter history by sender (now using SQL filtering)\n",
    "bob_alice_msgs = bob_client.get_chat_history(with_user='alice@openmined.org')\n",
    "print(f\"Bob's filtered chat history ({len(bob_alice_msgs)} messages):\")\n",
    "for msg in bob_alice_msgs:\n",
    "    time_str = msg.timestamp.strftime(\"%Y-%m-%d %H:%M:%S %Z\")\n",
    "    print(f\"{time_str} - {msg.sender}: {msg.content}\")"
   ]
  },
  {
   "cell_type": "markdown",
   "id": "remote-history-header",
   "metadata": {},
   "source": [
    "### 5.2 Remote Chat History\n",
    "\n",
    "You can also request chat history from another user. The stateful version will store copies of these messages in your local database:"
   ]
  },
  {
   "cell_type": "code",
   "execution_count": 11,
   "id": "request-alice-history",
   "metadata": {},
   "outputs": [
    {
     "name": "stderr",
     "output_type": "stream",
     "text": [
      "\u001b[32m2025-03-08 20:25:11.517\u001b[0m | \u001b[1mINFO    \u001b[0m | \u001b[36mexamples.syft_chat_stateful.syft_chat\u001b[0m:\u001b[36mrequest_history_from_user\u001b[0m:\u001b[36m432\u001b[0m - \u001b[1m📤 REQUESTING: Chat history from alice@openmined.org\u001b[0m\n",
      "\u001b[32m2025-03-08 20:25:14.080\u001b[0m | \u001b[34m\u001b[1mDEBUG   \u001b[0m | \u001b[36msyft_event.handlers\u001b[0m:\u001b[36mon_any_event\u001b[0m:\u001b[36m31\u001b[0m - \u001b[34m\u001b[1mFSEvent - created - /Users/atrask/Desktop/SyftBoxAlice/datasites/alice@openmined.org/api_data/syft_chat/rpc/history/7c731730-48a2-43f3-b062-387a348c5b5e.request\u001b[0m\n",
      "\u001b[32m2025-03-08 20:25:18.055\u001b[0m | \u001b[1mINFO    \u001b[0m | \u001b[36mexamples.syft_chat_stateful.syft_chat\u001b[0m:\u001b[36mrequest_history_from_user\u001b[0m:\u001b[36m448\u001b[0m - \u001b[1m📥 RECEIVED: History from alice@openmined.org (3 messages). Time: 6.54s\u001b[0m\n",
      "\u001b[32m2025-03-08 20:25:18.135\u001b[0m | \u001b[34m\u001b[1mDEBUG   \u001b[0m | \u001b[36msyft_event.handlers\u001b[0m:\u001b[36mon_any_event\u001b[0m:\u001b[36m31\u001b[0m - \u001b[34m\u001b[1mFSEvent - created - /Users/atrask/Desktop/SyftBoxBob/datasites/bob@openmined.org/api_data/syft_chat/rpc/message/cd50b5ff-af96-4169-bb54-1840bdf7a220.request\u001b[0m\n",
      "\u001b[32m2025-03-08 20:25:18.136\u001b[0m | \u001b[1mINFO    \u001b[0m | \u001b[36mexamples.syft_chat_stateful.syft_chat\u001b[0m:\u001b[36mmessage_handler\u001b[0m:\u001b[36m89\u001b[0m - \u001b[1m📨 RECEIVED: Message from alice@openmined.org: Hi Bob! I see your message, and it's now in our da...\u001b[0m\n",
      "\u001b[32m2025-03-08 20:25:18.137\u001b[0m | \u001b[1mINFO    \u001b[0m | \u001b[36mexamples.syft_chat_stateful.syft_chat\u001b[0m:\u001b[36mmessage_handler\u001b[0m:\u001b[36m119\u001b[0m - \u001b[1mMessage with ID 491216ea-849f-4ca6-8828-20d0819f42f0 already exists, skipping database insert\u001b[0m\n",
      "\u001b[32m2025-03-08 20:25:18.170\u001b[0m | \u001b[34m\u001b[1mDEBUG   \u001b[0m | \u001b[36msyft_event.handlers\u001b[0m:\u001b[36mon_any_event\u001b[0m:\u001b[36m31\u001b[0m - \u001b[34m\u001b[1mFSEvent - created - /Users/atrask/Desktop/SyftBoxBob/datasites/bob@openmined.org/api_data/syft_chat/rpc/message/87237040-b68c-40e2-9271-9c41e860e437.request\u001b[0m\n",
      "\u001b[32m2025-03-08 20:25:18.172\u001b[0m | \u001b[1mINFO    \u001b[0m | \u001b[36mexamples.syft_chat_stateful.syft_chat\u001b[0m:\u001b[36mmessage_handler\u001b[0m:\u001b[36m89\u001b[0m - \u001b[1m📨 RECEIVED: Message from bob@openmined.org: Hello Alice! This message will be stored in both o...\u001b[0m\n",
      "\u001b[32m2025-03-08 20:25:18.173\u001b[0m | \u001b[1mINFO    \u001b[0m | \u001b[36mexamples.syft_chat_stateful.syft_chat\u001b[0m:\u001b[36mmessage_handler\u001b[0m:\u001b[36m119\u001b[0m - \u001b[1mMessage with ID 9f216081-792d-4063-8cf9-7c1a669efd71 already exists, skipping database insert\u001b[0m\n",
      "\u001b[32m2025-03-08 20:25:18.280\u001b[0m | \u001b[34m\u001b[1mDEBUG   \u001b[0m | \u001b[36msyft_event.handlers\u001b[0m:\u001b[36mon_any_event\u001b[0m:\u001b[36m31\u001b[0m - \u001b[34m\u001b[1mFSEvent - created - /Users/atrask/Desktop/SyftBoxBob/datasites/bob@openmined.org/api_data/syft_chat/rpc/message/94515d5a-cfde-480f-8b70-22ca8b9942c9.request\u001b[0m\n",
      "\u001b[32m2025-03-08 20:25:18.282\u001b[0m | \u001b[1mINFO    \u001b[0m | \u001b[36mexamples.syft_chat_stateful.syft_chat\u001b[0m:\u001b[36mmessage_handler\u001b[0m:\u001b[36m89\u001b[0m - \u001b[1m📨 RECEIVED: Message from alice@openmined.org: Hi Bob! I see your message, and it's now in our da...\u001b[0m\n",
      "\u001b[32m2025-03-08 20:25:18.285\u001b[0m | \u001b[1mINFO    \u001b[0m | \u001b[36mexamples.syft_chat_stateful.syft_chat\u001b[0m:\u001b[36mmessage_handler\u001b[0m:\u001b[36m119\u001b[0m - \u001b[1mMessage with ID 20315afd-2237-4dfd-b748-3bd0b0331ad0 already exists, skipping database insert\u001b[0m\n"
     ]
    },
    {
     "name": "stdout",
     "output_type": "stream",
     "text": [
      "\n",
      "🔔 NEW MESSAGE from alice@openmined.org: Hi Bob! I see your message, and it's now in our databases.\n",
      "\n",
      "🔔 NEW MESSAGE from bob@openmined.org: Hello Alice! This message will be stored in both our databases.\n",
      "\n",
      "🔔 NEW MESSAGE from alice@openmined.org: Hi Bob! I see your message, and it's now in our databases.\n",
      "Retrieved 3 messages from Alice's history:\n",
      "2025-03-09 01:22:59  - alice@openmined.org: Hi Bob! I see your message, and it's now in our databases.\n",
      "2025-03-09 01:24:31  - bob@openmined.org: Hello Alice! This message will be stored in both our databases.\n",
      "2025-03-09 01:24:43  - alice@openmined.org: Hi Bob! I see your message, and it's now in our databases.\n"
     ]
    }
   ],
   "source": [
    "# Request history from Alice's client\n",
    "if 'alice@openmined.org' in chat_users:\n",
    "    alice_history = bob_client.request_history_from_user('alice@openmined.org')\n",
    "    print(f\"Retrieved {len(alice_history)} messages from Alice's history:\")\n",
    "    for msg in alice_history:\n",
    "        time_str = msg.timestamp.strftime(\"%Y-%m-%d %H:%M:%S %Z\")\n",
    "        print(f\"{time_str} - {msg.sender}: {msg.content}\")\n",
    "else:\n",
    "    print(\"Alice not available to request history from.\")"
   ]
  },
  {
   "cell_type": "markdown",
   "id": "advanced-features",
   "metadata": {},
   "source": [
    "## 6. Advanced Features\n",
    "\n",
    "The stateful version supports the same advanced features as the basic version but with better persistence."
   ]
  },
  {
   "cell_type": "markdown",
   "id": "threaded-conversations",
   "metadata": {},
   "source": [
    "### 6.1 Threaded Conversations\n",
    "\n",
    "You can group messages into threads which are stored in the database:"
   ]
  },
  {
   "cell_type": "code",
   "execution_count": 12,
   "id": "thread-example",
   "metadata": {},
   "outputs": [
    {
     "name": "stderr",
     "output_type": "stream",
     "text": [
      "\u001b[32m2025-03-08 20:26:59.625\u001b[0m | \u001b[1mINFO    \u001b[0m | \u001b[36mexamples.syft_chat_stateful.syft_chat\u001b[0m:\u001b[36msend_message\u001b[0m:\u001b[36m339\u001b[0m - \u001b[1m📤 SENDING: Message to alice@openmined.org\u001b[0m\n",
      "\u001b[32m2025-03-08 20:27:02.365\u001b[0m | \u001b[34m\u001b[1mDEBUG   \u001b[0m | \u001b[36msyft_event.handlers\u001b[0m:\u001b[36mon_any_event\u001b[0m:\u001b[36m31\u001b[0m - \u001b[34m\u001b[1mFSEvent - created - /Users/atrask/Desktop/SyftBoxAlice/datasites/alice@openmined.org/api_data/syft_chat/rpc/message/dc800bdb-0f49-4c75-81a1-87cc78e41226.request\u001b[0m\n",
      "\u001b[32m2025-03-08 20:27:02.366\u001b[0m | \u001b[1mINFO    \u001b[0m | \u001b[36mexamples.syft_chat_stateful.syft_chat\u001b[0m:\u001b[36mmessage_handler\u001b[0m:\u001b[36m89\u001b[0m - \u001b[1m📨 RECEIVED: Message from bob@openmined.org: Let's discuss Project Alpha in this thread. These ...\u001b[0m\n"
     ]
    },
    {
     "name": "stdout",
     "output_type": "stream",
     "text": [
      "\n",
      "🔔 NEW MESSAGE from bob@openmined.org: Let's discuss Project Alpha in this thread. These thread messages are stored in the database.\n"
     ]
    },
    {
     "name": "stderr",
     "output_type": "stream",
     "text": [
      "\u001b[32m2025-03-08 20:27:06.268\u001b[0m | \u001b[1mINFO    \u001b[0m | \u001b[36mexamples.syft_chat_stateful.syft_chat\u001b[0m:\u001b[36msend_message\u001b[0m:\u001b[36m356\u001b[0m - \u001b[1m📥 RECEIVED: Delivery confirmation from alice@openmined.org. Time: 6.64s\u001b[0m\n",
      "\u001b[32m2025-03-08 20:27:06.289\u001b[0m | \u001b[34m\u001b[1mDEBUG   \u001b[0m | \u001b[36msyft_event.handlers\u001b[0m:\u001b[36mon_any_event\u001b[0m:\u001b[36m31\u001b[0m - \u001b[34m\u001b[1mFSEvent - created - /Users/atrask/Desktop/SyftBoxBob/datasites/bob@openmined.org/api_data/syft_chat/rpc/message/89745628-6a94-41e1-ad40-676475884fd4.request\u001b[0m\n",
      "\u001b[32m2025-03-08 20:27:06.290\u001b[0m | \u001b[1mINFO    \u001b[0m | \u001b[36mexamples.syft_chat_stateful.syft_chat\u001b[0m:\u001b[36mmessage_handler\u001b[0m:\u001b[36m89\u001b[0m - \u001b[1m📨 RECEIVED: Message from bob@openmined.org: Let's discuss Project Alpha in this thread. These ...\u001b[0m\n",
      "\u001b[32m2025-03-08 20:27:06.290\u001b[0m | \u001b[1mINFO    \u001b[0m | \u001b[36mexamples.syft_chat_stateful.syft_chat\u001b[0m:\u001b[36mmessage_handler\u001b[0m:\u001b[36m119\u001b[0m - \u001b[1mMessage with ID 986320e6-dfef-4d5a-886f-a458681c7c88 already exists, skipping database insert\u001b[0m\n"
     ]
    },
    {
     "name": "stdout",
     "output_type": "stream",
     "text": [
      "\n",
      "🔔 NEW MESSAGE from bob@openmined.org: Let's discuss Project Alpha in this thread. These thread messages are stored in the database.\n",
      "Started a new thread with ID: project-alpha\n"
     ]
    }
   ],
   "source": [
    "# Create a new thread\n",
    "thread_id = \"project-alpha\"\n",
    "\n",
    "try:\n",
    "    # Send a message in this thread\n",
    "    response = bob_client.send_message(\n",
    "        'alice@openmined.org',\n",
    "        \"Let's discuss Project Alpha in this thread. These thread messages are stored in the database.\",\n",
    "        thread_id=thread_id\n",
    "    )\n",
    "    print(f\"Started a new thread with ID: {thread_id}\")\n",
    "except Exception as e:\n",
    "    print(f\"Error: {e}\")"
   ]
  },
  {
   "cell_type": "markdown",
   "id": "message-replies",
   "metadata": {},
   "source": [
    "### 6.2 Message Replies\n",
    "\n",
    "You can reply to specific messages using the `reply_to` parameter:"
   ]
  },
  {
   "cell_type": "code",
   "execution_count": 13,
   "id": "reply-example",
   "metadata": {},
   "outputs": [
    {
     "name": "stderr",
     "output_type": "stream",
     "text": [
      "\u001b[32m2025-03-08 20:27:08.450\u001b[0m | \u001b[34m\u001b[1mDEBUG   \u001b[0m | \u001b[36msyft_event.handlers\u001b[0m:\u001b[36mon_any_event\u001b[0m:\u001b[36m31\u001b[0m - \u001b[34m\u001b[1mFSEvent - created - /Users/atrask/Desktop/SyftBoxBob/datasites/bob@openmined.org/api_data/syft_chat/rpc/history/132a7e4a-36cf-4cac-b5b1-bcd9f08bf50e.request\u001b[0m\n",
      "\u001b[32m2025-03-08 20:27:08.483\u001b[0m | \u001b[1mINFO    \u001b[0m | \u001b[36mexamples.syft_chat_stateful.syft_chat\u001b[0m:\u001b[36msend_message\u001b[0m:\u001b[36m339\u001b[0m - \u001b[1m📤 SENDING: Message to bob@openmined.org\u001b[0m\n",
      "\u001b[32m2025-03-08 20:27:12.701\u001b[0m | \u001b[34m\u001b[1mDEBUG   \u001b[0m | \u001b[36msyft_event.handlers\u001b[0m:\u001b[36mon_any_event\u001b[0m:\u001b[36m31\u001b[0m - \u001b[34m\u001b[1mFSEvent - created - /Users/atrask/Desktop/SyftBoxBob/datasites/bob@openmined.org/api_data/syft_chat/rpc/message/d1bd19df-0940-4197-a9a7-e1c87bcc6d6f.request\u001b[0m\n",
      "\u001b[32m2025-03-08 20:27:12.702\u001b[0m | \u001b[1mINFO    \u001b[0m | \u001b[36mexamples.syft_chat_stateful.syft_chat\u001b[0m:\u001b[36mmessage_handler\u001b[0m:\u001b[36m89\u001b[0m - \u001b[1m📨 RECEIVED: Message from alice@openmined.org: I'm ready to discuss Project Alpha. What aspects s...\u001b[0m\n"
     ]
    },
    {
     "name": "stdout",
     "output_type": "stream",
     "text": [
      "\n",
      "🔔 NEW MESSAGE from alice@openmined.org: I'm ready to discuss Project Alpha. What aspects should we focus on first? This reply is linked in the database.\n"
     ]
    },
    {
     "name": "stderr",
     "output_type": "stream",
     "text": [
      "\u001b[32m2025-03-08 20:27:16.921\u001b[0m | \u001b[1mINFO    \u001b[0m | \u001b[36mexamples.syft_chat_stateful.syft_chat\u001b[0m:\u001b[36msend_message\u001b[0m:\u001b[36m356\u001b[0m - \u001b[1m📥 RECEIVED: Delivery confirmation from bob@openmined.org. Time: 8.44s\u001b[0m\n",
      "\u001b[32m2025-03-08 20:27:16.932\u001b[0m | \u001b[34m\u001b[1mDEBUG   \u001b[0m | \u001b[36msyft_event.handlers\u001b[0m:\u001b[36mon_any_event\u001b[0m:\u001b[36m31\u001b[0m - \u001b[34m\u001b[1mFSEvent - created - /Users/atrask/Desktop/SyftBoxAlice/datasites/alice@openmined.org/api_data/syft_chat/rpc/message/b3369338-2c42-4996-a311-ab84eacc95d0.request\u001b[0m\n",
      "\u001b[32m2025-03-08 20:27:16.933\u001b[0m | \u001b[1mINFO    \u001b[0m | \u001b[36mexamples.syft_chat_stateful.syft_chat\u001b[0m:\u001b[36mmessage_handler\u001b[0m:\u001b[36m89\u001b[0m - \u001b[1m📨 RECEIVED: Message from alice@openmined.org: I'm ready to discuss Project Alpha. What aspects s...\u001b[0m\n"
     ]
    },
    {
     "name": "stdout",
     "output_type": "stream",
     "text": [
      "\n",
      "🔔 NEW MESSAGE from alice@openmined.org: I'm ready to discuss Project Alpha. What aspects should we focus on first? This reply is linked in the database.\n",
      "Alice replied to the thread message\n"
     ]
    }
   ],
   "source": [
    "try:\n",
    "    # Get Bob's last message ID\n",
    "    thread_messages = bob_client.get_chat_history()\n",
    "    last_msg = [m for m in thread_messages if m.thread_id == thread_id][0]\n",
    "    \n",
    "    # Alice replies to Bob's message\n",
    "    alice_response = alice_client.send_message(\n",
    "        'bob@openmined.org',\n",
    "        \"I'm ready to discuss Project Alpha. What aspects should we focus on first? This reply is linked in the database.\",\n",
    "        thread_id=thread_id,\n",
    "        reply_to=last_msg.msg_id\n",
    "    )\n",
    "    print(\"Alice replied to the thread message\")\n",
    "except Exception as e:\n",
    "    print(f\"Error: {e}\")"
   ]
  },
  {
   "cell_type": "markdown",
   "id": "time-filters",
   "metadata": {},
   "source": [
    "### 6.3 Time Filters\n",
    "\n",
    "You can filter chat history by time using SQL-powered queries:"
   ]
  },
  {
   "cell_type": "code",
   "execution_count": 14,
   "id": "time-filter-example",
   "metadata": {},
   "outputs": [
    {
     "name": "stderr",
     "output_type": "stream",
     "text": [
      "\u001b[32m2025-03-08 20:27:18.366\u001b[0m | \u001b[34m\u001b[1mDEBUG   \u001b[0m | \u001b[36msyft_event.handlers\u001b[0m:\u001b[36mon_any_event\u001b[0m:\u001b[36m31\u001b[0m - \u001b[34m\u001b[1mFSEvent - created - /Users/atrask/Desktop/SyftBoxBob/datasites/bob@openmined.org/api_data/syft_chat/rpc/history/f6bd2da4-1a8e-45e9-a4a7-e7204f1f41c5.request\u001b[0m\n"
     ]
    },
    {
     "name": "stdout",
     "output_type": "stream",
     "text": [
      "Messages in the last hour: 5\n",
      "2025-03-09 01:22:59  - alice@openmined.org: Hi Bob! I see your message, and it's now in our databases.\n",
      "2025-03-09 01:24:31  - bob@openmined.org: Hello Alice! This message will be stored in both our databases.\n",
      "2025-03-09 01:24:43  - alice@openmined.org: Hi Bob! I see your message, and it's now in our databases.\n",
      "2025-03-09 01:26:59  - bob@openmined.org: Let's discuss Project Alpha in this thread. These thread messages are stored in the database.\n",
      "2025-03-09 01:27:08  - alice@openmined.org: I'm ready to discuss Project Alpha. What aspects should we focus on first? This reply is linked in the database.\n"
     ]
    }
   ],
   "source": [
    "# Get messages from the last hour using SQL filtering\n",
    "one_hour_ago = datetime.now(timezone.utc) - timedelta(hours=1)\n",
    "recent_messages = bob_client.get_chat_history(since=one_hour_ago)\n",
    "\n",
    "print(f\"Messages in the last hour: {len(recent_messages)}\")\n",
    "for msg in recent_messages:\n",
    "    time_str = msg.timestamp.strftime(\"%Y-%m-%d %H:%M:%S %Z\")\n",
    "    print(f\"{time_str} - {msg.sender}: {msg.content}\")"
   ]
  },
  {
   "cell_type": "markdown",
   "id": "statefulness-demo",
   "metadata": {},
   "source": [
    "## 7. Demonstrating Statefulness\n",
    "\n",
    "The key advantage of the stateful version is that message history persists even when clients are restarted. Let's demonstrate this feature:"
   ]
  },
  {
   "cell_type": "markdown",
   "id": "restart-client",
   "metadata": {},
   "source": [
    "### 7.1 Shutting Down and Restarting Clients\n",
    "\n",
    "First, we'll shut down our clients and then restart them:"
   ]
  },
  {
   "cell_type": "code",
   "execution_count": 15,
   "id": "shutdown-clients",
   "metadata": {},
   "outputs": [
    {
     "name": "stderr",
     "output_type": "stream",
     "text": [
      "\u001b[32m2025-03-08 20:27:21.413\u001b[0m | \u001b[1mINFO    \u001b[0m | \u001b[36mexamples.syft_chat_stateful.syft_chat\u001b[0m:\u001b[36mclose\u001b[0m:\u001b[36m515\u001b[0m - \u001b[1m👋 Shutting down syft_chat client...\u001b[0m\n",
      "\u001b[32m2025-03-08 20:27:21.468\u001b[0m | \u001b[1mINFO    \u001b[0m | \u001b[36mexamples.syft_chat_stateful.syft_chat\u001b[0m:\u001b[36mclose\u001b[0m:\u001b[36m515\u001b[0m - \u001b[1m👋 Shutting down syft_chat client...\u001b[0m\n"
     ]
    },
    {
     "name": "stdout",
     "output_type": "stream",
     "text": [
      "Shutting down Bob's client...\n",
      "Shutting down Alice's client...\n",
      "All clients shut down\n"
     ]
    }
   ],
   "source": [
    "# Close both clients\n",
    "print(\"Shutting down Bob's client...\")\n",
    "bob_client.close()\n",
    "\n",
    "try:\n",
    "    print(\"Shutting down Alice's client...\")\n",
    "    alice_client.close()\n",
    "except NameError:\n",
    "    pass\n",
    "\n",
    "print(\"All clients shut down\")"
   ]
  },
  {
   "cell_type": "code",
   "execution_count": 16,
   "id": "restart-clients",
   "metadata": {},
   "outputs": [
    {
     "name": "stderr",
     "output_type": "stream",
     "text": [
      "\u001b[32m2025-03-08 20:27:22.650\u001b[0m | \u001b[1mINFO    \u001b[0m | \u001b[36mexamples.syft_chat_stateful.syft_chat\u001b[0m:\u001b[36m__init__\u001b[0m:\u001b[36m256\u001b[0m - \u001b[1m🔑 Connected as: bob@openmined.org\u001b[0m\n",
      "\u001b[32m2025-03-08 20:27:22.651\u001b[0m | \u001b[1mINFO    \u001b[0m | \u001b[36mexamples.syft_chat_stateful.syft_chat\u001b[0m:\u001b[36m_start_server\u001b[0m:\u001b[36m269\u001b[0m - \u001b[1m🔔 Server started for bob@openmined.org\u001b[0m\n",
      "\u001b[32m2025-03-08 20:27:22.652\u001b[0m | \u001b[1mINFO    \u001b[0m | \u001b[36mexamples.syft_chat_stateful.syft_chat\u001b[0m:\u001b[36m__init__\u001b[0m:\u001b[36m256\u001b[0m - \u001b[1m🔑 Connected as: alice@openmined.org\u001b[0m\n",
      "\u001b[32m2025-03-08 20:27:22.652\u001b[0m | \u001b[1mINFO    \u001b[0m | \u001b[36msyft_event.server2\u001b[0m:\u001b[36mregister_rpc\u001b[0m:\u001b[36m140\u001b[0m - \u001b[1mRegister RPC: /message\u001b[0m\n",
      "\u001b[32m2025-03-08 20:27:22.652\u001b[0m | \u001b[1mINFO    \u001b[0m | \u001b[36mexamples.syft_chat_stateful.syft_chat\u001b[0m:\u001b[36m_start_server\u001b[0m:\u001b[36m269\u001b[0m - \u001b[1m🔔 Server started for alice@openmined.org\u001b[0m\n"
     ]
    },
    {
     "name": "stdout",
     "output_type": "stream",
     "text": [
      "Restarting Bob's client...\n",
      "Restarting Alice's client...\n",
      "Clients restarted successfully\n"
     ]
    },
    {
     "name": "stderr",
     "output_type": "stream",
     "text": [
      "\u001b[32m2025-03-08 20:27:22.654\u001b[0m | \u001b[1mINFO    \u001b[0m | \u001b[36msyft_event.server2\u001b[0m:\u001b[36mregister_rpc\u001b[0m:\u001b[36m140\u001b[0m - \u001b[1mRegister RPC: /history\u001b[0m\n",
      "\u001b[32m2025-03-08 20:27:22.654\u001b[0m | \u001b[1mINFO    \u001b[0m | \u001b[36mexamples.syft_chat_stateful.syft_chat\u001b[0m:\u001b[36m_run_server\u001b[0m:\u001b[36m278\u001b[0m - \u001b[1m🚀 SERVER: Running syft_chat server as bob@openmined.org\u001b[0m\n",
      "\u001b[32m2025-03-08 20:27:22.655\u001b[0m | \u001b[1mINFO    \u001b[0m | \u001b[36mexamples.syft_chat_stateful.syft_chat\u001b[0m:\u001b[36m_run_server\u001b[0m:\u001b[36m279\u001b[0m - \u001b[1m📡 SERVER: Listening for requests at /Users/atrask/Desktop/SyftBoxBob/datasites/bob@openmined.org/api_data/syft_chat/rpc\u001b[0m\n",
      "\u001b[32m2025-03-08 20:27:22.655\u001b[0m | \u001b[1mINFO    \u001b[0m | \u001b[36msyft_event.server2\u001b[0m:\u001b[36mregister_rpc\u001b[0m:\u001b[36m140\u001b[0m - \u001b[1mRegister RPC: /message\u001b[0m\n",
      "\u001b[32m2025-03-08 20:27:22.658\u001b[0m | \u001b[1mINFO    \u001b[0m | \u001b[36msyft_event.server2\u001b[0m:\u001b[36mregister_rpc\u001b[0m:\u001b[36m140\u001b[0m - \u001b[1mRegister RPC: /history\u001b[0m\n",
      "\u001b[32m2025-03-08 20:27:22.658\u001b[0m | \u001b[1mINFO    \u001b[0m | \u001b[36mexamples.syft_chat_stateful.syft_chat\u001b[0m:\u001b[36m_run_server\u001b[0m:\u001b[36m278\u001b[0m - \u001b[1m🚀 SERVER: Running syft_chat server as alice@openmined.org\u001b[0m\n",
      "\u001b[32m2025-03-08 20:27:22.659\u001b[0m | \u001b[1mINFO    \u001b[0m | \u001b[36mexamples.syft_chat_stateful.syft_chat\u001b[0m:\u001b[36m_run_server\u001b[0m:\u001b[36m279\u001b[0m - \u001b[1m📡 SERVER: Listening for requests at /Users/atrask/Desktop/SyftBoxAlice/datasites/alice@openmined.org/api_data/syft_chat/rpc\u001b[0m\n",
      "\u001b[32m2025-03-08 20:27:22.658\u001b[0m | \u001b[1mINFO    \u001b[0m | \u001b[36msyft_event.server2\u001b[0m:\u001b[36mpublish_schema\u001b[0m:\u001b[36m96\u001b[0m - \u001b[1mPublished schema to /Users/atrask/Desktop/SyftBoxBob/datasites/bob@openmined.org/api_data/syft_chat/rpc/rpc.schema.json\u001b[0m\n",
      "\u001b[32m2025-03-08 20:27:22.661\u001b[0m | \u001b[1mINFO    \u001b[0m | \u001b[36msyft_event.server2\u001b[0m:\u001b[36mpublish_schema\u001b[0m:\u001b[36m96\u001b[0m - \u001b[1mPublished schema to /Users/atrask/Desktop/SyftBoxAlice/datasites/alice@openmined.org/api_data/syft_chat/rpc/rpc.schema.json\u001b[0m\n",
      "\u001b[32m2025-03-08 20:27:31.262\u001b[0m | \u001b[34m\u001b[1mDEBUG   \u001b[0m | \u001b[36msyft_event.server2\u001b[0m:\u001b[36mprocess_pending_requests\u001b[0m:\u001b[36m105\u001b[0m - \u001b[34m\u001b[1mProcessing pending request eb5141d8-93dc-43d6-8735-785555223773.request\u001b[0m\n",
      "\u001b[32m2025-03-08 20:27:31.263\u001b[0m | \u001b[1mINFO    \u001b[0m | \u001b[36mexamples.syft_chat_stateful.syft_chat\u001b[0m:\u001b[36mmessage_handler\u001b[0m:\u001b[36m89\u001b[0m - \u001b[1m📨 RECEIVED: Message from bob@openmined.org: This message was sent after restarting the clients...\u001b[0m\n",
      "\u001b[32m2025-03-08 20:27:39.525\u001b[0m | \u001b[34m\u001b[1mDEBUG   \u001b[0m | \u001b[36msyft_event.server2\u001b[0m:\u001b[36mprocess_pending_requests\u001b[0m:\u001b[36m105\u001b[0m - \u001b[34m\u001b[1mProcessing pending request eb5141d8-93dc-43d6-8735-785555223773.request\u001b[0m\n",
      "\u001b[32m2025-03-08 20:27:39.526\u001b[0m | \u001b[1mINFO    \u001b[0m | \u001b[36mexamples.syft_chat_stateful.syft_chat\u001b[0m:\u001b[36mmessage_handler\u001b[0m:\u001b[36m89\u001b[0m - \u001b[1m📨 RECEIVED: Message from bob@openmined.org: This message was sent after restarting the clients...\u001b[0m\n",
      "\u001b[32m2025-03-08 20:27:39.527\u001b[0m | \u001b[1mINFO    \u001b[0m | \u001b[36mexamples.syft_chat_stateful.syft_chat\u001b[0m:\u001b[36mmessage_handler\u001b[0m:\u001b[36m119\u001b[0m - \u001b[1mMessage with ID 6f2151fd-3084-4ef7-8f14-c98b8abdb8cd already exists, skipping database insert\u001b[0m\n",
      "\u001b[32m2025-03-08 20:27:44.078\u001b[0m | \u001b[34m\u001b[1mDEBUG   \u001b[0m | \u001b[36msyft_event.server2\u001b[0m:\u001b[36mprocess_pending_requests\u001b[0m:\u001b[36m105\u001b[0m - \u001b[34m\u001b[1mProcessing pending request db031377-0017-443a-b6f5-2403e20bc56a.request\u001b[0m\n",
      "\u001b[32m2025-03-08 20:27:44.082\u001b[0m | \u001b[1mINFO    \u001b[0m | \u001b[36mexamples.syft_chat_stateful.syft_chat\u001b[0m:\u001b[36mmessage_handler\u001b[0m:\u001b[36m89\u001b[0m - \u001b[1m📨 RECEIVED: Message from alice@openmined.org: Here's a message that will trigger the advanced pr...\u001b[0m\n",
      "\u001b[32m2025-03-08 20:27:44.083\u001b[0m | \u001b[1mINFO    \u001b[0m | \u001b[36mexamples.syft_chat_stateful.syft_chat\u001b[0m:\u001b[36mmessage_handler\u001b[0m:\u001b[36m119\u001b[0m - \u001b[1mMessage with ID 9b40f11b-d8b8-48b8-b1c8-0484a82952d7 already exists, skipping database insert\u001b[0m\n"
     ]
    },
    {
     "name": "stdout",
     "output_type": "stream",
     "text": [
      "[01:27:40] FROM: alice@openmined.org (Thread: project-alpha)\n",
      "MESSAGE: Here's a message that will trigger the advanced processor. This is stored in the database too.\n",
      "--------------------------------------------------\n"
     ]
    },
    {
     "name": "stderr",
     "output_type": "stream",
     "text": [
      "\u001b[32m2025-03-08 20:27:50.569\u001b[0m | \u001b[34m\u001b[1mDEBUG   \u001b[0m | \u001b[36msyft_event.server2\u001b[0m:\u001b[36mstop\u001b[0m:\u001b[36m123\u001b[0m - \u001b[34m\u001b[1mStopping event loop\u001b[0m\n",
      "\u001b[32m2025-03-08 20:27:50.628\u001b[0m | \u001b[34m\u001b[1mDEBUG   \u001b[0m | \u001b[36msyft_event.server2\u001b[0m:\u001b[36mstop\u001b[0m:\u001b[36m123\u001b[0m - \u001b[34m\u001b[1mStopping event loop\u001b[0m\n"
     ]
    }
   ],
   "source": [
    "# Restart the clients (connecting to the existing databases)\n",
    "print(\"Restarting Bob's client...\")\n",
    "bob_client = syft_chat.client(\"~/.syft_bob_config.json\", db_path=bob_db_path)\n",
    "\n",
    "try:\n",
    "    print(\"Restarting Alice's client...\")\n",
    "    alice_client = syft_chat.client(\"~/.syft_alice_config.json\", db_path=alice_db_path)\n",
    "except Exception as e:\n",
    "    print(f\"Could not restart Alice's client: {e}\")\n",
    "    \n",
    "print(\"Clients restarted successfully\")"
   ]
  },
  {
   "cell_type": "markdown",
   "id": "verify-persistence",
   "metadata": {},
   "source": [
    "### 7.2 Verifying Persistence\n",
    "\n",
    "Now, let's verify that our message history is still available after restart:"
   ]
  },
  {
   "cell_type": "code",
   "execution_count": 17,
   "id": "check-history-persistence",
   "metadata": {},
   "outputs": [
    {
     "name": "stdout",
     "output_type": "stream",
     "text": [
      "Bob's message history after restart (5 messages):\n",
      "2025-03-09 01:22:59  - alice@openmined.org: Hi Bob! I see your message, and it's now in our databases.\n",
      "2025-03-09 01:24:31  - bob@openmined.org: Hello Alice! This message will be stored in both our databases.\n",
      "2025-03-09 01:24:43  - alice@openmined.org: Hi Bob! I see your message, and it's now in our databases.\n",
      "2025-03-09 01:26:59  - bob@openmined.org: Let's discuss Project Alpha in this thread. These thread messages are stored in the database.\n",
      "2025-03-09 01:27:08  - alice@openmined.org: I'm ready to discuss Project Alpha. What aspects should we focus on first? This reply is linked in the database.\n"
     ]
    }
   ],
   "source": [
    "# Check if our message history is still available\n",
    "bob_history_after_restart = bob_client.get_chat_history()\n",
    "print(f\"Bob's message history after restart ({len(bob_history_after_restart)} messages):\")\n",
    "for msg in bob_history_after_restart:\n",
    "    time_str = msg.timestamp.strftime(\"%Y-%m-%d %H:%M:%S %Z\")\n",
    "    print(f\"{time_str} - {msg.sender}: {msg.content}\")"
   ]
  },
  {
   "cell_type": "markdown",
   "id": "thread-persistence",
   "metadata": {},
   "source": [
    "### 7.3 Thread Persistence\n",
    "\n",
    "Let's also verify that our thread information is preserved:"
   ]
  },
  {
   "cell_type": "code",
   "execution_count": 18,
   "id": "check-thread-persistence",
   "metadata": {},
   "outputs": [
    {
     "name": "stdout",
     "output_type": "stream",
     "text": [
      "Messages in the 'project-alpha' thread after restart (2 messages):\n",
      "2025-03-09 01:26:59  - bob@openmined.org: Let's discuss Project Alpha in this thread. These thread messages are stored in the database.\n",
      "2025-03-09 01:27:08  - alice@openmined.org (Reply to: 986320e6-dfef-4d5a-886f-a458681c7c88): I'm ready to discuss Project Alpha. What aspects should we focus on first? This reply is linked in the database.\n"
     ]
    }
   ],
   "source": [
    "# Check if thread information is preserved\n",
    "thread_messages = bob_client.get_chat_history()\n",
    "thread_messages = [m for m in thread_messages if m.thread_id == thread_id]\n",
    "\n",
    "print(f\"Messages in the '{thread_id}' thread after restart ({len(thread_messages)} messages):\")\n",
    "for msg in thread_messages:\n",
    "    time_str = msg.timestamp.strftime(\"%Y-%m-%d %H:%M:%S %Z\")\n",
    "    reply_info = f\" (Reply to: {msg.reply_to})\" if msg.reply_to else \"\"\n",
    "    print(f\"{time_str} - {msg.sender}{reply_info}: {msg.content}\")"
   ]
  },
  {
   "cell_type": "markdown",
   "id": "send-after-restart",
   "metadata": {},
   "source": [
    "### 7.4 Continuing Conversations After Restart\n",
    "\n",
    "Now, let's continue our conversation after restart to show that everything still works:"
   ]
  },
  {
   "cell_type": "code",
   "execution_count": 19,
   "id": "continue-conversation",
   "metadata": {},
   "outputs": [
    {
     "name": "stderr",
     "output_type": "stream",
     "text": [
      "\u001b[32m2025-03-08 20:27:28.733\u001b[0m | \u001b[1mINFO    \u001b[0m | \u001b[36mexamples.syft_chat_stateful.syft_chat\u001b[0m:\u001b[36msend_message\u001b[0m:\u001b[36m339\u001b[0m - \u001b[1m📤 SENDING: Message to alice@openmined.org\u001b[0m\n",
      "\u001b[32m2025-03-08 20:27:31.267\u001b[0m | \u001b[34m\u001b[1mDEBUG   \u001b[0m | \u001b[36msyft_event.handlers\u001b[0m:\u001b[36mon_any_event\u001b[0m:\u001b[36m31\u001b[0m - \u001b[34m\u001b[1mFSEvent - created - /Users/atrask/Desktop/SyftBoxAlice/datasites/alice@openmined.org/api_data/syft_chat/rpc/message/eb5141d8-93dc-43d6-8735-785555223773.request\u001b[0m\n",
      "\u001b[32m2025-03-08 20:27:31.268\u001b[0m | \u001b[1mINFO    \u001b[0m | \u001b[36mexamples.syft_chat_stateful.syft_chat\u001b[0m:\u001b[36mmessage_handler\u001b[0m:\u001b[36m89\u001b[0m - \u001b[1m📨 RECEIVED: Message from bob@openmined.org: This message was sent after restarting the clients...\u001b[0m\n",
      "\u001b[32m2025-03-08 20:27:31.269\u001b[0m | \u001b[1mINFO    \u001b[0m | \u001b[36mexamples.syft_chat_stateful.syft_chat\u001b[0m:\u001b[36mmessage_handler\u001b[0m:\u001b[36m119\u001b[0m - \u001b[1mMessage with ID 6f2151fd-3084-4ef7-8f14-c98b8abdb8cd already exists, skipping database insert\u001b[0m\n",
      "\u001b[32m2025-03-08 20:27:35.662\u001b[0m | \u001b[1mINFO    \u001b[0m | \u001b[36mexamples.syft_chat_stateful.syft_chat\u001b[0m:\u001b[36msend_message\u001b[0m:\u001b[36m356\u001b[0m - \u001b[1m📥 RECEIVED: Delivery confirmation from alice@openmined.org. Time: 6.93s\u001b[0m\n"
     ]
    },
    {
     "name": "stdout",
     "output_type": "stream",
     "text": [
      "Message sent after restart\n"
     ]
    }
   ],
   "source": [
    "# Send a new message after restart\n",
    "try:\n",
    "    after_restart_msg = bob_client.send_message(\n",
    "        'alice@openmined.org',\n",
    "        \"This message was sent after restarting the clients. Our conversation history is persistent!\",\n",
    "        thread_id=thread_id\n",
    "    )\n",
    "    print(\"Message sent after restart\")\n",
    "except Exception as e:\n",
    "    print(f\"Error: {e}\")"
   ]
  },
  {
   "cell_type": "markdown",
   "id": "database-examination",
   "metadata": {},
   "source": [
    "### 7.5 Examining the Database\n",
    "\n",
    "For the curious, we can directly examine the SQLite database to see the stored messages:"
   ]
  },
  {
   "cell_type": "code",
   "execution_count": 20,
   "id": "explore-database",
   "metadata": {},
   "outputs": [
    {
     "name": "stdout",
     "output_type": "stream",
     "text": [
      "Direct database query found 6 messages:\n",
      "bob@openmined.org  : Hello Alice! This message will be stored in both o...\n",
      "alice@openmined.org  : Hi Bob! I see your message, and it's now in our da...\n",
      "alice@openmined.org  : Hi Bob! I see your message, and it's now in our da...\n",
      "bob@openmined.org (Thread: project-alpha) : Let's discuss Project Alpha in this thread. These ...\n",
      "alice@openmined.org (Thread: project-alpha) (Reply to: 986320e6-dfef-4d5a-886f-a458681c7c88): I'm ready to discuss Project Alpha. What aspects s...\n",
      "bob@openmined.org (Thread: project-alpha) : This message was sent after restarting the clients...\n"
     ]
    }
   ],
   "source": [
    "# This is optional - requires sqlite3 module\n",
    "import sqlite3\n",
    "\n",
    "# Connect to Bob's database\n",
    "conn = sqlite3.connect(bob_db_path)\n",
    "cursor = conn.cursor()\n",
    "\n",
    "# Query all messages\n",
    "cursor.execute(\"SELECT msg_id, sender, content, thread_id, reply_to FROM messages\")\n",
    "rows = cursor.fetchall()\n",
    "\n",
    "print(f\"Direct database query found {len(rows)} messages:\")\n",
    "for row in rows:\n",
    "    msg_id, sender, content, thread_id, reply_to = row\n",
    "    thread_info = f\"(Thread: {thread_id})\" if thread_id else \"\"\n",
    "    reply_info = f\"(Reply to: {reply_to})\" if reply_to else \"\"\n",
    "    print(f\"{sender} {thread_info} {reply_info}: {content[:50]}...\")\n",
    "    \n",
    "conn.close()"
   ]
  },
  {
   "cell_type": "markdown",
   "id": "custom-message-processing",
   "metadata": {},
   "source": [
    "## 8. Custom Message Processing\n",
    "\n",
    "You can create message listeners that can access the database for advanced processing:"
   ]
  },
  {
   "cell_type": "code",
   "execution_count": 21,
   "id": "advanced-listener",
   "metadata": {},
   "outputs": [
    {
     "name": "stdout",
     "output_type": "stream",
     "text": [
      "Registered advanced message processor\n"
     ]
    }
   ],
   "source": [
    "# A more advanced message processor\n",
    "def advanced_message_processor(message):\n",
    "    # Check if this is part of a thread\n",
    "    thread_info = f\" (Thread: {message.thread_id})\" if message.thread_id else \"\"\n",
    "    reply_info = f\" (Reply to: {message.reply_to})\" if message.reply_to else \"\"\n",
    "    \n",
    "    # Format the message nicely\n",
    "    time_str = message.timestamp.strftime(\"%H:%M:%S\")\n",
    "    print(f\"[{time_str}] FROM: {message.sender}{thread_info}{reply_info}\")\n",
    "    print(f\"MESSAGE: {message.content}\")\n",
    "    print(\"-\" * 50)\n",
    "\n",
    "# Replace the existing listener with our advanced one\n",
    "try:\n",
    "    bob_client.remove_message_listener(print_message)\n",
    "    bob_client.add_message_listener(advanced_message_processor)\n",
    "    print(\"Registered advanced message processor\")\n",
    "except Exception as e:\n",
    "    print(f\"Error setting up listener: {e}\")"
   ]
  },
  {
   "cell_type": "code",
   "execution_count": 22,
   "id": "test-advanced-listener",
   "metadata": {},
   "outputs": [
    {
     "name": "stderr",
     "output_type": "stream",
     "text": [
      "\u001b[32m2025-03-08 20:27:40.074\u001b[0m | \u001b[1mINFO    \u001b[0m | \u001b[36mexamples.syft_chat_stateful.syft_chat\u001b[0m:\u001b[36msend_message\u001b[0m:\u001b[36m339\u001b[0m - \u001b[1m📤 SENDING: Message to bob@openmined.org\u001b[0m\n",
      "\u001b[32m2025-03-08 20:27:48.086\u001b[0m | \u001b[1mINFO    \u001b[0m | \u001b[36mexamples.syft_chat_stateful.syft_chat\u001b[0m:\u001b[36msend_message\u001b[0m:\u001b[36m356\u001b[0m - \u001b[1m📥 RECEIVED: Delivery confirmation from bob@openmined.org. Time: 8.01s\u001b[0m\n",
      "\u001b[32m2025-03-08 20:27:48.097\u001b[0m | \u001b[34m\u001b[1mDEBUG   \u001b[0m | \u001b[36msyft_event.handlers\u001b[0m:\u001b[36mon_any_event\u001b[0m:\u001b[36m31\u001b[0m - \u001b[34m\u001b[1mFSEvent - created - /Users/atrask/Desktop/SyftBoxAlice/datasites/alice@openmined.org/api_data/syft_chat/rpc/message/bf8042a2-9c33-4179-b9a8-d89775810838.request\u001b[0m\n",
      "\u001b[32m2025-03-08 20:27:48.098\u001b[0m | \u001b[1mINFO    \u001b[0m | \u001b[36mexamples.syft_chat_stateful.syft_chat\u001b[0m:\u001b[36mmessage_handler\u001b[0m:\u001b[36m89\u001b[0m - \u001b[1m📨 RECEIVED: Message from alice@openmined.org: Here's a message that will trigger the advanced pr...\u001b[0m\n"
     ]
    },
    {
     "name": "stdout",
     "output_type": "stream",
     "text": [
      "Advanced processing works!\n"
     ]
    }
   ],
   "source": [
    "# Test the advanced message processor\n",
    "try:\n",
    "    # Alice sends another message\n",
    "    alice_response = alice_client.send_message(\n",
    "        'bob@openmined.org',\n",
    "        \"Here's a message that will trigger the advanced processor. This is stored in the database too.\",\n",
    "        thread_id=thread_id\n",
    "    )\n",
    "    print(\"Advanced processing works!\")\n",
    "except Exception as e:\n",
    "    print(f\"Error: {e}\")"
   ]
  },
  {
   "cell_type": "markdown",
   "id": "cleanup-header",
   "metadata": {},
   "source": [
    "## 9. Cleanup\n",
    "\n",
    "When we're done, it's important to properly close all clients to shut down the background servers:"
   ]
  },
  {
   "cell_type": "code",
   "execution_count": 23,
   "id": "cleanup-clients",
   "metadata": {},
   "outputs": [
    {
     "name": "stderr",
     "output_type": "stream",
     "text": [
      "\u001b[32m2025-03-08 20:27:50.466\u001b[0m | \u001b[1mINFO    \u001b[0m | \u001b[36mexamples.syft_chat_stateful.syft_chat\u001b[0m:\u001b[36mclose\u001b[0m:\u001b[36m515\u001b[0m - \u001b[1m👋 Shutting down syft_chat client...\u001b[0m\n",
      "\u001b[32m2025-03-08 20:27:50.573\u001b[0m | \u001b[1mINFO    \u001b[0m | \u001b[36mexamples.syft_chat_stateful.syft_chat\u001b[0m:\u001b[36mclose\u001b[0m:\u001b[36m515\u001b[0m - \u001b[1m👋 Shutting down syft_chat client...\u001b[0m\n"
     ]
    },
    {
     "name": "stdout",
     "output_type": "stream",
     "text": [
      "All clients closed\n"
     ]
    }
   ],
   "source": [
    "# Close all clients\n",
    "bob_client.close()\n",
    "try:\n",
    "    alice_client.close()\n",
    "except NameError:\n",
    "    pass\n",
    "\n",
    "print(\"All clients closed\")"
   ]
  },
  {
   "cell_type": "markdown",
   "id": "conclusion-section",
   "metadata": {},
   "source": [
    "## 10. Conclusion\n",
    "\n",
    "In this tutorial, we've demonstrated the Stateful Syft Chat library, which adds SQLite persistence to the basic chat functionality. The key advantages include:\n",
    "\n",
    "1. **Persistent Storage** - Messages are stored in a SQLite database\n",
    "2. **Session Independence** - Message history is preserved across restarts\n",
    "3. **SQL-Powered Filtering** - More powerful query capabilities for history\n",
    "4. **Data Consistency** - Message records are maintained reliably\n",
    "5. **Scalability** - Better handling of larger message histories\n",
    "\n",
    "The stateful version maintains all the features of the basic version while adding these important capabilities.\n",
    "\n",
    "### Next Steps\n",
    "\n",
    "- Build applications on top of the stateful chat system\n",
    "- Implement additional database features like message archiving\n",
    "- Create data analysis tools for chat history\n",
    "- Extend the database schema with additional metadata fields\n",
    "- Implement encrypted storage for sensitive messages"
   ]
  },
  {
   "cell_type": "code",
   "execution_count": null,
   "id": "d153c708-0367-4299-894e-7409efc04063",
   "metadata": {},
   "outputs": [],
   "source": []
  }
 ],
 "metadata": {
  "kernelspec": {
   "display_name": "Python 3 (ipykernel)",
   "language": "python",
   "name": "python3"
  },
  "language_info": {
   "codemirror_mode": {
    "name": "ipython",
    "version": 3
   },
   "file_extension": ".py",
   "mimetype": "text/x-python",
   "name": "python",
   "nbconvert_exporter": "python",
   "pygments_lexer": "ipython3",
   "version": "3.13.1"
  }
 },
 "nbformat": 4,
 "nbformat_minor": 5
}
