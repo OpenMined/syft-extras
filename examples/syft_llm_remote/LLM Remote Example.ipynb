{
 "cells": [
  {
   "cell_type": "code",
   "execution_count": null,
   "id": "94ed2b76-8c1c-408b-8c86-7931e5461dc7",
   "metadata": {},
   "outputs": [],
   "source": []
  },
  {
   "cell_type": "code",
   "execution_count": 1,
   "id": "323500a8-ad32-4313-8154-43af4dc577da",
   "metadata": {},
   "outputs": [],
   "source": [
    "from __future__ import annotations\n",
    "import time\n",
    "from loguru import logger\n",
    "\n",
    "# Import the client module\n",
    "from llama_remote import client"
   ]
  },
  {
   "cell_type": "code",
   "execution_count": 2,
   "id": "157affd8-c514-40bc-a862-37df3ee23796",
   "metadata": {},
   "outputs": [
    {
     "name": "stderr",
     "output_type": "stream",
     "text": [
      "\u001b[32m2025-03-09 01:09:40.774\u001b[0m | \u001b[1mINFO    \u001b[0m | \u001b[36msyft_rpc_client\u001b[0m:\u001b[36m__init__\u001b[0m:\u001b[36m51\u001b[0m - \u001b[1m🔑 Connected as: bob@openmined.org\u001b[0m\n",
      "\u001b[32m2025-03-09 01:09:40.774\u001b[0m | \u001b[1mINFO    \u001b[0m | \u001b[36msyft_rpc_client\u001b[0m:\u001b[36m_run_server\u001b[0m:\u001b[36m69\u001b[0m - \u001b[1m🚀 SERVER: Running ollama_remote server as bob@openmined.org\u001b[0m\n",
      "\u001b[32m2025-03-09 01:09:40.774\u001b[0m | \u001b[1mINFO    \u001b[0m | \u001b[36msyft_rpc_client\u001b[0m:\u001b[36m_start_server\u001b[0m:\u001b[36m64\u001b[0m - \u001b[1m🔔 Server started for bob@openmined.org\u001b[0m\n"
     ]
    },
    {
     "name": "stdout",
     "output_type": "stream",
     "text": [
      "Connected as: bob@openmined.org\n"
     ]
    },
    {
     "name": "stderr",
     "output_type": "stream",
     "text": [
      "\u001b[32m2025-03-09 01:09:40.776\u001b[0m | \u001b[1mINFO    \u001b[0m | \u001b[36msyft_event.server2\u001b[0m:\u001b[36mregister_rpc\u001b[0m:\u001b[36m140\u001b[0m - \u001b[1mRegister RPC: /generate\u001b[0m\n",
      "\u001b[32m2025-03-09 01:09:40.776\u001b[0m | \u001b[1mINFO    \u001b[0m | \u001b[36msyft_rpc_client\u001b[0m:\u001b[36m_run_server\u001b[0m:\u001b[36m93\u001b[0m - \u001b[1m📡 SERVER: Listening for requests at /Users/atrask/Desktop/SyftBoxBob/datasites/bob@openmined.org/api_data/ollama_remote/rpc\u001b[0m\n",
      "\u001b[32m2025-03-09 01:09:40.778\u001b[0m | \u001b[1mINFO    \u001b[0m | \u001b[36msyft_event.server2\u001b[0m:\u001b[36mpublish_schema\u001b[0m:\u001b[36m96\u001b[0m - \u001b[1mPublished schema to /Users/atrask/Desktop/SyftBoxBob/datasites/bob@openmined.org/api_data/ollama_remote/rpc/rpc.schema.json\u001b[0m\n",
      "\u001b[32m2025-03-09 01:09:40.779\u001b[0m | \u001b[34m\u001b[1mDEBUG   \u001b[0m | \u001b[36msyft_event.server2\u001b[0m:\u001b[36mprocess_pending_requests\u001b[0m:\u001b[36m105\u001b[0m - \u001b[34m\u001b[1mProcessing pending request 356a5ecb-d8d5-4b13-baff-40171953c361.request\u001b[0m\n",
      "\u001b[32m2025-03-09 01:09:40.780\u001b[0m | \u001b[1mINFO    \u001b[0m | \u001b[36mllama_remote\u001b[0m:\u001b[36m_handle_request\u001b[0m:\u001b[36m70\u001b[0m - \u001b[1m🔔 RECEIVED: Ollama request for model 'llama3'\u001b[0m\n"
     ]
    }
   ],
   "source": [
    "# Creating Bob's client\n",
    "bob_client = client(\"~/.syft_bob_config.json\")\n",
    "print(f\"Connected as: {bob_client.client.email}\")\n"
   ]
  },
  {
   "cell_type": "code",
   "execution_count": 3,
   "id": "3e3fe633-ee8d-4e20-a8d6-e6cb5f4e9809",
   "metadata": {},
   "outputs": [
    {
     "name": "stdout",
     "output_type": "stream",
     "text": [
      "Available models:\n",
      "- llama3.2:latest\n",
      "- mistral:latest\n",
      "- llama3:latest\n"
     ]
    }
   ],
   "source": [
    "# List available local models on Bob's machine\n",
    "bob_models = bob_client.list_available_models()\n",
    "print(\"Available models:\")\n",
    "for model in bob_models:\n",
    "    print(f\"- {model['name']}\")"
   ]
  },
  {
   "cell_type": "code",
   "execution_count": 4,
   "id": "23dff8f3-fdfb-4d1d-9daa-4724859ceeea",
   "metadata": {},
   "outputs": [
    {
     "name": "stderr",
     "output_type": "stream",
     "text": [
      "\u001b[32m2025-03-09 01:09:46.060\u001b[0m | \u001b[1mINFO    \u001b[0m | \u001b[36msyft_rpc_client\u001b[0m:\u001b[36m__init__\u001b[0m:\u001b[36m51\u001b[0m - \u001b[1m🔑 Connected as: alice@openmined.org\u001b[0m\n",
      "\u001b[32m2025-03-09 01:09:46.061\u001b[0m | \u001b[1mINFO    \u001b[0m | \u001b[36msyft_rpc_client\u001b[0m:\u001b[36m_run_server\u001b[0m:\u001b[36m69\u001b[0m - \u001b[1m🚀 SERVER: Running ollama_remote server as alice@openmined.org\u001b[0m\n",
      "\u001b[32m2025-03-09 01:09:46.061\u001b[0m | \u001b[1mINFO    \u001b[0m | \u001b[36msyft_rpc_client\u001b[0m:\u001b[36m_start_server\u001b[0m:\u001b[36m64\u001b[0m - \u001b[1m🔔 Server started for alice@openmined.org\u001b[0m\n"
     ]
    },
    {
     "name": "stdout",
     "output_type": "stream",
     "text": [
      "Connected as: alice@openmined.org\n"
     ]
    },
    {
     "name": "stderr",
     "output_type": "stream",
     "text": [
      "\u001b[32m2025-03-09 01:09:46.063\u001b[0m | \u001b[1mINFO    \u001b[0m | \u001b[36msyft_event.server2\u001b[0m:\u001b[36mregister_rpc\u001b[0m:\u001b[36m140\u001b[0m - \u001b[1mRegister RPC: /generate\u001b[0m\n",
      "\u001b[32m2025-03-09 01:09:46.063\u001b[0m | \u001b[1mINFO    \u001b[0m | \u001b[36msyft_rpc_client\u001b[0m:\u001b[36m_run_server\u001b[0m:\u001b[36m93\u001b[0m - \u001b[1m📡 SERVER: Listening for requests at /Users/atrask/Desktop/SyftBoxAlice/datasites/alice@openmined.org/api_data/ollama_remote/rpc\u001b[0m\n",
      "\u001b[32m2025-03-09 01:09:46.066\u001b[0m | \u001b[1mINFO    \u001b[0m | \u001b[36msyft_event.server2\u001b[0m:\u001b[36mpublish_schema\u001b[0m:\u001b[36m96\u001b[0m - \u001b[1mPublished schema to /Users/atrask/Desktop/SyftBoxAlice/datasites/alice@openmined.org/api_data/ollama_remote/rpc/rpc.schema.json\u001b[0m\n",
      "\u001b[32m2025-03-09 01:09:46.068\u001b[0m | \u001b[34m\u001b[1mDEBUG   \u001b[0m | \u001b[36msyft_event.server2\u001b[0m:\u001b[36mprocess_pending_requests\u001b[0m:\u001b[36m105\u001b[0m - \u001b[34m\u001b[1mProcessing pending request 98d93530-b5e8-4f1c-ace6-19946c144f3d.request\u001b[0m\n",
      "\u001b[32m2025-03-09 01:09:46.069\u001b[0m | \u001b[1mINFO    \u001b[0m | \u001b[36mllama_remote\u001b[0m:\u001b[36m_handle_request\u001b[0m:\u001b[36m70\u001b[0m - \u001b[1m🔔 RECEIVED: Ollama request for model 'llama3'\u001b[0m\n",
      "\u001b[32m2025-03-09 01:10:02.308\u001b[0m | \u001b[34m\u001b[1mDEBUG   \u001b[0m | \u001b[36msyft_event.server2\u001b[0m:\u001b[36mprocess_pending_requests\u001b[0m:\u001b[36m105\u001b[0m - \u001b[34m\u001b[1mProcessing pending request 62c84085-eb2e-444b-9dc6-9e87221f3e64.request\u001b[0m\n",
      "\u001b[32m2025-03-09 01:10:02.309\u001b[0m | \u001b[1mINFO    \u001b[0m | \u001b[36mllama_remote\u001b[0m:\u001b[36m_handle_request\u001b[0m:\u001b[36m70\u001b[0m - \u001b[1m🔔 RECEIVED: Ollama request for model 'llama3'\u001b[0m\n",
      "\u001b[32m2025-03-09 01:10:04.870\u001b[0m | \u001b[34m\u001b[1mDEBUG   \u001b[0m | \u001b[36msyft_event.server2\u001b[0m:\u001b[36mprocess_pending_requests\u001b[0m:\u001b[36m105\u001b[0m - \u001b[34m\u001b[1mProcessing pending request a399c5d3-99b3-4aa1-906d-3c8d580232a4.request\u001b[0m\n",
      "\u001b[32m2025-03-09 01:10:04.871\u001b[0m | \u001b[1mINFO    \u001b[0m | \u001b[36mllama_remote\u001b[0m:\u001b[36m_handle_request\u001b[0m:\u001b[36m70\u001b[0m - \u001b[1m🔔 RECEIVED: Ollama request for model 'llama3'\u001b[0m\n",
      "\u001b[32m2025-03-09 01:10:22.085\u001b[0m | \u001b[34m\u001b[1mDEBUG   \u001b[0m | \u001b[36msyft_event.server2\u001b[0m:\u001b[36mprocess_pending_requests\u001b[0m:\u001b[36m105\u001b[0m - \u001b[34m\u001b[1mProcessing pending request 4f24436a-5a48-420e-8104-44a7c5d34b9f.request\u001b[0m\n",
      "\u001b[32m2025-03-09 01:10:22.086\u001b[0m | \u001b[1mINFO    \u001b[0m | \u001b[36mllama_remote\u001b[0m:\u001b[36m_handle_request\u001b[0m:\u001b[36m70\u001b[0m - \u001b[1m🔔 RECEIVED: Ollama request for model 'llama3'\u001b[0m\n"
     ]
    }
   ],
   "source": [
    "# Creating Alice's client\n",
    "alice_client = client(\"~/.syft_alice_config.json\")\n",
    "print(f\"Connected as: {alice_client.client.email}\")"
   ]
  },
  {
   "cell_type": "code",
   "execution_count": 5,
   "id": "9a60a853-1b8e-4870-8f0a-fe88fc3f9e6c",
   "metadata": {},
   "outputs": [
    {
     "name": "stdout",
     "output_type": "stream",
     "text": [
      "Available datasites: 140\n",
      "First 5 datasites: ['Morganabuell98@gmail.com', 'a@gmail.com', 'a@openmined.org', 'abinvarghese90@gmail.com', 'alice@openmined.org']\n",
      "Available Ollama servers: ['alice@openmined.org', 'bob@openmined.org']\n"
     ]
    }
   ],
   "source": [
    "# List available datasites from Bob's perspective\n",
    "bob_datasites = bob_client.list_datasites()\n",
    "print(f\"Available datasites: {len(bob_datasites)}\")\n",
    "print(f\"First 5 datasites: {bob_datasites[:5]}\")\n",
    "\n",
    "# Check which datasites have the Ollama service running\n",
    "bob_servers = bob_client.list_available_servers()\n",
    "print(f\"Available Ollama servers: {bob_servers}\")"
   ]
  },
  {
   "cell_type": "code",
   "execution_count": 8,
   "id": "54bcc425-a449-4016-b930-346540f8bd41",
   "metadata": {},
   "outputs": [
    {
     "name": "stderr",
     "output_type": "stream",
     "text": [
      "\u001b[32m2025-03-09 01:10:18.481\u001b[0m | \u001b[1mINFO    \u001b[0m | \u001b[36msyft_rpc_client\u001b[0m:\u001b[36msend_request\u001b[0m:\u001b[36m152\u001b[0m - \u001b[1m📤 SENDING: Request to alice@openmined.org\u001b[0m\n"
     ]
    },
    {
     "name": "stdout",
     "output_type": "stream",
     "text": [
      "Bob's prompt: What are the three laws of robotics?\n"
     ]
    },
    {
     "name": "stderr",
     "output_type": "stream",
     "text": [
      "\u001b[32m2025-03-09 01:10:22.034\u001b[0m | \u001b[34m\u001b[1mDEBUG   \u001b[0m | \u001b[36msyft_event.handlers\u001b[0m:\u001b[36mon_any_event\u001b[0m:\u001b[36m31\u001b[0m - \u001b[34m\u001b[1mFSEvent - created - /Users/atrask/Desktop/SyftBoxAlice/datasites/alice@openmined.org/api_data/ollama_remote/rpc/generate/4f24436a-5a48-420e-8104-44a7c5d34b9f.request\u001b[0m\n",
      "\u001b[32m2025-03-09 01:10:22.035\u001b[0m | \u001b[1mINFO    \u001b[0m | \u001b[36mllama_remote\u001b[0m:\u001b[36m_handle_request\u001b[0m:\u001b[36m70\u001b[0m - \u001b[1m🔔 RECEIVED: Ollama request for model 'llama3'\u001b[0m\n",
      "\u001b[32m2025-03-09 01:10:30.231\u001b[0m | \u001b[1mINFO    \u001b[0m | \u001b[36msyft_rpc_client\u001b[0m:\u001b[36msend_request\u001b[0m:\u001b[36m167\u001b[0m - \u001b[1m📥 RECEIVED: Response from alice@openmined.org. Time: 11.75s\u001b[0m\n"
     ]
    }
   ],
   "source": [
    "prompt = \"What are the three laws of robotics?\"\n",
    "print(f\"Bob's prompt: {prompt}\")\n",
    "\n",
    "start_time = time.time()\n",
    "response = bob_client.generate(\n",
    "    to_email='alice@openmined.org',\n",
    "    model='llama3',  # Adjust model name if needed\n",
    "    prompt=prompt,\n",
    "    system=\"You are a helpful assistant that provides concise answers\",\n",
    "    temperature=0.7\n",
    ")\n",
    "\n",
    "total_time = time.time() - start_time"
   ]
  },
  {
   "cell_type": "code",
   "execution_count": 9,
   "id": "540e90cb-ec4f-45ef-b437-562993a38158",
   "metadata": {},
   "outputs": [
    {
     "name": "stdout",
     "output_type": "stream",
     "text": [
      "Response received in 11.75 seconds:\n",
      "-------------------\n",
      "The Three Laws of Robotics, first proposed by Isaac Asimov in 1942, are:\n",
      "\n",
      "1. **A robot may not injure a human being or, through inaction, allow a human being to come to harm**.\n",
      "\n",
      "This law prioritizes the safety and well-being of humans over the functioning of robots.\n",
      "\n",
      "2. **A robot must obey the orders given to it by human beings except where such orders would conflict with the First Law**.\n",
      "\n",
      "This law emphasizes the importance of human authority and control over robotic actions, while also acknowledging that a robot may not be able to follow an order if it would cause harm to humans.\n",
      "\n",
      "3. **A robot must protect its own existence as long as such protection does not conflict with the First or Second Laws**.\n",
      "\n",
      "This law recognizes the need for robots to maintain their own functionality and survival, but only when doing so would not compromise human safety or well-being.\n",
      "\n",
      "These laws serve as a foundation for understanding the ethical considerations involved in developing and interacting with intelligent machines.\n",
      "-------------------\n"
     ]
    }
   ],
   "source": [
    "print(f\"Response received in {total_time:.2f} seconds:\")\n",
    "print(\"-------------------\")\n",
    "print(response.response)\n",
    "print(\"-------------------\")"
   ]
  },
  {
   "cell_type": "code",
   "execution_count": null,
   "id": "bd4d7a5a-5d0c-4429-836d-b6df2eb53df1",
   "metadata": {},
   "outputs": [],
   "source": []
  }
 ],
 "metadata": {
  "kernelspec": {
   "display_name": "Python 3 (ipykernel)",
   "language": "python",
   "name": "python3"
  },
  "language_info": {
   "codemirror_mode": {
    "name": "ipython",
    "version": 3
   },
   "file_extension": ".py",
   "mimetype": "text/x-python",
   "name": "python",
   "nbconvert_exporter": "python",
   "pygments_lexer": "ipython3",
   "version": "3.13.1"
  }
 },
 "nbformat": 4,
 "nbformat_minor": 5
}
